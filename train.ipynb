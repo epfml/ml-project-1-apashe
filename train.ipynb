{
 "cells": [
  {
   "cell_type": "code",
   "execution_count": 2,
   "metadata": {},
   "outputs": [],
   "source": [
    "\"\"\"IMPORTS\"\"\"\n",
    "import numpy as np\n",
    "from helpers import *\n",
    "from implementations import *\n",
    "from utils import *\n",
    "import matplotlib.pyplot as plt\n",
    "\n",
    "%load_ext autoreload\n",
    "%autoreload 2"
   ]
  },
  {
   "cell_type": "code",
   "execution_count": 4,
   "metadata": {},
   "outputs": [],
   "source": [
    "# Loading raw data\n",
    "data_path = 'dataset'\n",
    "x_tr_raw, x_te_raw, y_tr_raw, train_ids, test_ids = load_csv_data(data_path, sub_sample=False)"
   ]
  },
  {
   "cell_type": "code",
   "execution_count": 6,
   "metadata": {},
   "outputs": [],
   "source": [
    "dup = 3\n",
    "deg = 5\n",
    "lambda_ = 0.0002805263157894737\n",
    "\n",
    "# Remove irrelevant columns\n",
    "columns_to_remove = np.concatenate((range(1, 25), range(54, 56)))\n",
    "x_tr_remove_col = np.delete(x_tr_raw, columns_to_remove, axis=1)\n",
    "x_te_remove_col = np.delete(x_te_raw, columns_to_remove, axis=1)\n",
    "\n",
    "# Treat don't know and refuse values\n",
    "x_tr_dk = replace_dk_values_with_nan(x_tr_remove_col)\n",
    "x_val_dk = replace_dk_values_with_nan(x_te_remove_col)\n",
    "\n",
    "# Nan to mean\n",
    "x_tr_no_nan, x_val_no_nan = nan_to_mean(x_tr_dk, x_val_dk)\n",
    "\n",
    "# Remove columns with one unique value\n",
    "x_tr_no_unique, x_val_no_unique = remove_uniquevalue_cols(x_tr_no_nan,x_val_no_nan)\n",
    "\n",
    "# Standardize\n",
    "x_tr_std, x_val_std = standardize(x_tr_no_unique, x_val_no_unique)\n",
    "\n",
    "# Build polynomial expansion\n",
    "x_poly_tr = build_poly(x_tr_std, deg)\n",
    "x_poly_val = build_poly(x_val_std, deg)\n",
    "\n",
    "# Duplicate 1 rows to balance dataset\n",
    "x_tr_duplicated, y_tr_duplicated = duplicate_1rows(x_poly_tr, y_tr_raw, dup)\n",
    "y_tr_full = y_tr_duplicated\n",
    "\n",
    "# Adding a constant feature\n",
    "tx = np.c_[np.ones((x_tr_duplicated.shape[0], 1)), x_tr_duplicated]"
   ]
  },
  {
   "cell_type": "code",
   "execution_count": 12,
   "metadata": {},
   "outputs": [],
   "source": [
    "# Train the model \n",
    "w, loss = ridge_regression(y_tr_full, tx, lambda_)\n",
    "print(f\"loss = {loss}\")\n",
    "\n",
    "# Save optimal weights\n",
    "np.savetxt(\"w.txt\", w)"
   ]
  }
 ],
 "metadata": {
  "kernelspec": {
   "display_name": "ml",
   "language": "python",
   "name": "python3"
  },
  "language_info": {
   "codemirror_mode": {
    "name": "ipython",
    "version": 3
   },
   "file_extension": ".py",
   "mimetype": "text/x-python",
   "name": "python",
   "nbconvert_exporter": "python",
   "pygments_lexer": "ipython3",
   "version": "3.9.18"
  }
 },
 "nbformat": 4,
 "nbformat_minor": 2
}
