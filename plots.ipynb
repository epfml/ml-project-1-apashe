{
 "cells": [
  {
   "cell_type": "code",
   "execution_count": 1,
   "metadata": {},
   "outputs": [],
   "source": [
    "\"\"\"IMPORTS\"\"\"\n",
    "import numpy as np\n",
    "from helpers import *\n",
    "from ml_methods import *\n",
    "from utils import *\n",
    "import matplotlib.pyplot as plt\n",
    "\n",
    "%load_ext autoreload\n",
    "%autoreload 2"
   ]
  },
  {
   "cell_type": "code",
   "execution_count": 2,
   "metadata": {},
   "outputs": [],
   "source": [
    "\"\"\"LOADING RAW DATA\"\"\"\n",
    "data_path = 'dataset'\n",
    "x_tr_raw, x_te_raw, y_tr_raw, train_ids, test_ids = load_csv_data(data_path, sub_sample=False)"
   ]
  },
  {
   "cell_type": "code",
   "execution_count": 3,
   "metadata": {},
   "outputs": [],
   "source": [
    "\"\"\"REMOVE USELESS COLUMNS\"\"\"\n",
    "columns_to_remove = np.concatenate((range(1, 25), range(54, 56)))\n",
    "\n",
    "x_tr_remove_col = np.delete(x_tr_raw, columns_to_remove, axis=1)\n",
    "x_te_remove_col = np.delete(x_te_raw, columns_to_remove, axis=1)\n",
    "\n",
    "\"\"\"TREATING SIMILARLY DON'T KNOW, REFUSE AND NAN\"\"\"\n",
    "x_tr_dk = replace_dk_values_with_nan(x_tr_remove_col)\n",
    "x_te_dk = replace_dk_values_with_nan(x_te_remove_col)"
   ]
  },
  {
   "cell_type": "code",
   "execution_count": 4,
   "metadata": {},
   "outputs": [],
   "source": [
    "\"\"\"SPLITTING TRAINING DATA INTO TRAINING AND VALIDATION\"\"\"\n",
    "x_tr_sp, x_val_sp, y_tr_sp, y_val_sp = split_data(x_tr_dk, y_tr_raw, ratio=0.8, seed=1)"
   ]
  },
  {
   "cell_type": "code",
   "execution_count": 6,
   "metadata": {},
   "outputs": [],
   "source": [
    "\"\"\"DIRTY\"\"\"\n",
    "x_tr_dirty, x_val_dirty, y_tr_dirty, y_val_dirty = split_data(x_tr_raw, y_tr_raw, ratio=0.8, seed=1)"
   ]
  },
  {
   "cell_type": "markdown",
   "metadata": {},
   "source": [
    "## 1. LEAST SQUARES WITH RAW DATA"
   ]
  },
  {
   "cell_type": "code",
   "execution_count": 7,
   "metadata": {},
   "outputs": [
    {
     "name": "stdout",
     "output_type": "stream",
     "text": [
      "Accuracy: 0.9136788212168772\n",
      "F1-score: 0.02209563266010703\n"
     ]
    }
   ],
   "source": [
    "x_tr_std, x_val_std = standardize(x_tr_dirty, x_val_dirty)\n",
    "x_tr_no_nan, x_val_no_nan = nan_to_zero(x_tr_std, x_val_std)\n",
    "\n",
    "\n",
    "tx_tr = np.c_[np.ones((x_tr_no_nan.shape[0], 1)), x_tr_no_nan]\n",
    "w_LS, mse_LS = least_squares(y_tr_dirty, tx_tr)\n",
    "\n",
    "f1 =predict_and_evaluate(x_val_no_nan, w_LS, y_val_dirty)"
   ]
  },
  {
   "cell_type": "code",
   "execution_count": 8,
   "metadata": {},
   "outputs": [
    {
     "name": "stdout",
     "output_type": "stream",
     "text": [
      "Accuracy: 0.9130083654593384\n",
      "F1-score: 0.014500258933195235\n",
      "Accuracy: 0.9136940588477304\n",
      "F1-score: 0.016666666666666663\n",
      "Accuracy: 0.9114388894814635\n",
      "F1-score: 0.012572205232755691\n",
      "Accuracy: 0.9114388894814635\n",
      "F1-score: 0.012236573759347382\n",
      "Accuracy: 0.9103417800600363\n",
      "F1-score: 0.012751677852348991\n",
      "Average F1 score over 5-fold cross-validation: 0.013745476488862794\n"
     ]
    }
   ],
   "source": [
    "from sklearn.model_selection import KFold\n",
    "import numpy as np\n",
    "\n",
    "# Define the number of folds (k) for cross-validation\n",
    "k = 5 # You can choose the number of folds as needed\n",
    "\n",
    "# Create a KFold cross-validation splitter\n",
    "kf = KFold(n_splits=k, shuffle=True, random_state=42)\n",
    "\n",
    "# Initialize lists to store results from each fold\n",
    "mse_scores = []\n",
    "\n",
    "for train_index, val_index in kf.split(x_tr_raw):\n",
    "    train_index = train_index[train_index < len(x_tr_raw)]  # Ensure indices are within bounds\n",
    "    val_index = val_index[val_index < len(x_tr_raw)]  # Ensure indices are within bounds\n",
    "\n",
    "    # Split the data into training and validation sets for this fold\n",
    "    x_tr_fold, x_val_fold = x_tr_raw[train_index], x_tr_raw[val_index]\n",
    "    y_tr_fold, y_val_fold = y_tr_raw[train_index], y_tr_raw[val_index]\n",
    "\n",
    "    # The rest of your cross-validation code remains the same...\n",
    "\n",
    "    # Standardize and preprocess the data for this fold\n",
    "    x_tr_std, x_val_std = standardize(x_tr_fold, x_val_fold)\n",
    "    x_tr_no_nan, x_val_no_nan = nan_to_zero(x_tr_std, x_val_std)\n",
    "    x_tr_duplicated, y_tr_duplicated = duplicate_1rows(x_tr_no_nan, y_tr_fold, 0)\n",
    "\n",
    "    tx_tr = np.c_[np.ones((x_tr_duplicated.shape[0], 1)), x_tr_duplicated]\n",
    "\n",
    "    # Perform least squares regression for this fold\n",
    "    w_LS, mse_LS = least_squares(y_tr_duplicated, tx_tr)\n",
    "\n",
    "    # Evaluate the model on the validation set for this fold\n",
    "    f1 = predict_and_evaluate(x_val_no_nan, w_LS, y_val_fold)\n",
    "    \n",
    "    # Append the MSE score for this fold to the list\n",
    "    mse_scores.append(f1)\n",
    "\n",
    "# Calculate the average MSE over all folds\n",
    "average_mse = np.mean(mse_scores)\n",
    "\n",
    "print(f'Average F1 score over {k}-fold cross-validation: {average_mse}')\n"
   ]
  },
  {
   "cell_type": "code",
   "execution_count": 9,
   "metadata": {},
   "outputs": [
    {
     "data": {
      "image/png": "[encoded data removed]",
      "text/plain": [
       "<Figure size 800x600 with 1 Axes>"
      ]
     },
     "metadata": {},
     "output_type": "display_data"
    }
   ],
   "source": [
    "import matplotlib.pyplot as plt\n",
    "\n",
    "# Assuming you have the `mse_scores` list from the previous code\n",
    "# If not, make sure to compute it using cross-validation\n",
    "\n",
    "# Create a box plot of the MSE scores\n",
    "plt.figure(figsize=(8, 6))\n",
    "plt.boxplot(mse_scores)\n",
    "plt.title('Box Plot of F1 Scores in Cross-Validation')\n",
    "plt.xlabel('Cross-Validation Fold')\n",
    "plt.ylabel('F1 Score')\n",
    "plt.show()"
   ]
  },
  {
   "cell_type": "markdown",
   "metadata": {},
   "source": [
    "## 2. LEAST SQUARES OPTIMIZE DUPLICATIONS"
   ]
  },
  {
   "cell_type": "code",
   "execution_count": 16,
   "metadata": {},
   "outputs": [
    {
     "name": "stdout",
     "output_type": "stream",
     "text": [
      "1\n"
     ]
    },
    {
     "name": "stderr",
     "output_type": "stream",
     "text": [
      "c:\\Users\\hany_\\anaconda3\\envs\\ml\\lib\\site-packages\\numpy\\linalg\\linalg.py:2180: RuntimeWarning: overflow encountered in det\n",
      "  r = _umath_linalg.det(a, signature=signature)\n"
     ]
    },
    {
     "name": "stdout",
     "output_type": "stream",
     "text": [
      "Accuracy: 0.9106770079388057\n",
      "F1-score: 0.2572225038013178\n"
     ]
    },
    {
     "name": "stderr",
     "output_type": "stream",
     "text": [
      "c:\\Users\\hany_\\anaconda3\\envs\\ml\\lib\\site-packages\\numpy\\linalg\\linalg.py:2180: RuntimeWarning: overflow encountered in det\n",
      "  r = _umath_linalg.det(a, signature=signature)\n"
     ]
    },
    {
     "name": "stdout",
     "output_type": "stream",
     "text": [
      "Accuracy: 0.9120179194538833\n",
      "F1-score: 0.2627681307456588\n"
     ]
    },
    {
     "name": "stderr",
     "output_type": "stream",
     "text": [
      "c:\\Users\\hany_\\anaconda3\\envs\\ml\\lib\\site-packages\\numpy\\linalg\\linalg.py:2180: RuntimeWarning: overflow encountered in det\n",
      "  r = _umath_linalg.det(a, signature=signature)\n"
     ]
    },
    {
     "name": "stdout",
     "output_type": "stream",
     "text": [
      "Accuracy: 0.9105398692611273\n",
      "F1-score: 0.25655312143852094\n"
     ]
    },
    {
     "name": "stderr",
     "output_type": "stream",
     "text": [
      "c:\\Users\\hany_\\anaconda3\\envs\\ml\\lib\\site-packages\\numpy\\linalg\\linalg.py:2180: RuntimeWarning: overflow encountered in det\n",
      "  r = _umath_linalg.det(a, signature=signature)\n"
     ]
    },
    {
     "name": "stdout",
     "output_type": "stream",
     "text": [
      "Accuracy: 0.9117588797293796\n",
      "F1-score: 0.27711896142803644\n"
     ]
    },
    {
     "name": "stderr",
     "output_type": "stream",
     "text": [
      "c:\\Users\\hany_\\anaconda3\\envs\\ml\\lib\\site-packages\\numpy\\linalg\\linalg.py:2180: RuntimeWarning: overflow encountered in det\n",
      "  r = _umath_linalg.det(a, signature=signature)\n"
     ]
    },
    {
     "name": "stdout",
     "output_type": "stream",
     "text": [
      "Accuracy: 0.9105398692611273\n",
      "F1-score: 0.26640009996251407\n",
      "-----------------------------------------\n",
      "2\n"
     ]
    },
    {
     "name": "stderr",
     "output_type": "stream",
     "text": [
      "c:\\Users\\hany_\\anaconda3\\envs\\ml\\lib\\site-packages\\numpy\\linalg\\linalg.py:2180: RuntimeWarning: overflow encountered in det\n",
      "  r = _umath_linalg.det(a, signature=signature)\n"
     ]
    },
    {
     "name": "stdout",
     "output_type": "stream",
     "text": [
      "Accuracy: 0.8942660795099578\n",
      "F1-score: 0.37928258341533233\n"
     ]
    },
    {
     "name": "stderr",
     "output_type": "stream",
     "text": [
      "c:\\Users\\hany_\\anaconda3\\envs\\ml\\lib\\site-packages\\numpy\\linalg\\linalg.py:2180: RuntimeWarning: overflow encountered in det\n",
      "  r = _umath_linalg.det(a, signature=signature)\n"
     ]
    },
    {
     "name": "stdout",
     "output_type": "stream",
     "text": [
      "Accuracy: 0.8951346244685876\n",
      "F1-score: 0.3906499026031521\n"
     ]
    },
    {
     "name": "stderr",
     "output_type": "stream",
     "text": [
      "c:\\Users\\hany_\\anaconda3\\envs\\ml\\lib\\site-packages\\numpy\\linalg\\linalg.py:2180: RuntimeWarning: overflow encountered in det\n",
      "  r = _umath_linalg.det(a, signature=signature)\n"
     ]
    },
    {
     "name": "stdout",
     "output_type": "stream",
     "text": [
      "Accuracy: 0.8947232084355524\n",
      "F1-score: 0.3874456955403848\n"
     ]
    },
    {
     "name": "stderr",
     "output_type": "stream",
     "text": [
      "c:\\Users\\hany_\\anaconda3\\envs\\ml\\lib\\site-packages\\numpy\\linalg\\linalg.py:2180: RuntimeWarning: overflow encountered in det\n",
      "  r = _umath_linalg.det(a, signature=signature)\n"
     ]
    },
    {
     "name": "stdout",
     "output_type": "stream",
     "text": [
      "Accuracy: 0.894784158958965\n",
      "F1-score: 0.39253980821676787\n"
     ]
    },
    {
     "name": "stderr",
     "output_type": "stream",
     "text": [
      "c:\\Users\\hany_\\anaconda3\\envs\\ml\\lib\\site-packages\\numpy\\linalg\\linalg.py:2180: RuntimeWarning: overflow encountered in det\n",
      "  r = _umath_linalg.det(a, signature=signature)\n"
     ]
    },
    {
     "name": "stdout",
     "output_type": "stream",
     "text": [
      "Accuracy: 0.8940679903088667\n",
      "F1-score: 0.39145658263305316\n",
      "-----------------------------------------\n",
      "3\n"
     ]
    },
    {
     "name": "stderr",
     "output_type": "stream",
     "text": [
      "c:\\Users\\hany_\\anaconda3\\envs\\ml\\lib\\site-packages\\numpy\\linalg\\linalg.py:2180: RuntimeWarning: overflow encountered in det\n",
      "  r = _umath_linalg.det(a, signature=signature)\n"
     ]
    },
    {
     "name": "stdout",
     "output_type": "stream",
     "text": [
      "Accuracy: 0.8702668109162387\n",
      "F1-score: 0.405695937456373\n"
     ]
    },
    {
     "name": "stderr",
     "output_type": "stream",
     "text": [
      "c:\\Users\\hany_\\anaconda3\\envs\\ml\\lib\\site-packages\\numpy\\linalg\\linalg.py:2180: RuntimeWarning: overflow encountered in det\n",
      "  r = _umath_linalg.det(a, signature=signature)\n"
     ]
    },
    {
     "name": "stdout",
     "output_type": "stream",
     "text": [
      "Accuracy: 0.869901107775763\n",
      "F1-score: 0.4082339894649293\n"
     ]
    },
    {
     "name": "stderr",
     "output_type": "stream",
     "text": [
      "c:\\Users\\hany_\\anaconda3\\envs\\ml\\lib\\site-packages\\numpy\\linalg\\linalg.py:2180: RuntimeWarning: overflow encountered in det\n",
      "  r = _umath_linalg.det(a, signature=signature)\n"
     ]
    },
    {
     "name": "stdout",
     "output_type": "stream",
     "text": [
      "Accuracy: 0.8156703795693846\n",
      "F1-score: 0.3215747854859514\n"
     ]
    },
    {
     "name": "stderr",
     "output_type": "stream",
     "text": [
      "c:\\Users\\hany_\\anaconda3\\envs\\ml\\lib\\site-packages\\numpy\\linalg\\linalg.py:2180: RuntimeWarning: overflow encountered in det\n",
      "  r = _umath_linalg.det(a, signature=signature)\n"
     ]
    },
    {
     "name": "stdout",
     "output_type": "stream",
     "text": [
      "Accuracy: 0.8719277126792326\n",
      "F1-score: 0.41845983532830555\n"
     ]
    },
    {
     "name": "stderr",
     "output_type": "stream",
     "text": [
      "c:\\Users\\hany_\\anaconda3\\envs\\ml\\lib\\site-packages\\numpy\\linalg\\linalg.py:2180: RuntimeWarning: overflow encountered in det\n",
      "  r = _umath_linalg.det(a, signature=signature)\n"
     ]
    },
    {
     "name": "stdout",
     "output_type": "stream",
     "text": [
      "Accuracy: 0.8700230088225883\n",
      "F1-score: 0.41326179667079377\n",
      "-----------------------------------------\n",
      "4\n"
     ]
    },
    {
     "name": "stderr",
     "output_type": "stream",
     "text": [
      "c:\\Users\\hany_\\anaconda3\\envs\\ml\\lib\\site-packages\\numpy\\linalg\\linalg.py:2180: RuntimeWarning: overflow encountered in det\n",
      "  r = _umath_linalg.det(a, signature=signature)\n"
     ]
    },
    {
     "name": "stdout",
     "output_type": "stream",
     "text": [
      "Accuracy: 0.8463437304767855\n",
      "F1-score: 0.4052141087648932\n"
     ]
    },
    {
     "name": "stderr",
     "output_type": "stream",
     "text": [
      "c:\\Users\\hany_\\anaconda3\\envs\\ml\\lib\\site-packages\\numpy\\linalg\\linalg.py:2180: RuntimeWarning: overflow encountered in det\n",
      "  r = _umath_linalg.det(a, signature=signature)\n"
     ]
    },
    {
     "name": "stdout",
     "output_type": "stream",
     "text": [
      "Accuracy: 0.8454447102564493\n",
      "F1-score: 0.4047884513819612\n"
     ]
    },
    {
     "name": "stderr",
     "output_type": "stream",
     "text": [
      "c:\\Users\\hany_\\anaconda3\\envs\\ml\\lib\\site-packages\\numpy\\linalg\\linalg.py:2180: RuntimeWarning: overflow encountered in det\n",
      "  r = _umath_linalg.det(a, signature=signature)\n"
     ]
    },
    {
     "name": "stdout",
     "output_type": "stream",
     "text": [
      "Accuracy: 0.846587532570436\n",
      "F1-score: 0.41060765718299963\n",
      "Accuracy: 0.8481570085483109\n",
      "F1-score: 0.41482177461976627\n"
     ]
    },
    {
     "name": "stderr",
     "output_type": "stream",
     "text": [
      "c:\\Users\\hany_\\anaconda3\\envs\\ml\\lib\\site-packages\\numpy\\linalg\\linalg.py:2180: RuntimeWarning: overflow encountered in det\n",
      "  r = _umath_linalg.det(a, signature=signature)\n"
     ]
    },
    {
     "name": "stdout",
     "output_type": "stream",
     "text": [
      "Accuracy: 0.846389443369345\n",
      "F1-score: 0.4147460087082729\n",
      "-----------------------------------------\n",
      "5\n"
     ]
    },
    {
     "name": "stderr",
     "output_type": "stream",
     "text": [
      "c:\\Users\\hany_\\anaconda3\\envs\\ml\\lib\\site-packages\\numpy\\linalg\\linalg.py:2180: RuntimeWarning: overflow encountered in det\n",
      "  r = _umath_linalg.det(a, signature=signature)\n"
     ]
    },
    {
     "name": "stdout",
     "output_type": "stream",
     "text": [
      "Accuracy: 0.8241120270620323\n",
      "F1-score: 0.39895860453007026\n"
     ]
    },
    {
     "name": "stderr",
     "output_type": "stream",
     "text": [
      "c:\\Users\\hany_\\anaconda3\\envs\\ml\\lib\\site-packages\\numpy\\linalg\\linalg.py:2180: RuntimeWarning: overflow encountered in det\n",
      "  r = _umath_linalg.det(a, signature=signature)\n"
     ]
    },
    {
     "name": "stdout",
     "output_type": "stream",
     "text": [
      "Accuracy: 0.82318253157999\n",
      "F1-score: 0.39769542198691993\n"
     ]
    },
    {
     "name": "stderr",
     "output_type": "stream",
     "text": [
      "c:\\Users\\hany_\\anaconda3\\envs\\ml\\lib\\site-packages\\numpy\\linalg\\linalg.py:2180: RuntimeWarning: overflow encountered in det\n",
      "  r = _umath_linalg.det(a, signature=signature)\n"
     ]
    },
    {
     "name": "stdout",
     "output_type": "stream",
     "text": [
      "Accuracy: 0.8242339281088576\n",
      "F1-score: 0.4018046984390396\n"
     ]
    },
    {
     "name": "stderr",
     "output_type": "stream",
     "text": [
      "c:\\Users\\hany_\\anaconda3\\envs\\ml\\lib\\site-packages\\numpy\\linalg\\linalg.py:2180: RuntimeWarning: overflow encountered in det\n",
      "  r = _umath_linalg.det(a, signature=signature)\n"
     ]
    },
    {
     "name": "stdout",
     "output_type": "stream",
     "text": [
      "Accuracy: 0.8256967406707605\n",
      "F1-score: 0.40344198174706647\n"
     ]
    },
    {
     "name": "stderr",
     "output_type": "stream",
     "text": [
      "c:\\Users\\hany_\\anaconda3\\envs\\ml\\lib\\site-packages\\numpy\\linalg\\linalg.py:2180: RuntimeWarning: overflow encountered in det\n",
      "  r = _umath_linalg.det(a, signature=signature)\n"
     ]
    },
    {
     "name": "stdout",
     "output_type": "stream",
     "text": [
      "Accuracy: 0.8238225120758225\n",
      "F1-score: 0.40352868345026827\n",
      "-----------------------------------------\n",
      "6\n"
     ]
    },
    {
     "name": "stderr",
     "output_type": "stream",
     "text": [
      "c:\\Users\\hany_\\anaconda3\\envs\\ml\\lib\\site-packages\\numpy\\linalg\\linalg.py:2180: RuntimeWarning: overflow encountered in det\n",
      "  r = _umath_linalg.det(a, signature=signature)\n"
     ]
    },
    {
     "name": "stdout",
     "output_type": "stream",
     "text": [
      "Accuracy: 0.8032364727932101\n",
      "F1-score: 0.38751600815823173\n"
     ]
    },
    {
     "name": "stderr",
     "output_type": "stream",
     "text": [
      "c:\\Users\\hany_\\anaconda3\\envs\\ml\\lib\\site-packages\\numpy\\linalg\\linalg.py:2180: RuntimeWarning: overflow encountered in det\n",
      "  r = _umath_linalg.det(a, signature=signature)\n"
     ]
    },
    {
     "name": "stdout",
     "output_type": "stream",
     "text": [
      "Accuracy: 0.8022917396803145\n",
      "F1-score: 0.38574066183780714\n"
     ]
    },
    {
     "name": "stderr",
     "output_type": "stream",
     "text": [
      "c:\\Users\\hany_\\anaconda3\\envs\\ml\\lib\\site-packages\\numpy\\linalg\\linalg.py:2180: RuntimeWarning: overflow encountered in det\n",
      "  r = _umath_linalg.det(a, signature=signature)\n"
     ]
    },
    {
     "name": "stdout",
     "output_type": "stream",
     "text": [
      "Accuracy: 0.8049126121870571\n",
      "F1-score: 0.39485749397362574\n"
     ]
    },
    {
     "name": "stderr",
     "output_type": "stream",
     "text": [
      "c:\\Users\\hany_\\anaconda3\\envs\\ml\\lib\\site-packages\\numpy\\linalg\\linalg.py:2180: RuntimeWarning: overflow encountered in det\n",
      "  r = _umath_linalg.det(a, signature=signature)\n"
     ]
    },
    {
     "name": "stdout",
     "output_type": "stream",
     "text": [
      "Accuracy: 0.7897206942264616\n",
      "F1-score: 0.37003560668310054\n"
     ]
    },
    {
     "name": "stderr",
     "output_type": "stream",
     "text": [
      "c:\\Users\\hany_\\anaconda3\\envs\\ml\\lib\\site-packages\\numpy\\linalg\\linalg.py:2180: RuntimeWarning: overflow encountered in det\n",
      "  r = _umath_linalg.det(a, signature=signature)\n"
     ]
    },
    {
     "name": "stdout",
     "output_type": "stream",
     "text": [
      "Accuracy: 0.802931720176147\n",
      "F1-score: 0.3936424586244081\n",
      "-----------------------------------------\n",
      "7\n"
     ]
    },
    {
     "name": "stderr",
     "output_type": "stream",
     "text": [
      "c:\\Users\\hany_\\anaconda3\\envs\\ml\\lib\\site-packages\\numpy\\linalg\\linalg.py:2180: RuntimeWarning: overflow encountered in det\n",
      "  r = _umath_linalg.det(a, signature=signature)\n"
     ]
    },
    {
     "name": "stdout",
     "output_type": "stream",
     "text": [
      "Accuracy: 0.7847684641991863\n",
      "F1-score: 0.3778903325258754\n"
     ]
    },
    {
     "name": "stderr",
     "output_type": "stream",
     "text": [
      "c:\\Users\\hany_\\anaconda3\\envs\\ml\\lib\\site-packages\\numpy\\linalg\\linalg.py:2180: RuntimeWarning: overflow encountered in det\n",
      "  r = _umath_linalg.det(a, signature=signature)\n"
     ]
    },
    {
     "name": "stdout",
     "output_type": "stream",
     "text": [
      "Accuracy: 0.7828637603425419\n",
      "F1-score: 0.3759852863899106\n"
     ]
    },
    {
     "name": "stderr",
     "output_type": "stream",
     "text": [
      "c:\\Users\\hany_\\anaconda3\\envs\\ml\\lib\\site-packages\\numpy\\linalg\\linalg.py:2180: RuntimeWarning: overflow encountered in det\n",
      "  r = _umath_linalg.det(a, signature=signature)\n"
     ]
    },
    {
     "name": "stdout",
     "output_type": "stream",
     "text": [
      "Accuracy: 0.786017949929145\n",
      "F1-score: 0.38502299102255316\n"
     ]
    },
    {
     "name": "stderr",
     "output_type": "stream",
     "text": [
      "c:\\Users\\hany_\\anaconda3\\envs\\ml\\lib\\site-packages\\numpy\\linalg\\linalg.py:2180: RuntimeWarning: overflow encountered in det\n",
      "  r = _umath_linalg.det(a, signature=signature)\n"
     ]
    },
    {
     "name": "stdout",
     "output_type": "stream",
     "text": [
      "Accuracy: 0.7875721882761668\n",
      "F1-score: 0.38610242635078607\n"
     ]
    },
    {
     "name": "stderr",
     "output_type": "stream",
     "text": [
      "c:\\Users\\hany_\\anaconda3\\envs\\ml\\lib\\site-packages\\numpy\\linalg\\linalg.py:2180: RuntimeWarning: overflow encountered in det\n",
      "  r = _umath_linalg.det(a, signature=signature)\n"
     ]
    },
    {
     "name": "stdout",
     "output_type": "stream",
     "text": [
      "Accuracy: 0.7832294634830177\n",
      "F1-score: 0.38158581116327595\n",
      "-----------------------------------------\n",
      "8\n"
     ]
    },
    {
     "name": "stderr",
     "output_type": "stream",
     "text": [
      "c:\\Users\\hany_\\anaconda3\\envs\\ml\\lib\\site-packages\\numpy\\linalg\\linalg.py:2180: RuntimeWarning: overflow encountered in det\n",
      "  r = _umath_linalg.det(a, signature=signature)\n"
     ]
    },
    {
     "name": "stdout",
     "output_type": "stream",
     "text": [
      "Accuracy: 0.7674432779191491\n",
      "F1-score: 0.3687649929688146\n"
     ]
    },
    {
     "name": "stderr",
     "output_type": "stream",
     "text": [
      "c:\\Users\\hany_\\anaconda3\\envs\\ml\\lib\\site-packages\\numpy\\linalg\\linalg.py:2180: RuntimeWarning: overflow encountered in det\n",
      "  r = _umath_linalg.det(a, signature=signature)\n"
     ]
    },
    {
     "name": "stdout",
     "output_type": "stream",
     "text": [
      "Accuracy: 0.7647919301507001\n",
      "F1-score: 0.366442291906091\n"
     ]
    },
    {
     "name": "stderr",
     "output_type": "stream",
     "text": [
      "c:\\Users\\hany_\\anaconda3\\envs\\ml\\lib\\site-packages\\numpy\\linalg\\linalg.py:2180: RuntimeWarning: overflow encountered in det\n",
      "  r = _umath_linalg.det(a, signature=signature)\n"
     ]
    },
    {
     "name": "stdout",
     "output_type": "stream",
     "text": [
      "Accuracy: 0.7683727734011916\n",
      "F1-score: 0.3756520310510535\n"
     ]
    },
    {
     "name": "stderr",
     "output_type": "stream",
     "text": [
      "c:\\Users\\hany_\\anaconda3\\envs\\ml\\lib\\site-packages\\numpy\\linalg\\linalg.py:2180: RuntimeWarning: overflow encountered in det\n",
      "  r = _umath_linalg.det(a, signature=signature)\n"
     ]
    },
    {
     "name": "stdout",
     "output_type": "stream",
     "text": [
      "Accuracy: 0.7703079525195423\n",
      "F1-score: 0.3773647253201156\n"
     ]
    },
    {
     "name": "stderr",
     "output_type": "stream",
     "text": [
      "c:\\Users\\hany_\\anaconda3\\envs\\ml\\lib\\site-packages\\numpy\\linalg\\linalg.py:2180: RuntimeWarning: overflow encountered in det\n",
      "  r = _umath_linalg.det(a, signature=signature)\n"
     ]
    },
    {
     "name": "stdout",
     "output_type": "stream",
     "text": [
      "Accuracy: 0.7667118716381977\n",
      "F1-score: 0.3729007946260342\n",
      "-----------------------------------------\n",
      "9\n"
     ]
    },
    {
     "name": "stderr",
     "output_type": "stream",
     "text": [
      "c:\\Users\\hany_\\anaconda3\\envs\\ml\\lib\\site-packages\\numpy\\linalg\\linalg.py:2180: RuntimeWarning: overflow encountered in det\n",
      "  r = _umath_linalg.det(a, signature=signature)\n"
     ]
    },
    {
     "name": "stdout",
     "output_type": "stream",
     "text": [
      "Accuracy: 0.7506818839806787\n",
      "F1-score: 0.35985915492957743\n"
     ]
    },
    {
     "name": "stderr",
     "output_type": "stream",
     "text": [
      "c:\\Users\\hany_\\anaconda3\\envs\\ml\\lib\\site-packages\\numpy\\linalg\\linalg.py:2180: RuntimeWarning: overflow encountered in det\n",
      "  r = _umath_linalg.det(a, signature=signature)\n"
     ]
    },
    {
     "name": "stdout",
     "output_type": "stream",
     "text": [
      "Accuracy: 0.7491276456336569\n",
      "F1-score: 0.3580285424627623\n"
     ]
    },
    {
     "name": "stderr",
     "output_type": "stream",
     "text": [
      "c:\\Users\\hany_\\anaconda3\\envs\\ml\\lib\\site-packages\\numpy\\linalg\\linalg.py:2180: RuntimeWarning: overflow encountered in det\n",
      "  r = _umath_linalg.det(a, signature=signature)\n"
     ]
    },
    {
     "name": "stdout",
     "output_type": "stream",
     "text": [
      "Accuracy: 0.751687567616987\n",
      "F1-score: 0.3664567296477724\n"
     ]
    },
    {
     "name": "stderr",
     "output_type": "stream",
     "text": [
      "c:\\Users\\hany_\\anaconda3\\envs\\ml\\lib\\site-packages\\numpy\\linalg\\linalg.py:2180: RuntimeWarning: overflow encountered in det\n",
      "  r = _umath_linalg.det(a, signature=signature)\n"
     ]
    },
    {
     "name": "stdout",
     "output_type": "stream",
     "text": [
      "Accuracy: 0.7540798756609323\n",
      "F1-score: 0.3686578257637992\n"
     ]
    },
    {
     "name": "stderr",
     "output_type": "stream",
     "text": [
      "c:\\Users\\hany_\\anaconda3\\envs\\ml\\lib\\site-packages\\numpy\\linalg\\linalg.py:2180: RuntimeWarning: overflow encountered in det\n",
      "  r = _umath_linalg.det(a, signature=signature)\n"
     ]
    },
    {
     "name": "stdout",
     "output_type": "stream",
     "text": [
      "Accuracy: 0.7508799731817697\n",
      "F1-score: 0.36535848763634954\n",
      "-----------------------------------------\n",
      "10\n"
     ]
    },
    {
     "name": "stderr",
     "output_type": "stream",
     "text": [
      "c:\\Users\\hany_\\anaconda3\\envs\\ml\\lib\\site-packages\\numpy\\linalg\\linalg.py:2180: RuntimeWarning: overflow encountered in det\n",
      "  r = _umath_linalg.det(a, signature=signature)\n"
     ]
    },
    {
     "name": "stdout",
     "output_type": "stream",
     "text": [
      "Accuracy: 0.7347737973699849\n",
      "F1-score: 0.3509099045346062\n"
     ]
    },
    {
     "name": "stderr",
     "output_type": "stream",
     "text": [
      "c:\\Users\\hany_\\anaconda3\\envs\\ml\\lib\\site-packages\\numpy\\linalg\\linalg.py:2180: RuntimeWarning: overflow encountered in det\n",
      "  r = _umath_linalg.det(a, signature=signature)\n"
     ]
    },
    {
     "name": "stdout",
     "output_type": "stream",
     "text": [
      "Accuracy: 0.7336766879485578\n",
      "F1-score: 0.3488562700245883\n"
     ]
    },
    {
     "name": "stderr",
     "output_type": "stream",
     "text": [
      "c:\\Users\\hany_\\anaconda3\\envs\\ml\\lib\\site-packages\\numpy\\linalg\\linalg.py:2180: RuntimeWarning: overflow encountered in det\n",
      "  r = _umath_linalg.det(a, signature=signature)\n"
     ]
    },
    {
     "name": "stdout",
     "output_type": "stream",
     "text": [
      "Accuracy: 0.7359928078382373\n",
      "F1-score: 0.35763013495476786\n"
     ]
    },
    {
     "name": "stderr",
     "output_type": "stream",
     "text": [
      "c:\\Users\\hany_\\anaconda3\\envs\\ml\\lib\\site-packages\\numpy\\linalg\\linalg.py:2180: RuntimeWarning: overflow encountered in det\n",
      "  r = _umath_linalg.det(a, signature=signature)\n"
     ]
    },
    {
     "name": "stdout",
     "output_type": "stream",
     "text": [
      "Accuracy: 0.7393907995184908\n",
      "F1-score: 0.35998952213449087\n"
     ]
    },
    {
     "name": "stderr",
     "output_type": "stream",
     "text": [
      "c:\\Users\\hany_\\anaconda3\\envs\\ml\\lib\\site-packages\\numpy\\linalg\\linalg.py:2180: RuntimeWarning: overflow encountered in det\n",
      "  r = _umath_linalg.det(a, signature=signature)\n"
     ]
    },
    {
     "name": "stdout",
     "output_type": "stream",
     "text": [
      "Accuracy: 0.7359470949456779\n",
      "F1-score: 0.357828423198073\n",
      "-----------------------------------------\n"
     ]
    },
    {
     "data": {
      "image/png": "[encoded data removed]",
      "text/plain": [
       "<Figure size 640x480 with 1 Axes>"
      ]
     },
     "metadata": {},
     "output_type": "display_data"
    }
   ],
   "source": [
    "from sklearn.model_selection import KFold\n",
    "import numpy as np\n",
    "from sklearn.metrics import f1_score\n",
    "import matplotlib.pyplot as plt\n",
    "\n",
    "# Define the number of folds (k) for cross-validation\n",
    "k = 5 # You can choose the number of folds as needed\n",
    "\n",
    "# Define a list of values for dup to loop through\n",
    "dup_values = range(1, 11)  # Goes from 0 to 10\n",
    "\n",
    "# Initialize a list to store average F1 scores for each dup value\n",
    "average_f1_scores = []\n",
    "std_dev_f1_scores = []  # List to store standard deviation of F1 scores\n",
    "\n",
    "\n",
    "for dup in dup_values:\n",
    "    print(dup)\n",
    "    # Create a KFold cross-validation splitter\n",
    "    kf = KFold(n_splits=k, shuffle=True, random_state=42)\n",
    "\n",
    "    # Initialize a list to store F1 scores for this dup value\n",
    "    f1_scores = []\n",
    "\n",
    "    for train_index, val_index in kf.split(x_tr_dk):\n",
    "        train_index = train_index[train_index < len(x_tr_raw)]  # Ensure indices are within bounds\n",
    "        val_index = val_index[val_index < len(x_tr_raw)]  # Ensure indices are within bounds\n",
    "\n",
    "        # Split the data into training and validation sets for this fold\n",
    "        x_tr_fold, x_val_fold = x_tr_raw[train_index], x_tr_raw[val_index]\n",
    "        y_tr_fold, y_val_fold = y_tr_raw[train_index], y_tr_raw[val_index]\n",
    "\n",
    "        # The rest of your cross-validation code remains the same...\n",
    "\n",
    "        # Standardize and preprocess the data for this fold\n",
    "        x_tr_std, x_val_std = standardize(x_tr_fold, x_val_fold)\n",
    "        x_tr_no_nan, x_val_no_nan = nan_to_zero(x_tr_std, x_val_std)\n",
    "        x_tr_duplicated, y_tr_duplicated = duplicate_1rows(x_tr_no_nan, y_tr_fold, dup)\n",
    "\n",
    "        tx_tr = np.c_[np.ones((x_tr_duplicated.shape[0], 1)), x_tr_duplicated]\n",
    "\n",
    "        # Perform least squares regression for this fold\n",
    "        w_LS, mse_LS = least_squares(y_tr_duplicated, tx_tr)\n",
    "\n",
    "        # Evaluate the model on the validation set for this fold\n",
    "        f1 = predict_and_evaluate(x_val_no_nan, w_LS, y_val_fold)\n",
    "                \n",
    "        # Append the F1 score for this fold to the list\n",
    "        f1_scores.append(f1)\n",
    "\n",
    "    # Calculate the average F1 score over all folds for this dup value\n",
    "    # Calculate the average F1 score and standard deviation over all folds for this dup value\n",
    "    average_f1 = np.mean(f1_scores)\n",
    "    std_dev_f1 = np.std(f1_scores)\n",
    "    average_f1_scores.append(average_f1)\n",
    "    std_dev_f1_scores.append(std_dev_f1)\n",
    "    print(\"-----------------------------------------\")\n",
    "\n",
    "# Create an error plot with error bars\n",
    "plt.figure()\n",
    "plt.errorbar(dup_values, average_f1_scores, yerr=std_dev_f1_scores, marker='o', linestyle='-', capsize=5)\n",
    "plt.xlabel('dup')\n",
    "plt.ylabel('Average F1 Score')\n",
    "plt.title('F1 Score vs. dup with Error Bars')\n",
    "plt.grid(True)\n",
    "plt.show()"
   ]
  },
  {
   "cell_type": "code",
   "execution_count": 11,
   "metadata": {},
   "outputs": [
    {
     "name": "stdout",
     "output_type": "stream",
     "text": [
      "Accuracy: 0.8735733768113734\n",
      "F1-score: 0.4079069435524156\n",
      "Accuracy: 0.875798070915934\n",
      "F1-score: 0.42129925452609157\n",
      "Accuracy: 0.8742590701997653\n",
      "F1-score: 0.4117479327060165\n",
      "Accuracy: 0.8742438325689121\n",
      "F1-score: 0.4251584592881521\n",
      "Accuracy: 0.8736952778581986\n",
      "F1-score: 0.4296428817174706\n",
      "Average F1 score over 5-fold cross-validation: 0.4191510943580292\n"
     ]
    }
   ],
   "source": [
    "from sklearn.model_selection import KFold\n",
    "import numpy as np\n",
    "\n",
    "# Define the number of folds (k) for cross-validation\n",
    "k = 5 # You can choose the number of folds as needed\n",
    "dup = 3\n",
    "\n",
    "# Create a KFold cross-validation splitter\n",
    "kf = KFold(n_splits=k, shuffle=True, random_state=42)\n",
    "\n",
    "# Initialize lists to store results from each fold\n",
    "f1_step1 = []\n",
    "\n",
    "for train_index, val_index in kf.split(x_tr_dk):\n",
    "    train_index = train_index[train_index < len(x_tr_raw)]  # Ensure indices are within bounds\n",
    "    val_index = val_index[val_index < len(x_tr_raw)]  # Ensure indices are within bounds\n",
    "\n",
    "    # Split the data into training and validation sets for this fold\n",
    "    x_tr_fold, x_val_fold = x_tr_raw[train_index], x_tr_raw[val_index]\n",
    "    y_tr_fold, y_val_fold = y_tr_raw[train_index], y_tr_raw[val_index]\n",
    "\n",
    "    # The rest of your cross-validation code remains the same...\n",
    "\n",
    "    # Standardize and preprocess the data for this fold\n",
    "    x_tr_std, x_val_std = standardize(x_tr_fold, x_val_fold)\n",
    "    x_tr_no_nan, x_val_no_nan = nan_to_zero(x_tr_std, x_val_std)\n",
    "    x_tr_duplicated, y_tr_duplicated = duplicate_1rows(x_tr_no_nan, y_tr_fold, dup)\n",
    "\n",
    "    tx_tr = np.c_[np.ones((x_tr_duplicated.shape[0], 1)), x_tr_duplicated]\n",
    "\n",
    "    # Perform least squares regression for this fold\n",
    "    w_LS, mse_LS = least_squares(y_tr_duplicated, tx_tr)\n",
    "\n",
    "    # Evaluate the model on the validation set for this fold\n",
    "    f1 = predict_and_evaluate(x_val_no_nan, w_LS, y_val_fold)\n",
    "    \n",
    "    # Append the MSE score for this fold to the list\n",
    "    f1_step1.append(f1)\n",
    "\n",
    "# Calculate the average MSE over all folds\n",
    "average_mse = np.mean(f1_step1)\n",
    "\n",
    "print(f'Average F1 score over {k}-fold cross-validation: {average_mse}')"
   ]
  },
  {
   "cell_type": "code",
   "execution_count": 13,
   "metadata": {},
   "outputs": [
    {
     "data": {
      "image/png": "[encoded data removed]",
      "text/plain": [
       "<Figure size 800x600 with 1 Axes>"
      ]
     },
     "metadata": {},
     "output_type": "display_data"
    }
   ],
   "source": [
    "import matplotlib.pyplot as plt\n",
    "\n",
    "# Assuming you have the `mse_scores` list from the previous code\n",
    "# If not, make sure to compute it using cross-validation\n",
    "\n",
    "# Create a box plot of the MSE scores\n",
    "plt.figure(figsize=(8, 6))\n",
    "plt.boxplot(f1_step1)\n",
    "plt.title('Box Plot of F1 Scores in Cross-Validation')\n",
    "plt.xlabel('Cross-Validation Fold')\n",
    "plt.ylabel('F1 Score')\n",
    "plt.show()"
   ]
  },
  {
   "cell_type": "markdown",
   "metadata": {},
   "source": [
    "## 3. LEAST SQUARES REMOVE COLUMNS + REPLACE DK AND REFUSE"
   ]
  },
  {
   "cell_type": "code",
   "execution_count": 14,
   "metadata": {},
   "outputs": [
    {
     "name": "stdout",
     "output_type": "stream",
     "text": [
      "Accuracy: 0.8735733768113734\n",
      "F1-score: 0.4079069435524156\n",
      "Accuracy: 0.875798070915934\n",
      "F1-score: 0.42129925452609157\n",
      "Accuracy: 0.8742590701997653\n",
      "F1-score: 0.4117479327060165\n",
      "Accuracy: 0.8742438325689121\n",
      "F1-score: 0.4251584592881521\n",
      "Accuracy: 0.8736952778581986\n",
      "F1-score: 0.4296428817174706\n",
      "Average F1 score over 5-fold cross-validation: 0.4191510943580292\n"
     ]
    }
   ],
   "source": [
    "from sklearn.model_selection import KFold\n",
    "import numpy as np\n",
    "\n",
    "# Define the number of folds (k) for cross-validation\n",
    "k = 5 # You can choose the number of folds as needed\n",
    "dup = 3\n",
    "\n",
    "# Create a KFold cross-validation splitter\n",
    "kf = KFold(n_splits=k, shuffle=True, random_state=42)\n",
    "\n",
    "# Initialize lists to store results from each fold\n",
    "f1_step2 = []\n",
    "\n",
    "for train_index, val_index in kf.split(x_tr_dk):\n",
    "    train_index = train_index[train_index < len(x_tr_dk)]  # Ensure indices are within bounds\n",
    "    val_index = val_index[val_index < len(x_tr_dk)]  # Ensure indices are within bounds\n",
    "\n",
    "    # Split the data into training and validation sets for this fold\n",
    "    x_tr_fold, x_val_fold = x_tr_dk[train_index], x_tr_dk[val_index]\n",
    "    y_tr_fold, y_val_fold = y_tr_raw[train_index], y_tr_raw[val_index]\n",
    "\n",
    "    # The rest of your cross-validation code remains the same...\n",
    "\n",
    "    # Standardize and preprocess the data for this fold\n",
    "    x_tr_std, x_val_std = standardize(x_tr_fold, x_val_fold)\n",
    "    x_tr_no_nan, x_val_no_nan = nan_to_zero(x_tr_std, x_val_std)\n",
    "    x_tr_duplicated, y_tr_duplicated = duplicate_1rows(x_tr_no_nan, y_tr_fold, dup)\n",
    "\n",
    "    tx_tr = np.c_[np.ones((x_tr_duplicated.shape[0], 1)), x_tr_duplicated]\n",
    "\n",
    "    # Perform least squares regression for this fold\n",
    "    w_LS, mse_LS = least_squares(y_tr_duplicated, tx_tr)\n",
    "\n",
    "    # Evaluate the model on the validation set for this fold\n",
    "    f1 = predict_and_evaluate(x_val_no_nan, w_LS, y_val_fold)\n",
    "    \n",
    "    # Append the MSE score for this fold to the list\n",
    "    f1_step2.append(f1)\n",
    "\n",
    "# Calculate the average MSE over all folds\n",
    "average_mse = np.mean(f1_step2)\n",
    "\n",
    "print(f'Average F1 score over {k}-fold cross-validation: {average_mse}')\n"
   ]
  },
  {
   "cell_type": "code",
   "execution_count": null,
   "metadata": {},
   "outputs": [],
   "source": [
    "import matplotlib.pyplot as plt\n",
    "\n",
    "# Assuming you have the `mse_scores` list from the previous code\n",
    "# If not, make sure to compute it using cross-validation\n",
    "\n",
    "# Create a box plot of the MSE scores\n",
    "plt.figure(figsize=(8, 6))\n",
    "plt.boxplot(f1_step2)\n",
    "plt.title('Box Plot of F1 Scores in Cross-Validation')\n",
    "plt.xlabel('Cross-Validation Fold')\n",
    "plt.ylabel('F1 Score')\n",
    "plt.show()"
   ]
  },
  {
   "cell_type": "markdown",
   "metadata": {},
   "source": [
    "## 4. RIGDE REGRESSION"
   ]
  },
  {
   "cell_type": "code",
   "execution_count": null,
   "metadata": {},
   "outputs": [],
   "source": [
    "from sklearn.model_selection import KFold\n",
    "import numpy as np\n",
    "\n",
    "# Define the number of folds (k) for cross-validation\n",
    "k = 5 # You can choose the number of folds as needed\n",
    "dup = 3\n",
    "lambda_ = 0.0009\n",
    "\n",
    "# Create a KFold cross-validation splitter\n",
    "kf = KFold(n_splits=k, shuffle=True, random_state=42)\n",
    "\n",
    "# Initialize lists to store results from each fold\n",
    "f1_step3 = []\n",
    "\n",
    "for train_index, val_index in kf.split(x_tr_dk):\n",
    "    train_index = train_index[train_index < len(x_tr_dk)]  # Ensure indices are within bounds\n",
    "    val_index = val_index[val_index < len(x_tr_dk)]  # Ensure indices are within bounds\n",
    "\n",
    "    # Split the data into training and validation sets for this fold\n",
    "    x_tr_fold, x_val_fold = x_tr_dk[train_index], x_tr_dk[val_index]\n",
    "    y_tr_fold, y_val_fold = y_tr_raw[train_index], y_tr_raw[val_index]\n",
    "\n",
    "    # The rest of your cross-validation code remains the same...\n",
    "\n",
    "    # Standardize and preprocess the data for this fold\n",
    "    x_tr_std, x_val_std = standardize(x_tr_fold, x_val_fold)\n",
    "    x_tr_no_nan, x_val_no_nan = nan_to_zero(x_tr_std, x_val_std)\n",
    "    x_tr_duplicated, y_tr_duplicated = duplicate_1rows(x_tr_no_nan, y_tr_fold, dup)\n",
    "\n",
    "    tx_tr = np.c_[np.ones((x_tr_duplicated.shape[0], 1)), x_tr_duplicated]\n",
    "\n",
    "    # Perform least squares regression for this fold\n",
    "    w_LS, mse_LS = ridge_regression(y_tr_duplicated, tx_tr, lambda_)\n",
    "\n",
    "    # Evaluate the model on the validation set for this fold\n",
    "    f1 = predict_and_evaluate(x_val_no_nan, w_LS, y_val_fold)\n",
    "    \n",
    "    # Append the MSE score for this fold to the list\n",
    "    f1_step4.append(f1)\n",
    "\n",
    "# Calculate the average MSE over all folds\n",
    "average_mse = np.mean(f1_step3)\n",
    "\n",
    "print(f'Average F1 score over {k}-fold cross-validation: {average_mse}')\n"
   ]
  },
  {
   "cell_type": "code",
   "execution_count": null,
   "metadata": {},
   "outputs": [],
   "source": [
    "import matplotlib.pyplot as plt\n",
    "\n",
    "# Assuming you have the `mse_scores` list from the previous code\n",
    "# If not, make sure to compute it using cross-validation\n",
    "\n",
    "# Create a box plot of the MSE scores\n",
    "plt.figure(figsize=(8, 6))\n",
    "plt.boxplot(mse_scores)\n",
    "plt.title('Box Plot of F1 Scores in Cross-Validation')\n",
    "plt.xlabel('Cross-Validation Fold')\n",
    "plt.ylabel('F1 Score')\n",
    "plt.show()"
   ]
  },
  {
   "cell_type": "markdown",
   "metadata": {},
   "source": [
    "## 5. POLYNOMIAL RIDGE REGRESSION"
   ]
  },
  {
   "cell_type": "code",
   "execution_count": null,
   "metadata": {},
   "outputs": [],
   "source": [
    "from sklearn.model_selection import KFold\n",
    "import numpy as np\n",
    "\n",
    "# Define the number of folds (k) for cross-validation\n",
    "k = 5 # You can choose the number of folds as needed\n",
    "dup = 3\n",
    "lambda_ = 0.00028\n",
    "degree = 5\n",
    "\n",
    "# Create a KFold cross-validation splitter\n",
    "kf = KFold(n_splits=k, shuffle=True, random_state=42)\n",
    "\n",
    "# Initialize lists to store results from each fold\n",
    "f1_step4 = []\n",
    "\n",
    "for train_index, val_index in kf.split(x_tr_dk):\n",
    "    train_index = train_index[train_index < len(x_tr_dk)]  # Ensure indices are within bounds\n",
    "    val_index = val_index[val_index < len(x_tr_dk)]  # Ensure indices are within bounds\n",
    "\n",
    "    # Split the data into training and validation sets for this fold\n",
    "    x_tr_fold, x_val_fold = x_tr_dk[train_index], x_tr_dk[val_index]\n",
    "    y_tr_fold, y_val_fold = y_tr_raw[train_index], y_tr_raw[val_index]\n",
    "\n",
    "    # The rest of your cross-validation code remains the same...\n",
    "\n",
    "    # Standardize and preprocess the data for this fold\n",
    "    x_tr_std, x_val_std = standardize(x_tr_fold, x_val_fold)\n",
    "    x_tr_no_nan, x_val_no_nan = nan_to_zero(x_tr_std, x_val_std)\n",
    "    x_tr_duplicated, y_tr_duplicated = duplicate_1rows(x_tr_no_nan, y_tr_fold, dup)\n",
    "\n",
    "    x_poly_tr = build_poly(x_tr_duplicated, degree)\n",
    "    x_poly_val = build_poly(x_val_no_nan, degree)\n",
    "\n",
    "    tx_tr = np.c_[np.ones((x_poly_tr.shape[0], 1)), x_poly_tr]\n",
    "\n",
    "    # Perform least squares regression for this fold\n",
    "    w_LS, mse_LS = ridge_regression(y_tr_duplicated, tx_tr, lambda_)\n",
    "\n",
    "    # Evaluate the model on the validation set for this fold\n",
    "    f1 = predict_and_evaluate(x_poly_val, w_LS, y_val_fold)\n",
    "    \n",
    "    # Append the MSE score for this fold to the list\n",
    "    f1_step4.append(f1)\n",
    "\n",
    "# Calculate the average MSE over all folds\n",
    "average_mse = np.mean(f1_step4)\n",
    "\n",
    "print(f'Average F1 score over {k}-fold cross-validation: {average_mse}')\n"
   ]
  },
  {
   "cell_type": "code",
   "execution_count": null,
   "metadata": {},
   "outputs": [],
   "source": [
    "import matplotlib.pyplot as plt\n",
    "\n",
    "# Assuming you have the `mse_scores` list from the previous code\n",
    "# If not, make sure to compute it using cross-validation\n",
    "\n",
    "# Create a box plot of the MSE scores\n",
    "plt.figure(figsize=(8, 6))\n",
    "plt.boxplot(mse_scores)\n",
    "plt.title('Box Plot of F1 Scores in Cross-Validation')\n",
    "plt.xlabel('Cross-Validation Fold')\n",
    "plt.ylabel('F1 Score')\n",
    "plt.show()"
   ]
  },
  {
   "cell_type": "markdown",
   "metadata": {},
   "source": [
    "## FINAL BOX PLOT"
   ]
  },
  {
   "cell_type": "code",
   "execution_count": null,
   "metadata": {},
   "outputs": [],
   "source": [
    "import matplotlib.pyplot as plt\n",
    "\n",
    "# Assuming you have the `f1_step1`, `f1_step2`, `f1_step3`, and `f1_step` lists from your data\n",
    "# If not, make sure to have these lists with your F1 scores\n",
    "\n",
    "# Create a box plot of the F1 scores\n",
    "plt.figure(figsize=(8, 6))\n",
    "\n",
    "# Create a boxplot for each step and add it to the legend\n",
    "plt.boxplot(f1_step1, positions=[1], label='Step 1', notch=True)\n",
    "plt.boxplot(f1_step2, positions=[2], label='Step 2', notch=True)\n",
    "plt.boxplot(f1_step3, positions=[3], label='Step 3', notch=True)\n",
    "plt.boxplot(f1_step4, positions=[4], label='Step', notch=True)\n",
    "\n",
    "plt.title('Box Plot of F1 Scores in Cross-Validation')\n",
    "plt.xlabel('Cross-Validation Fold')\n",
    "plt.ylabel('F1 Score')\n",
    "\n",
    "# Add a legend to the plot\n",
    "plt.legend()\n",
    "\n",
    "# Set the x-axis ticks and labels\n",
    "plt.xticks([1, 2, 3, 4], ['Step 1', 'Step 2', 'Step 3', 'Step'])\n",
    "\n",
    "plt.show()"
   ]
  }
 ],
 "metadata": {
  "kernelspec": {
   "display_name": "ml",
   "language": "python",
   "name": "python3"
  },
  "language_info": {
   "codemirror_mode": {
    "name": "ipython",
    "version": 3
   },
   "file_extension": ".py",
   "mimetype": "text/x-python",
   "name": "python",
   "nbconvert_exporter": "python",
   "pygments_lexer": "ipython3",
   "version": "3.9.18"
  }
 },
 "nbformat": 4,
 "nbformat_minor": 2
}
