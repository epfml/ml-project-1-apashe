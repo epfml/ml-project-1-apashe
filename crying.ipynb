{
 "cells": [
  {
   "cell_type": "code",
   "execution_count": null,
   "metadata": {},
   "outputs": [],
   "source": [
    "\"\"\"IMPORTS\"\"\"\n",
    "import numpy as np\n",
    "from helpers import *\n",
    "from implementations import *\n",
    "from utils import *\n",
    "import matplotlib.pyplot as plt\n",
    "\n",
    "%load_ext autoreload\n",
    "%autoreload 2"
   ]
  },
  {
   "cell_type": "code",
   "execution_count": null,
   "metadata": {},
   "outputs": [],
   "source": [
    "\"\"\"LOADING RAW DATA\"\"\"\n",
    "data_path = 'dataset'\n",
    "x_tr_raw, x_te_raw, y_tr_raw, train_ids, test_ids = load_csv_data(data_path, sub_sample=False)"
   ]
  },
  {
   "cell_type": "code",
   "execution_count": null,
   "metadata": {},
   "outputs": [],
   "source": [
    "\"\"\"REMOVE USELESS COLUMNS\"\"\"\n",
    "columns_to_remove = np.concatenate((range(1, 25), range(54, 56)))\n",
    "\n",
    "x_tr_remove_col = np.delete(x_tr_raw, columns_to_remove, axis=1)\n",
    "x_te_remove_col = np.delete(x_te_raw, columns_to_remove, axis=1)\n",
    "\n",
    "thresh = 1\n",
    "dup = 5\n",
    "deg = 5\n",
    "lambda_ = 0.0002805263157894737\n",
    "\n",
    "# Treat dk, refuse and nan the same\n",
    "x_tr_dk = replace_dk_values_with_nan(x_tr_remove_col)\n",
    "x_val_dk = replace_dk_values_with_nan(x_te_remove_col)\n",
    "\n",
    "# Nan to mean\n",
    "x_tr_no_nan, x_val_no_nan = nan_to_mean(x_tr_dk, x_val_dk)\n",
    "\n",
    "# Standardize\n",
    "x_tr_std, x_val_std = standardize(x_tr_no_nan, x_val_no_nan)\n",
    "\n",
    "# Duplicate 1 rows to balance dataset\n",
    "x_tr_duplicated, y_tr_duplicated = duplicate_1rows(x_tr_std, y_tr_raw, dup)\n",
    "\n",
    "x_tr_full = x_tr_duplicated\n",
    "x_val_full = x_val_std\n",
    "y_tr_full = y_tr_duplicated"
   ]
  },
  {
   "cell_type": "code",
   "execution_count": null,
   "metadata": {},
   "outputs": [],
   "source": [
    "x_poly_tr = build_poly(x_tr_full, deg)\n",
    "x_poly_val = build_poly(x_val_full, deg)"
   ]
  },
  {
   "cell_type": "code",
   "execution_count": null,
   "metadata": {},
   "outputs": [],
   "source": [
    "tx = np.c_[np.ones((x_poly_tr.shape[0], 1)), x_poly_tr]\n",
    "\n",
    "y_tr_full_0 = y_tr_full\n",
    "y_tr_full_0[y_tr_full_0 == -1] = 0\n",
    "\n",
    "initial_w = np.zeros(tx.shape[1])\n",
    "max_iters = 1000\n",
    "gamma = 1e-18"
   ]
  },
  {
   "cell_type": "code",
   "execution_count": null,
   "metadata": {},
   "outputs": [],
   "source": [
    "w_tmp, loss = reg_logistic_regression(y_tr_full_0, tx, lambda_, initial_w, max_iters, gamma)"
   ]
  },
  {
   "cell_type": "code",
   "execution_count": null,
   "metadata": {},
   "outputs": [],
   "source": [
    "y_pred = predict(x_poly_val, w_tmp, \"mse\")\n",
    "name = \"pen\"\n",
    "create_csv_submission(test_ids, y_pred, name)"
   ]
  }
 ],
 "metadata": {
  "language_info": {
   "name": "python"
  }
 },
 "nbformat": 4,
 "nbformat_minor": 2
}
