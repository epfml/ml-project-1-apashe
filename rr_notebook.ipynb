{
 "cells": [
  {
   "cell_type": "code",
   "execution_count": 5,
   "metadata": {},
   "outputs": [
    {
     "name": "stdout",
     "output_type": "stream",
     "text": [
      "The autoreload extension is already loaded. To reload it, use:\n",
      "  %reload_ext autoreload\n"
     ]
    }
   ],
   "source": [
    "\"\"\"IMPORTS\"\"\"\n",
    "import numpy as np\n",
    "from helpers import *\n",
    "from implementations import *\n",
    "from utils import *\n",
    "import matplotlib.pyplot as plt\n",
    "\n",
    "%load_ext autoreload\n",
    "%autoreload 2"
   ]
  },
  {
   "cell_type": "code",
   "execution_count": 3,
   "metadata": {},
   "outputs": [],
   "source": [
    "\"\"\"LOADING RAW DATA\"\"\"\n",
    "data_path = 'dataset'\n",
    "x_tr_raw, x_te_raw, y_tr_raw, train_ids, test_ids = load_csv_data(data_path, sub_sample=False)"
   ]
  },
  {
   "cell_type": "code",
   "execution_count": 11,
   "metadata": {},
   "outputs": [
    {
     "data": {
      "text/plain": [
       "0.08830207079403295"
      ]
     },
     "execution_count": 11,
     "metadata": {},
     "output_type": "execute_result"
    }
   ],
   "source": [
    "(list(y_tr_raw).count(1))/(len(y_tr_raw))"
   ]
  },
  {
   "cell_type": "code",
   "execution_count": 4,
   "metadata": {},
   "outputs": [],
   "source": [
    "\"\"\"REMOVE USELESS COLUMNS\"\"\"\n",
    "columns_to_remove = np.concatenate((range(1, 25), range(54, 56)))\n",
    "\n",
    "x_tr_remove_col = np.delete(x_tr_raw, columns_to_remove, axis=1)\n",
    "x_te_remove_col = np.delete(x_te_raw, columns_to_remove, axis=1)"
   ]
  },
  {
   "cell_type": "code",
   "execution_count": 4,
   "metadata": {},
   "outputs": [],
   "source": [
    "\"\"\"SPLITTING TRAINING DATA INTO TRAINING AND VALIDATION\"\"\"\n",
    "x_tr_sp, x_val_sp, y_tr_sp, y_val_sp = split_data(x_tr_remove_col, y_tr_raw, ratio=0.8, seed=1)"
   ]
  },
  {
   "cell_type": "code",
   "execution_count": 5,
   "metadata": {},
   "outputs": [],
   "source": [
    "thresh= 1.0\n",
    "dup = 3\n",
    "lambda_ = 0.0009\n",
    "should_be = 0.4216661927779357\n",
    "\n",
    "# Treat dk, refuse and nan the same\n",
    "x_tr_dk = replace_dk_values_with_nan(x_tr_sp)\n",
    "x_val_dk = replace_dk_values_with_nan(x_val_sp)\n",
    "\n",
    "# Keeping columns with less than threshold% of nan\n",
    "x_tr_less_nan, x_val_less_nan = filter_nan_threshold(x_tr_dk, x_val_dk, threshold=thresh)\n",
    "\n",
    "# Standardize\n",
    "x_tr_std, x_val_std = standardize(x_tr_less_nan, x_val_less_nan)\n",
    "\n",
    "# Nan to 0\n",
    "x_tr_no_nan, x_val_no_nan = nan_to_zero(x_tr_std, x_val_std)\n",
    "\n",
    "# Duplicate 1 rows to balance dataset\n",
    "x_tr_duplicated, y_tr_duplicated = duplicate_1rows(x_tr_no_nan, y_tr_sp, dup)\n",
    "\n",
    "x_tr = x_tr_duplicated\n",
    "x_val = x_val_no_nan\n",
    "y_tr = y_tr_duplicated\n",
    "y_val = y_val_sp"
   ]
  },
  {
   "cell_type": "code",
   "execution_count": 10,
   "metadata": {},
   "outputs": [
    {
     "name": "stdout",
     "output_type": "stream",
     "text": [
      "Accuracy: 0.8771389824310116\n",
      "F1-score: 0.4267330252399573\n"
     ]
    },
    {
     "data": {
      "text/plain": [
       "0.4267330252399573"
      ]
     },
     "execution_count": 10,
     "metadata": {},
     "output_type": "execute_result"
    }
   ],
   "source": [
    "x_poly_tr = build_poly(x_tr, 2)\n",
    "x_poly_val = build_poly(x_val, 2)\n",
    "\n",
    "tx = np.c_[np.ones((x_poly_tr.shape[0], 1)), x_poly_tr]\n",
    "\n",
    "w_tmp, mse = ridge_regression(y_tr, tx, lambda_)\n",
    "\n",
    "predict_and_evaluate(x_poly_val, w_tmp, y_val, regression_type = \"gd\")"
   ]
  },
  {
   "cell_type": "code",
   "execution_count": 20,
   "metadata": {},
   "outputs": [
    {
     "name": "stdout",
     "output_type": "stream",
     "text": [
      "Threshold: 0.5  # Duplications: 2 Degree: 1 Lambda: 0\n"
     ]
    },
    {
     "name": "stderr",
     "output_type": "stream",
     "text": [
      "c:\\Users\\hany_\\anaconda3\\envs\\ml\\lib\\site-packages\\numpy\\linalg\\linalg.py:2180: RuntimeWarning: overflow encountered in det\n",
      "  r = _umath_linalg.det(a, signature=signature)\n"
     ]
    },
    {
     "name": "stdout",
     "output_type": "stream",
     "text": [
      "Accuracy: 0.09099913145504138\n",
      "F1-score: 0.1585680635287812\n",
      "Threshold: 0.5  # Duplications: 2 Degree: 1 Lambda: 0.0001\n"
     ]
    },
    {
     "name": "stderr",
     "output_type": "stream",
     "text": [
      "c:\\Users\\hany_\\anaconda3\\envs\\ml\\lib\\site-packages\\numpy\\linalg\\linalg.py:2180: RuntimeWarning: overflow encountered in det\n",
      "  r = _umath_linalg.det(a, signature=signature)\n"
     ]
    },
    {
     "name": "stdout",
     "output_type": "stream",
     "text": [
      "Accuracy: 0.8960793575814833\n",
      "F1-score: 0.4005976445772544\n",
      "Threshold: 0.5  # Duplications: 2 Degree: 1 Lambda: 0.0005\n"
     ]
    },
    {
     "name": "stderr",
     "output_type": "stream",
     "text": [
      "c:\\Users\\hany_\\anaconda3\\envs\\ml\\lib\\site-packages\\numpy\\linalg\\linalg.py:2180: RuntimeWarning: overflow encountered in det\n",
      "  r = _umath_linalg.det(a, signature=signature)\n"
     ]
    },
    {
     "name": "stdout",
     "output_type": "stream",
     "text": [
      "Accuracy: 0.8961860209974554\n",
      "F1-score: 0.4010549450549451\n",
      "Threshold: 0.5  # Duplications: 2 Degree: 1 Lambda: 0.001\n"
     ]
    },
    {
     "name": "stderr",
     "output_type": "stream",
     "text": [
      "c:\\Users\\hany_\\anaconda3\\envs\\ml\\lib\\site-packages\\numpy\\linalg\\linalg.py:2180: RuntimeWarning: overflow encountered in det\n",
      "  r = _umath_linalg.det(a, signature=signature)\n"
     ]
    },
    {
     "name": "stdout",
     "output_type": "stream",
     "text": [
      "Accuracy: 0.896155545735749\n",
      "F1-score: 0.40108972668951576\n",
      "Threshold: 0.5  # Duplications: 2 Degree: 1 Lambda: 0.005\n"
     ]
    },
    {
     "name": "stderr",
     "output_type": "stream",
     "text": [
      "c:\\Users\\hany_\\anaconda3\\envs\\ml\\lib\\site-packages\\numpy\\linalg\\linalg.py:2180: RuntimeWarning: overflow encountered in det\n",
      "  r = _umath_linalg.det(a, signature=signature)\n"
     ]
    },
    {
     "name": "stdout",
     "output_type": "stream",
     "text": [
      "Accuracy: 0.8961098328431896\n",
      "F1-score: 0.4019298245614035\n",
      "Threshold: 0.5  # Duplications: 2 Degree: 1 Lambda: 0.01\n"
     ]
    },
    {
     "name": "stderr",
     "output_type": "stream",
     "text": [
      "c:\\Users\\hany_\\anaconda3\\envs\\ml\\lib\\site-packages\\numpy\\linalg\\linalg.py:2180: RuntimeWarning: overflow encountered in det\n",
      "  r = _umath_linalg.det(a, signature=signature)\n"
     ]
    },
    {
     "name": "stdout",
     "output_type": "stream",
     "text": [
      "Accuracy: 0.8958812683803922\n",
      "F1-score: 0.40203027916338496\n",
      "Threshold: 0.5  # Duplications: 2 Degree: 1 Lambda: 0.05\n"
     ]
    },
    {
     "name": "stderr",
     "output_type": "stream",
     "text": [
      "c:\\Users\\hany_\\anaconda3\\envs\\ml\\lib\\site-packages\\numpy\\linalg\\linalg.py:2180: RuntimeWarning: overflow encountered in det\n",
      "  r = _umath_linalg.det(a, signature=signature)\n"
     ]
    },
    {
     "name": "stdout",
     "output_type": "stream",
     "text": [
      "Accuracy: 0.8926966035320828\n",
      "F1-score: 0.4041292942968353\n",
      "Threshold: 0.5  # Duplications: 2 Degree: 1 Lambda: 0.1\n"
     ]
    },
    {
     "name": "stderr",
     "output_type": "stream",
     "text": [
      "c:\\Users\\hany_\\anaconda3\\envs\\ml\\lib\\site-packages\\numpy\\linalg\\linalg.py:2180: RuntimeWarning: overflow encountered in det\n",
      "  r = _umath_linalg.det(a, signature=signature)\n"
     ]
    },
    {
     "name": "stdout",
     "output_type": "stream",
     "text": [
      "Accuracy: 0.8882472153229616\n",
      "F1-score: 0.4093105670103093\n",
      "Threshold: 0.5  # Duplications: 2 Degree: 1 Lambda: 0.5\n"
     ]
    },
    {
     "name": "stderr",
     "output_type": "stream",
     "text": [
      "c:\\Users\\hany_\\anaconda3\\envs\\ml\\lib\\site-packages\\numpy\\linalg\\linalg.py:2180: RuntimeWarning: overflow encountered in det\n",
      "  r = _umath_linalg.det(a, signature=signature)\n"
     ]
    },
    {
     "name": "stdout",
     "output_type": "stream",
     "text": [
      "Accuracy: 0.847181800173709\n",
      "F1-score: 0.4044890445935514\n",
      "Threshold: 0.5  # Duplications: 2 Degree: 1 Lambda: 1\n"
     ]
    },
    {
     "name": "stderr",
     "output_type": "stream",
     "text": [
      "c:\\Users\\hany_\\anaconda3\\envs\\ml\\lib\\site-packages\\numpy\\linalg\\linalg.py:2180: RuntimeWarning: overflow encountered in det\n",
      "  r = _umath_linalg.det(a, signature=signature)\n"
     ]
    },
    {
     "name": "stdout",
     "output_type": "stream",
     "text": [
      "Accuracy: 0.8052021271732671\n",
      "F1-score: 0.38133952768099105\n",
      "Threshold: 0.5  # Duplications: 2 Degree: 2 Lambda: 0\n"
     ]
    },
    {
     "name": "stderr",
     "output_type": "stream",
     "text": [
      "c:\\Users\\hany_\\anaconda3\\envs\\ml\\lib\\site-packages\\numpy\\linalg\\linalg.py:2180: RuntimeWarning: overflow encountered in det\n",
      "  r = _umath_linalg.det(a, signature=signature)\n"
     ]
    },
    {
     "name": "stdout",
     "output_type": "stream",
     "text": [
      "Accuracy: 0.32277873436238136\n",
      "F1-score: 0.09453182299731072\n",
      "Threshold: 0.5  # Duplications: 2 Degree: 2 Lambda: 0.0001\n"
     ]
    },
    {
     "name": "stderr",
     "output_type": "stream",
     "text": [
      "c:\\Users\\hany_\\anaconda3\\envs\\ml\\lib\\site-packages\\numpy\\linalg\\linalg.py:2180: RuntimeWarning: overflow encountered in det\n",
      "  r = _umath_linalg.det(a, signature=signature)\n"
     ]
    },
    {
     "name": "stdout",
     "output_type": "stream",
     "text": [
      "Accuracy: 0.8917975833117467\n",
      "F1-score: 0.40151706700379264\n",
      "Threshold: 0.5  # Duplications: 2 Degree: 2 Lambda: 0.0005\n"
     ]
    },
    {
     "name": "stderr",
     "output_type": "stream",
     "text": [
      "c:\\Users\\hany_\\anaconda3\\envs\\ml\\lib\\site-packages\\numpy\\linalg\\linalg.py:2180: RuntimeWarning: overflow encountered in det\n",
      "  r = _umath_linalg.det(a, signature=signature)\n"
     ]
    },
    {
     "name": "stdout",
     "output_type": "stream",
     "text": [
      "Accuracy: 0.896155545735749\n",
      "F1-score: 0.4062037117713688\n",
      "Threshold: 0.5  # Duplications: 2 Degree: 2 Lambda: 0.001\n"
     ]
    },
    {
     "name": "stderr",
     "output_type": "stream",
     "text": [
      "c:\\Users\\hany_\\anaconda3\\envs\\ml\\lib\\site-packages\\numpy\\linalg\\linalg.py:2180: RuntimeWarning: overflow encountered in det\n",
      "  r = _umath_linalg.det(a, signature=signature)\n"
     ]
    },
    {
     "name": "stdout",
     "output_type": "stream",
     "text": [
      "Accuracy: 0.8961707833666022\n",
      "F1-score: 0.4042664801538731\n",
      "Threshold: 0.5  # Duplications: 2 Degree: 2 Lambda: 0.005\n"
     ]
    },
    {
     "name": "stderr",
     "output_type": "stream",
     "text": [
      "c:\\Users\\hany_\\anaconda3\\envs\\ml\\lib\\site-packages\\numpy\\linalg\\linalg.py:2180: RuntimeWarning: overflow encountered in det\n",
      "  r = _umath_linalg.det(a, signature=signature)\n"
     ]
    },
    {
     "name": "stdout",
     "output_type": "stream",
     "text": [
      "Accuracy: 0.8965060112453715\n",
      "F1-score: 0.4026385224274406\n",
      "Threshold: 0.5  # Duplications: 2 Degree: 2 Lambda: 0.01\n"
     ]
    },
    {
     "name": "stderr",
     "output_type": "stream",
     "text": [
      "c:\\Users\\hany_\\anaconda3\\envs\\ml\\lib\\site-packages\\numpy\\linalg\\linalg.py:2180: RuntimeWarning: overflow encountered in det\n",
      "  r = _umath_linalg.det(a, signature=signature)\n"
     ]
    },
    {
     "name": "stdout",
     "output_type": "stream",
     "text": [
      "Accuracy: 0.8970240906943788\n",
      "F1-score: 0.40310899134428546\n",
      "Threshold: 0.5  # Duplications: 2 Degree: 2 Lambda: 0.05\n"
     ]
    },
    {
     "name": "stderr",
     "output_type": "stream",
     "text": [
      "c:\\Users\\hany_\\anaconda3\\envs\\ml\\lib\\site-packages\\numpy\\linalg\\linalg.py:2180: RuntimeWarning: overflow encountered in det\n",
      "  r = _umath_linalg.det(a, signature=signature)\n"
     ]
    },
    {
     "name": "stdout",
     "output_type": "stream",
     "text": [
      "Accuracy: 0.8973897938348545\n",
      "F1-score: 0.39562017591096754\n",
      "Threshold: 0.5  # Duplications: 2 Degree: 2 Lambda: 0.1\n"
     ]
    },
    {
     "name": "stderr",
     "output_type": "stream",
     "text": [
      "c:\\Users\\hany_\\anaconda3\\envs\\ml\\lib\\site-packages\\numpy\\linalg\\linalg.py:2180: RuntimeWarning: overflow encountered in det\n",
      "  r = _umath_linalg.det(a, signature=signature)\n"
     ]
    },
    {
     "name": "stdout",
     "output_type": "stream",
     "text": [
      "Accuracy: 0.8983345269477502\n",
      "F1-score: 0.39400544959128064\n",
      "Threshold: 0.5  # Duplications: 2 Degree: 2 Lambda: 0.5\n"
     ]
    },
    {
     "name": "stderr",
     "output_type": "stream",
     "text": [
      "c:\\Users\\hany_\\anaconda3\\envs\\ml\\lib\\site-packages\\numpy\\linalg\\linalg.py:2180: RuntimeWarning: overflow encountered in det\n",
      "  r = _umath_linalg.det(a, signature=signature)\n"
     ]
    },
    {
     "name": "stdout",
     "output_type": "stream",
     "text": [
      "Accuracy: 0.9001478050192756\n",
      "F1-score: 0.37213758742933795\n",
      "Threshold: 0.5  # Duplications: 2 Degree: 2 Lambda: 1\n"
     ]
    },
    {
     "name": "stderr",
     "output_type": "stream",
     "text": [
      "c:\\Users\\hany_\\anaconda3\\envs\\ml\\lib\\site-packages\\numpy\\linalg\\linalg.py:2180: RuntimeWarning: overflow encountered in det\n",
      "  r = _umath_linalg.det(a, signature=signature)\n"
     ]
    },
    {
     "name": "stdout",
     "output_type": "stream",
     "text": [
      "Accuracy: 0.9010925381321712\n",
      "F1-score: 0.35624318159278\n",
      "Threshold: 0.5  # Duplications: 2 Degree: 3 Lambda: 0\n"
     ]
    },
    {
     "name": "stderr",
     "output_type": "stream",
     "text": [
      "c:\\Users\\hany_\\anaconda3\\envs\\ml\\lib\\site-packages\\numpy\\linalg\\linalg.py:2180: RuntimeWarning: overflow encountered in det\n",
      "  r = _umath_linalg.det(a, signature=signature)\n"
     ]
    },
    {
     "name": "stdout",
     "output_type": "stream",
     "text": [
      "Accuracy: 0.47509409237051825\n",
      "F1-score: 0.20911011112131508\n",
      "Threshold: 0.5  # Duplications: 2 Degree: 3 Lambda: 0.0001\n"
     ]
    },
    {
     "name": "stderr",
     "output_type": "stream",
     "text": [
      "c:\\Users\\hany_\\anaconda3\\envs\\ml\\lib\\site-packages\\numpy\\linalg\\linalg.py:2180: RuntimeWarning: overflow encountered in det\n",
      "  r = _umath_linalg.det(a, signature=signature)\n"
     ]
    },
    {
     "name": "stdout",
     "output_type": "stream",
     "text": [
      "Accuracy: 0.8946927331738461\n",
      "F1-score: 0.4077470220241666\n",
      "Threshold: 0.5  # Duplications: 2 Degree: 3 Lambda: 0.0005\n"
     ]
    },
    {
     "name": "stderr",
     "output_type": "stream",
     "text": [
      "c:\\Users\\hany_\\anaconda3\\envs\\ml\\lib\\site-packages\\numpy\\linalg\\linalg.py:2180: RuntimeWarning: overflow encountered in det\n",
      "  r = _umath_linalg.det(a, signature=signature)\n"
     ]
    },
    {
     "name": "stdout",
     "output_type": "stream",
     "text": [
      "Accuracy: 0.8965669617687841\n",
      "F1-score: 0.40912256267409475\n",
      "Threshold: 0.5  # Duplications: 2 Degree: 3 Lambda: 0.001\n"
     ]
    },
    {
     "name": "stderr",
     "output_type": "stream",
     "text": [
      "c:\\Users\\hany_\\anaconda3\\envs\\ml\\lib\\site-packages\\numpy\\linalg\\linalg.py:2180: RuntimeWarning: overflow encountered in det\n",
      "  r = _umath_linalg.det(a, signature=signature)\n"
     ]
    },
    {
     "name": "stdout",
     "output_type": "stream",
     "text": [
      "Accuracy: 0.8963688725676932\n",
      "F1-score: 0.4075267880477393\n",
      "Threshold: 0.5  # Duplications: 2 Degree: 3 Lambda: 0.005\n"
     ]
    },
    {
     "name": "stderr",
     "output_type": "stream",
     "text": [
      "c:\\Users\\hany_\\anaconda3\\envs\\ml\\lib\\site-packages\\numpy\\linalg\\linalg.py:2180: RuntimeWarning: overflow encountered in det\n",
      "  r = _umath_linalg.det(a, signature=signature)\n"
     ]
    },
    {
     "name": "stdout",
     "output_type": "stream",
     "text": [
      "Accuracy: 0.8972678927880293\n",
      "F1-score: 0.40849271802070536\n",
      "Threshold: 0.5  # Duplications: 2 Degree: 3 Lambda: 0.01\n"
     ]
    },
    {
     "name": "stderr",
     "output_type": "stream",
     "text": [
      "c:\\Users\\hany_\\anaconda3\\envs\\ml\\lib\\site-packages\\numpy\\linalg\\linalg.py:2180: RuntimeWarning: overflow encountered in det\n",
      "  r = _umath_linalg.det(a, signature=signature)\n"
     ]
    },
    {
     "name": "stdout",
     "output_type": "stream",
     "text": [
      "Accuracy: 0.8971917046337635\n",
      "F1-score: 0.40570774244693036\n",
      "Threshold: 0.5  # Duplications: 2 Degree: 3 Lambda: 0.05\n"
     ]
    },
    {
     "name": "stderr",
     "output_type": "stream",
     "text": [
      "c:\\Users\\hany_\\anaconda3\\envs\\ml\\lib\\site-packages\\numpy\\linalg\\linalg.py:2180: RuntimeWarning: overflow encountered in det\n",
      "  r = _umath_linalg.det(a, signature=signature)\n"
     ]
    },
    {
     "name": "stdout",
     "output_type": "stream",
     "text": [
      "Accuracy: 0.8975116948816798\n",
      "F1-score: 0.4\n",
      "Threshold: 0.5  # Duplications: 2 Degree: 3 Lambda: 0.1\n"
     ]
    },
    {
     "name": "stderr",
     "output_type": "stream",
     "text": [
      "c:\\Users\\hany_\\anaconda3\\envs\\ml\\lib\\site-packages\\numpy\\linalg\\linalg.py:2180: RuntimeWarning: overflow encountered in det\n",
      "  r = _umath_linalg.det(a, signature=signature)\n"
     ]
    },
    {
     "name": "stdout",
     "output_type": "stream",
     "text": [
      "Accuracy: 0.8974507443582672\n",
      "F1-score: 0.39521926671459373\n",
      "Threshold: 0.5  # Duplications: 2 Degree: 3 Lambda: 0.5\n"
     ]
    },
    {
     "name": "stderr",
     "output_type": "stream",
     "text": [
      "c:\\Users\\hany_\\anaconda3\\envs\\ml\\lib\\site-packages\\numpy\\linalg\\linalg.py:2180: RuntimeWarning: overflow encountered in det\n",
      "  r = _umath_linalg.det(a, signature=signature)\n"
     ]
    },
    {
     "name": "stdout",
     "output_type": "stream",
     "text": [
      "Accuracy: 0.8986545171956665\n",
      "F1-score: 0.3842236829923155\n",
      "Threshold: 0.5  # Duplications: 2 Degree: 3 Lambda: 1\n"
     ]
    },
    {
     "name": "stderr",
     "output_type": "stream",
     "text": [
      "c:\\Users\\hany_\\anaconda3\\envs\\ml\\lib\\site-packages\\numpy\\linalg\\linalg.py:2180: RuntimeWarning: overflow encountered in det\n",
      "  r = _umath_linalg.det(a, signature=signature)\n"
     ]
    },
    {
     "name": "stdout",
     "output_type": "stream",
     "text": [
      "Accuracy: 0.8990354579669952\n",
      "F1-score: 0.3743153918791312\n",
      "Threshold: 0.5  # Duplications: 2 Degree: 4 Lambda: 0\n"
     ]
    },
    {
     "name": "stderr",
     "output_type": "stream",
     "text": [
      "c:\\Users\\hany_\\anaconda3\\envs\\ml\\lib\\site-packages\\numpy\\linalg\\linalg.py:2180: RuntimeWarning: overflow encountered in det\n",
      "  r = _umath_linalg.det(a, signature=signature)\n"
     ]
    },
    {
     "name": "stdout",
     "output_type": "stream",
     "text": [
      "Accuracy: 0.4534566565590382\n",
      "F1-score: 0.1394846696415719\n",
      "Threshold: 0.5  # Duplications: 2 Degree: 4 Lambda: 0.0001\n"
     ]
    },
    {
     "name": "stderr",
     "output_type": "stream",
     "text": [
      "c:\\Users\\hany_\\anaconda3\\envs\\ml\\lib\\site-packages\\numpy\\linalg\\linalg.py:2180: RuntimeWarning: overflow encountered in det\n",
      "  r = _umath_linalg.det(a, signature=signature)\n"
     ]
    },
    {
     "name": "stdout",
     "output_type": "stream",
     "text": [
      "Accuracy: 0.8895271763146266\n",
      "F1-score: 0.4019138755980861\n",
      "Threshold: 0.5  # Duplications: 2 Degree: 4 Lambda: 0.0005\n"
     ]
    },
    {
     "name": "stderr",
     "output_type": "stream",
     "text": [
      "c:\\Users\\hany_\\anaconda3\\envs\\ml\\lib\\site-packages\\numpy\\linalg\\linalg.py:2180: RuntimeWarning: overflow encountered in det\n",
      "  r = _umath_linalg.det(a, signature=signature)\n"
     ]
    },
    {
     "name": "stdout",
     "output_type": "stream",
     "text": [
      "Accuracy: 0.8896947902540113\n",
      "F1-score: 0.4010920824025813\n",
      "Threshold: 0.5  # Duplications: 2 Degree: 4 Lambda: 0.001\n"
     ]
    },
    {
     "name": "stderr",
     "output_type": "stream",
     "text": [
      "c:\\Users\\hany_\\anaconda3\\envs\\ml\\lib\\site-packages\\numpy\\linalg\\linalg.py:2180: RuntimeWarning: overflow encountered in det\n",
      "  r = _umath_linalg.det(a, signature=signature)\n"
     ]
    },
    {
     "name": "stdout",
     "output_type": "stream",
     "text": [
      "Accuracy: 0.8963993478293995\n",
      "F1-score: 0.4091422612322934\n",
      "Threshold: 0.5  # Duplications: 2 Degree: 4 Lambda: 0.005\n"
     ]
    },
    {
     "name": "stderr",
     "output_type": "stream",
     "text": [
      "c:\\Users\\hany_\\anaconda3\\envs\\ml\\lib\\site-packages\\numpy\\linalg\\linalg.py:2180: RuntimeWarning: overflow encountered in det\n",
      "  r = _umath_linalg.det(a, signature=signature)\n"
     ]
    },
    {
     "name": "stdout",
     "output_type": "stream",
     "text": [
      "Accuracy: 0.8973136056805888\n",
      "F1-score: 0.4074562560450189\n",
      "Threshold: 0.5  # Duplications: 2 Degree: 4 Lambda: 0.01\n"
     ]
    },
    {
     "name": "stderr",
     "output_type": "stream",
     "text": [
      "c:\\Users\\hany_\\anaconda3\\envs\\ml\\lib\\site-packages\\numpy\\linalg\\linalg.py:2180: RuntimeWarning: overflow encountered in det\n",
      "  r = _umath_linalg.det(a, signature=signature)\n"
     ]
    },
    {
     "name": "stdout",
     "output_type": "stream",
     "text": [
      "Accuracy: 0.8974964572508266\n",
      "F1-score: 0.40579454111827573\n",
      "Threshold: 0.5  # Duplications: 2 Degree: 4 Lambda: 0.05\n"
     ]
    },
    {
     "name": "stderr",
     "output_type": "stream",
     "text": [
      "c:\\Users\\hany_\\anaconda3\\envs\\ml\\lib\\site-packages\\numpy\\linalg\\linalg.py:2180: RuntimeWarning: overflow encountered in det\n",
      "  r = _umath_linalg.det(a, signature=signature)\n"
     ]
    },
    {
     "name": "stdout",
     "output_type": "stream",
     "text": [
      "Accuracy: 0.8980754872232465\n",
      "F1-score: 0.40153887447436704\n",
      "Threshold: 0.5  # Duplications: 2 Degree: 4 Lambda: 0.1\n"
     ]
    },
    {
     "name": "stderr",
     "output_type": "stream",
     "text": [
      "c:\\Users\\hany_\\anaconda3\\envs\\ml\\lib\\site-packages\\numpy\\linalg\\linalg.py:2180: RuntimeWarning: overflow encountered in det\n",
      "  r = _umath_linalg.det(a, signature=signature)\n"
     ]
    },
    {
     "name": "stdout",
     "output_type": "stream",
     "text": [
      "Accuracy: 0.8978469227604492\n",
      "F1-score: 0.39549143372407575\n",
      "Threshold: 0.5  # Duplications: 2 Degree: 4 Lambda: 0.5\n"
     ]
    },
    {
     "name": "stderr",
     "output_type": "stream",
     "text": [
      "c:\\Users\\hany_\\anaconda3\\envs\\ml\\lib\\site-packages\\numpy\\linalg\\linalg.py:2180: RuntimeWarning: overflow encountered in det\n",
      "  r = _umath_linalg.det(a, signature=signature)\n"
     ]
    },
    {
     "name": "stdout",
     "output_type": "stream",
     "text": [
      "Accuracy: 0.8967650509698752\n",
      "F1-score: 0.3852644950548952\n",
      "Threshold: 0.5  # Duplications: 2 Degree: 4 Lambda: 1\n"
     ]
    },
    {
     "name": "stderr",
     "output_type": "stream",
     "text": [
      "c:\\Users\\hany_\\anaconda3\\envs\\ml\\lib\\site-packages\\numpy\\linalg\\linalg.py:2180: RuntimeWarning: overflow encountered in det\n",
      "  r = _umath_linalg.det(a, signature=signature)\n"
     ]
    },
    {
     "name": "stdout",
     "output_type": "stream",
     "text": [
      "Accuracy: 0.8961707833666022\n",
      "F1-score: 0.37760321519912315\n",
      "Threshold: 0.5  # Duplications: 2 Degree: 5 Lambda: 0\n"
     ]
    },
    {
     "name": "stderr",
     "output_type": "stream",
     "text": [
      "c:\\Users\\hany_\\anaconda3\\envs\\ml\\lib\\site-packages\\numpy\\linalg\\linalg.py:2180: RuntimeWarning: overflow encountered in det\n",
      "  r = _umath_linalg.det(a, signature=signature)\n"
     ]
    },
    {
     "name": "stdout",
     "output_type": "stream",
     "text": [
      "Accuracy: 0.9079647096469441\n",
      "F1-score: 0.016927083333333332\n",
      "Threshold: 0.5  # Duplications: 2 Degree: 5 Lambda: 0.0001\n"
     ]
    },
    {
     "name": "stderr",
     "output_type": "stream",
     "text": [
      "c:\\Users\\hany_\\anaconda3\\envs\\ml\\lib\\site-packages\\numpy\\linalg\\linalg.py:2180: RuntimeWarning: overflow encountered in det\n",
      "  r = _umath_linalg.det(a, signature=signature)\n"
     ]
    },
    {
     "name": "stdout",
     "output_type": "stream",
     "text": [
      "Accuracy: 0.8944641687110488\n",
      "F1-score: 0.40742642026009585\n",
      "Threshold: 0.5  # Duplications: 2 Degree: 5 Lambda: 0.0005\n"
     ]
    },
    {
     "name": "stderr",
     "output_type": "stream",
     "text": [
      "c:\\Users\\hany_\\anaconda3\\envs\\ml\\lib\\site-packages\\numpy\\linalg\\linalg.py:2180: RuntimeWarning: overflow encountered in det\n",
      "  r = _umath_linalg.det(a, signature=signature)\n"
     ]
    },
    {
     "name": "stdout",
     "output_type": "stream",
     "text": [
      "Accuracy: 0.8962164962591617\n",
      "F1-score: 0.4087160343779842\n",
      "Threshold: 0.5  # Duplications: 2 Degree: 5 Lambda: 0.001\n"
     ]
    },
    {
     "name": "stderr",
     "output_type": "stream",
     "text": [
      "c:\\Users\\hany_\\anaconda3\\envs\\ml\\lib\\site-packages\\numpy\\linalg\\linalg.py:2180: RuntimeWarning: overflow encountered in det\n",
      "  r = _umath_linalg.det(a, signature=signature)\n"
     ]
    },
    {
     "name": "stdout",
     "output_type": "stream",
     "text": [
      "Accuracy: 0.8965821993996373\n",
      "F1-score: 0.4088494033620764\n",
      "Threshold: 0.5  # Duplications: 2 Degree: 5 Lambda: 0.005\n"
     ]
    },
    {
     "name": "stderr",
     "output_type": "stream",
     "text": [
      "c:\\Users\\hany_\\anaconda3\\envs\\ml\\lib\\site-packages\\numpy\\linalg\\linalg.py:2180: RuntimeWarning: overflow encountered in det\n",
      "  r = _umath_linalg.det(a, signature=signature)\n"
     ]
    },
    {
     "name": "stdout",
     "output_type": "stream",
     "text": [
      "Accuracy: 0.8974202690965609\n",
      "F1-score: 0.40770719690304413\n",
      "Threshold: 0.5  # Duplications: 2 Degree: 5 Lambda: 0.01\n"
     ]
    },
    {
     "name": "stderr",
     "output_type": "stream",
     "text": [
      "c:\\Users\\hany_\\anaconda3\\envs\\ml\\lib\\site-packages\\numpy\\linalg\\linalg.py:2180: RuntimeWarning: overflow encountered in det\n",
      "  r = _umath_linalg.det(a, signature=signature)\n"
     ]
    },
    {
     "name": "stdout",
     "output_type": "stream",
     "text": [
      "Accuracy: 0.8979688238072745\n",
      "F1-score: 0.40848056537102473\n",
      "Threshold: 0.5  # Duplications: 2 Degree: 5 Lambda: 0.05\n"
     ]
    },
    {
     "name": "stderr",
     "output_type": "stream",
     "text": [
      "c:\\Users\\hany_\\anaconda3\\envs\\ml\\lib\\site-packages\\numpy\\linalg\\linalg.py:2180: RuntimeWarning: overflow encountered in det\n",
      "  r = _umath_linalg.det(a, signature=signature)\n"
     ]
    },
    {
     "name": "stdout",
     "output_type": "stream",
     "text": [
      "Accuracy: 0.8979688238072745\n",
      "F1-score: 0.40267618198037464\n",
      "Threshold: 0.5  # Duplications: 2 Degree: 5 Lambda: 0.1\n"
     ]
    },
    {
     "name": "stderr",
     "output_type": "stream",
     "text": [
      "c:\\Users\\hany_\\anaconda3\\envs\\ml\\lib\\site-packages\\numpy\\linalg\\linalg.py:2180: RuntimeWarning: overflow encountered in det\n",
      "  r = _umath_linalg.det(a, signature=signature)\n"
     ]
    },
    {
     "name": "stdout",
     "output_type": "stream",
     "text": [
      "Accuracy: 0.8979992990689808\n",
      "F1-score: 0.39834621607046555\n",
      "Threshold: 0.5  # Duplications: 2 Degree: 5 Lambda: 0.5\n"
     ]
    },
    {
     "name": "stderr",
     "output_type": "stream",
     "text": [
      "c:\\Users\\hany_\\anaconda3\\envs\\ml\\lib\\site-packages\\numpy\\linalg\\linalg.py:2180: RuntimeWarning: overflow encountered in det\n",
      "  r = _umath_linalg.det(a, signature=signature)\n"
     ]
    },
    {
     "name": "stdout",
     "output_type": "stream",
     "text": [
      "Accuracy: 0.8986240419339601\n",
      "F1-score: 0.39036012095665723\n",
      "Threshold: 0.5  # Duplications: 2 Degree: 5 Lambda: 1\n"
     ]
    },
    {
     "name": "stderr",
     "output_type": "stream",
     "text": [
      "c:\\Users\\hany_\\anaconda3\\envs\\ml\\lib\\site-packages\\numpy\\linalg\\linalg.py:2180: RuntimeWarning: overflow encountered in det\n",
      "  r = _umath_linalg.det(a, signature=signature)\n"
     ]
    },
    {
     "name": "stdout",
     "output_type": "stream",
     "text": [
      "Accuracy: 0.8981669130083655\n",
      "F1-score: 0.38411206340429455\n",
      "Threshold: 0.5  # Duplications: 3 Degree: 1 Lambda: 0\n"
     ]
    },
    {
     "name": "stderr",
     "output_type": "stream",
     "text": [
      "c:\\Users\\hany_\\anaconda3\\envs\\ml\\lib\\site-packages\\numpy\\linalg\\linalg.py:2180: RuntimeWarning: overflow encountered in det\n",
      "  r = _umath_linalg.det(a, signature=signature)\n"
     ]
    },
    {
     "name": "stdout",
     "output_type": "stream",
     "text": [
      "Accuracy: 0.9090161061758117\n",
      "F1-score: 0.013872832369942197\n",
      "Threshold: 0.5  # Duplications: 3 Degree: 1 Lambda: 0.0001\n"
     ]
    },
    {
     "name": "stderr",
     "output_type": "stream",
     "text": [
      "c:\\Users\\hany_\\anaconda3\\envs\\ml\\lib\\site-packages\\numpy\\linalg\\linalg.py:2180: RuntimeWarning: overflow encountered in det\n",
      "  r = _umath_linalg.det(a, signature=signature)\n"
     ]
    },
    {
     "name": "stdout",
     "output_type": "stream",
     "text": [
      "Accuracy: 0.8758437838084935\n",
      "F1-score: 0.418\n",
      "Threshold: 0.5  # Duplications: 3 Degree: 1 Lambda: 0.0005\n"
     ]
    },
    {
     "name": "stderr",
     "output_type": "stream",
     "text": [
      "c:\\Users\\hany_\\anaconda3\\envs\\ml\\lib\\site-packages\\numpy\\linalg\\linalg.py:2180: RuntimeWarning: overflow encountered in det\n",
      "  r = _umath_linalg.det(a, signature=signature)\n"
     ]
    },
    {
     "name": "stdout",
     "output_type": "stream",
     "text": [
      "Accuracy: 0.8758742590701998\n",
      "F1-score: 0.4181428571428571\n",
      "Threshold: 0.5  # Duplications: 3 Degree: 1 Lambda: 0.001\n"
     ]
    },
    {
     "name": "stderr",
     "output_type": "stream",
     "text": [
      "c:\\Users\\hany_\\anaconda3\\envs\\ml\\lib\\site-packages\\numpy\\linalg\\linalg.py:2180: RuntimeWarning: overflow encountered in det\n",
      "  r = _umath_linalg.det(a, signature=signature)\n"
     ]
    },
    {
     "name": "stdout",
     "output_type": "stream",
     "text": [
      "Accuracy: 0.8756609322382556\n",
      "F1-score: 0.4178912826366101\n",
      "Threshold: 0.5  # Duplications: 3 Degree: 1 Lambda: 0.005\n"
     ]
    },
    {
     "name": "stderr",
     "output_type": "stream",
     "text": [
      "c:\\Users\\hany_\\anaconda3\\envs\\ml\\lib\\site-packages\\numpy\\linalg\\linalg.py:2180: RuntimeWarning: overflow encountered in det\n",
      "  r = _umath_linalg.det(a, signature=signature)\n"
     ]
    },
    {
     "name": "stdout",
     "output_type": "stream",
     "text": [
      "Accuracy: 0.875599981714843\n",
      "F1-score: 0.41868413557391054\n",
      "Threshold: 0.5  # Duplications: 3 Degree: 1 Lambda: 0.01\n"
     ]
    },
    {
     "name": "stderr",
     "output_type": "stream",
     "text": [
      "c:\\Users\\hany_\\anaconda3\\envs\\ml\\lib\\site-packages\\numpy\\linalg\\linalg.py:2180: RuntimeWarning: overflow encountered in det\n",
      "  r = _umath_linalg.det(a, signature=signature)\n"
     ]
    },
    {
     "name": "stdout",
     "output_type": "stream",
     "text": [
      "Accuracy: 0.8747009614945068\n",
      "F1-score: 0.4172631280561264\n",
      "Threshold: 0.5  # Duplications: 3 Degree: 1 Lambda: 0.05\n"
     ]
    },
    {
     "name": "stderr",
     "output_type": "stream",
     "text": [
      "c:\\Users\\hany_\\anaconda3\\envs\\ml\\lib\\site-packages\\numpy\\linalg\\linalg.py:2180: RuntimeWarning: overflow encountered in det\n",
      "  r = _umath_linalg.det(a, signature=signature)\n"
     ]
    },
    {
     "name": "stdout",
     "output_type": "stream",
     "text": [
      "Accuracy: 0.8692916025416368\n",
      "F1-score: 0.41503000545553737\n",
      "Threshold: 0.5  # Duplications: 3 Degree: 1 Lambda: 0.1\n"
     ]
    },
    {
     "name": "stderr",
     "output_type": "stream",
     "text": [
      "c:\\Users\\hany_\\anaconda3\\envs\\ml\\lib\\site-packages\\numpy\\linalg\\linalg.py:2180: RuntimeWarning: overflow encountered in det\n",
      "  r = _umath_linalg.det(a, signature=signature)\n"
     ]
    },
    {
     "name": "stdout",
     "output_type": "stream",
     "text": [
      "Accuracy: 0.8630289362609901\n",
      "F1-score: 0.4142829217436632\n",
      "Threshold: 0.5  # Duplications: 3 Degree: 1 Lambda: 0.5\n"
     ]
    },
    {
     "name": "stderr",
     "output_type": "stream",
     "text": [
      "c:\\Users\\hany_\\anaconda3\\envs\\ml\\lib\\site-packages\\numpy\\linalg\\linalg.py:2180: RuntimeWarning: overflow encountered in det\n",
      "  r = _umath_linalg.det(a, signature=signature)\n"
     ]
    },
    {
     "name": "stdout",
     "output_type": "stream",
     "text": [
      "Accuracy: 0.8106724366495497\n",
      "F1-score: 0.387780241438778\n",
      "Threshold: 0.5  # Duplications: 3 Degree: 1 Lambda: 1\n"
     ]
    },
    {
     "name": "stderr",
     "output_type": "stream",
     "text": [
      "c:\\Users\\hany_\\anaconda3\\envs\\ml\\lib\\site-packages\\numpy\\linalg\\linalg.py:2180: RuntimeWarning: overflow encountered in det\n",
      "  r = _umath_linalg.det(a, signature=signature)\n"
     ]
    },
    {
     "name": "stdout",
     "output_type": "stream",
     "text": [
      "Accuracy: 0.7648071677815533\n",
      "F1-score: 0.35967641568139386\n",
      "Threshold: 0.5  # Duplications: 3 Degree: 2 Lambda: 0\n"
     ]
    },
    {
     "name": "stderr",
     "output_type": "stream",
     "text": [
      "c:\\Users\\hany_\\anaconda3\\envs\\ml\\lib\\site-packages\\numpy\\linalg\\linalg.py:2180: RuntimeWarning: overflow encountered in det\n",
      "  r = _umath_linalg.det(a, signature=signature)\n"
     ]
    },
    {
     "name": "stdout",
     "output_type": "stream",
     "text": [
      "Accuracy: 0.8696573056821125\n",
      "F1-score: 0.4116109506121888\n",
      "Threshold: 0.5  # Duplications: 3 Degree: 2 Lambda: 0.0001\n"
     ]
    },
    {
     "name": "stderr",
     "output_type": "stream",
     "text": [
      "c:\\Users\\hany_\\anaconda3\\envs\\ml\\lib\\site-packages\\numpy\\linalg\\linalg.py:2180: RuntimeWarning: overflow encountered in det\n",
      "  r = _umath_linalg.det(a, signature=signature)\n"
     ]
    },
    {
     "name": "stdout",
     "output_type": "stream",
     "text": [
      "Accuracy: 0.8713486827068128\n",
      "F1-score: 0.41583062339998617\n",
      "Threshold: 0.5  # Duplications: 3 Degree: 2 Lambda: 0.0005\n"
     ]
    },
    {
     "name": "stderr",
     "output_type": "stream",
     "text": [
      "c:\\Users\\hany_\\anaconda3\\envs\\ml\\lib\\site-packages\\numpy\\linalg\\linalg.py:2180: RuntimeWarning: overflow encountered in det\n",
      "  r = _umath_linalg.det(a, signature=signature)\n"
     ]
    },
    {
     "name": "stdout",
     "output_type": "stream",
     "text": [
      "Accuracy: 0.8758590214393466\n",
      "F1-score: 0.4216653652303543\n",
      "Threshold: 0.5  # Duplications: 3 Degree: 2 Lambda: 0.001\n"
     ]
    },
    {
     "name": "stderr",
     "output_type": "stream",
     "text": [
      "c:\\Users\\hany_\\anaconda3\\envs\\ml\\lib\\site-packages\\numpy\\linalg\\linalg.py:2180: RuntimeWarning: overflow encountered in det\n",
      "  r = _umath_linalg.det(a, signature=signature)\n"
     ]
    },
    {
     "name": "stdout",
     "output_type": "stream",
     "text": [
      "Accuracy: 0.8762704374723818\n",
      "F1-score: 0.42041399000713775\n",
      "Threshold: 0.5  # Duplications: 3 Degree: 2 Lambda: 0.005\n"
     ]
    },
    {
     "name": "stderr",
     "output_type": "stream",
     "text": [
      "c:\\Users\\hany_\\anaconda3\\envs\\ml\\lib\\site-packages\\numpy\\linalg\\linalg.py:2180: RuntimeWarning: overflow encountered in det\n",
      "  r = _umath_linalg.det(a, signature=signature)\n"
     ]
    },
    {
     "name": "stdout",
     "output_type": "stream",
     "text": [
      "Accuracy: 0.8766056653511513\n",
      "F1-score: 0.41958142201834864\n",
      "Threshold: 0.5  # Duplications: 3 Degree: 2 Lambda: 0.01\n"
     ]
    },
    {
     "name": "stderr",
     "output_type": "stream",
     "text": [
      "c:\\Users\\hany_\\anaconda3\\envs\\ml\\lib\\site-packages\\numpy\\linalg\\linalg.py:2180: RuntimeWarning: overflow encountered in det\n",
      "  r = _umath_linalg.det(a, signature=signature)\n"
     ]
    },
    {
     "name": "stdout",
     "output_type": "stream",
     "text": [
      "Accuracy: 0.876773279290536\n",
      "F1-score: 0.41790829914345357\n",
      "Threshold: 0.5  # Duplications: 3 Degree: 2 Lambda: 0.05\n"
     ]
    },
    {
     "name": "stderr",
     "output_type": "stream",
     "text": [
      "c:\\Users\\hany_\\anaconda3\\envs\\ml\\lib\\site-packages\\numpy\\linalg\\linalg.py:2180: RuntimeWarning: overflow encountered in det\n",
      "  r = _umath_linalg.det(a, signature=signature)\n"
     ]
    },
    {
     "name": "stdout",
     "output_type": "stream",
     "text": [
      "Accuracy: 0.8778246758194036\n",
      "F1-score: 0.41619338867045286\n",
      "Threshold: 0.5  # Duplications: 3 Degree: 2 Lambda: 0.1\n"
     ]
    },
    {
     "name": "stderr",
     "output_type": "stream",
     "text": [
      "c:\\Users\\hany_\\anaconda3\\envs\\ml\\lib\\site-packages\\numpy\\linalg\\linalg.py:2180: RuntimeWarning: overflow encountered in det\n",
      "  r = _umath_linalg.det(a, signature=signature)\n"
     ]
    },
    {
     "name": "stdout",
     "output_type": "stream",
     "text": [
      "Accuracy: 0.8782360918524388\n",
      "F1-score: 0.41350458715596333\n",
      "Threshold: 0.5  # Duplications: 3 Degree: 2 Lambda: 0.5\n"
     ]
    },
    {
     "name": "stderr",
     "output_type": "stream",
     "text": [
      "c:\\Users\\hany_\\anaconda3\\envs\\ml\\lib\\site-packages\\numpy\\linalg\\linalg.py:2180: RuntimeWarning: overflow encountered in det\n",
      "  r = _umath_linalg.det(a, signature=signature)\n"
     ]
    },
    {
     "name": "stdout",
     "output_type": "stream",
     "text": [
      "Accuracy: 0.8805522117421183\n",
      "F1-score: 0.4028338538889312\n",
      "Threshold: 0.5  # Duplications: 3 Degree: 2 Lambda: 1\n"
     ]
    },
    {
     "name": "stderr",
     "output_type": "stream",
     "text": [
      "c:\\Users\\hany_\\anaconda3\\envs\\ml\\lib\\site-packages\\numpy\\linalg\\linalg.py:2180: RuntimeWarning: overflow encountered in det\n",
      "  r = _umath_linalg.det(a, signature=signature)\n"
     ]
    },
    {
     "name": "stdout",
     "output_type": "stream",
     "text": [
      "Accuracy: 0.8825026284913222\n",
      "F1-score: 0.3925955100433241\n",
      "Threshold: 0.5  # Duplications: 3 Degree: 3 Lambda: 0\n"
     ]
    },
    {
     "name": "stderr",
     "output_type": "stream",
     "text": [
      "c:\\Users\\hany_\\anaconda3\\envs\\ml\\lib\\site-packages\\numpy\\linalg\\linalg.py:2180: RuntimeWarning: overflow encountered in det\n",
      "  r = _umath_linalg.det(a, signature=signature)\n"
     ]
    },
    {
     "name": "stdout",
     "output_type": "stream",
     "text": [
      "Accuracy: 0.9090161061758117\n",
      "F1-score: 0.013872832369942197\n",
      "Threshold: 0.5  # Duplications: 3 Degree: 3 Lambda: 0.0001\n"
     ]
    },
    {
     "name": "stderr",
     "output_type": "stream",
     "text": [
      "c:\\Users\\hany_\\anaconda3\\envs\\ml\\lib\\site-packages\\numpy\\linalg\\linalg.py:2180: RuntimeWarning: overflow encountered in det\n",
      "  r = _umath_linalg.det(a, signature=signature)\n"
     ]
    },
    {
     "name": "stdout",
     "output_type": "stream",
     "text": [
      "Accuracy: 0.8743809712465905\n",
      "F1-score: 0.4194366197183098\n",
      "Threshold: 0.5  # Duplications: 3 Degree: 3 Lambda: 0.0005\n"
     ]
    },
    {
     "name": "stderr",
     "output_type": "stream",
     "text": [
      "c:\\Users\\hany_\\anaconda3\\envs\\ml\\lib\\site-packages\\numpy\\linalg\\linalg.py:2180: RuntimeWarning: overflow encountered in det\n",
      "  r = _umath_linalg.det(a, signature=signature)\n"
     ]
    },
    {
     "name": "stdout",
     "output_type": "stream",
     "text": [
      "Accuracy: 0.8766970911362701\n",
      "F1-score: 0.4227421886146383\n",
      "Threshold: 0.5  # Duplications: 3 Degree: 3 Lambda: 0.001\n"
     ]
    },
    {
     "name": "stderr",
     "output_type": "stream",
     "text": [
      "c:\\Users\\hany_\\anaconda3\\envs\\ml\\lib\\site-packages\\numpy\\linalg\\linalg.py:2180: RuntimeWarning: overflow encountered in det\n",
      "  r = _umath_linalg.det(a, signature=signature)\n"
     ]
    },
    {
     "name": "stdout",
     "output_type": "stream",
     "text": [
      "Accuracy: 0.8768494674448016\n",
      "F1-score: 0.42296158789090393\n",
      "Threshold: 0.5  # Duplications: 3 Degree: 3 Lambda: 0.005\n"
     ]
    },
    {
     "name": "stderr",
     "output_type": "stream",
     "text": [
      "c:\\Users\\hany_\\anaconda3\\envs\\ml\\lib\\site-packages\\numpy\\linalg\\linalg.py:2180: RuntimeWarning: overflow encountered in det\n",
      "  r = _umath_linalg.det(a, signature=signature)\n"
     ]
    },
    {
     "name": "stdout",
     "output_type": "stream",
     "text": [
      "Accuracy: 0.8773675468938089\n",
      "F1-score: 0.4219221376239046\n",
      "Threshold: 0.5  # Duplications: 3 Degree: 3 Lambda: 0.01\n"
     ]
    },
    {
     "name": "stderr",
     "output_type": "stream",
     "text": [
      "c:\\Users\\hany_\\anaconda3\\envs\\ml\\lib\\site-packages\\numpy\\linalg\\linalg.py:2180: RuntimeWarning: overflow encountered in det\n",
      "  r = _umath_linalg.det(a, signature=signature)\n"
     ]
    },
    {
     "name": "stdout",
     "output_type": "stream",
     "text": [
      "Accuracy: 0.8773370716321026\n",
      "F1-score: 0.4201123757383662\n",
      "Threshold: 0.5  # Duplications: 3 Degree: 3 Lambda: 0.05\n"
     ]
    },
    {
     "name": "stderr",
     "output_type": "stream",
     "text": [
      "c:\\Users\\hany_\\anaconda3\\envs\\ml\\lib\\site-packages\\numpy\\linalg\\linalg.py:2180: RuntimeWarning: overflow encountered in det\n",
      "  r = _umath_linalg.det(a, signature=signature)\n"
     ]
    },
    {
     "name": "stdout",
     "output_type": "stream",
     "text": [
      "Accuracy: 0.8774132597863684\n",
      "F1-score: 0.41774625461388154\n",
      "Threshold: 0.5  # Duplications: 3 Degree: 3 Lambda: 0.1\n"
     ]
    },
    {
     "name": "stderr",
     "output_type": "stream",
     "text": [
      "c:\\Users\\hany_\\anaconda3\\envs\\ml\\lib\\site-packages\\numpy\\linalg\\linalg.py:2180: RuntimeWarning: overflow encountered in det\n",
      "  r = _umath_linalg.det(a, signature=signature)\n"
     ]
    },
    {
     "name": "stdout",
     "output_type": "stream",
     "text": [
      "Accuracy: 0.8782360918524388\n",
      "F1-score: 0.41820167455405904\n",
      "Threshold: 0.5  # Duplications: 3 Degree: 3 Lambda: 0.5\n"
     ]
    },
    {
     "name": "stderr",
     "output_type": "stream",
     "text": [
      "c:\\Users\\hany_\\anaconda3\\envs\\ml\\lib\\site-packages\\numpy\\linalg\\linalg.py:2180: RuntimeWarning: overflow encountered in det\n",
      "  r = _umath_linalg.det(a, signature=signature)\n"
     ]
    },
    {
     "name": "stdout",
     "output_type": "stream",
     "text": [
      "Accuracy: 0.8789827357642434\n",
      "F1-score: 0.408108510955433\n",
      "Threshold: 0.5  # Duplications: 3 Degree: 3 Lambda: 1\n"
     ]
    },
    {
     "name": "stderr",
     "output_type": "stream",
     "text": [
      "c:\\Users\\hany_\\anaconda3\\envs\\ml\\lib\\site-packages\\numpy\\linalg\\linalg.py:2180: RuntimeWarning: overflow encountered in det\n",
      "  r = _umath_linalg.det(a, signature=signature)\n"
     ]
    },
    {
     "name": "stdout",
     "output_type": "stream",
     "text": [
      "Accuracy: 0.8795312904749569\n",
      "F1-score: 0.4018762293841731\n",
      "Threshold: 0.5  # Duplications: 3 Degree: 4 Lambda: 0\n"
     ]
    },
    {
     "name": "stderr",
     "output_type": "stream",
     "text": [
      "c:\\Users\\hany_\\anaconda3\\envs\\ml\\lib\\site-packages\\numpy\\linalg\\linalg.py:2180: RuntimeWarning: overflow encountered in det\n",
      "  r = _umath_linalg.det(a, signature=signature)\n"
     ]
    },
    {
     "name": "stdout",
     "output_type": "stream",
     "text": [
      "Accuracy: 0.5482194828348088\n",
      "F1-score: 0.17183877545319964\n",
      "Threshold: 0.5  # Duplications: 3 Degree: 4 Lambda: 0.0001\n"
     ]
    },
    {
     "name": "stderr",
     "output_type": "stream",
     "text": [
      "c:\\Users\\hany_\\anaconda3\\envs\\ml\\lib\\site-packages\\numpy\\linalg\\linalg.py:2180: RuntimeWarning: overflow encountered in det\n",
      "  r = _umath_linalg.det(a, signature=signature)\n"
     ]
    },
    {
     "name": "stdout",
     "output_type": "stream",
     "text": [
      "Accuracy: 0.8687735230926296\n",
      "F1-score: 0.4139902014153511\n",
      "Threshold: 0.5  # Duplications: 3 Degree: 4 Lambda: 0.0005\n"
     ]
    },
    {
     "name": "stderr",
     "output_type": "stream",
     "text": [
      "c:\\Users\\hany_\\anaconda3\\envs\\ml\\lib\\site-packages\\numpy\\linalg\\linalg.py:2180: RuntimeWarning: overflow encountered in det\n",
      "  r = _umath_linalg.det(a, signature=signature)\n"
     ]
    },
    {
     "name": "stdout",
     "output_type": "stream",
     "text": [
      "Accuracy: 0.8696420680512594\n",
      "F1-score: 0.4157617974458786\n",
      "Threshold: 0.5  # Duplications: 3 Degree: 4 Lambda: 0.001\n"
     ]
    },
    {
     "name": "stderr",
     "output_type": "stream",
     "text": [
      "c:\\Users\\hany_\\anaconda3\\envs\\ml\\lib\\site-packages\\numpy\\linalg\\linalg.py:2180: RuntimeWarning: overflow encountered in det\n",
      "  r = _umath_linalg.det(a, signature=signature)\n"
     ]
    },
    {
     "name": "stdout",
     "output_type": "stream",
     "text": [
      "Accuracy: 0.8766818535054169\n",
      "F1-score: 0.42328796408465763\n",
      "Threshold: 0.5  # Duplications: 3 Degree: 4 Lambda: 0.005\n"
     ]
    },
    {
     "name": "stderr",
     "output_type": "stream",
     "text": [
      "c:\\Users\\hany_\\anaconda3\\envs\\ml\\lib\\site-packages\\numpy\\linalg\\linalg.py:2180: RuntimeWarning: overflow encountered in det\n",
      "  r = _umath_linalg.det(a, signature=signature)\n"
     ]
    },
    {
     "name": "stdout",
     "output_type": "stream",
     "text": [
      "Accuracy: 0.8774437350480747\n",
      "F1-score: 0.421408531760305\n",
      "Threshold: 0.5  # Duplications: 3 Degree: 4 Lambda: 0.01\n"
     ]
    },
    {
     "name": "stderr",
     "output_type": "stream",
     "text": [
      "c:\\Users\\hany_\\anaconda3\\envs\\ml\\lib\\site-packages\\numpy\\linalg\\linalg.py:2180: RuntimeWarning: overflow encountered in det\n",
      "  r = _umath_linalg.det(a, signature=signature)\n"
     ]
    },
    {
     "name": "stdout",
     "output_type": "stream",
     "text": [
      "Accuracy: 0.8777332500342847\n",
      "F1-score: 0.4209842690142878\n",
      "Threshold: 0.5  # Duplications: 3 Degree: 4 Lambda: 0.05\n"
     ]
    },
    {
     "name": "stderr",
     "output_type": "stream",
     "text": [
      "c:\\Users\\hany_\\anaconda3\\envs\\ml\\lib\\site-packages\\numpy\\linalg\\linalg.py:2180: RuntimeWarning: overflow encountered in det\n",
      "  r = _umath_linalg.det(a, signature=signature)\n"
     ]
    },
    {
     "name": "stdout",
     "output_type": "stream",
     "text": [
      "Accuracy: 0.8777332500342847\n",
      "F1-score: 0.4171146302484382\n",
      "Threshold: 0.5  # Duplications: 3 Degree: 4 Lambda: 0.1\n"
     ]
    },
    {
     "name": "stderr",
     "output_type": "stream",
     "text": [
      "c:\\Users\\hany_\\anaconda3\\envs\\ml\\lib\\site-packages\\numpy\\linalg\\linalg.py:2180: RuntimeWarning: overflow encountered in det\n",
      "  r = _umath_linalg.det(a, signature=signature)\n"
     ]
    },
    {
     "name": "stdout",
     "output_type": "stream",
     "text": [
      "Accuracy: 0.8785256068386488\n",
      "F1-score: 0.4174218064893306\n",
      "Threshold: 0.5  # Duplications: 3 Degree: 4 Lambda: 0.5\n"
     ]
    },
    {
     "name": "stderr",
     "output_type": "stream",
     "text": [
      "c:\\Users\\hany_\\anaconda3\\envs\\ml\\lib\\site-packages\\numpy\\linalg\\linalg.py:2180: RuntimeWarning: overflow encountered in det\n",
      "  r = _umath_linalg.det(a, signature=signature)\n"
     ]
    },
    {
     "name": "stdout",
     "output_type": "stream",
     "text": [
      "Accuracy: 0.8767275663979764\n",
      "F1-score: 0.40540937821549317\n",
      "Threshold: 0.5  # Duplications: 3 Degree: 4 Lambda: 1\n"
     ]
    },
    {
     "name": "stderr",
     "output_type": "stream",
     "text": [
      "c:\\Users\\hany_\\anaconda3\\envs\\ml\\lib\\site-packages\\numpy\\linalg\\linalg.py:2180: RuntimeWarning: overflow encountered in det\n",
      "  r = _umath_linalg.det(a, signature=signature)\n"
     ]
    },
    {
     "name": "stdout",
     "output_type": "stream",
     "text": [
      "Accuracy: 0.876788516921389\n",
      "F1-score: 0.40041524543971524\n",
      "Threshold: 0.5  # Duplications: 3 Degree: 5 Lambda: 0\n",
      "Accuracy: 0.17550703216663874\n",
      "F1-score: 0.1387071613899368\n",
      "Threshold: 0.5  # Duplications: 3 Degree: 5 Lambda: 0.0001\n"
     ]
    },
    {
     "name": "stderr",
     "output_type": "stream",
     "text": [
      "c:\\Users\\hany_\\anaconda3\\envs\\ml\\lib\\site-packages\\numpy\\linalg\\linalg.py:2180: RuntimeWarning: overflow encountered in det\n",
      "  r = _umath_linalg.det(a, signature=signature)\n"
     ]
    },
    {
     "name": "stdout",
     "output_type": "stream",
     "text": [
      "Accuracy: 0.8735581391805202\n",
      "F1-score: 0.41923292273236284\n",
      "Threshold: 0.5  # Duplications: 3 Degree: 5 Lambda: 0.0005\n"
     ]
    },
    {
     "name": "stderr",
     "output_type": "stream",
     "text": [
      "c:\\Users\\hany_\\anaconda3\\envs\\ml\\lib\\site-packages\\numpy\\linalg\\linalg.py:2180: RuntimeWarning: overflow encountered in det\n",
      "  r = _umath_linalg.det(a, signature=signature)\n"
     ]
    },
    {
     "name": "stdout",
     "output_type": "stream",
     "text": [
      "Accuracy: 0.8764380514117665\n",
      "F1-score: 0.42329848517175167\n",
      "Threshold: 0.5  # Duplications: 3 Degree: 5 Lambda: 0.001\n"
     ]
    },
    {
     "name": "stderr",
     "output_type": "stream",
     "text": [
      "c:\\Users\\hany_\\anaconda3\\envs\\ml\\lib\\site-packages\\numpy\\linalg\\linalg.py:2180: RuntimeWarning: overflow encountered in det\n",
      "  r = _umath_linalg.det(a, signature=signature)\n"
     ]
    },
    {
     "name": "stdout",
     "output_type": "stream",
     "text": [
      "Accuracy: 0.8768342298139485\n",
      "F1-score: 0.42309613874812646\n",
      "Threshold: 0.5  # Duplications: 3 Degree: 5 Lambda: 0.005\n"
     ]
    },
    {
     "name": "stderr",
     "output_type": "stream",
     "text": [
      "c:\\Users\\hany_\\anaconda3\\envs\\ml\\lib\\site-packages\\numpy\\linalg\\linalg.py:2180: RuntimeWarning: overflow encountered in det\n",
      "  r = _umath_linalg.det(a, signature=signature)\n"
     ]
    },
    {
     "name": "stdout",
     "output_type": "stream",
     "text": [
      "Accuracy: 0.8777942005576973\n",
      "F1-score: 0.4220236379360046\n",
      "Threshold: 0.5  # Duplications: 3 Degree: 5 Lambda: 0.01\n"
     ]
    },
    {
     "name": "stderr",
     "output_type": "stream",
     "text": [
      "c:\\Users\\hany_\\anaconda3\\envs\\ml\\lib\\site-packages\\numpy\\linalg\\linalg.py:2180: RuntimeWarning: overflow encountered in det\n",
      "  r = _umath_linalg.det(a, signature=signature)\n"
     ]
    },
    {
     "name": "stdout",
     "output_type": "stream",
     "text": [
      "Accuracy: 0.877961814497082\n",
      "F1-score: 0.4213568383787298\n",
      "Threshold: 0.5  # Duplications: 3 Degree: 5 Lambda: 0.05\n"
     ]
    },
    {
     "name": "stderr",
     "output_type": "stream",
     "text": [
      "c:\\Users\\hany_\\anaconda3\\envs\\ml\\lib\\site-packages\\numpy\\linalg\\linalg.py:2180: RuntimeWarning: overflow encountered in det\n",
      "  r = _umath_linalg.det(a, signature=signature)\n"
     ]
    },
    {
     "name": "stdout",
     "output_type": "stream",
     "text": [
      "Accuracy: 0.8783732305301172\n",
      "F1-score: 0.41898384044256803\n",
      "Threshold: 0.5  # Duplications: 3 Degree: 5 Lambda: 0.1\n"
     ]
    },
    {
     "name": "stderr",
     "output_type": "stream",
     "text": [
      "c:\\Users\\hany_\\anaconda3\\envs\\ml\\lib\\site-packages\\numpy\\linalg\\linalg.py:2180: RuntimeWarning: overflow encountered in det\n",
      "  r = _umath_linalg.det(a, signature=signature)\n"
     ]
    },
    {
     "name": "stdout",
     "output_type": "stream",
     "text": [
      "Accuracy: 0.8788151218248587\n",
      "F1-score: 0.4179170021225206\n",
      "Threshold: 0.5  # Duplications: 3 Degree: 5 Lambda: 0.5\n"
     ]
    },
    {
     "name": "stderr",
     "output_type": "stream",
     "text": [
      "c:\\Users\\hany_\\anaconda3\\envs\\ml\\lib\\site-packages\\numpy\\linalg\\linalg.py:2180: RuntimeWarning: overflow encountered in det\n",
      "  r = _umath_linalg.det(a, signature=signature)\n"
     ]
    },
    {
     "name": "stdout",
     "output_type": "stream",
     "text": [
      "Accuracy: 0.878251329483292\n",
      "F1-score: 0.40735795875982794\n",
      "Threshold: 0.5  # Duplications: 3 Degree: 5 Lambda: 1\n"
     ]
    },
    {
     "name": "stderr",
     "output_type": "stream",
     "text": [
      "c:\\Users\\hany_\\anaconda3\\envs\\ml\\lib\\site-packages\\numpy\\linalg\\linalg.py:2180: RuntimeWarning: overflow encountered in det\n",
      "  r = _umath_linalg.det(a, signature=signature)\n"
     ]
    },
    {
     "name": "stdout",
     "output_type": "stream",
     "text": [
      "Accuracy: 0.8785865573620614\n",
      "F1-score: 0.40528437080161217\n",
      "Threshold: 0.5  # Duplications: 4 Degree: 1 Lambda: 0\n"
     ]
    },
    {
     "name": "stderr",
     "output_type": "stream",
     "text": [
      "c:\\Users\\hany_\\anaconda3\\envs\\ml\\lib\\site-packages\\numpy\\linalg\\linalg.py:2180: RuntimeWarning: overflow encountered in det\n",
      "  r = _umath_linalg.det(a, signature=signature)\n"
     ]
    },
    {
     "name": "stdout",
     "output_type": "stream",
     "text": [
      "Accuracy: 0.8542368232587197\n",
      "F1-score: 0.4122634553944458\n",
      "Threshold: 0.5  # Duplications: 4 Degree: 1 Lambda: 0.0001\n"
     ]
    },
    {
     "name": "stderr",
     "output_type": "stream",
     "text": [
      "c:\\Users\\hany_\\anaconda3\\envs\\ml\\lib\\site-packages\\numpy\\linalg\\linalg.py:2180: RuntimeWarning: overflow encountered in det\n",
      "  r = _umath_linalg.det(a, signature=signature)\n"
     ]
    },
    {
     "name": "stdout",
     "output_type": "stream",
     "text": [
      "Accuracy: 0.8542520608895728\n",
      "F1-score: 0.4130101258054618\n",
      "Threshold: 0.5  # Duplications: 4 Degree: 1 Lambda: 0.0005\n"
     ]
    },
    {
     "name": "stderr",
     "output_type": "stream",
     "text": [
      "c:\\Users\\hany_\\anaconda3\\envs\\ml\\lib\\site-packages\\numpy\\linalg\\linalg.py:2180: RuntimeWarning: overflow encountered in det\n",
      "  r = _umath_linalg.det(a, signature=signature)\n"
     ]
    },
    {
     "name": "stdout",
     "output_type": "stream",
     "text": [
      "Accuracy: 0.8541453974736009\n",
      "F1-score: 0.41297681834907396\n",
      "Threshold: 0.5  # Duplications: 4 Degree: 1 Lambda: 0.001\n"
     ]
    },
    {
     "name": "stderr",
     "output_type": "stream",
     "text": [
      "c:\\Users\\hany_\\anaconda3\\envs\\ml\\lib\\site-packages\\numpy\\linalg\\linalg.py:2180: RuntimeWarning: overflow encountered in det\n",
      "  r = _umath_linalg.det(a, signature=signature)\n"
     ]
    },
    {
     "name": "stdout",
     "output_type": "stream",
     "text": [
      "Accuracy: 0.854069209319335\n",
      "F1-score: 0.41285022377536634\n",
      "Threshold: 0.5  # Duplications: 4 Degree: 1 Lambda: 0.005\n"
     ]
    },
    {
     "name": "stderr",
     "output_type": "stream",
     "text": [
      "c:\\Users\\hany_\\anaconda3\\envs\\ml\\lib\\site-packages\\numpy\\linalg\\linalg.py:2180: RuntimeWarning: overflow encountered in det\n",
      "  r = _umath_linalg.det(a, signature=signature)\n"
     ]
    },
    {
     "name": "stdout",
     "output_type": "stream",
     "text": [
      "Accuracy: 0.8536425556554467\n",
      "F1-score: 0.4132917964693665\n",
      "Threshold: 0.5  # Duplications: 4 Degree: 1 Lambda: 0.01\n"
     ]
    },
    {
     "name": "stderr",
     "output_type": "stream",
     "text": [
      "c:\\Users\\hany_\\anaconda3\\envs\\ml\\lib\\site-packages\\numpy\\linalg\\linalg.py:2180: RuntimeWarning: overflow encountered in det\n",
      "  r = _umath_linalg.det(a, signature=signature)\n"
     ]
    },
    {
     "name": "stdout",
     "output_type": "stream",
     "text": [
      "Accuracy: 0.8530025751596142\n",
      "F1-score: 0.41287809628141925\n",
      "Threshold: 0.5  # Duplications: 4 Degree: 1 Lambda: 0.05\n"
     ]
    },
    {
     "name": "stderr",
     "output_type": "stream",
     "text": [
      "c:\\Users\\hany_\\anaconda3\\envs\\ml\\lib\\site-packages\\numpy\\linalg\\linalg.py:2180: RuntimeWarning: overflow encountered in det\n",
      "  r = _umath_linalg.det(a, signature=signature)\n"
     ]
    },
    {
     "name": "stdout",
     "output_type": "stream",
     "text": [
      "Accuracy: 0.8460085025980161\n",
      "F1-score: 0.40921314158774696\n",
      "Threshold: 0.5  # Duplications: 4 Degree: 1 Lambda: 0.1\n"
     ]
    },
    {
     "name": "stderr",
     "output_type": "stream",
     "text": [
      "c:\\Users\\hany_\\anaconda3\\envs\\ml\\lib\\site-packages\\numpy\\linalg\\linalg.py:2180: RuntimeWarning: overflow encountered in det\n",
      "  r = _umath_linalg.det(a, signature=signature)\n"
     ]
    },
    {
     "name": "stdout",
     "output_type": "stream",
     "text": [
      "Accuracy: 0.8367287854084446\n",
      "F1-score: 0.4032302979671401\n",
      "Threshold: 0.5  # Duplications: 4 Degree: 1 Lambda: 0.5\n"
     ]
    },
    {
     "name": "stderr",
     "output_type": "stream",
     "text": [
      "c:\\Users\\hany_\\anaconda3\\envs\\ml\\lib\\site-packages\\numpy\\linalg\\linalg.py:2180: RuntimeWarning: overflow encountered in det\n",
      "  r = _umath_linalg.det(a, signature=signature)\n"
     ]
    },
    {
     "name": "stdout",
     "output_type": "stream",
     "text": [
      "Accuracy: 0.7779115303152666\n",
      "F1-score: 0.3705463182897862\n",
      "Threshold: 0.5  # Duplications: 4 Degree: 1 Lambda: 1\n"
     ]
    },
    {
     "name": "stderr",
     "output_type": "stream",
     "text": [
      "c:\\Users\\hany_\\anaconda3\\envs\\ml\\lib\\site-packages\\numpy\\linalg\\linalg.py:2180: RuntimeWarning: overflow encountered in det\n",
      "  r = _umath_linalg.det(a, signature=signature)\n"
     ]
    },
    {
     "name": "stdout",
     "output_type": "stream",
     "text": [
      "Accuracy: 0.7333262224389352\n",
      "F1-score: 0.34494890893438634\n",
      "Threshold: 0.5  # Duplications: 4 Degree: 2 Lambda: 0\n"
     ]
    },
    {
     "name": "stderr",
     "output_type": "stream",
     "text": [
      "c:\\Users\\hany_\\anaconda3\\envs\\ml\\lib\\site-packages\\numpy\\linalg\\linalg.py:2180: RuntimeWarning: overflow encountered in det\n",
      "  r = _umath_linalg.det(a, signature=signature)\n"
     ]
    },
    {
     "name": "stdout",
     "output_type": "stream",
     "text": [
      "Accuracy: 0.8482484343334299\n",
      "F1-score: 0.4092769440654843\n",
      "Threshold: 0.5  # Duplications: 4 Degree: 2 Lambda: 0.0001\n"
     ]
    },
    {
     "name": "stderr",
     "output_type": "stream",
     "text": [
      "c:\\Users\\hany_\\anaconda3\\envs\\ml\\lib\\site-packages\\numpy\\linalg\\linalg.py:2180: RuntimeWarning: overflow encountered in det\n",
      "  r = _umath_linalg.det(a, signature=signature)\n"
     ]
    },
    {
     "name": "stdout",
     "output_type": "stream",
     "text": [
      "Accuracy: 0.8496350587410669\n",
      "F1-score: 0.4110766292671282\n",
      "Threshold: 0.5  # Duplications: 4 Degree: 2 Lambda: 0.0005\n"
     ]
    },
    {
     "name": "stderr",
     "output_type": "stream",
     "text": [
      "c:\\Users\\hany_\\anaconda3\\envs\\ml\\lib\\site-packages\\numpy\\linalg\\linalg.py:2180: RuntimeWarning: overflow encountered in det\n",
      "  r = _umath_linalg.det(a, signature=signature)\n"
     ]
    },
    {
     "name": "stdout",
     "output_type": "stream",
     "text": [
      "Accuracy: 0.8527587730659637\n",
      "F1-score: 0.41503722985652886\n",
      "Threshold: 0.5  # Duplications: 4 Degree: 2 Lambda: 0.001\n"
     ]
    },
    {
     "name": "stderr",
     "output_type": "stream",
     "text": [
      "c:\\Users\\hany_\\anaconda3\\envs\\ml\\lib\\site-packages\\numpy\\linalg\\linalg.py:2180: RuntimeWarning: overflow encountered in det\n",
      "  r = _umath_linalg.det(a, signature=signature)\n"
     ]
    },
    {
     "name": "stdout",
     "output_type": "stream",
     "text": [
      "Accuracy: 0.8551053682173496\n",
      "F1-score: 0.4165899748450826\n",
      "Threshold: 0.5  # Duplications: 4 Degree: 2 Lambda: 0.005\n"
     ]
    },
    {
     "name": "stderr",
     "output_type": "stream",
     "text": [
      "c:\\Users\\hany_\\anaconda3\\envs\\ml\\lib\\site-packages\\numpy\\linalg\\linalg.py:2180: RuntimeWarning: overflow encountered in det\n",
      "  r = _umath_linalg.det(a, signature=signature)\n"
     ]
    },
    {
     "name": "stdout",
     "output_type": "stream",
     "text": [
      "Accuracy: 0.8554253584652658\n",
      "F1-score: 0.41633858267716534\n",
      "Threshold: 0.5  # Duplications: 4 Degree: 2 Lambda: 0.01\n"
     ]
    },
    {
     "name": "stderr",
     "output_type": "stream",
     "text": [
      "c:\\Users\\hany_\\anaconda3\\envs\\ml\\lib\\site-packages\\numpy\\linalg\\linalg.py:2180: RuntimeWarning: overflow encountered in det\n",
      "  r = _umath_linalg.det(a, signature=signature)\n"
     ]
    },
    {
     "name": "stdout",
     "output_type": "stream",
     "text": [
      "Accuracy: 0.8558062992365947\n",
      "F1-score: 0.4166923503667632\n",
      "Threshold: 0.5  # Duplications: 4 Degree: 2 Lambda: 0.05\n"
     ]
    },
    {
     "name": "stderr",
     "output_type": "stream",
     "text": [
      "c:\\Users\\hany_\\anaconda3\\envs\\ml\\lib\\site-packages\\numpy\\linalg\\linalg.py:2180: RuntimeWarning: overflow encountered in det\n",
      "  r = _umath_linalg.det(a, signature=signature)\n"
     ]
    },
    {
     "name": "stdout",
     "output_type": "stream",
     "text": [
      "Accuracy: 0.8561110518536578\n",
      "F1-score: 0.4140242010549178\n",
      "Threshold: 0.5  # Duplications: 4 Degree: 2 Lambda: 0.1\n"
     ]
    },
    {
     "name": "stderr",
     "output_type": "stream",
     "text": [
      "c:\\Users\\hany_\\anaconda3\\envs\\ml\\lib\\site-packages\\numpy\\linalg\\linalg.py:2180: RuntimeWarning: overflow encountered in det\n",
      "  r = _umath_linalg.det(a, signature=signature)\n"
     ]
    },
    {
     "name": "stdout",
     "output_type": "stream",
     "text": [
      "Accuracy: 0.8570862602282597\n",
      "F1-score: 0.4131155747450097\n",
      "Threshold: 0.5  # Duplications: 4 Degree: 2 Lambda: 0.5\n"
     ]
    },
    {
     "name": "stderr",
     "output_type": "stream",
     "text": [
      "c:\\Users\\hany_\\anaconda3\\envs\\ml\\lib\\site-packages\\numpy\\linalg\\linalg.py:2180: RuntimeWarning: overflow encountered in det\n",
      "  r = _umath_linalg.det(a, signature=signature)\n"
     ]
    },
    {
     "name": "stdout",
     "output_type": "stream",
     "text": [
      "Accuracy: 0.860362350861688\n",
      "F1-score: 0.4063228815755377\n",
      "Threshold: 0.5  # Duplications: 4 Degree: 2 Lambda: 1\n"
     ]
    },
    {
     "name": "stderr",
     "output_type": "stream",
     "text": [
      "c:\\Users\\hany_\\anaconda3\\envs\\ml\\lib\\site-packages\\numpy\\linalg\\linalg.py:2180: RuntimeWarning: overflow encountered in det\n",
      "  r = _umath_linalg.det(a, signature=signature)\n"
     ]
    },
    {
     "name": "stdout",
     "output_type": "stream",
     "text": [
      "Accuracy: 0.8624346686577171\n",
      "F1-score: 0.3990147783251232\n",
      "Threshold: 0.5  # Duplications: 4 Degree: 3 Lambda: 0\n"
     ]
    },
    {
     "name": "stderr",
     "output_type": "stream",
     "text": [
      "c:\\Users\\hany_\\anaconda3\\envs\\ml\\lib\\site-packages\\numpy\\linalg\\linalg.py:2180: RuntimeWarning: overflow encountered in det\n",
      "  r = _umath_linalg.det(a, signature=signature)\n"
     ]
    },
    {
     "name": "stdout",
     "output_type": "stream",
     "text": [
      "Accuracy: 0.588355402502019\n",
      "F1-score: 0.2267510089589833\n",
      "Threshold: 0.5  # Duplications: 4 Degree: 3 Lambda: 0.0001\n"
     ]
    },
    {
     "name": "stderr",
     "output_type": "stream",
     "text": [
      "c:\\Users\\hany_\\anaconda3\\envs\\ml\\lib\\site-packages\\numpy\\linalg\\linalg.py:2180: RuntimeWarning: overflow encountered in det\n",
      "  r = _umath_linalg.det(a, signature=signature)\n"
     ]
    },
    {
     "name": "stdout",
     "output_type": "stream",
     "text": [
      "Accuracy: 0.8532159019915584\n",
      "F1-score: 0.41437169432792265\n",
      "Threshold: 0.5  # Duplications: 4 Degree: 3 Lambda: 0.0005\n"
     ]
    },
    {
     "name": "stderr",
     "output_type": "stream",
     "text": [
      "c:\\Users\\hany_\\anaconda3\\envs\\ml\\lib\\site-packages\\numpy\\linalg\\linalg.py:2180: RuntimeWarning: overflow encountered in det\n",
      "  r = _umath_linalg.det(a, signature=signature)\n"
     ]
    },
    {
     "name": "stdout",
     "output_type": "stream",
     "text": [
      "Accuracy: 0.8552882197875874\n",
      "F1-score: 0.4171831850260816\n",
      "Threshold: 0.5  # Duplications: 4 Degree: 3 Lambda: 0.001\n"
     ]
    },
    {
     "name": "stderr",
     "output_type": "stream",
     "text": [
      "c:\\Users\\hany_\\anaconda3\\envs\\ml\\lib\\site-packages\\numpy\\linalg\\linalg.py:2180: RuntimeWarning: overflow encountered in det\n",
      "  r = _umath_linalg.det(a, signature=signature)\n"
     ]
    },
    {
     "name": "stdout",
     "output_type": "stream",
     "text": [
      "Accuracy: 0.8553034574184406\n",
      "F1-score: 0.4167792654465053\n",
      "Threshold: 0.5  # Duplications: 4 Degree: 3 Lambda: 0.005\n"
     ]
    },
    {
     "name": "stderr",
     "output_type": "stream",
     "text": [
      "c:\\Users\\hany_\\anaconda3\\envs\\ml\\lib\\site-packages\\numpy\\linalg\\linalg.py:2180: RuntimeWarning: overflow encountered in det\n",
      "  r = _umath_linalg.det(a, signature=signature)\n"
     ]
    },
    {
     "name": "stdout",
     "output_type": "stream",
     "text": [
      "Accuracy: 0.8558520121291542\n",
      "F1-score: 0.41705693862459947\n",
      "Threshold: 0.5  # Duplications: 4 Degree: 3 Lambda: 0.01\n"
     ]
    },
    {
     "name": "stderr",
     "output_type": "stream",
     "text": [
      "c:\\Users\\hany_\\anaconda3\\envs\\ml\\lib\\site-packages\\numpy\\linalg\\linalg.py:2180: RuntimeWarning: overflow encountered in det\n",
      "  r = _umath_linalg.det(a, signature=signature)\n"
     ]
    },
    {
     "name": "stdout",
     "output_type": "stream",
     "text": [
      "Accuracy: 0.8558672497600073\n",
      "F1-score: 0.4160750663621211\n",
      "Threshold: 0.5  # Duplications: 4 Degree: 3 Lambda: 0.05\n"
     ]
    },
    {
     "name": "stderr",
     "output_type": "stream",
     "text": [
      "c:\\Users\\hany_\\anaconda3\\envs\\ml\\lib\\site-packages\\numpy\\linalg\\linalg.py:2180: RuntimeWarning: overflow encountered in det\n",
      "  r = _umath_linalg.det(a, signature=signature)\n"
     ]
    },
    {
     "name": "stdout",
     "output_type": "stream",
     "text": [
      "Accuracy: 0.8564310421015741\n",
      "F1-score: 0.41550868486352355\n",
      "Threshold: 0.5  # Duplications: 4 Degree: 3 Lambda: 0.1\n"
     ]
    },
    {
     "name": "stderr",
     "output_type": "stream",
     "text": [
      "c:\\Users\\hany_\\anaconda3\\envs\\ml\\lib\\site-packages\\numpy\\linalg\\linalg.py:2180: RuntimeWarning: overflow encountered in det\n",
      "  r = _umath_linalg.det(a, signature=signature)\n"
     ]
    },
    {
     "name": "stdout",
     "output_type": "stream",
     "text": [
      "Accuracy: 0.8564462797324272\n",
      "F1-score: 0.41305837642514487\n",
      "Threshold: 0.5  # Duplications: 4 Degree: 3 Lambda: 0.5\n"
     ]
    },
    {
     "name": "stderr",
     "output_type": "stream",
     "text": [
      "c:\\Users\\hany_\\anaconda3\\envs\\ml\\lib\\site-packages\\numpy\\linalg\\linalg.py:2180: RuntimeWarning: overflow encountered in det\n",
      "  r = _umath_linalg.det(a, signature=signature)\n"
     ]
    },
    {
     "name": "stdout",
     "output_type": "stream",
     "text": [
      "Accuracy: 0.8579700428177427\n",
      "F1-score: 0.40740034331489605\n",
      "Threshold: 0.5  # Duplications: 4 Degree: 3 Lambda: 1\n"
     ]
    },
    {
     "name": "stderr",
     "output_type": "stream",
     "text": [
      "c:\\Users\\hany_\\anaconda3\\envs\\ml\\lib\\site-packages\\numpy\\linalg\\linalg.py:2180: RuntimeWarning: overflow encountered in det\n",
      "  r = _umath_linalg.det(a, signature=signature)\n"
     ]
    },
    {
     "name": "stdout",
     "output_type": "stream",
     "text": [
      "Accuracy: 0.8583662212199247\n",
      "F1-score: 0.4019046393410977\n",
      "Threshold: 0.5  # Duplications: 4 Degree: 4 Lambda: 0\n"
     ]
    },
    {
     "name": "stderr",
     "output_type": "stream",
     "text": [
      "c:\\Users\\hany_\\anaconda3\\envs\\ml\\lib\\site-packages\\numpy\\linalg\\linalg.py:2180: RuntimeWarning: overflow encountered in det\n",
      "  r = _umath_linalg.det(a, signature=signature)\n"
     ]
    },
    {
     "name": "stdout",
     "output_type": "stream",
     "text": [
      "Accuracy: 0.09099913145504138\n",
      "F1-score: 0.1585680635287812\n",
      "Threshold: 0.5  # Duplications: 4 Degree: 4 Lambda: 0.0001\n"
     ]
    },
    {
     "name": "stderr",
     "output_type": "stream",
     "text": [
      "c:\\Users\\hany_\\anaconda3\\envs\\ml\\lib\\site-packages\\numpy\\linalg\\linalg.py:2180: RuntimeWarning: overflow encountered in det\n",
      "  r = _umath_linalg.det(a, signature=signature)\n"
     ]
    },
    {
     "name": "stdout",
     "output_type": "stream",
     "text": [
      "Accuracy: 0.8473189388513874\n",
      "F1-score: 0.40891930155733835\n",
      "Threshold: 0.5  # Duplications: 4 Degree: 4 Lambda: 0.0005\n"
     ]
    },
    {
     "name": "stderr",
     "output_type": "stream",
     "text": [
      "c:\\Users\\hany_\\anaconda3\\envs\\ml\\lib\\site-packages\\numpy\\linalg\\linalg.py:2180: RuntimeWarning: overflow encountered in det\n",
      "  r = _umath_linalg.det(a, signature=signature)\n"
     ]
    },
    {
     "name": "stdout",
     "output_type": "stream",
     "text": [
      "Accuracy: 0.8477303548844226\n",
      "F1-score: 0.40915272275764203\n",
      "Threshold: 0.5  # Duplications: 4 Degree: 4 Lambda: 0.001\n"
     ]
    },
    {
     "name": "stderr",
     "output_type": "stream",
     "text": [
      "c:\\Users\\hany_\\anaconda3\\envs\\ml\\lib\\site-packages\\numpy\\linalg\\linalg.py:2180: RuntimeWarning: overflow encountered in det\n",
      "  r = _umath_linalg.det(a, signature=signature)\n"
     ]
    },
    {
     "name": "stdout",
     "output_type": "stream",
     "text": [
      "Accuracy: 0.852591159126579\n",
      "F1-score: 0.41348369103916577\n",
      "Threshold: 0.5  # Duplications: 4 Degree: 4 Lambda: 0.005\n"
     ]
    },
    {
     "name": "stderr",
     "output_type": "stream",
     "text": [
      "c:\\Users\\hany_\\anaconda3\\envs\\ml\\lib\\site-packages\\numpy\\linalg\\linalg.py:2180: RuntimeWarning: overflow encountered in det\n",
      "  r = _umath_linalg.det(a, signature=signature)\n"
     ]
    },
    {
     "name": "stdout",
     "output_type": "stream",
     "text": [
      "Accuracy: 0.8554863089886784\n",
      "F1-score: 0.4166564153032354\n",
      "Threshold: 0.5  # Duplications: 4 Degree: 4 Lambda: 0.01\n"
     ]
    },
    {
     "name": "stderr",
     "output_type": "stream",
     "text": [
      "c:\\Users\\hany_\\anaconda3\\envs\\ml\\lib\\site-packages\\numpy\\linalg\\linalg.py:2180: RuntimeWarning: overflow encountered in det\n",
      "  r = _umath_linalg.det(a, signature=signature)\n"
     ]
    },
    {
     "name": "stdout",
     "output_type": "stream",
     "text": [
      "Accuracy: 0.8561872400079236\n",
      "F1-score: 0.41747932354030365\n",
      "Threshold: 0.5  # Duplications: 4 Degree: 4 Lambda: 0.05\n"
     ]
    },
    {
     "name": "stderr",
     "output_type": "stream",
     "text": [
      "c:\\Users\\hany_\\anaconda3\\envs\\ml\\lib\\site-packages\\numpy\\linalg\\linalg.py:2180: RuntimeWarning: overflow encountered in det\n",
      "  r = _umath_linalg.det(a, signature=signature)\n"
     ]
    },
    {
     "name": "stdout",
     "output_type": "stream",
     "text": [
      "Accuracy: 0.8572386365367912\n",
      "F1-score: 0.41607977563103776\n",
      "Threshold: 0.5  # Duplications: 4 Degree: 4 Lambda: 0.1\n"
     ]
    },
    {
     "name": "stderr",
     "output_type": "stream",
     "text": [
      "c:\\Users\\hany_\\anaconda3\\envs\\ml\\lib\\site-packages\\numpy\\linalg\\linalg.py:2180: RuntimeWarning: overflow encountered in det\n",
      "  r = _umath_linalg.det(a, signature=signature)\n"
     ]
    },
    {
     "name": "stdout",
     "output_type": "stream",
     "text": [
      "Accuracy: 0.8575281515230012\n",
      "F1-score: 0.41467384499812193\n",
      "Threshold: 0.5  # Duplications: 4 Degree: 4 Lambda: 0.5\n"
     ]
    },
    {
     "name": "stderr",
     "output_type": "stream",
     "text": [
      "c:\\Users\\hany_\\anaconda3\\envs\\ml\\lib\\site-packages\\numpy\\linalg\\linalg.py:2180: RuntimeWarning: overflow encountered in det\n",
      "  r = _umath_linalg.det(a, signature=signature)\n"
     ]
    },
    {
     "name": "stdout",
     "output_type": "stream",
     "text": [
      "Accuracy: 0.8567967452420497\n",
      "F1-score: 0.40773884547517014\n",
      "Threshold: 0.5  # Duplications: 4 Degree: 4 Lambda: 1\n"
     ]
    },
    {
     "name": "stderr",
     "output_type": "stream",
     "text": [
      "c:\\Users\\hany_\\anaconda3\\envs\\ml\\lib\\site-packages\\numpy\\linalg\\linalg.py:2180: RuntimeWarning: overflow encountered in det\n",
      "  r = _umath_linalg.det(a, signature=signature)\n"
     ]
    },
    {
     "name": "stdout",
     "output_type": "stream",
     "text": [
      "Accuracy: 0.8557605863440352\n",
      "F1-score: 0.3995178888606953\n",
      "Threshold: 0.5  # Duplications: 4 Degree: 5 Lambda: 0\n"
     ]
    },
    {
     "name": "stderr",
     "output_type": "stream",
     "text": [
      "c:\\Users\\hany_\\anaconda3\\envs\\ml\\lib\\site-packages\\numpy\\linalg\\linalg.py:2180: RuntimeWarning: overflow encountered in det\n",
      "  r = _umath_linalg.det(a, signature=signature)\n"
     ]
    },
    {
     "name": "stdout",
     "output_type": "stream",
     "text": [
      "Accuracy: 0.35866335502156127\n",
      "F1-score: 0.09778997234785963\n",
      "Threshold: 0.5  # Duplications: 4 Degree: 5 Lambda: 0.0001\n"
     ]
    },
    {
     "name": "stderr",
     "output_type": "stream",
     "text": [
      "c:\\Users\\hany_\\anaconda3\\envs\\ml\\lib\\site-packages\\numpy\\linalg\\linalg.py:2180: RuntimeWarning: overflow encountered in det\n",
      "  r = _umath_linalg.det(a, signature=signature)\n"
     ]
    },
    {
     "name": "stdout",
     "output_type": "stream",
     "text": [
      "Accuracy: 0.8524235451871943\n",
      "F1-score: 0.4149096840451882\n",
      "Threshold: 0.5  # Duplications: 4 Degree: 5 Lambda: 0.0005\n"
     ]
    },
    {
     "name": "stderr",
     "output_type": "stream",
     "text": [
      "c:\\Users\\hany_\\anaconda3\\envs\\ml\\lib\\site-packages\\numpy\\linalg\\linalg.py:2180: RuntimeWarning: overflow encountered in det\n",
      "  r = _umath_linalg.det(a, signature=signature)\n"
     ]
    },
    {
     "name": "stdout",
     "output_type": "stream",
     "text": [
      "Accuracy: 0.854556813506636\n",
      "F1-score: 0.4168855763944041\n",
      "Threshold: 0.5  # Duplications: 4 Degree: 5 Lambda: 0.001\n"
     ]
    },
    {
     "name": "stderr",
     "output_type": "stream",
     "text": [
      "c:\\Users\\hany_\\anaconda3\\envs\\ml\\lib\\site-packages\\numpy\\linalg\\linalg.py:2180: RuntimeWarning: overflow encountered in det\n",
      "  r = _umath_linalg.det(a, signature=signature)\n"
     ]
    },
    {
     "name": "stdout",
     "output_type": "stream",
     "text": [
      "Accuracy: 0.8548768037545522\n",
      "F1-score: 0.4169931439764937\n",
      "Threshold: 0.5  # Duplications: 4 Degree: 5 Lambda: 0.005\n"
     ]
    },
    {
     "name": "stderr",
     "output_type": "stream",
     "text": [
      "c:\\Users\\hany_\\anaconda3\\envs\\ml\\lib\\site-packages\\numpy\\linalg\\linalg.py:2180: RuntimeWarning: overflow encountered in det\n",
      "  r = _umath_linalg.det(a, signature=signature)\n"
     ]
    },
    {
     "name": "stdout",
     "output_type": "stream",
     "text": [
      "Accuracy: 0.856034863699392\n",
      "F1-score: 0.4165740397678152\n",
      "Threshold: 0.5  # Duplications: 4 Degree: 5 Lambda: 0.01\n"
     ]
    },
    {
     "name": "stderr",
     "output_type": "stream",
     "text": [
      "c:\\Users\\hany_\\anaconda3\\envs\\ml\\lib\\site-packages\\numpy\\linalg\\linalg.py:2180: RuntimeWarning: overflow encountered in det\n",
      "  r = _umath_linalg.det(a, signature=signature)\n"
     ]
    },
    {
     "name": "stdout",
     "output_type": "stream",
     "text": [
      "Accuracy: 0.8568424581346092\n",
      "F1-score: 0.41758105511127636\n",
      "Threshold: 0.5  # Duplications: 4 Degree: 5 Lambda: 0.05\n"
     ]
    },
    {
     "name": "stderr",
     "output_type": "stream",
     "text": [
      "c:\\Users\\hany_\\anaconda3\\envs\\ml\\lib\\site-packages\\numpy\\linalg\\linalg.py:2180: RuntimeWarning: overflow encountered in det\n",
      "  r = _umath_linalg.det(a, signature=signature)\n"
     ]
    },
    {
     "name": "stdout",
     "output_type": "stream",
     "text": [
      "Accuracy: 0.858000518079449\n",
      "F1-score: 0.4175989000687457\n",
      "Threshold: 0.5  # Duplications: 4 Degree: 5 Lambda: 0.1\n"
     ]
    },
    {
     "name": "stderr",
     "output_type": "stream",
     "text": [
      "c:\\Users\\hany_\\anaconda3\\envs\\ml\\lib\\site-packages\\numpy\\linalg\\linalg.py:2180: RuntimeWarning: overflow encountered in det\n",
      "  r = _umath_linalg.det(a, signature=signature)\n"
     ]
    },
    {
     "name": "stdout",
     "output_type": "stream",
     "text": [
      "Accuracy: 0.8578633794017706\n",
      "F1-score: 0.41524573721163494\n",
      "Threshold: 0.5  # Duplications: 4 Degree: 5 Lambda: 0.5\n"
     ]
    },
    {
     "name": "stderr",
     "output_type": "stream",
     "text": [
      "c:\\Users\\hany_\\anaconda3\\envs\\ml\\lib\\site-packages\\numpy\\linalg\\linalg.py:2180: RuntimeWarning: overflow encountered in det\n",
      "  r = _umath_linalg.det(a, signature=signature)\n"
     ]
    },
    {
     "name": "stdout",
     "output_type": "stream",
     "text": [
      "Accuracy: 0.8582747954348058\n",
      "F1-score: 0.41002220107833814\n",
      "Threshold: 0.5  # Duplications: 4 Degree: 5 Lambda: 1\n"
     ]
    },
    {
     "name": "stderr",
     "output_type": "stream",
     "text": [
      "c:\\Users\\hany_\\anaconda3\\envs\\ml\\lib\\site-packages\\numpy\\linalg\\linalg.py:2180: RuntimeWarning: overflow encountered in det\n",
      "  r = _umath_linalg.det(a, signature=signature)\n"
     ]
    },
    {
     "name": "stdout",
     "output_type": "stream",
     "text": [
      "Accuracy: 0.8569795968122876\n",
      "F1-score: 0.4028502353989057\n",
      "Threshold: 0.5  # Duplications: 5 Degree: 1 Lambda: 0\n"
     ]
    },
    {
     "name": "stderr",
     "output_type": "stream",
     "text": [
      "c:\\Users\\hany_\\anaconda3\\envs\\ml\\lib\\site-packages\\numpy\\linalg\\linalg.py:2180: RuntimeWarning: overflow encountered in det\n",
      "  r = _umath_linalg.det(a, signature=signature)\n"
     ]
    },
    {
     "name": "stdout",
     "output_type": "stream",
     "text": [
      "Accuracy: 0.8333460313590443\n",
      "F1-score: 0.40394571911275823\n",
      "Threshold: 0.5  # Duplications: 5 Degree: 1 Lambda: 0.0001\n"
     ]
    },
    {
     "name": "stderr",
     "output_type": "stream",
     "text": [
      "c:\\Users\\hany_\\anaconda3\\envs\\ml\\lib\\site-packages\\numpy\\linalg\\linalg.py:2180: RuntimeWarning: overflow encountered in det\n",
      "  r = _umath_linalg.det(a, signature=signature)\n"
     ]
    },
    {
     "name": "stdout",
     "output_type": "stream",
     "text": [
      "Accuracy: 0.8332850808356317\n",
      "F1-score: 0.4039875796698807\n",
      "Threshold: 0.5  # Duplications: 5 Degree: 1 Lambda: 0.0005\n"
     ]
    },
    {
     "name": "stderr",
     "output_type": "stream",
     "text": [
      "c:\\Users\\hany_\\anaconda3\\envs\\ml\\lib\\site-packages\\numpy\\linalg\\linalg.py:2180: RuntimeWarning: overflow encountered in det\n",
      "  r = _umath_linalg.det(a, signature=signature)\n"
     ]
    },
    {
     "name": "stdout",
     "output_type": "stream",
     "text": [
      "Accuracy: 0.8331479421579533\n",
      "F1-score: 0.40404919995646016\n",
      "Threshold: 0.5  # Duplications: 5 Degree: 1 Lambda: 0.001\n"
     ]
    },
    {
     "name": "stderr",
     "output_type": "stream",
     "text": [
      "c:\\Users\\hany_\\anaconda3\\envs\\ml\\lib\\site-packages\\numpy\\linalg\\linalg.py:2180: RuntimeWarning: overflow encountered in det\n",
      "  r = _umath_linalg.det(a, signature=signature)\n"
     ]
    },
    {
     "name": "stdout",
     "output_type": "stream",
     "text": [
      "Accuracy: 0.833117466896247\n",
      "F1-score: 0.40419976063540425\n",
      "Threshold: 0.5  # Duplications: 5 Degree: 1 Lambda: 0.005\n"
     ]
    },
    {
     "name": "stderr",
     "output_type": "stream",
     "text": [
      "c:\\Users\\hany_\\anaconda3\\envs\\ml\\lib\\site-packages\\numpy\\linalg\\linalg.py:2180: RuntimeWarning: overflow encountered in det\n",
      "  r = _umath_linalg.det(a, signature=signature)\n"
     ]
    },
    {
     "name": "stdout",
     "output_type": "stream",
     "text": [
      "Accuracy: 0.8325079616621208\n",
      "F1-score: 0.4039045553145337\n",
      "Threshold: 0.5  # Duplications: 5 Degree: 1 Lambda: 0.01\n"
     ]
    },
    {
     "name": "stderr",
     "output_type": "stream",
     "text": [
      "c:\\Users\\hany_\\anaconda3\\envs\\ml\\lib\\site-packages\\numpy\\linalg\\linalg.py:2180: RuntimeWarning: overflow encountered in det\n",
      "  r = _umath_linalg.det(a, signature=signature)\n"
     ]
    },
    {
     "name": "stdout",
     "output_type": "stream",
     "text": [
      "Accuracy: 0.8314260898715468\n",
      "F1-score: 0.4033867227525212\n",
      "Threshold: 0.5  # Duplications: 5 Degree: 1 Lambda: 0.05\n"
     ]
    },
    {
     "name": "stderr",
     "output_type": "stream",
     "text": [
      "c:\\Users\\hany_\\anaconda3\\envs\\ml\\lib\\site-packages\\numpy\\linalg\\linalg.py:2180: RuntimeWarning: overflow encountered in det\n",
      "  r = _umath_linalg.det(a, signature=signature)\n"
     ]
    },
    {
     "name": "stdout",
     "output_type": "stream",
     "text": [
      "Accuracy: 0.8227863531778079\n",
      "F1-score: 0.39921479491683026\n",
      "Threshold: 0.5  # Duplications: 5 Degree: 1 Lambda: 0.1\n"
     ]
    },
    {
     "name": "stderr",
     "output_type": "stream",
     "text": [
      "c:\\Users\\hany_\\anaconda3\\envs\\ml\\lib\\site-packages\\numpy\\linalg\\linalg.py:2180: RuntimeWarning: overflow encountered in det\n",
      "  r = _umath_linalg.det(a, signature=signature)\n"
     ]
    },
    {
     "name": "stdout",
     "output_type": "stream",
     "text": [
      "Accuracy: 0.8125923781370472\n",
      "F1-score: 0.3938692030949682\n",
      "Threshold: 0.5  # Duplications: 5 Degree: 1 Lambda: 0.5\n"
     ]
    },
    {
     "name": "stderr",
     "output_type": "stream",
     "text": [
      "c:\\Users\\hany_\\anaconda3\\envs\\ml\\lib\\site-packages\\numpy\\linalg\\linalg.py:2180: RuntimeWarning: overflow encountered in det\n",
      "  r = _umath_linalg.det(a, signature=signature)\n"
     ]
    },
    {
     "name": "stdout",
     "output_type": "stream",
     "text": [
      "Accuracy: 0.7499047648071678\n",
      "F1-score: 0.35470807941812466\n",
      "Threshold: 0.5  # Duplications: 5 Degree: 1 Lambda: 1\n"
     ]
    },
    {
     "name": "stderr",
     "output_type": "stream",
     "text": [
      "c:\\Users\\hany_\\anaconda3\\envs\\ml\\lib\\site-packages\\numpy\\linalg\\linalg.py:2180: RuntimeWarning: overflow encountered in det\n",
      "  r = _umath_linalg.det(a, signature=signature)\n"
     ]
    },
    {
     "name": "stdout",
     "output_type": "stream",
     "text": [
      "Accuracy: 0.7085650723025584\n",
      "F1-score: 0.33205280435845497\n",
      "Threshold: 0.5  # Duplications: 5 Degree: 2 Lambda: 0\n"
     ]
    },
    {
     "name": "stderr",
     "output_type": "stream",
     "text": [
      "c:\\Users\\hany_\\anaconda3\\envs\\ml\\lib\\site-packages\\numpy\\linalg\\linalg.py:2180: RuntimeWarning: overflow encountered in det\n",
      "  r = _umath_linalg.det(a, signature=signature)\n"
     ]
    },
    {
     "name": "stdout",
     "output_type": "stream",
     "text": [
      "Accuracy: 0.8273728800646075\n",
      "F1-score: 0.4016899920781621\n",
      "Threshold: 0.5  # Duplications: 5 Degree: 2 Lambda: 0.0001\n"
     ]
    },
    {
     "name": "stderr",
     "output_type": "stream",
     "text": [
      "c:\\Users\\hany_\\anaconda3\\envs\\ml\\lib\\site-packages\\numpy\\linalg\\linalg.py:2180: RuntimeWarning: overflow encountered in det\n",
      "  r = _umath_linalg.det(a, signature=signature)\n"
     ]
    },
    {
     "name": "stdout",
     "output_type": "stream",
     "text": [
      "Accuracy: 0.8290033065658952\n",
      "F1-score: 0.40238577058259667\n",
      "Threshold: 0.5  # Duplications: 5 Degree: 2 Lambda: 0.0005\n"
     ]
    },
    {
     "name": "stderr",
     "output_type": "stream",
     "text": [
      "c:\\Users\\hany_\\anaconda3\\envs\\ml\\lib\\site-packages\\numpy\\linalg\\linalg.py:2180: RuntimeWarning: overflow encountered in det\n",
      "  r = _umath_linalg.det(a, signature=signature)\n"
     ]
    },
    {
     "name": "stdout",
     "output_type": "stream",
     "text": [
      "Accuracy: 0.8318832187971414\n",
      "F1-score: 0.4057736844939947\n",
      "Threshold: 0.5  # Duplications: 5 Degree: 2 Lambda: 0.001\n"
     ]
    },
    {
     "name": "stderr",
     "output_type": "stream",
     "text": [
      "c:\\Users\\hany_\\anaconda3\\envs\\ml\\lib\\site-packages\\numpy\\linalg\\linalg.py:2180: RuntimeWarning: overflow encountered in det\n",
      "  r = _umath_linalg.det(a, signature=signature)\n"
     ]
    },
    {
     "name": "stdout",
     "output_type": "stream",
     "text": [
      "Accuracy: 0.83429076447194\n",
      "F1-score: 0.4078410019057991\n",
      "Threshold: 0.5  # Duplications: 5 Degree: 2 Lambda: 0.005\n"
     ]
    },
    {
     "name": "stderr",
     "output_type": "stream",
     "text": [
      "c:\\Users\\hany_\\anaconda3\\envs\\ml\\lib\\site-packages\\numpy\\linalg\\linalg.py:2180: RuntimeWarning: overflow encountered in det\n",
      "  r = _umath_linalg.det(a, signature=signature)\n"
     ]
    },
    {
     "name": "stdout",
     "output_type": "stream",
     "text": [
      "Accuracy: 0.8344583784113246\n",
      "F1-score: 0.40672782874617736\n",
      "Threshold: 0.5  # Duplications: 5 Degree: 2 Lambda: 0.01\n"
     ]
    },
    {
     "name": "stderr",
     "output_type": "stream",
     "text": [
      "c:\\Users\\hany_\\anaconda3\\envs\\ml\\lib\\site-packages\\numpy\\linalg\\linalg.py:2180: RuntimeWarning: overflow encountered in det\n",
      "  r = _umath_linalg.det(a, signature=signature)\n"
     ]
    },
    {
     "name": "stdout",
     "output_type": "stream",
     "text": [
      "Accuracy: 0.8343212397336462\n",
      "F1-score: 0.405749576433295\n",
      "Threshold: 0.5  # Duplications: 5 Degree: 2 Lambda: 0.05\n"
     ]
    },
    {
     "name": "stderr",
     "output_type": "stream",
     "text": [
      "c:\\Users\\hany_\\anaconda3\\envs\\ml\\lib\\site-packages\\numpy\\linalg\\linalg.py:2180: RuntimeWarning: overflow encountered in det\n",
      "  r = _umath_linalg.det(a, signature=signature)\n"
     ]
    },
    {
     "name": "stdout",
     "output_type": "stream",
     "text": [
      "Accuracy: 0.8356469136178707\n",
      "F1-score: 0.40559903008927584\n",
      "Threshold: 0.5  # Duplications: 5 Degree: 2 Lambda: 0.1\n"
     ]
    },
    {
     "name": "stderr",
     "output_type": "stream",
     "text": [
      "c:\\Users\\hany_\\anaconda3\\envs\\ml\\lib\\site-packages\\numpy\\linalg\\linalg.py:2180: RuntimeWarning: overflow encountered in det\n",
      "  r = _umath_linalg.det(a, signature=signature)\n"
     ]
    },
    {
     "name": "stdout",
     "output_type": "stream",
     "text": [
      "Accuracy: 0.8365916467307662\n",
      "F1-score: 0.40646446756696925\n",
      "Threshold: 0.5  # Duplications: 5 Degree: 2 Lambda: 0.5\n"
     ]
    },
    {
     "name": "stderr",
     "output_type": "stream",
     "text": [
      "c:\\Users\\hany_\\anaconda3\\envs\\ml\\lib\\site-packages\\numpy\\linalg\\linalg.py:2180: RuntimeWarning: overflow encountered in det\n",
      "  r = _umath_linalg.det(a, signature=signature)\n"
     ]
    },
    {
     "name": "stdout",
     "output_type": "stream",
     "text": [
      "Accuracy: 0.8382830237554665\n",
      "F1-score: 0.39825367125928446\n",
      "Threshold: 0.5  # Duplications: 5 Degree: 2 Lambda: 1\n"
     ]
    },
    {
     "name": "stderr",
     "output_type": "stream",
     "text": [
      "c:\\Users\\hany_\\anaconda3\\envs\\ml\\lib\\site-packages\\numpy\\linalg\\linalg.py:2180: RuntimeWarning: overflow encountered in det\n",
      "  r = _umath_linalg.det(a, signature=signature)\n"
     ]
    },
    {
     "name": "stdout",
     "output_type": "stream",
     "text": [
      "Accuracy: 0.8406296189068524\n",
      "F1-score: 0.3942079351288734\n",
      "Threshold: 0.5  # Duplications: 5 Degree: 3 Lambda: 0\n"
     ]
    },
    {
     "name": "stderr",
     "output_type": "stream",
     "text": [
      "c:\\Users\\hany_\\anaconda3\\envs\\ml\\lib\\site-packages\\numpy\\linalg\\linalg.py:2180: RuntimeWarning: overflow encountered in det\n",
      "  r = _umath_linalg.det(a, signature=signature)\n"
     ]
    },
    {
     "name": "stdout",
     "output_type": "stream",
     "text": [
      "Accuracy: 0.696329254727475\n",
      "F1-score: 0.1857405515832482\n",
      "Threshold: 0.5  # Duplications: 5 Degree: 3 Lambda: 0.0001\n"
     ]
    },
    {
     "name": "stderr",
     "output_type": "stream",
     "text": [
      "c:\\Users\\hany_\\anaconda3\\envs\\ml\\lib\\site-packages\\numpy\\linalg\\linalg.py:2180: RuntimeWarning: overflow encountered in det\n",
      "  r = _umath_linalg.det(a, signature=signature)\n"
     ]
    },
    {
     "name": "stdout",
     "output_type": "stream",
     "text": [
      "Accuracy: 0.8331327045271001\n",
      "F1-score: 0.40616018654086006\n",
      "Threshold: 0.5  # Duplications: 5 Degree: 3 Lambda: 0.0005\n"
     ]
    },
    {
     "name": "stderr",
     "output_type": "stream",
     "text": [
      "c:\\Users\\hany_\\anaconda3\\envs\\ml\\lib\\site-packages\\numpy\\linalg\\linalg.py:2180: RuntimeWarning: overflow encountered in det\n",
      "  r = _umath_linalg.det(a, signature=signature)\n"
     ]
    },
    {
     "name": "stdout",
     "output_type": "stream",
     "text": [
      "Accuracy: 0.8351135965380103\n",
      "F1-score: 0.408138708089482\n",
      "Threshold: 0.5  # Duplications: 5 Degree: 3 Lambda: 0.001\n"
     ]
    },
    {
     "name": "stderr",
     "output_type": "stream",
     "text": [
      "c:\\Users\\hany_\\anaconda3\\envs\\ml\\lib\\site-packages\\numpy\\linalg\\linalg.py:2180: RuntimeWarning: overflow encountered in det\n",
      "  r = _umath_linalg.det(a, signature=signature)\n"
     ]
    },
    {
     "name": "stdout",
     "output_type": "stream",
     "text": [
      "Accuracy: 0.8350983589071571\n",
      "F1-score: 0.4076628352490422\n",
      "Threshold: 0.5  # Duplications: 5 Degree: 3 Lambda: 0.005\n"
     ]
    },
    {
     "name": "stderr",
     "output_type": "stream",
     "text": [
      "c:\\Users\\hany_\\anaconda3\\envs\\ml\\lib\\site-packages\\numpy\\linalg\\linalg.py:2180: RuntimeWarning: overflow encountered in det\n",
      "  r = _umath_linalg.det(a, signature=signature)\n"
     ]
    },
    {
     "name": "stdout",
     "output_type": "stream",
     "text": [
      "Accuracy: 0.8350831212763039\n",
      "F1-score: 0.40738104364014677\n",
      "Threshold: 0.5  # Duplications: 5 Degree: 3 Lambda: 0.01\n"
     ]
    },
    {
     "name": "stderr",
     "output_type": "stream",
     "text": [
      "c:\\Users\\hany_\\anaconda3\\envs\\ml\\lib\\site-packages\\numpy\\linalg\\linalg.py:2180: RuntimeWarning: overflow encountered in det\n",
      "  r = _umath_linalg.det(a, signature=signature)\n"
     ]
    },
    {
     "name": "stdout",
     "output_type": "stream",
     "text": [
      "Accuracy: 0.834991695491185\n",
      "F1-score: 0.40724724943894036\n",
      "Threshold: 0.5  # Duplications: 5 Degree: 3 Lambda: 0.05\n"
     ]
    },
    {
     "name": "stderr",
     "output_type": "stream",
     "text": [
      "c:\\Users\\hany_\\anaconda3\\envs\\ml\\lib\\site-packages\\numpy\\linalg\\linalg.py:2180: RuntimeWarning: overflow encountered in det\n",
      "  r = _umath_linalg.det(a, signature=signature)\n"
     ]
    },
    {
     "name": "stdout",
     "output_type": "stream",
     "text": [
      "Accuracy: 0.8357840522955491\n",
      "F1-score: 0.40599680317477815\n",
      "Threshold: 0.5  # Duplications: 5 Degree: 3 Lambda: 0.1\n"
     ]
    },
    {
     "name": "stderr",
     "output_type": "stream",
     "text": [
      "c:\\Users\\hany_\\anaconda3\\envs\\ml\\lib\\site-packages\\numpy\\linalg\\linalg.py:2180: RuntimeWarning: overflow encountered in det\n",
      "  r = _umath_linalg.det(a, signature=signature)\n"
     ]
    },
    {
     "name": "stdout",
     "output_type": "stream",
     "text": [
      "Accuracy: 0.8361192801743185\n",
      "F1-score: 0.404320132927167\n",
      "Threshold: 0.5  # Duplications: 5 Degree: 3 Lambda: 0.5\n"
     ]
    },
    {
     "name": "stderr",
     "output_type": "stream",
     "text": [
      "c:\\Users\\hany_\\anaconda3\\envs\\ml\\lib\\site-packages\\numpy\\linalg\\linalg.py:2180: RuntimeWarning: overflow encountered in det\n",
      "  r = _umath_linalg.det(a, signature=signature)\n"
     ]
    },
    {
     "name": "stdout",
     "output_type": "stream",
     "text": [
      "Accuracy: 0.8376582808904871\n",
      "F1-score: 0.3998422712933754\n",
      "Threshold: 0.5  # Duplications: 5 Degree: 3 Lambda: 1\n"
     ]
    },
    {
     "name": "stderr",
     "output_type": "stream",
     "text": [
      "c:\\Users\\hany_\\anaconda3\\envs\\ml\\lib\\site-packages\\numpy\\linalg\\linalg.py:2180: RuntimeWarning: overflow encountered in det\n",
      "  r = _umath_linalg.det(a, signature=signature)\n"
     ]
    },
    {
     "name": "stdout",
     "output_type": "stream",
     "text": [
      "Accuracy: 0.8377649443064592\n",
      "F1-score: 0.3957091775923719\n",
      "Threshold: 0.5  # Duplications: 5 Degree: 4 Lambda: 0\n"
     ]
    },
    {
     "name": "stderr",
     "output_type": "stream",
     "text": [
      "c:\\Users\\hany_\\anaconda3\\envs\\ml\\lib\\site-packages\\numpy\\linalg\\linalg.py:2180: RuntimeWarning: overflow encountered in det\n",
      "  r = _umath_linalg.det(a, signature=signature)\n"
     ]
    },
    {
     "name": "stdout",
     "output_type": "stream",
     "text": [
      "Accuracy: 0.08630594115226964\n",
      "F1-score: 0.15887444065704384\n",
      "Threshold: 0.5  # Duplications: 5 Degree: 4 Lambda: 0.0001\n"
     ]
    },
    {
     "name": "stderr",
     "output_type": "stream",
     "text": [
      "c:\\Users\\hany_\\anaconda3\\envs\\ml\\lib\\site-packages\\numpy\\linalg\\linalg.py:2180: RuntimeWarning: overflow encountered in det\n",
      "  r = _umath_linalg.det(a, signature=signature)\n"
     ]
    },
    {
     "name": "stdout",
     "output_type": "stream",
     "text": [
      "Accuracy: 0.8273728800646075\n",
      "F1-score: 0.40232128725929833\n",
      "Threshold: 0.5  # Duplications: 5 Degree: 4 Lambda: 0.0005\n"
     ]
    },
    {
     "name": "stderr",
     "output_type": "stream",
     "text": [
      "c:\\Users\\hany_\\anaconda3\\envs\\ml\\lib\\site-packages\\numpy\\linalg\\linalg.py:2180: RuntimeWarning: overflow encountered in det\n",
      "  r = _umath_linalg.det(a, signature=signature)\n"
     ]
    },
    {
     "name": "stdout",
     "output_type": "stream",
     "text": [
      "Accuracy: 0.8275100187422859\n",
      "F1-score: 0.4018810102504491\n",
      "Threshold: 0.5  # Duplications: 5 Degree: 4 Lambda: 0.001\n"
     ]
    },
    {
     "name": "stderr",
     "output_type": "stream",
     "text": [
      "c:\\Users\\hany_\\anaconda3\\envs\\ml\\lib\\site-packages\\numpy\\linalg\\linalg.py:2180: RuntimeWarning: overflow encountered in det\n",
      "  r = _umath_linalg.det(a, signature=signature)\n"
     ]
    },
    {
     "name": "stdout",
     "output_type": "stream",
     "text": [
      "Accuracy: 0.8320508327365261\n",
      "F1-score: 0.40569395017793597\n",
      "Threshold: 0.5  # Duplications: 5 Degree: 4 Lambda: 0.005\n"
     ]
    },
    {
     "name": "stderr",
     "output_type": "stream",
     "text": [
      "c:\\Users\\hany_\\anaconda3\\envs\\ml\\lib\\site-packages\\numpy\\linalg\\linalg.py:2180: RuntimeWarning: overflow encountered in det\n",
      "  r = _umath_linalg.det(a, signature=signature)\n"
     ]
    },
    {
     "name": "stdout",
     "output_type": "stream",
     "text": [
      "Accuracy: 0.8346869428741219\n",
      "F1-score: 0.4082901554404145\n",
      "Threshold: 0.5  # Duplications: 5 Degree: 4 Lambda: 0.01\n"
     ]
    },
    {
     "name": "stderr",
     "output_type": "stream",
     "text": [
      "c:\\Users\\hany_\\anaconda3\\envs\\ml\\lib\\site-packages\\numpy\\linalg\\linalg.py:2180: RuntimeWarning: overflow encountered in det\n",
      "  r = _umath_linalg.det(a, signature=signature)\n"
     ]
    },
    {
     "name": "stdout",
     "output_type": "stream",
     "text": [
      "Accuracy: 0.834793606290094\n",
      "F1-score: 0.4076704545454545\n",
      "Threshold: 0.5  # Duplications: 5 Degree: 4 Lambda: 0.05\n"
     ]
    },
    {
     "name": "stderr",
     "output_type": "stream",
     "text": [
      "c:\\Users\\hany_\\anaconda3\\envs\\ml\\lib\\site-packages\\numpy\\linalg\\linalg.py:2180: RuntimeWarning: overflow encountered in det\n",
      "  r = _umath_linalg.det(a, signature=signature)\n"
     ]
    },
    {
     "name": "stdout",
     "output_type": "stream",
     "text": [
      "Accuracy: 0.8357383394029896\n",
      "F1-score: 0.4048802031577785\n",
      "Threshold: 0.5  # Duplications: 5 Degree: 4 Lambda: 0.1\n"
     ]
    },
    {
     "name": "stderr",
     "output_type": "stream",
     "text": [
      "c:\\Users\\hany_\\anaconda3\\envs\\ml\\lib\\site-packages\\numpy\\linalg\\linalg.py:2180: RuntimeWarning: overflow encountered in det\n",
      "  r = _umath_linalg.det(a, signature=signature)\n"
     ]
    },
    {
     "name": "stdout",
     "output_type": "stream",
     "text": [
      "Accuracy: 0.8359821414966401\n",
      "F1-score: 0.4039206999667737\n",
      "Threshold: 0.5  # Duplications: 5 Degree: 4 Lambda: 0.5\n"
     ]
    },
    {
     "name": "stderr",
     "output_type": "stream",
     "text": [
      "c:\\Users\\hany_\\anaconda3\\envs\\ml\\lib\\site-packages\\numpy\\linalg\\linalg.py:2180: RuntimeWarning: overflow encountered in det\n",
      "  r = _umath_linalg.det(a, signature=signature)\n"
     ]
    },
    {
     "name": "stdout",
     "output_type": "stream",
     "text": [
      "Accuracy: 0.8358145275572554\n",
      "F1-score: 0.3996880049027801\n",
      "Threshold: 0.5  # Duplications: 5 Degree: 4 Lambda: 1\n"
     ]
    },
    {
     "name": "stderr",
     "output_type": "stream",
     "text": [
      "c:\\Users\\hany_\\anaconda3\\envs\\ml\\lib\\site-packages\\numpy\\linalg\\linalg.py:2180: RuntimeWarning: overflow encountered in det\n",
      "  r = _umath_linalg.det(a, signature=signature)\n"
     ]
    },
    {
     "name": "stdout",
     "output_type": "stream",
     "text": [
      "Accuracy: 0.8357992899264023\n",
      "F1-score: 0.39548973409626387\n",
      "Threshold: 0.5  # Duplications: 5 Degree: 5 Lambda: 0\n"
     ]
    },
    {
     "name": "stderr",
     "output_type": "stream",
     "text": [
      "c:\\Users\\hany_\\anaconda3\\envs\\ml\\lib\\site-packages\\numpy\\linalg\\linalg.py:2180: RuntimeWarning: overflow encountered in det\n",
      "  r = _umath_linalg.det(a, signature=signature)\n"
     ]
    },
    {
     "name": "stdout",
     "output_type": "stream",
     "text": [
      "Accuracy: 0.4701418623432429\n",
      "F1-score: 0.10251645373596592\n",
      "Threshold: 0.5  # Duplications: 5 Degree: 5 Lambda: 0.0001\n"
     ]
    },
    {
     "name": "stderr",
     "output_type": "stream",
     "text": [
      "c:\\Users\\hany_\\anaconda3\\envs\\ml\\lib\\site-packages\\numpy\\linalg\\linalg.py:2180: RuntimeWarning: overflow encountered in det\n",
      "  r = _umath_linalg.det(a, signature=signature)\n"
     ]
    },
    {
     "name": "stdout",
     "output_type": "stream",
     "text": [
      "Accuracy: 0.8314565651332531\n",
      "F1-score: 0.405418480890179\n",
      "Threshold: 0.5  # Duplications: 5 Degree: 5 Lambda: 0.0005\n"
     ]
    },
    {
     "name": "stderr",
     "output_type": "stream",
     "text": [
      "c:\\Users\\hany_\\anaconda3\\envs\\ml\\lib\\site-packages\\numpy\\linalg\\linalg.py:2180: RuntimeWarning: overflow encountered in det\n",
      "  r = _umath_linalg.det(a, signature=signature)\n"
     ]
    },
    {
     "name": "stdout",
     "output_type": "stream",
     "text": [
      "Accuracy: 0.8338183979154921\n",
      "F1-score: 0.40708926823964336\n",
      "Threshold: 0.5  # Duplications: 5 Degree: 5 Lambda: 0.001\n"
     ]
    },
    {
     "name": "stderr",
     "output_type": "stream",
     "text": [
      "c:\\Users\\hany_\\anaconda3\\envs\\ml\\lib\\site-packages\\numpy\\linalg\\linalg.py:2180: RuntimeWarning: overflow encountered in det\n",
      "  r = _umath_linalg.det(a, signature=signature)\n"
     ]
    },
    {
     "name": "stdout",
     "output_type": "stream",
     "text": [
      "Accuracy: 0.8339707742240237\n",
      "F1-score: 0.40692357935989554\n",
      "Threshold: 0.5  # Duplications: 5 Degree: 5 Lambda: 0.005\n"
     ]
    },
    {
     "name": "stderr",
     "output_type": "stream",
     "text": [
      "c:\\Users\\hany_\\anaconda3\\envs\\ml\\lib\\site-packages\\numpy\\linalg\\linalg.py:2180: RuntimeWarning: overflow encountered in det\n",
      "  r = _umath_linalg.det(a, signature=signature)\n"
     ]
    },
    {
     "name": "stdout",
     "output_type": "stream",
     "text": [
      "Accuracy: 0.835479299678486\n",
      "F1-score: 0.40899885051179596\n",
      "Threshold: 0.5  # Duplications: 5 Degree: 5 Lambda: 0.01\n"
     ]
    },
    {
     "name": "stderr",
     "output_type": "stream",
     "text": [
      "c:\\Users\\hany_\\anaconda3\\envs\\ml\\lib\\site-packages\\numpy\\linalg\\linalg.py:2180: RuntimeWarning: overflow encountered in det\n",
      "  r = _umath_linalg.det(a, signature=signature)\n"
     ]
    },
    {
     "name": "stdout",
     "output_type": "stream",
     "text": [
      "Accuracy: 0.8356316759870175\n",
      "F1-score: 0.4085101716291057\n",
      "Threshold: 0.5  # Duplications: 5 Degree: 5 Lambda: 0.05\n"
     ]
    },
    {
     "name": "stderr",
     "output_type": "stream",
     "text": [
      "c:\\Users\\hany_\\anaconda3\\envs\\ml\\lib\\site-packages\\numpy\\linalg\\linalg.py:2180: RuntimeWarning: overflow encountered in det\n",
      "  r = _umath_linalg.det(a, signature=signature)\n"
     ]
    },
    {
     "name": "stdout",
     "output_type": "stream",
     "text": [
      "Accuracy: 0.8364240327913816\n",
      "F1-score: 0.4066110220551656\n",
      "Threshold: 0.5  # Duplications: 5 Degree: 5 Lambda: 0.1\n"
     ]
    },
    {
     "name": "stderr",
     "output_type": "stream",
     "text": [
      "c:\\Users\\hany_\\anaconda3\\envs\\ml\\lib\\site-packages\\numpy\\linalg\\linalg.py:2180: RuntimeWarning: overflow encountered in det\n",
      "  r = _umath_linalg.det(a, signature=signature)\n"
     ]
    },
    {
     "name": "stdout",
     "output_type": "stream",
     "text": [
      "Accuracy: 0.8366830725158853\n",
      "F1-score: 0.40475397089858933\n",
      "Threshold: 0.5  # Duplications: 5 Degree: 5 Lambda: 0.5\n"
     ]
    },
    {
     "name": "stderr",
     "output_type": "stream",
     "text": [
      "c:\\Users\\hany_\\anaconda3\\envs\\ml\\lib\\site-packages\\numpy\\linalg\\linalg.py:2180: RuntimeWarning: overflow encountered in det\n",
      "  r = _umath_linalg.det(a, signature=signature)\n"
     ]
    },
    {
     "name": "stdout",
     "output_type": "stream",
     "text": [
      "Accuracy: 0.8363935575296753\n",
      "F1-score: 0.3998658543401711\n",
      "Threshold: 0.5  # Duplications: 5 Degree: 5 Lambda: 1\n"
     ]
    },
    {
     "name": "stderr",
     "output_type": "stream",
     "text": [
      "c:\\Users\\hany_\\anaconda3\\envs\\ml\\lib\\site-packages\\numpy\\linalg\\linalg.py:2180: RuntimeWarning: overflow encountered in det\n",
      "  r = _umath_linalg.det(a, signature=signature)\n"
     ]
    },
    {
     "name": "stdout",
     "output_type": "stream",
     "text": [
      "Accuracy: 0.8360583296509059\n",
      "F1-score: 0.39600291921630265\n",
      "Threshold: 0.8  # Duplications: 2 Degree: 1 Lambda: 0\n"
     ]
    },
    {
     "name": "stderr",
     "output_type": "stream",
     "text": [
      "c:\\Users\\hany_\\anaconda3\\envs\\ml\\lib\\site-packages\\numpy\\linalg\\linalg.py:2180: RuntimeWarning: overflow encountered in det\n",
      "  r = _umath_linalg.det(a, signature=signature)\n"
     ]
    },
    {
     "name": "stdout",
     "output_type": "stream",
     "text": [
      "Accuracy: 0.9090161061758117\n",
      "F1-score: 0.013872832369942197\n",
      "Threshold: 0.8  # Duplications: 2 Degree: 1 Lambda: 0.0001\n"
     ]
    },
    {
     "name": "stderr",
     "output_type": "stream",
     "text": [
      "c:\\Users\\hany_\\anaconda3\\envs\\ml\\lib\\site-packages\\numpy\\linalg\\linalg.py:2180: RuntimeWarning: overflow encountered in det\n",
      "  r = _umath_linalg.det(a, signature=signature)\n"
     ]
    },
    {
     "name": "stdout",
     "output_type": "stream",
     "text": [
      "Accuracy: 0.8957898425952733\n",
      "F1-score: 0.40087604029785373\n",
      "Threshold: 0.8  # Duplications: 2 Degree: 1 Lambda: 0.0005\n"
     ]
    },
    {
     "name": "stderr",
     "output_type": "stream",
     "text": [
      "c:\\Users\\hany_\\anaconda3\\envs\\ml\\lib\\site-packages\\numpy\\linalg\\linalg.py:2180: RuntimeWarning: overflow encountered in det\n",
      "  r = _umath_linalg.det(a, signature=signature)\n"
     ]
    },
    {
     "name": "stdout",
     "output_type": "stream",
     "text": [
      "Accuracy: 0.8958507931186859\n",
      "F1-score: 0.4013313479898397\n",
      "Threshold: 0.8  # Duplications: 2 Degree: 1 Lambda: 0.001\n"
     ]
    },
    {
     "name": "stderr",
     "output_type": "stream",
     "text": [
      "c:\\Users\\hany_\\anaconda3\\envs\\ml\\lib\\site-packages\\numpy\\linalg\\linalg.py:2180: RuntimeWarning: overflow encountered in det\n",
      "  r = _umath_linalg.det(a, signature=signature)\n"
     ]
    },
    {
     "name": "stdout",
     "output_type": "stream",
     "text": [
      "Accuracy: 0.8958203178569796\n",
      "F1-score: 0.401470716974525\n",
      "Threshold: 0.8  # Duplications: 2 Degree: 1 Lambda: 0.005\n"
     ]
    },
    {
     "name": "stderr",
     "output_type": "stream",
     "text": [
      "c:\\Users\\hany_\\anaconda3\\envs\\ml\\lib\\site-packages\\numpy\\linalg\\linalg.py:2180: RuntimeWarning: overflow encountered in det\n",
      "  r = _umath_linalg.det(a, signature=signature)\n"
     ]
    },
    {
     "name": "stdout",
     "output_type": "stream",
     "text": [
      "Accuracy: 0.8958660307495391\n",
      "F1-score: 0.4017857142857143\n",
      "Threshold: 0.8  # Duplications: 2 Degree: 1 Lambda: 0.01\n"
     ]
    },
    {
     "name": "stderr",
     "output_type": "stream",
     "text": [
      "c:\\Users\\hany_\\anaconda3\\envs\\ml\\lib\\site-packages\\numpy\\linalg\\linalg.py:2180: RuntimeWarning: overflow encountered in det\n",
      "  r = _umath_linalg.det(a, signature=signature)\n"
     ]
    },
    {
     "name": "stdout",
     "output_type": "stream",
     "text": [
      "Accuracy: 0.8955460405016228\n",
      "F1-score: 0.4015713662156264\n",
      "Threshold: 0.8  # Duplications: 2 Degree: 1 Lambda: 0.05\n"
     ]
    },
    {
     "name": "stderr",
     "output_type": "stream",
     "text": [
      "c:\\Users\\hany_\\anaconda3\\envs\\ml\\lib\\site-packages\\numpy\\linalg\\linalg.py:2180: RuntimeWarning: overflow encountered in det\n",
      "  r = _umath_linalg.det(a, signature=signature)\n"
     ]
    },
    {
     "name": "stdout",
     "output_type": "stream",
     "text": [
      "Accuracy: 0.8924070885458729\n",
      "F1-score: 0.405489601751284\n",
      "Threshold: 0.8  # Duplications: 2 Degree: 1 Lambda: 0.1\n"
     ]
    },
    {
     "name": "stderr",
     "output_type": "stream",
     "text": [
      "c:\\Users\\hany_\\anaconda3\\envs\\ml\\lib\\site-packages\\numpy\\linalg\\linalg.py:2180: RuntimeWarning: overflow encountered in det\n",
      "  r = _umath_linalg.det(a, signature=signature)\n"
     ]
    },
    {
     "name": "stdout",
     "output_type": "stream",
     "text": [
      "Accuracy: 0.8877138982431012\n",
      "F1-score: 0.4080649048116315\n",
      "Threshold: 0.8  # Duplications: 2 Degree: 1 Lambda: 0.5\n"
     ]
    },
    {
     "name": "stderr",
     "output_type": "stream",
     "text": [
      "c:\\Users\\hany_\\anaconda3\\envs\\ml\\lib\\site-packages\\numpy\\linalg\\linalg.py:2180: RuntimeWarning: overflow encountered in det\n",
      "  r = _umath_linalg.det(a, signature=signature)\n"
     ]
    },
    {
     "name": "stdout",
     "output_type": "stream",
     "text": [
      "Accuracy: 0.8470141862343243\n",
      "F1-score: 0.4045783418337089\n",
      "Threshold: 0.8  # Duplications: 2 Degree: 1 Lambda: 1\n"
     ]
    },
    {
     "name": "stderr",
     "output_type": "stream",
     "text": [
      "c:\\Users\\hany_\\anaconda3\\envs\\ml\\lib\\site-packages\\numpy\\linalg\\linalg.py:2180: RuntimeWarning: overflow encountered in det\n",
      "  r = _umath_linalg.det(a, signature=signature)\n"
     ]
    },
    {
     "name": "stdout",
     "output_type": "stream",
     "text": [
      "Accuracy: 0.8055068797903302\n",
      "F1-score: 0.38188861985472156\n",
      "Threshold: 0.8  # Duplications: 2 Degree: 2 Lambda: 0\n"
     ]
    },
    {
     "name": "stderr",
     "output_type": "stream",
     "text": [
      "c:\\Users\\hany_\\anaconda3\\envs\\ml\\lib\\site-packages\\numpy\\linalg\\linalg.py:2180: RuntimeWarning: overflow encountered in det\n",
      "  r = _umath_linalg.det(a, signature=signature)\n"
     ]
    },
    {
     "name": "stdout",
     "output_type": "stream",
     "text": [
      "Accuracy: 0.8911728404467674\n",
      "F1-score: 0.39628064243448863\n",
      "Threshold: 0.8  # Duplications: 2 Degree: 2 Lambda: 0.0001\n"
     ]
    },
    {
     "name": "stderr",
     "output_type": "stream",
     "text": [
      "c:\\Users\\hany_\\anaconda3\\envs\\ml\\lib\\site-packages\\numpy\\linalg\\linalg.py:2180: RuntimeWarning: overflow encountered in det\n",
      "  r = _umath_linalg.det(a, signature=signature)\n"
     ]
    },
    {
     "name": "stdout",
     "output_type": "stream",
     "text": [
      "Accuracy: 0.8895576515763329\n",
      "F1-score: 0.4011896893588896\n",
      "Threshold: 0.8  # Duplications: 2 Degree: 2 Lambda: 0.0005\n"
     ]
    },
    {
     "name": "stderr",
     "output_type": "stream",
     "text": [
      "c:\\Users\\hany_\\anaconda3\\envs\\ml\\lib\\site-packages\\numpy\\linalg\\linalg.py:2180: RuntimeWarning: overflow encountered in det\n",
      "  r = _umath_linalg.det(a, signature=signature)\n"
     ]
    },
    {
     "name": "stdout",
     "output_type": "stream",
     "text": [
      "Accuracy: 0.8962012586283085\n",
      "F1-score: 0.4115411195577056\n",
      "Threshold: 0.8  # Duplications: 2 Degree: 2 Lambda: 0.001\n"
     ]
    },
    {
     "name": "stderr",
     "output_type": "stream",
     "text": [
      "c:\\Users\\hany_\\anaconda3\\envs\\ml\\lib\\site-packages\\numpy\\linalg\\linalg.py:2180: RuntimeWarning: overflow encountered in det\n",
      "  r = _umath_linalg.det(a, signature=signature)\n"
     ]
    },
    {
     "name": "stdout",
     "output_type": "stream",
     "text": [
      "Accuracy: 0.8963383973059869\n",
      "F1-score: 0.4081774684645498\n",
      "Threshold: 0.8  # Duplications: 2 Degree: 2 Lambda: 0.005\n"
     ]
    },
    {
     "name": "stderr",
     "output_type": "stream",
     "text": [
      "c:\\Users\\hany_\\anaconda3\\envs\\ml\\lib\\site-packages\\numpy\\linalg\\linalg.py:2180: RuntimeWarning: overflow encountered in det\n",
      "  r = _umath_linalg.det(a, signature=signature)\n"
     ]
    },
    {
     "name": "stdout",
     "output_type": "stream",
     "text": [
      "Accuracy: 0.8970088530635257\n",
      "F1-score: 0.4069491971571466\n",
      "Threshold: 0.8  # Duplications: 2 Degree: 2 Lambda: 0.01\n"
     ]
    },
    {
     "name": "stderr",
     "output_type": "stream",
     "text": [
      "c:\\Users\\hany_\\anaconda3\\envs\\ml\\lib\\site-packages\\numpy\\linalg\\linalg.py:2180: RuntimeWarning: overflow encountered in det\n",
      "  r = _umath_linalg.det(a, signature=signature)\n"
     ]
    },
    {
     "name": "stdout",
     "output_type": "stream",
     "text": [
      "Accuracy: 0.8972069422646167\n",
      "F1-score: 0.4055340148043708\n",
      "Threshold: 0.8  # Duplications: 2 Degree: 2 Lambda: 0.05\n"
     ]
    },
    {
     "name": "stderr",
     "output_type": "stream",
     "text": [
      "c:\\Users\\hany_\\anaconda3\\envs\\ml\\lib\\site-packages\\numpy\\linalg\\linalg.py:2180: RuntimeWarning: overflow encountered in det\n",
      "  r = _umath_linalg.det(a, signature=signature)\n"
     ]
    },
    {
     "name": "stdout",
     "output_type": "stream",
     "text": [
      "Accuracy: 0.8974812196199735\n",
      "F1-score: 0.39767233661593554\n",
      "Threshold: 0.8  # Duplications: 2 Degree: 2 Lambda: 0.1\n"
     ]
    },
    {
     "name": "stderr",
     "output_type": "stream",
     "text": [
      "c:\\Users\\hany_\\anaconda3\\envs\\ml\\lib\\site-packages\\numpy\\linalg\\linalg.py:2180: RuntimeWarning: overflow encountered in det\n",
      "  r = _umath_linalg.det(a, signature=signature)\n"
     ]
    },
    {
     "name": "stdout",
     "output_type": "stream",
     "text": [
      "Accuracy: 0.8985326161488412\n",
      "F1-score: 0.3956801887648607\n",
      "Threshold: 0.8  # Duplications: 2 Degree: 2 Lambda: 0.5\n"
     ]
    },
    {
     "name": "stderr",
     "output_type": "stream",
     "text": [
      "c:\\Users\\hany_\\anaconda3\\envs\\ml\\lib\\site-packages\\numpy\\linalg\\linalg.py:2180: RuntimeWarning: overflow encountered in det\n",
      "  r = _umath_linalg.det(a, signature=signature)\n"
     ]
    },
    {
     "name": "stdout",
     "output_type": "stream",
     "text": [
      "Accuracy: 0.9004677952671919\n",
      "F1-score: 0.3749282296650718\n",
      "Threshold: 0.8  # Duplications: 2 Degree: 2 Lambda: 1\n"
     ]
    },
    {
     "name": "stderr",
     "output_type": "stream",
     "text": [
      "c:\\Users\\hany_\\anaconda3\\envs\\ml\\lib\\site-packages\\numpy\\linalg\\linalg.py:2180: RuntimeWarning: overflow encountered in det\n",
      "  r = _umath_linalg.det(a, signature=signature)\n"
     ]
    },
    {
     "name": "stdout",
     "output_type": "stream",
     "text": [
      "Accuracy: 0.9006201715757234\n",
      "F1-score: 0.3554062067602292\n",
      "Threshold: 0.8  # Duplications: 2 Degree: 3 Lambda: 0\n"
     ]
    },
    {
     "name": "stderr",
     "output_type": "stream",
     "text": [
      "c:\\Users\\hany_\\anaconda3\\envs\\ml\\lib\\site-packages\\numpy\\linalg\\linalg.py:2180: RuntimeWarning: overflow encountered in det\n",
      "  r = _umath_linalg.det(a, signature=signature)\n"
     ]
    },
    {
     "name": "stdout",
     "output_type": "stream",
     "text": [
      "Accuracy: 0.23366906913313118\n",
      "F1-score: 0.1733184298770465\n",
      "Threshold: 0.8  # Duplications: 2 Degree: 3 Lambda: 0.0001\n"
     ]
    },
    {
     "name": "stderr",
     "output_type": "stream",
     "text": [
      "c:\\Users\\hany_\\anaconda3\\envs\\ml\\lib\\site-packages\\numpy\\linalg\\linalg.py:2180: RuntimeWarning: overflow encountered in det\n",
      "  r = _umath_linalg.det(a, signature=signature)\n"
     ]
    },
    {
     "name": "stdout",
     "output_type": "stream",
     "text": [
      "Accuracy: 0.894387980556783\n",
      "F1-score: 0.40826432169384447\n",
      "Threshold: 0.8  # Duplications: 2 Degree: 3 Lambda: 0.0005\n"
     ]
    },
    {
     "name": "stderr",
     "output_type": "stream",
     "text": [
      "c:\\Users\\hany_\\anaconda3\\envs\\ml\\lib\\site-packages\\numpy\\linalg\\linalg.py:2180: RuntimeWarning: overflow encountered in det\n",
      "  r = _umath_linalg.det(a, signature=signature)\n"
     ]
    },
    {
     "name": "stdout",
     "output_type": "stream",
     "text": [
      "Accuracy: 0.8967650509698752\n",
      "F1-score: 0.4120454742688536\n",
      "Threshold: 0.8  # Duplications: 2 Degree: 3 Lambda: 0.001\n"
     ]
    },
    {
     "name": "stderr",
     "output_type": "stream",
     "text": [
      "c:\\Users\\hany_\\anaconda3\\envs\\ml\\lib\\site-packages\\numpy\\linalg\\linalg.py:2180: RuntimeWarning: overflow encountered in det\n",
      "  r = _umath_linalg.det(a, signature=signature)\n"
     ]
    },
    {
     "name": "stdout",
     "output_type": "stream",
     "text": [
      "Accuracy: 0.8968260014932878\n",
      "F1-score: 0.4110637557623728\n",
      "Threshold: 0.8  # Duplications: 2 Degree: 3 Lambda: 0.005\n"
     ]
    },
    {
     "name": "stderr",
     "output_type": "stream",
     "text": [
      "c:\\Users\\hany_\\anaconda3\\envs\\ml\\lib\\site-packages\\numpy\\linalg\\linalg.py:2180: RuntimeWarning: overflow encountered in det\n",
      "  r = _umath_linalg.det(a, signature=signature)\n"
     ]
    },
    {
     "name": "stdout",
     "output_type": "stream",
     "text": [
      "Accuracy: 0.8971307541103509\n",
      "F1-score: 0.40879236360451887\n",
      "Threshold: 0.8  # Duplications: 2 Degree: 3 Lambda: 0.01\n"
     ]
    },
    {
     "name": "stderr",
     "output_type": "stream",
     "text": [
      "c:\\Users\\hany_\\anaconda3\\envs\\ml\\lib\\site-packages\\numpy\\linalg\\linalg.py:2180: RuntimeWarning: overflow encountered in det\n",
      "  r = _umath_linalg.det(a, signature=signature)\n"
     ]
    },
    {
     "name": "stdout",
     "output_type": "stream",
     "text": [
      "Accuracy: 0.8972678927880293\n",
      "F1-score: 0.40745297943399544\n",
      "Threshold: 0.8  # Duplications: 2 Degree: 3 Lambda: 0.05\n"
     ]
    },
    {
     "name": "stderr",
     "output_type": "stream",
     "text": [
      "c:\\Users\\hany_\\anaconda3\\envs\\ml\\lib\\site-packages\\numpy\\linalg\\linalg.py:2180: RuntimeWarning: overflow encountered in det\n",
      "  r = _umath_linalg.det(a, signature=signature)\n"
     ]
    },
    {
     "name": "stdout",
     "output_type": "stream",
     "text": [
      "Accuracy: 0.8973897938348545\n",
      "F1-score: 0.40227232380614236\n",
      "Threshold: 0.8  # Duplications: 2 Degree: 3 Lambda: 0.1\n"
     ]
    },
    {
     "name": "stderr",
     "output_type": "stream",
     "text": [
      "c:\\Users\\hany_\\anaconda3\\envs\\ml\\lib\\site-packages\\numpy\\linalg\\linalg.py:2180: RuntimeWarning: overflow encountered in det\n",
      "  r = _umath_linalg.det(a, signature=signature)\n"
     ]
    },
    {
     "name": "stdout",
     "output_type": "stream",
     "text": [
      "Accuracy: 0.8973593185731482\n",
      "F1-score: 0.3970640887934121\n",
      "Threshold: 0.8  # Duplications: 2 Degree: 3 Lambda: 0.5\n"
     ]
    },
    {
     "name": "stderr",
     "output_type": "stream",
     "text": [
      "c:\\Users\\hany_\\anaconda3\\envs\\ml\\lib\\site-packages\\numpy\\linalg\\linalg.py:2180: RuntimeWarning: overflow encountered in det\n",
      "  r = _umath_linalg.det(a, signature=signature)\n"
     ]
    },
    {
     "name": "stdout",
     "output_type": "stream",
     "text": [
      "Accuracy: 0.8985630914105475\n",
      "F1-score: 0.38480731910174665\n",
      "Threshold: 0.8  # Duplications: 2 Degree: 3 Lambda: 1\n"
     ]
    },
    {
     "name": "stderr",
     "output_type": "stream",
     "text": [
      "c:\\Users\\hany_\\anaconda3\\envs\\ml\\lib\\site-packages\\numpy\\linalg\\linalg.py:2180: RuntimeWarning: overflow encountered in det\n",
      "  r = _umath_linalg.det(a, signature=signature)\n"
     ]
    },
    {
     "name": "stdout",
     "output_type": "stream",
     "text": [
      "Accuracy: 0.8988830816584638\n",
      "F1-score: 0.37467018469656993\n",
      "Threshold: 0.8  # Duplications: 2 Degree: 4 Lambda: 0\n"
     ]
    },
    {
     "name": "stderr",
     "output_type": "stream",
     "text": [
      "c:\\Users\\hany_\\anaconda3\\envs\\ml\\lib\\site-packages\\numpy\\linalg\\linalg.py:2180: RuntimeWarning: overflow encountered in det\n",
      "  r = _umath_linalg.det(a, signature=signature)\n"
     ]
    },
    {
     "name": "stdout",
     "output_type": "stream",
     "text": [
      "Accuracy: 0.8037697898730706\n",
      "F1-score: 0.1010749685885802\n",
      "Threshold: 0.8  # Duplications: 2 Degree: 4 Lambda: 0.0001\n"
     ]
    },
    {
     "name": "stderr",
     "output_type": "stream",
     "text": [
      "c:\\Users\\hany_\\anaconda3\\envs\\ml\\lib\\site-packages\\numpy\\linalg\\linalg.py:2180: RuntimeWarning: overflow encountered in det\n",
      "  r = _umath_linalg.det(a, signature=signature)\n"
     ]
    },
    {
     "name": "stdout",
     "output_type": "stream",
     "text": [
      "Accuracy: 0.8892986118518292\n",
      "F1-score: 0.4020083957527368\n",
      "Threshold: 0.8  # Duplications: 2 Degree: 4 Lambda: 0.0005\n"
     ]
    },
    {
     "name": "stderr",
     "output_type": "stream",
     "text": [
      "c:\\Users\\hany_\\anaconda3\\envs\\ml\\lib\\site-packages\\numpy\\linalg\\linalg.py:2180: RuntimeWarning: overflow encountered in det\n",
      "  r = _umath_linalg.det(a, signature=signature)\n"
     ]
    },
    {
     "name": "stdout",
     "output_type": "stream",
     "text": [
      "Accuracy: 0.889664314992305\n",
      "F1-score: 0.40191624679937227\n",
      "Threshold: 0.8  # Duplications: 2 Degree: 4 Lambda: 0.001\n"
     ]
    },
    {
     "name": "stderr",
     "output_type": "stream",
     "text": [
      "c:\\Users\\hany_\\anaconda3\\envs\\ml\\lib\\site-packages\\numpy\\linalg\\linalg.py:2180: RuntimeWarning: overflow encountered in det\n",
      "  r = _umath_linalg.det(a, signature=signature)\n"
     ]
    },
    {
     "name": "stdout",
     "output_type": "stream",
     "text": [
      "Accuracy: 0.8962926844134274\n",
      "F1-score: 0.41022530329289425\n",
      "Threshold: 0.8  # Duplications: 2 Degree: 4 Lambda: 0.005\n"
     ]
    },
    {
     "name": "stderr",
     "output_type": "stream",
     "text": [
      "c:\\Users\\hany_\\anaconda3\\envs\\ml\\lib\\site-packages\\numpy\\linalg\\linalg.py:2180: RuntimeWarning: overflow encountered in det\n",
      "  r = _umath_linalg.det(a, signature=signature)\n"
     ]
    },
    {
     "name": "stdout",
     "output_type": "stream",
     "text": [
      "Accuracy: 0.8973136056805888\n",
      "F1-score: 0.4102564102564103\n",
      "Threshold: 0.8  # Duplications: 2 Degree: 4 Lambda: 0.01\n"
     ]
    },
    {
     "name": "stderr",
     "output_type": "stream",
     "text": [
      "c:\\Users\\hany_\\anaconda3\\envs\\ml\\lib\\site-packages\\numpy\\linalg\\linalg.py:2180: RuntimeWarning: overflow encountered in det\n",
      "  r = _umath_linalg.det(a, signature=signature)\n"
     ]
    },
    {
     "name": "stdout",
     "output_type": "stream",
     "text": [
      "Accuracy: 0.8975116948816798\n",
      "F1-score: 0.4088592019687115\n",
      "Threshold: 0.8  # Duplications: 2 Degree: 4 Lambda: 0.05\n"
     ]
    },
    {
     "name": "stderr",
     "output_type": "stream",
     "text": [
      "c:\\Users\\hany_\\anaconda3\\envs\\ml\\lib\\site-packages\\numpy\\linalg\\linalg.py:2180: RuntimeWarning: overflow encountered in det\n",
      "  r = _umath_linalg.det(a, signature=signature)\n"
     ]
    },
    {
     "name": "stdout",
     "output_type": "stream",
     "text": [
      "Accuracy: 0.8980602495923934\n",
      "F1-score: 0.4034242910647405\n",
      "Threshold: 0.8  # Duplications: 2 Degree: 4 Lambda: 0.1\n"
     ]
    },
    {
     "name": "stderr",
     "output_type": "stream",
     "text": [
      "c:\\Users\\hany_\\anaconda3\\envs\\ml\\lib\\site-packages\\numpy\\linalg\\linalg.py:2180: RuntimeWarning: overflow encountered in det\n",
      "  r = _umath_linalg.det(a, signature=signature)\n"
     ]
    },
    {
     "name": "stdout",
     "output_type": "stream",
     "text": [
      "Accuracy: 0.8979992990689808\n",
      "F1-score: 0.3984543493889288\n",
      "Threshold: 0.8  # Duplications: 2 Degree: 4 Lambda: 0.5\n"
     ]
    },
    {
     "name": "stderr",
     "output_type": "stream",
     "text": [
      "c:\\Users\\hany_\\anaconda3\\envs\\ml\\lib\\site-packages\\numpy\\linalg\\linalg.py:2180: RuntimeWarning: overflow encountered in det\n",
      "  r = _umath_linalg.det(a, signature=signature)\n"
     ]
    },
    {
     "name": "stdout",
     "output_type": "stream",
     "text": [
      "Accuracy: 0.8967041004464625\n",
      "F1-score: 0.38612695825409765\n",
      "Threshold: 0.8  # Duplications: 2 Degree: 4 Lambda: 1\n"
     ]
    },
    {
     "name": "stderr",
     "output_type": "stream",
     "text": [
      "c:\\Users\\hany_\\anaconda3\\envs\\ml\\lib\\site-packages\\numpy\\linalg\\linalg.py:2180: RuntimeWarning: overflow encountered in det\n",
      "  r = _umath_linalg.det(a, signature=signature)\n"
     ]
    },
    {
     "name": "stdout",
     "output_type": "stream",
     "text": [
      "Accuracy: 0.8960793575814833\n",
      "F1-score: 0.3773963848822348\n",
      "Threshold: 0.8  # Duplications: 2 Degree: 5 Lambda: 0\n"
     ]
    },
    {
     "name": "stderr",
     "output_type": "stream",
     "text": [
      "c:\\Users\\hany_\\anaconda3\\envs\\ml\\lib\\site-packages\\numpy\\linalg\\linalg.py:2180: RuntimeWarning: overflow encountered in det\n",
      "  r = _umath_linalg.det(a, signature=signature)\n"
     ]
    },
    {
     "name": "stdout",
     "output_type": "stream",
     "text": [
      "Accuracy: 0.46698767275663977\n",
      "F1-score: 0.19083969465648853\n",
      "Threshold: 0.8  # Duplications: 2 Degree: 5 Lambda: 0.0001\n"
     ]
    },
    {
     "name": "stderr",
     "output_type": "stream",
     "text": [
      "c:\\Users\\hany_\\anaconda3\\envs\\ml\\lib\\site-packages\\numpy\\linalg\\linalg.py:2180: RuntimeWarning: overflow encountered in det\n",
      "  r = _umath_linalg.det(a, signature=signature)\n"
     ]
    },
    {
     "name": "stdout",
     "output_type": "stream",
     "text": [
      "Accuracy: 0.894098465570573\n",
      "F1-score: 0.40810764776017716\n",
      "Threshold: 0.8  # Duplications: 2 Degree: 5 Lambda: 0.0005\n"
     ]
    },
    {
     "name": "stderr",
     "output_type": "stream",
     "text": [
      "c:\\Users\\hany_\\anaconda3\\envs\\ml\\lib\\site-packages\\numpy\\linalg\\linalg.py:2180: RuntimeWarning: overflow encountered in det\n",
      "  r = _umath_linalg.det(a, signature=signature)\n"
     ]
    },
    {
     "name": "stdout",
     "output_type": "stream",
     "text": [
      "Accuracy: 0.8962774467825743\n",
      "F1-score: 0.41059832020088316\n",
      "Threshold: 0.8  # Duplications: 2 Degree: 5 Lambda: 0.001\n"
     ]
    },
    {
     "name": "stderr",
     "output_type": "stream",
     "text": [
      "c:\\Users\\hany_\\anaconda3\\envs\\ml\\lib\\site-packages\\numpy\\linalg\\linalg.py:2180: RuntimeWarning: overflow encountered in det\n",
      "  r = _umath_linalg.det(a, signature=signature)\n"
     ]
    },
    {
     "name": "stdout",
     "output_type": "stream",
     "text": [
      "Accuracy: 0.8966888628156094\n",
      "F1-score: 0.4109470026064292\n",
      "Threshold: 0.8  # Duplications: 2 Degree: 5 Lambda: 0.005\n"
     ]
    },
    {
     "name": "stderr",
     "output_type": "stream",
     "text": [
      "c:\\Users\\hany_\\anaconda3\\envs\\ml\\lib\\site-packages\\numpy\\linalg\\linalg.py:2180: RuntimeWarning: overflow encountered in det\n",
      "  r = _umath_linalg.det(a, signature=signature)\n"
     ]
    },
    {
     "name": "stdout",
     "output_type": "stream",
     "text": [
      "Accuracy: 0.8975574077742393\n",
      "F1-score: 0.4104183109707971\n",
      "Threshold: 0.8  # Duplications: 2 Degree: 5 Lambda: 0.01\n"
     ]
    },
    {
     "name": "stderr",
     "output_type": "stream",
     "text": [
      "c:\\Users\\hany_\\anaconda3\\envs\\ml\\lib\\site-packages\\numpy\\linalg\\linalg.py:2180: RuntimeWarning: overflow encountered in det\n",
      "  r = _umath_linalg.det(a, signature=signature)\n"
     ]
    },
    {
     "name": "stdout",
     "output_type": "stream",
     "text": [
      "Accuracy: 0.8976031206667987\n",
      "F1-score: 0.4093865354192301\n",
      "Threshold: 0.8  # Duplications: 2 Degree: 5 Lambda: 0.05\n"
     ]
    },
    {
     "name": "stderr",
     "output_type": "stream",
     "text": [
      "c:\\Users\\hany_\\anaconda3\\envs\\ml\\lib\\site-packages\\numpy\\linalg\\linalg.py:2180: RuntimeWarning: overflow encountered in det\n",
      "  r = _umath_linalg.det(a, signature=signature)\n"
     ]
    },
    {
     "name": "stdout",
     "output_type": "stream",
     "text": [
      "Accuracy: 0.898121200115806\n",
      "F1-score: 0.4057945254177035\n",
      "Threshold: 0.8  # Duplications: 2 Degree: 5 Lambda: 0.1\n"
     ]
    },
    {
     "name": "stderr",
     "output_type": "stream",
     "text": [
      "c:\\Users\\hany_\\anaconda3\\envs\\ml\\lib\\site-packages\\numpy\\linalg\\linalg.py:2180: RuntimeWarning: overflow encountered in det\n",
      "  r = _umath_linalg.det(a, signature=signature)\n"
     ]
    },
    {
     "name": "stdout",
     "output_type": "stream",
     "text": [
      "Accuracy: 0.8980907248540997\n",
      "F1-score: 0.40103886799211896\n",
      "Threshold: 0.8  # Duplications: 2 Degree: 5 Lambda: 0.5\n"
     ]
    },
    {
     "name": "stderr",
     "output_type": "stream",
     "text": [
      "c:\\Users\\hany_\\anaconda3\\envs\\ml\\lib\\site-packages\\numpy\\linalg\\linalg.py:2180: RuntimeWarning: overflow encountered in det\n",
      "  r = _umath_linalg.det(a, signature=signature)\n"
     ]
    },
    {
     "name": "stdout",
     "output_type": "stream",
     "text": [
      "Accuracy: 0.8985935666722538\n",
      "F1-score: 0.3924039076052223\n",
      "Threshold: 0.8  # Duplications: 2 Degree: 5 Lambda: 1\n"
     ]
    },
    {
     "name": "stderr",
     "output_type": "stream",
     "text": [
      "c:\\Users\\hany_\\anaconda3\\envs\\ml\\lib\\site-packages\\numpy\\linalg\\linalg.py:2180: RuntimeWarning: overflow encountered in det\n",
      "  r = _umath_linalg.det(a, signature=signature)\n"
     ]
    },
    {
     "name": "stdout",
     "output_type": "stream",
     "text": [
      "Accuracy: 0.8982126259009249\n",
      "F1-score: 0.3853514906146485\n",
      "Threshold: 0.8  # Duplications: 3 Degree: 1 Lambda: 0\n"
     ]
    },
    {
     "name": "stderr",
     "output_type": "stream",
     "text": [
      "c:\\Users\\hany_\\anaconda3\\envs\\ml\\lib\\site-packages\\numpy\\linalg\\linalg.py:2180: RuntimeWarning: overflow encountered in det\n",
      "  r = _umath_linalg.det(a, signature=signature)\n"
     ]
    },
    {
     "name": "stdout",
     "output_type": "stream",
     "text": [
      "Accuracy: 0.8752952290977799\n",
      "F1-score: 0.4181714773212\n",
      "Threshold: 0.8  # Duplications: 3 Degree: 1 Lambda: 0.0001\n"
     ]
    },
    {
     "name": "stderr",
     "output_type": "stream",
     "text": [
      "c:\\Users\\hany_\\anaconda3\\envs\\ml\\lib\\site-packages\\numpy\\linalg\\linalg.py:2180: RuntimeWarning: overflow encountered in det\n",
      "  r = _umath_linalg.det(a, signature=signature)\n"
     ]
    },
    {
     "name": "stdout",
     "output_type": "stream",
     "text": [
      "Accuracy: 0.8754476054063114\n",
      "F1-score: 0.4183862245624021\n",
      "Threshold: 0.8  # Duplications: 3 Degree: 1 Lambda: 0.0005\n"
     ]
    },
    {
     "name": "stderr",
     "output_type": "stream",
     "text": [
      "c:\\Users\\hany_\\anaconda3\\envs\\ml\\lib\\site-packages\\numpy\\linalg\\linalg.py:2180: RuntimeWarning: overflow encountered in det\n",
      "  r = _umath_linalg.det(a, signature=signature)\n"
     ]
    },
    {
     "name": "stdout",
     "output_type": "stream",
     "text": [
      "Accuracy: 0.8754171301446051\n",
      "F1-score: 0.4180782918149466\n",
      "Threshold: 0.8  # Duplications: 3 Degree: 1 Lambda: 0.001\n"
     ]
    },
    {
     "name": "stderr",
     "output_type": "stream",
     "text": [
      "c:\\Users\\hany_\\anaconda3\\envs\\ml\\lib\\site-packages\\numpy\\linalg\\linalg.py:2180: RuntimeWarning: overflow encountered in det\n",
      "  r = _umath_linalg.det(a, signature=signature)\n"
     ]
    },
    {
     "name": "stdout",
     "output_type": "stream",
     "text": [
      "Accuracy: 0.8752799914669267\n",
      "F1-score: 0.41797624973334285\n",
      "Threshold: 0.8  # Duplications: 3 Degree: 1 Lambda: 0.005\n"
     ]
    },
    {
     "name": "stderr",
     "output_type": "stream",
     "text": [
      "c:\\Users\\hany_\\anaconda3\\envs\\ml\\lib\\site-packages\\numpy\\linalg\\linalg.py:2180: RuntimeWarning: overflow encountered in det\n",
      "  r = _umath_linalg.det(a, signature=signature)\n"
     ]
    },
    {
     "name": "stdout",
     "output_type": "stream",
     "text": [
      "Accuracy: 0.8747314367562131\n",
      "F1-score: 0.41748742294338553\n",
      "Threshold: 0.8  # Duplications: 3 Degree: 1 Lambda: 0.01\n"
     ]
    },
    {
     "name": "stderr",
     "output_type": "stream",
     "text": [
      "c:\\Users\\hany_\\anaconda3\\envs\\ml\\lib\\site-packages\\numpy\\linalg\\linalg.py:2180: RuntimeWarning: overflow encountered in det\n",
      "  r = _umath_linalg.det(a, signature=signature)\n"
     ]
    },
    {
     "name": "stdout",
     "output_type": "stream",
     "text": [
      "Accuracy: 0.8738628917975834\n",
      "F1-score: 0.41547803982488346\n",
      "Threshold: 0.8  # Duplications: 3 Degree: 1 Lambda: 0.05\n"
     ]
    },
    {
     "name": "stderr",
     "output_type": "stream",
     "text": [
      "c:\\Users\\hany_\\anaconda3\\envs\\ml\\lib\\site-packages\\numpy\\linalg\\linalg.py:2180: RuntimeWarning: overflow encountered in det\n",
      "  r = _umath_linalg.det(a, signature=signature)\n"
     ]
    },
    {
     "name": "stdout",
     "output_type": "stream",
     "text": [
      "Accuracy: 0.869200176756518\n",
      "F1-score: 0.41541814219558704\n",
      "Threshold: 0.8  # Duplications: 3 Degree: 1 Lambda: 0.1\n"
     ]
    },
    {
     "name": "stderr",
     "output_type": "stream",
     "text": [
      "c:\\Users\\hany_\\anaconda3\\envs\\ml\\lib\\site-packages\\numpy\\linalg\\linalg.py:2180: RuntimeWarning: overflow encountered in det\n",
      "  r = _umath_linalg.det(a, signature=signature)\n"
     ]
    },
    {
     "name": "stdout",
     "output_type": "stream",
     "text": [
      "Accuracy: 0.8627851341673397\n",
      "F1-score: 0.41446127836660385\n",
      "Threshold: 0.8  # Duplications: 3 Degree: 1 Lambda: 0.5\n"
     ]
    },
    {
     "name": "stderr",
     "output_type": "stream",
     "text": [
      "c:\\Users\\hany_\\anaconda3\\envs\\ml\\lib\\site-packages\\numpy\\linalg\\linalg.py:2180: RuntimeWarning: overflow encountered in det\n",
      "  r = _umath_linalg.det(a, signature=signature)\n"
     ]
    },
    {
     "name": "stdout",
     "output_type": "stream",
     "text": [
      "Accuracy: 0.8105505356027245\n",
      "F1-score: 0.3884708081255226\n",
      "Threshold: 0.8  # Duplications: 3 Degree: 1 Lambda: 1\n"
     ]
    },
    {
     "name": "stderr",
     "output_type": "stream",
     "text": [
      "c:\\Users\\hany_\\anaconda3\\envs\\ml\\lib\\site-packages\\numpy\\linalg\\linalg.py:2180: RuntimeWarning: overflow encountered in det\n",
      "  r = _umath_linalg.det(a, signature=signature)\n"
     ]
    },
    {
     "name": "stdout",
     "output_type": "stream",
     "text": [
      "Accuracy: 0.7654166730156795\n",
      "F1-score: 0.36069930650720483\n",
      "Threshold: 0.8  # Duplications: 3 Degree: 2 Lambda: 0\n"
     ]
    },
    {
     "name": "stderr",
     "output_type": "stream",
     "text": [
      "c:\\Users\\hany_\\anaconda3\\envs\\ml\\lib\\site-packages\\numpy\\linalg\\linalg.py:2180: RuntimeWarning: overflow encountered in det\n",
      "  r = _umath_linalg.det(a, signature=signature)\n"
     ]
    },
    {
     "name": "stdout",
     "output_type": "stream",
     "text": [
      "Accuracy: 0.08630594115226964\n",
      "F1-score: 0.15887444065704384\n",
      "Threshold: 0.8  # Duplications: 3 Degree: 2 Lambda: 0.0001\n"
     ]
    },
    {
     "name": "stderr",
     "output_type": "stream",
     "text": [
      "c:\\Users\\hany_\\anaconda3\\envs\\ml\\lib\\site-packages\\numpy\\linalg\\linalg.py:2180: RuntimeWarning: overflow encountered in det\n",
      "  r = _umath_linalg.det(a, signature=signature)\n"
     ]
    },
    {
     "name": "stdout",
     "output_type": "stream",
     "text": [
      "Accuracy: 0.868712572569217\n",
      "F1-score: 0.41347855684138873\n",
      "Threshold: 0.8  # Duplications: 3 Degree: 2 Lambda: 0.0005\n"
     ]
    },
    {
     "name": "stderr",
     "output_type": "stream",
     "text": [
      "c:\\Users\\hany_\\anaconda3\\envs\\ml\\lib\\site-packages\\numpy\\linalg\\linalg.py:2180: RuntimeWarning: overflow encountered in det\n",
      "  r = _umath_linalg.det(a, signature=signature)\n"
     ]
    },
    {
     "name": "stdout",
     "output_type": "stream",
     "text": [
      "Accuracy: 0.8741828820454995\n",
      "F1-score: 0.4222237772024351\n",
      "Threshold: 0.8  # Duplications: 3 Degree: 2 Lambda: 0.001\n"
     ]
    },
    {
     "name": "stderr",
     "output_type": "stream",
     "text": [
      "c:\\Users\\hany_\\anaconda3\\envs\\ml\\lib\\site-packages\\numpy\\linalg\\linalg.py:2180: RuntimeWarning: overflow encountered in det\n",
      "  r = _umath_linalg.det(a, signature=signature)\n"
     ]
    },
    {
     "name": "stdout",
     "output_type": "stream",
     "text": [
      "Accuracy: 0.8757828332850809\n",
      "F1-score: 0.4223356009070295\n",
      "Threshold: 0.8  # Duplications: 3 Degree: 2 Lambda: 0.005\n"
     ]
    },
    {
     "name": "stderr",
     "output_type": "stream",
     "text": [
      "c:\\Users\\hany_\\anaconda3\\envs\\ml\\lib\\site-packages\\numpy\\linalg\\linalg.py:2180: RuntimeWarning: overflow encountered in det\n",
      "  r = _umath_linalg.det(a, signature=signature)\n"
     ]
    },
    {
     "name": "stdout",
     "output_type": "stream",
     "text": [
      "Accuracy: 0.8761180611638503\n",
      "F1-score: 0.42052744119743407\n",
      "Threshold: 0.8  # Duplications: 3 Degree: 2 Lambda: 0.01\n"
     ]
    },
    {
     "name": "stderr",
     "output_type": "stream",
     "text": [
      "c:\\Users\\hany_\\anaconda3\\envs\\ml\\lib\\site-packages\\numpy\\linalg\\linalg.py:2180: RuntimeWarning: overflow encountered in det\n",
      "  r = _umath_linalg.det(a, signature=signature)\n"
     ]
    },
    {
     "name": "stdout",
     "output_type": "stream",
     "text": [
      "Accuracy: 0.8763618632575008\n",
      "F1-score: 0.41968244886282363\n",
      "Threshold: 0.8  # Duplications: 3 Degree: 2 Lambda: 0.05\n"
     ]
    },
    {
     "name": "stderr",
     "output_type": "stream",
     "text": [
      "c:\\Users\\hany_\\anaconda3\\envs\\ml\\lib\\site-packages\\numpy\\linalg\\linalg.py:2180: RuntimeWarning: overflow encountered in det\n",
      "  r = _umath_linalg.det(a, signature=signature)\n"
     ]
    },
    {
     "name": "stdout",
     "output_type": "stream",
     "text": [
      "Accuracy: 0.8774894479406342\n",
      "F1-score: 0.416291563815885\n",
      "Threshold: 0.8  # Duplications: 3 Degree: 2 Lambda: 0.1\n"
     ]
    },
    {
     "name": "stderr",
     "output_type": "stream",
     "text": [
      "c:\\Users\\hany_\\anaconda3\\envs\\ml\\lib\\site-packages\\numpy\\linalg\\linalg.py:2180: RuntimeWarning: overflow encountered in det\n",
      "  r = _umath_linalg.det(a, signature=signature)\n"
     ]
    },
    {
     "name": "stdout",
     "output_type": "stream",
     "text": [
      "Accuracy: 0.8785408444695019\n",
      "F1-score: 0.41557298922208374\n",
      "Threshold: 0.8  # Duplications: 3 Degree: 2 Lambda: 0.5\n"
     ]
    },
    {
     "name": "stderr",
     "output_type": "stream",
     "text": [
      "c:\\Users\\hany_\\anaconda3\\envs\\ml\\lib\\site-packages\\numpy\\linalg\\linalg.py:2180: RuntimeWarning: overflow encountered in det\n",
      "  r = _umath_linalg.det(a, signature=signature)\n"
     ]
    },
    {
     "name": "stdout",
     "output_type": "stream",
     "text": [
      "Accuracy: 0.8807045880506499\n",
      "F1-score: 0.40350476190476187\n",
      "Threshold: 0.8  # Duplications: 3 Degree: 2 Lambda: 1\n"
     ]
    },
    {
     "name": "stderr",
     "output_type": "stream",
     "text": [
      "c:\\Users\\hany_\\anaconda3\\envs\\ml\\lib\\site-packages\\numpy\\linalg\\linalg.py:2180: RuntimeWarning: overflow encountered in det\n",
      "  r = _umath_linalg.det(a, signature=signature)\n"
     ]
    },
    {
     "name": "stdout",
     "output_type": "stream",
     "text": [
      "Accuracy: 0.8825331037530285\n",
      "F1-score: 0.3922743397713835\n",
      "Threshold: 0.8  # Duplications: 3 Degree: 3 Lambda: 0\n"
     ]
    },
    {
     "name": "stderr",
     "output_type": "stream",
     "text": [
      "c:\\Users\\hany_\\anaconda3\\envs\\ml\\lib\\site-packages\\numpy\\linalg\\linalg.py:2180: RuntimeWarning: overflow encountered in det\n",
      "  r = _umath_linalg.det(a, signature=signature)\n"
     ]
    },
    {
     "name": "stdout",
     "output_type": "stream",
     "text": [
      "Accuracy: 0.09099913145504138\n",
      "F1-score: 0.1585680635287812\n",
      "Threshold: 0.8  # Duplications: 3 Degree: 3 Lambda: 0.0001\n"
     ]
    },
    {
     "name": "stderr",
     "output_type": "stream",
     "text": [
      "c:\\Users\\hany_\\anaconda3\\envs\\ml\\lib\\site-packages\\numpy\\linalg\\linalg.py:2180: RuntimeWarning: overflow encountered in det\n",
      "  r = _umath_linalg.det(a, signature=signature)\n"
     ]
    },
    {
     "name": "stdout",
     "output_type": "stream",
     "text": [
      "Accuracy: 0.8743962088774437\n",
      "F1-score: 0.4211782880415702\n",
      "Threshold: 0.8  # Duplications: 3 Degree: 3 Lambda: 0.0005\n"
     ]
    },
    {
     "name": "stderr",
     "output_type": "stream",
     "text": [
      "c:\\Users\\hany_\\anaconda3\\envs\\ml\\lib\\site-packages\\numpy\\linalg\\linalg.py:2180: RuntimeWarning: overflow encountered in det\n",
      "  r = _umath_linalg.det(a, signature=signature)\n"
     ]
    },
    {
     "name": "stdout",
     "output_type": "stream",
     "text": [
      "Accuracy: 0.8761942493181161\n",
      "F1-score: 0.42322708880528154\n",
      "Threshold: 0.8  # Duplications: 3 Degree: 3 Lambda: 0.001\n"
     ]
    },
    {
     "name": "stderr",
     "output_type": "stream",
     "text": [
      "c:\\Users\\hany_\\anaconda3\\envs\\ml\\lib\\site-packages\\numpy\\linalg\\linalg.py:2180: RuntimeWarning: overflow encountered in det\n",
      "  r = _umath_linalg.det(a, signature=signature)\n"
     ]
    },
    {
     "name": "stdout",
     "output_type": "stream",
     "text": [
      "Accuracy: 0.8764075761500602\n",
      "F1-score: 0.42340228904528326\n",
      "Threshold: 0.8  # Duplications: 3 Degree: 3 Lambda: 0.005\n"
     ]
    },
    {
     "name": "stderr",
     "output_type": "stream",
     "text": [
      "c:\\Users\\hany_\\anaconda3\\envs\\ml\\lib\\site-packages\\numpy\\linalg\\linalg.py:2180: RuntimeWarning: overflow encountered in det\n",
      "  r = _umath_linalg.det(a, signature=signature)\n"
     ]
    },
    {
     "name": "stdout",
     "output_type": "stream",
     "text": [
      "Accuracy: 0.8770932695384521\n",
      "F1-score: 0.4228677733257012\n",
      "Threshold: 0.8  # Duplications: 3 Degree: 3 Lambda: 0.01\n"
     ]
    },
    {
     "name": "stderr",
     "output_type": "stream",
     "text": [
      "c:\\Users\\hany_\\anaconda3\\envs\\ml\\lib\\site-packages\\numpy\\linalg\\linalg.py:2180: RuntimeWarning: overflow encountered in det\n",
      "  r = _umath_linalg.det(a, signature=signature)\n"
     ]
    },
    {
     "name": "stdout",
     "output_type": "stream",
     "text": [
      "Accuracy: 0.8771694576927179\n",
      "F1-score: 0.4219433488705629\n",
      "Threshold: 0.8  # Duplications: 3 Degree: 3 Lambda: 0.05\n"
     ]
    },
    {
     "name": "stderr",
     "output_type": "stream",
     "text": [
      "c:\\Users\\hany_\\anaconda3\\envs\\ml\\lib\\site-packages\\numpy\\linalg\\linalg.py:2180: RuntimeWarning: overflow encountered in det\n",
      "  r = _umath_linalg.det(a, signature=signature)\n"
     ]
    },
    {
     "name": "stdout",
     "output_type": "stream",
     "text": [
      "Accuracy: 0.877672299510872\n",
      "F1-score: 0.41969061731964724\n",
      "Threshold: 0.8  # Duplications: 3 Degree: 3 Lambda: 0.1\n"
     ]
    },
    {
     "name": "stderr",
     "output_type": "stream",
     "text": [
      "c:\\Users\\hany_\\anaconda3\\envs\\ml\\lib\\site-packages\\numpy\\linalg\\linalg.py:2180: RuntimeWarning: overflow encountered in det\n",
      "  r = _umath_linalg.det(a, signature=signature)\n"
     ]
    },
    {
     "name": "stdout",
     "output_type": "stream",
     "text": [
      "Accuracy: 0.8779770521279352\n",
      "F1-score: 0.4179386538741096\n",
      "Threshold: 0.8  # Duplications: 3 Degree: 3 Lambda: 0.5\n"
     ]
    },
    {
     "name": "stderr",
     "output_type": "stream",
     "text": [
      "c:\\Users\\hany_\\anaconda3\\envs\\ml\\lib\\site-packages\\numpy\\linalg\\linalg.py:2180: RuntimeWarning: overflow encountered in det\n",
      "  r = _umath_linalg.det(a, signature=signature)\n"
     ]
    },
    {
     "name": "stdout",
     "output_type": "stream",
     "text": [
      "Accuracy: 0.8788913099791245\n",
      "F1-score: 0.4077496274217586\n",
      "Threshold: 0.8  # Duplications: 3 Degree: 3 Lambda: 1\n"
     ]
    },
    {
     "name": "stderr",
     "output_type": "stream",
     "text": [
      "c:\\Users\\hany_\\anaconda3\\envs\\ml\\lib\\site-packages\\numpy\\linalg\\linalg.py:2180: RuntimeWarning: overflow encountered in det\n",
      "  r = _umath_linalg.det(a, signature=signature)\n"
     ]
    },
    {
     "name": "stdout",
     "output_type": "stream",
     "text": [
      "Accuracy: 0.8794551023206911\n",
      "F1-score: 0.40199561569279607\n",
      "Threshold: 0.8  # Duplications: 3 Degree: 4 Lambda: 0\n"
     ]
    },
    {
     "name": "stderr",
     "output_type": "stream",
     "text": [
      "c:\\Users\\hany_\\anaconda3\\envs\\ml\\lib\\site-packages\\numpy\\linalg\\linalg.py:2180: RuntimeWarning: overflow encountered in det\n",
      "  r = _umath_linalg.det(a, signature=signature)\n"
     ]
    },
    {
     "name": "stdout",
     "output_type": "stream",
     "text": [
      "Accuracy: 0.6772212656376186\n",
      "F1-score: 0.2399081416627794\n",
      "Threshold: 0.8  # Duplications: 3 Degree: 4 Lambda: 0.0001\n"
     ]
    },
    {
     "name": "stderr",
     "output_type": "stream",
     "text": [
      "c:\\Users\\hany_\\anaconda3\\envs\\ml\\lib\\site-packages\\numpy\\linalg\\linalg.py:2180: RuntimeWarning: overflow encountered in det\n",
      "  r = _umath_linalg.det(a, signature=signature)\n"
     ]
    },
    {
     "name": "stdout",
     "output_type": "stream",
     "text": [
      "Accuracy: 0.8687735230926296\n",
      "F1-score: 0.4165311653116531\n",
      "Threshold: 0.8  # Duplications: 3 Degree: 4 Lambda: 0.0005\n"
     ]
    },
    {
     "name": "stderr",
     "output_type": "stream",
     "text": [
      "c:\\Users\\hany_\\anaconda3\\envs\\ml\\lib\\site-packages\\numpy\\linalg\\linalg.py:2180: RuntimeWarning: overflow encountered in det\n",
      "  r = _umath_linalg.det(a, signature=signature)\n"
     ]
    },
    {
     "name": "stdout",
     "output_type": "stream",
     "text": [
      "Accuracy: 0.8691849391256647\n",
      "F1-score: 0.4168987298784215\n",
      "Threshold: 0.8  # Duplications: 3 Degree: 4 Lambda: 0.001\n"
     ]
    },
    {
     "name": "stderr",
     "output_type": "stream",
     "text": [
      "c:\\Users\\hany_\\anaconda3\\envs\\ml\\lib\\site-packages\\numpy\\linalg\\linalg.py:2180: RuntimeWarning: overflow encountered in det\n",
      "  r = _umath_linalg.det(a, signature=signature)\n"
     ]
    },
    {
     "name": "stdout",
     "output_type": "stream",
     "text": [
      "Accuracy: 0.8763313879957945\n",
      "F1-score: 0.4246419963136254\n",
      "Threshold: 0.8  # Duplications: 3 Degree: 4 Lambda: 0.005\n"
     ]
    },
    {
     "name": "stderr",
     "output_type": "stream",
     "text": [
      "c:\\Users\\hany_\\anaconda3\\envs\\ml\\lib\\site-packages\\numpy\\linalg\\linalg.py:2180: RuntimeWarning: overflow encountered in det\n",
      "  r = _umath_linalg.det(a, signature=signature)\n"
     ]
    },
    {
     "name": "stdout",
     "output_type": "stream",
     "text": [
      "Accuracy: 0.8769104179682143\n",
      "F1-score: 0.4229175596513788\n",
      "Threshold: 0.8  # Duplications: 3 Degree: 4 Lambda: 0.01\n"
     ]
    },
    {
     "name": "stderr",
     "output_type": "stream",
     "text": [
      "c:\\Users\\hany_\\anaconda3\\envs\\ml\\lib\\site-packages\\numpy\\linalg\\linalg.py:2180: RuntimeWarning: overflow encountered in det\n",
      "  r = _umath_linalg.det(a, signature=signature)\n"
     ]
    },
    {
     "name": "stdout",
     "output_type": "stream",
     "text": [
      "Accuracy: 0.8769408932299206\n",
      "F1-score: 0.4204105066743217\n",
      "Threshold: 0.8  # Duplications: 3 Degree: 4 Lambda: 0.05\n"
     ]
    },
    {
     "name": "stderr",
     "output_type": "stream",
     "text": [
      "c:\\Users\\hany_\\anaconda3\\envs\\ml\\lib\\site-packages\\numpy\\linalg\\linalg.py:2180: RuntimeWarning: overflow encountered in det\n",
      "  r = _umath_linalg.det(a, signature=signature)\n"
     ]
    },
    {
     "name": "stdout",
     "output_type": "stream",
     "text": [
      "Accuracy: 0.8778246758194036\n",
      "F1-score: 0.4180577732617216\n",
      "Threshold: 0.8  # Duplications: 3 Degree: 4 Lambda: 0.1\n"
     ]
    },
    {
     "name": "stderr",
     "output_type": "stream",
     "text": [
      "c:\\Users\\hany_\\anaconda3\\envs\\ml\\lib\\site-packages\\numpy\\linalg\\linalg.py:2180: RuntimeWarning: overflow encountered in det\n",
      "  r = _umath_linalg.det(a, signature=signature)\n"
     ]
    },
    {
     "name": "stdout",
     "output_type": "stream",
     "text": [
      "Accuracy: 0.8783884681609704\n",
      "F1-score: 0.4177427591741446\n",
      "Threshold: 0.8  # Duplications: 3 Degree: 4 Lambda: 0.5\n"
     ]
    },
    {
     "name": "stderr",
     "output_type": "stream",
     "text": [
      "c:\\Users\\hany_\\anaconda3\\envs\\ml\\lib\\site-packages\\numpy\\linalg\\linalg.py:2180: RuntimeWarning: overflow encountered in det\n",
      "  r = _umath_linalg.det(a, signature=signature)\n"
     ]
    },
    {
     "name": "stdout",
     "output_type": "stream",
     "text": [
      "Accuracy: 0.8766361406128576\n",
      "F1-score: 0.40531805494344053\n",
      "Threshold: 0.8  # Duplications: 3 Degree: 4 Lambda: 1\n"
     ]
    },
    {
     "name": "stderr",
     "output_type": "stream",
     "text": [
      "c:\\Users\\hany_\\anaconda3\\envs\\ml\\lib\\site-packages\\numpy\\linalg\\linalg.py:2180: RuntimeWarning: overflow encountered in det\n",
      "  r = _umath_linalg.det(a, signature=signature)\n"
     ]
    },
    {
     "name": "stdout",
     "output_type": "stream",
     "text": [
      "Accuracy: 0.8764075761500602\n",
      "F1-score: 0.40020705464763734\n",
      "Threshold: 0.8  # Duplications: 3 Degree: 5 Lambda: 0\n",
      "Accuracy: 0.3189693266490926\n",
      "F1-score: 0.13383720930232557\n",
      "Threshold: 0.8  # Duplications: 3 Degree: 5 Lambda: 0.0001\n"
     ]
    },
    {
     "name": "stderr",
     "output_type": "stream",
     "text": [
      "c:\\Users\\hany_\\anaconda3\\envs\\ml\\lib\\site-packages\\numpy\\linalg\\linalg.py:2180: RuntimeWarning: overflow encountered in det\n",
      "  r = _umath_linalg.det(a, signature=signature)\n"
     ]
    },
    {
     "name": "stdout",
     "output_type": "stream",
     "text": [
      "Accuracy: 0.8733143370868698\n",
      "F1-score: 0.4217554597301433\n",
      "Threshold: 0.8  # Duplications: 3 Degree: 5 Lambda: 0.0005\n"
     ]
    },
    {
     "name": "stderr",
     "output_type": "stream",
     "text": [
      "c:\\Users\\hany_\\anaconda3\\envs\\ml\\lib\\site-packages\\numpy\\linalg\\linalg.py:2180: RuntimeWarning: overflow encountered in det\n",
      "  r = _umath_linalg.det(a, signature=signature)\n"
     ]
    },
    {
     "name": "stdout",
     "output_type": "stream",
     "text": [
      "Accuracy: 0.8760418730095845\n",
      "F1-score: 0.42512896615080203\n",
      "Threshold: 0.8  # Duplications: 3 Degree: 5 Lambda: 0.001\n"
     ]
    },
    {
     "name": "stderr",
     "output_type": "stream",
     "text": [
      "c:\\Users\\hany_\\anaconda3\\envs\\ml\\lib\\site-packages\\numpy\\linalg\\linalg.py:2180: RuntimeWarning: overflow encountered in det\n",
      "  r = _umath_linalg.det(a, signature=signature)\n"
     ]
    },
    {
     "name": "stdout",
     "output_type": "stream",
     "text": [
      "Accuracy: 0.8762399622106755\n",
      "F1-score: 0.4241349971639251\n",
      "Threshold: 0.8  # Duplications: 3 Degree: 5 Lambda: 0.005\n"
     ]
    },
    {
     "name": "stderr",
     "output_type": "stream",
     "text": [
      "c:\\Users\\hany_\\anaconda3\\envs\\ml\\lib\\site-packages\\numpy\\linalg\\linalg.py:2180: RuntimeWarning: overflow encountered in det\n",
      "  r = _umath_linalg.det(a, signature=signature)\n"
     ]
    },
    {
     "name": "stdout",
     "output_type": "stream",
     "text": [
      "Accuracy: 0.877078031907599\n",
      "F1-score: 0.42292009442735534\n",
      "Threshold: 0.8  # Duplications: 3 Degree: 5 Lambda: 0.01\n"
     ]
    },
    {
     "name": "stderr",
     "output_type": "stream",
     "text": [
      "c:\\Users\\hany_\\anaconda3\\envs\\ml\\lib\\site-packages\\numpy\\linalg\\linalg.py:2180: RuntimeWarning: overflow encountered in det\n",
      "  r = _umath_linalg.det(a, signature=signature)\n"
     ]
    },
    {
     "name": "stdout",
     "output_type": "stream",
     "text": [
      "Accuracy: 0.8775046855714873\n",
      "F1-score: 0.4215298265812765\n",
      "Threshold: 0.8  # Duplications: 3 Degree: 5 Lambda: 0.05\n"
     ]
    },
    {
     "name": "stderr",
     "output_type": "stream",
     "text": [
      "c:\\Users\\hany_\\anaconda3\\envs\\ml\\lib\\site-packages\\numpy\\linalg\\linalg.py:2180: RuntimeWarning: overflow encountered in det\n",
      "  r = _umath_linalg.det(a, signature=signature)\n"
     ]
    },
    {
     "name": "stdout",
     "output_type": "stream",
     "text": [
      "Accuracy: 0.8780989531747604\n",
      "F1-score: 0.41970114609023645\n",
      "Threshold: 0.8  # Duplications: 3 Degree: 5 Lambda: 0.1\n"
     ]
    },
    {
     "name": "stderr",
     "output_type": "stream",
     "text": [
      "c:\\Users\\hany_\\anaconda3\\envs\\ml\\lib\\site-packages\\numpy\\linalg\\linalg.py:2180: RuntimeWarning: overflow encountered in det\n",
      "  r = _umath_linalg.det(a, signature=signature)\n"
     ]
    },
    {
     "name": "stdout",
     "output_type": "stream",
     "text": [
      "Accuracy: 0.8785256068386488\n",
      "F1-score: 0.4183569239749015\n",
      "Threshold: 0.8  # Duplications: 3 Degree: 5 Lambda: 0.5\n"
     ]
    },
    {
     "name": "stderr",
     "output_type": "stream",
     "text": [
      "c:\\Users\\hany_\\anaconda3\\envs\\ml\\lib\\site-packages\\numpy\\linalg\\linalg.py:2180: RuntimeWarning: overflow encountered in det\n",
      "  r = _umath_linalg.det(a, signature=signature)\n"
     ]
    },
    {
     "name": "stdout",
     "output_type": "stream",
     "text": [
      "Accuracy: 0.8784951315769424\n",
      "F1-score: 0.4093333333333333\n",
      "Threshold: 0.8  # Duplications: 3 Degree: 5 Lambda: 1\n"
     ]
    },
    {
     "name": "stderr",
     "output_type": "stream",
     "text": [
      "c:\\Users\\hany_\\anaconda3\\envs\\ml\\lib\\site-packages\\numpy\\linalg\\linalg.py:2180: RuntimeWarning: overflow encountered in det\n",
      "  r = _umath_linalg.det(a, signature=signature)\n"
     ]
    },
    {
     "name": "stdout",
     "output_type": "stream",
     "text": [
      "Accuracy: 0.8782665671141451\n",
      "F1-score: 0.4045613773570843\n",
      "Threshold: 0.8  # Duplications: 4 Degree: 1 Lambda: 0\n"
     ]
    },
    {
     "name": "stderr",
     "output_type": "stream",
     "text": [
      "c:\\Users\\hany_\\anaconda3\\envs\\ml\\lib\\site-packages\\numpy\\linalg\\linalg.py:2180: RuntimeWarning: overflow encountered in det\n",
      "  r = _umath_linalg.det(a, signature=signature)\n"
     ]
    },
    {
     "name": "stdout",
     "output_type": "stream",
     "text": [
      "Accuracy: 0.8542977737821323\n",
      "F1-score: 0.4128699496500061\n",
      "Threshold: 0.8  # Duplications: 4 Degree: 1 Lambda: 0.0001\n"
     ]
    },
    {
     "name": "stderr",
     "output_type": "stream",
     "text": [
      "c:\\Users\\hany_\\anaconda3\\envs\\ml\\lib\\site-packages\\numpy\\linalg\\linalg.py:2180: RuntimeWarning: overflow encountered in det\n",
      "  r = _umath_linalg.det(a, signature=signature)\n"
     ]
    },
    {
     "name": "stdout",
     "output_type": "stream",
     "text": [
      "Accuracy: 0.8541911103661602\n",
      "F1-score: 0.41312480834099974\n",
      "Threshold: 0.8  # Duplications: 4 Degree: 1 Lambda: 0.0005\n"
     ]
    },
    {
     "name": "stderr",
     "output_type": "stream",
     "text": [
      "c:\\Users\\hany_\\anaconda3\\envs\\ml\\lib\\site-packages\\numpy\\linalg\\linalg.py:2180: RuntimeWarning: overflow encountered in det\n",
      "  r = _umath_linalg.det(a, signature=signature)\n"
     ]
    },
    {
     "name": "stdout",
     "output_type": "stream",
     "text": [
      "Accuracy: 0.8541911103661602\n",
      "F1-score: 0.4134126157052657\n",
      "Threshold: 0.8  # Duplications: 4 Degree: 1 Lambda: 0.001\n"
     ]
    },
    {
     "name": "stderr",
     "output_type": "stream",
     "text": [
      "c:\\Users\\hany_\\anaconda3\\envs\\ml\\lib\\site-packages\\numpy\\linalg\\linalg.py:2180: RuntimeWarning: overflow encountered in det\n",
      "  r = _umath_linalg.det(a, signature=signature)\n"
     ]
    },
    {
     "name": "stdout",
     "output_type": "stream",
     "text": [
      "Accuracy: 0.8543891995672512\n",
      "F1-score: 0.4141017780502759\n",
      "Threshold: 0.8  # Duplications: 4 Degree: 1 Lambda: 0.005\n"
     ]
    },
    {
     "name": "stderr",
     "output_type": "stream",
     "text": [
      "c:\\Users\\hany_\\anaconda3\\envs\\ml\\lib\\site-packages\\numpy\\linalg\\linalg.py:2180: RuntimeWarning: overflow encountered in det\n",
      "  r = _umath_linalg.det(a, signature=signature)\n"
     ]
    },
    {
     "name": "stdout",
     "output_type": "stream",
     "text": [
      "Accuracy: 0.8537492190714188\n",
      "F1-score: 0.41382679858311955\n",
      "Threshold: 0.8  # Duplications: 4 Degree: 1 Lambda: 0.01\n"
     ]
    },
    {
     "name": "stderr",
     "output_type": "stream",
     "text": [
      "c:\\Users\\hany_\\anaconda3\\envs\\ml\\lib\\site-packages\\numpy\\linalg\\linalg.py:2180: RuntimeWarning: overflow encountered in det\n",
      "  r = _umath_linalg.det(a, signature=signature)\n"
     ]
    },
    {
     "name": "stdout",
     "output_type": "stream",
     "text": [
      "Accuracy: 0.8527740106968169\n",
      "F1-score: 0.413357619914997\n",
      "Threshold: 0.8  # Duplications: 4 Degree: 1 Lambda: 0.05\n"
     ]
    },
    {
     "name": "stderr",
     "output_type": "stream",
     "text": [
      "c:\\Users\\hany_\\anaconda3\\envs\\ml\\lib\\site-packages\\numpy\\linalg\\linalg.py:2180: RuntimeWarning: overflow encountered in det\n",
      "  r = _umath_linalg.det(a, signature=signature)\n"
     ]
    },
    {
     "name": "stdout",
     "output_type": "stream",
     "text": [
      "Accuracy: 0.8457342252426593\n",
      "F1-score: 0.4093348891481913\n",
      "Threshold: 0.8  # Duplications: 4 Degree: 1 Lambda: 0.1\n"
     ]
    },
    {
     "name": "stderr",
     "output_type": "stream",
     "text": [
      "c:\\Users\\hany_\\anaconda3\\envs\\ml\\lib\\site-packages\\numpy\\linalg\\linalg.py:2180: RuntimeWarning: overflow encountered in det\n",
      "  r = _umath_linalg.det(a, signature=signature)\n"
     ]
    },
    {
     "name": "stdout",
     "output_type": "stream",
     "text": [
      "Accuracy: 0.8369116369786825\n",
      "F1-score: 0.4041641151255358\n",
      "Threshold: 0.8  # Duplications: 4 Degree: 1 Lambda: 0.5\n"
     ]
    },
    {
     "name": "stderr",
     "output_type": "stream",
     "text": [
      "c:\\Users\\hany_\\anaconda3\\envs\\ml\\lib\\site-packages\\numpy\\linalg\\linalg.py:2180: RuntimeWarning: overflow encountered in det\n",
      "  r = _umath_linalg.det(a, signature=signature)\n"
     ]
    },
    {
     "name": "stdout",
     "output_type": "stream",
     "text": [
      "Accuracy: 0.7785210355493928\n",
      "F1-score: 0.3716224979464788\n",
      "Threshold: 0.8  # Duplications: 4 Degree: 1 Lambda: 1\n"
     ]
    },
    {
     "name": "stderr",
     "output_type": "stream",
     "text": [
      "c:\\Users\\hany_\\anaconda3\\envs\\ml\\lib\\site-packages\\numpy\\linalg\\linalg.py:2180: RuntimeWarning: overflow encountered in det\n",
      "  r = _umath_linalg.det(a, signature=signature)\n"
     ]
    },
    {
     "name": "stdout",
     "output_type": "stream",
     "text": [
      "Accuracy: 0.7334633611166136\n",
      "F1-score: 0.34501610125065524\n",
      "Threshold: 0.8  # Duplications: 4 Degree: 2 Lambda: 0\n"
     ]
    },
    {
     "name": "stderr",
     "output_type": "stream",
     "text": [
      "c:\\Users\\hany_\\anaconda3\\envs\\ml\\lib\\site-packages\\numpy\\linalg\\linalg.py:2180: RuntimeWarning: overflow encountered in det\n",
      "  r = _umath_linalg.det(a, signature=signature)\n"
     ]
    },
    {
     "name": "stdout",
     "output_type": "stream",
     "text": [
      "Accuracy: 0.6772365032684718\n",
      "F1-score: 0.2399167503947179\n",
      "Threshold: 0.8  # Duplications: 4 Degree: 2 Lambda: 0.0001\n"
     ]
    },
    {
     "name": "stderr",
     "output_type": "stream",
     "text": [
      "c:\\Users\\hany_\\anaconda3\\envs\\ml\\lib\\site-packages\\numpy\\linalg\\linalg.py:2180: RuntimeWarning: overflow encountered in det\n",
      "  r = _umath_linalg.det(a, signature=signature)\n"
     ]
    },
    {
     "name": "stdout",
     "output_type": "stream",
     "text": [
      "Accuracy: 0.8480960580248983\n",
      "F1-score: 0.4093844422062918\n",
      "Threshold: 0.8  # Duplications: 4 Degree: 2 Lambda: 0.0005\n"
     ]
    },
    {
     "name": "stderr",
     "output_type": "stream",
     "text": [
      "c:\\Users\\hany_\\anaconda3\\envs\\ml\\lib\\site-packages\\numpy\\linalg\\linalg.py:2180: RuntimeWarning: overflow encountered in det\n",
      "  r = _umath_linalg.det(a, signature=signature)\n"
     ]
    },
    {
     "name": "stdout",
     "output_type": "stream",
     "text": [
      "Accuracy: 0.8512807228732077\n",
      "F1-score: 0.4146575506777018\n",
      "Threshold: 0.8  # Duplications: 4 Degree: 2 Lambda: 0.001\n"
     ]
    },
    {
     "name": "stderr",
     "output_type": "stream",
     "text": [
      "c:\\Users\\hany_\\anaconda3\\envs\\ml\\lib\\site-packages\\numpy\\linalg\\linalg.py:2180: RuntimeWarning: overflow encountered in det\n",
      "  r = _umath_linalg.det(a, signature=signature)\n"
     ]
    },
    {
     "name": "stdout",
     "output_type": "stream",
     "text": [
      "Accuracy: 0.8545415758757828\n",
      "F1-score: 0.41671758523768787\n",
      "Threshold: 0.8  # Duplications: 4 Degree: 2 Lambda: 0.005\n"
     ]
    },
    {
     "name": "stderr",
     "output_type": "stream",
     "text": [
      "c:\\Users\\hany_\\anaconda3\\envs\\ml\\lib\\site-packages\\numpy\\linalg\\linalg.py:2180: RuntimeWarning: overflow encountered in det\n",
      "  r = _umath_linalg.det(a, signature=signature)\n"
     ]
    },
    {
     "name": "stdout",
     "output_type": "stream",
     "text": [
      "Accuracy: 0.8549834671705243\n",
      "F1-score: 0.4158841220155895\n",
      "Threshold: 0.8  # Duplications: 4 Degree: 2 Lambda: 0.01\n"
     ]
    },
    {
     "name": "stderr",
     "output_type": "stream",
     "text": [
      "c:\\Users\\hany_\\anaconda3\\envs\\ml\\lib\\site-packages\\numpy\\linalg\\linalg.py:2180: RuntimeWarning: overflow encountered in det\n",
      "  r = _umath_linalg.det(a, signature=signature)\n"
     ]
    },
    {
     "name": "stdout",
     "output_type": "stream",
     "text": [
      "Accuracy: 0.8553948832035595\n",
      "F1-score: 0.4161437184692999\n",
      "Threshold: 0.8  # Duplications: 4 Degree: 2 Lambda: 0.05\n"
     ]
    },
    {
     "name": "stderr",
     "output_type": "stream",
     "text": [
      "c:\\Users\\hany_\\anaconda3\\envs\\ml\\lib\\site-packages\\numpy\\linalg\\linalg.py:2180: RuntimeWarning: overflow encountered in det\n",
      "  r = _umath_linalg.det(a, signature=signature)\n"
     ]
    },
    {
     "name": "stdout",
     "output_type": "stream",
     "text": [
      "Accuracy: 0.8563396163164552\n",
      "F1-score: 0.41506390371013774\n",
      "Threshold: 0.8  # Duplications: 4 Degree: 2 Lambda: 0.1\n"
     ]
    },
    {
     "name": "stderr",
     "output_type": "stream",
     "text": [
      "c:\\Users\\hany_\\anaconda3\\envs\\ml\\lib\\site-packages\\numpy\\linalg\\linalg.py:2180: RuntimeWarning: overflow encountered in det\n",
      "  r = _umath_linalg.det(a, signature=signature)\n"
     ]
    },
    {
     "name": "stdout",
     "output_type": "stream",
     "text": [
      "Accuracy: 0.857314824691057\n",
      "F1-score: 0.41445722861430717\n",
      "Threshold: 0.8  # Duplications: 4 Degree: 2 Lambda: 0.5\n"
     ]
    },
    {
     "name": "stderr",
     "output_type": "stream",
     "text": [
      "c:\\Users\\hany_\\anaconda3\\envs\\ml\\lib\\site-packages\\numpy\\linalg\\linalg.py:2180: RuntimeWarning: overflow encountered in det\n",
      "  r = _umath_linalg.det(a, signature=signature)\n"
     ]
    },
    {
     "name": "stdout",
     "output_type": "stream",
     "text": [
      "Accuracy: 0.8600728358754781\n",
      "F1-score: 0.4064378514640295\n",
      "Threshold: 0.8  # Duplications: 4 Degree: 2 Lambda: 1\n"
     ]
    },
    {
     "name": "stderr",
     "output_type": "stream",
     "text": [
      "c:\\Users\\hany_\\anaconda3\\envs\\ml\\lib\\site-packages\\numpy\\linalg\\linalg.py:2180: RuntimeWarning: overflow encountered in det\n",
      "  r = _umath_linalg.det(a, signature=signature)\n"
     ]
    },
    {
     "name": "stdout",
     "output_type": "stream",
     "text": [
      "Accuracy: 0.8618861139470035\n",
      "F1-score: 0.39806083145172005\n",
      "Threshold: 0.8  # Duplications: 4 Degree: 3 Lambda: 0\n"
     ]
    },
    {
     "name": "stderr",
     "output_type": "stream",
     "text": [
      "c:\\Users\\hany_\\anaconda3\\envs\\ml\\lib\\site-packages\\numpy\\linalg\\linalg.py:2180: RuntimeWarning: overflow encountered in det\n",
      "  r = _umath_linalg.det(a, signature=signature)\n"
     ]
    },
    {
     "name": "stdout",
     "output_type": "stream",
     "text": [
      "Accuracy: 0.9040334008868302\n",
      "F1-score: 0.06028051327961802\n",
      "Threshold: 0.8  # Duplications: 4 Degree: 3 Lambda: 0.0001\n"
     ]
    },
    {
     "name": "stderr",
     "output_type": "stream",
     "text": [
      "c:\\Users\\hany_\\anaconda3\\envs\\ml\\lib\\site-packages\\numpy\\linalg\\linalg.py:2180: RuntimeWarning: overflow encountered in det\n",
      "  r = _umath_linalg.det(a, signature=signature)\n"
     ]
    },
    {
     "name": "stdout",
     "output_type": "stream",
     "text": [
      "Accuracy: 0.8536120803937404\n",
      "F1-score: 0.4149564581937762\n",
      "Threshold: 0.8  # Duplications: 4 Degree: 3 Lambda: 0.0005\n"
     ]
    },
    {
     "name": "stderr",
     "output_type": "stream",
     "text": [
      "c:\\Users\\hany_\\anaconda3\\envs\\ml\\lib\\site-packages\\numpy\\linalg\\linalg.py:2180: RuntimeWarning: overflow encountered in det\n",
      "  r = _umath_linalg.det(a, signature=signature)\n"
     ]
    },
    {
     "name": "stdout",
     "output_type": "stream",
     "text": [
      "Accuracy: 0.8553644079418532\n",
      "F1-score: 0.4172396856581532\n",
      "Threshold: 0.8  # Duplications: 4 Degree: 3 Lambda: 0.001\n"
     ]
    },
    {
     "name": "stderr",
     "output_type": "stream",
     "text": [
      "c:\\Users\\hany_\\anaconda3\\envs\\ml\\lib\\site-packages\\numpy\\linalg\\linalg.py:2180: RuntimeWarning: overflow encountered in det\n",
      "  r = _umath_linalg.det(a, signature=signature)\n"
     ]
    },
    {
     "name": "stdout",
     "output_type": "stream",
     "text": [
      "Accuracy: 0.8553644079418532\n",
      "F1-score: 0.4175257731958763\n",
      "Threshold: 0.8  # Duplications: 4 Degree: 3 Lambda: 0.005\n"
     ]
    },
    {
     "name": "stderr",
     "output_type": "stream",
     "text": [
      "c:\\Users\\hany_\\anaconda3\\envs\\ml\\lib\\site-packages\\numpy\\linalg\\linalg.py:2180: RuntimeWarning: overflow encountered in det\n",
      "  r = _umath_linalg.det(a, signature=signature)\n"
     ]
    },
    {
     "name": "stdout",
     "output_type": "stream",
     "text": [
      "Accuracy: 0.8554863089886784\n",
      "F1-score: 0.4164410534088112\n",
      "Threshold: 0.8  # Duplications: 4 Degree: 3 Lambda: 0.01\n"
     ]
    },
    {
     "name": "stderr",
     "output_type": "stream",
     "text": [
      "c:\\Users\\hany_\\anaconda3\\envs\\ml\\lib\\site-packages\\numpy\\linalg\\linalg.py:2180: RuntimeWarning: overflow encountered in det\n",
      "  r = _umath_linalg.det(a, signature=signature)\n"
     ]
    },
    {
     "name": "stdout",
     "output_type": "stream",
     "text": [
      "Accuracy: 0.85563868529721\n",
      "F1-score: 0.4161942321912744\n",
      "Threshold: 0.8  # Duplications: 4 Degree: 3 Lambda: 0.05\n"
     ]
    },
    {
     "name": "stderr",
     "output_type": "stream",
     "text": [
      "c:\\Users\\hany_\\anaconda3\\envs\\ml\\lib\\site-packages\\numpy\\linalg\\linalg.py:2180: RuntimeWarning: overflow encountered in det\n",
      "  r = _umath_linalg.det(a, signature=signature)\n"
     ]
    },
    {
     "name": "stdout",
     "output_type": "stream",
     "text": [
      "Accuracy: 0.8563548539473083\n",
      "F1-score: 0.4156697452426703\n",
      "Threshold: 0.8  # Duplications: 4 Degree: 3 Lambda: 0.1\n"
     ]
    },
    {
     "name": "stderr",
     "output_type": "stream",
     "text": [
      "c:\\Users\\hany_\\anaconda3\\envs\\ml\\lib\\site-packages\\numpy\\linalg\\linalg.py:2180: RuntimeWarning: overflow encountered in det\n",
      "  r = _umath_linalg.det(a, signature=signature)\n"
     ]
    },
    {
     "name": "stdout",
     "output_type": "stream",
     "text": [
      "Accuracy: 0.856613893671812\n",
      "F1-score: 0.41429104942113776\n",
      "Threshold: 0.8  # Duplications: 4 Degree: 3 Lambda: 0.5\n"
     ]
    },
    {
     "name": "stderr",
     "output_type": "stream",
     "text": [
      "c:\\Users\\hany_\\anaconda3\\envs\\ml\\lib\\site-packages\\numpy\\linalg\\linalg.py:2180: RuntimeWarning: overflow encountered in det\n",
      "  r = _umath_linalg.det(a, signature=signature)\n"
     ]
    },
    {
     "name": "stdout",
     "output_type": "stream",
     "text": [
      "Accuracy: 0.8578633794017706\n",
      "F1-score: 0.407520325203252\n",
      "Threshold: 0.8  # Duplications: 4 Degree: 3 Lambda: 1\n"
     ]
    },
    {
     "name": "stderr",
     "output_type": "stream",
     "text": [
      "c:\\Users\\hany_\\anaconda3\\envs\\ml\\lib\\site-packages\\numpy\\linalg\\linalg.py:2180: RuntimeWarning: overflow encountered in det\n",
      "  r = _umath_linalg.det(a, signature=signature)\n"
     ]
    },
    {
     "name": "stdout",
     "output_type": "stream",
     "text": [
      "Accuracy: 0.8580614686028616\n",
      "F1-score: 0.40138808559861183\n",
      "Threshold: 0.8  # Duplications: 4 Degree: 4 Lambda: 0\n"
     ]
    },
    {
     "name": "stderr",
     "output_type": "stream",
     "text": [
      "c:\\Users\\hany_\\anaconda3\\envs\\ml\\lib\\site-packages\\numpy\\linalg\\linalg.py:2180: RuntimeWarning: overflow encountered in det\n",
      "  r = _umath_linalg.det(a, signature=signature)\n"
     ]
    },
    {
     "name": "stdout",
     "output_type": "stream",
     "text": [
      "Accuracy: 0.6772365032684718\n",
      "F1-score: 0.2399167503947179\n",
      "Threshold: 0.8  # Duplications: 4 Degree: 4 Lambda: 0.0001\n"
     ]
    },
    {
     "name": "stderr",
     "output_type": "stream",
     "text": [
      "c:\\Users\\hany_\\anaconda3\\envs\\ml\\lib\\site-packages\\numpy\\linalg\\linalg.py:2180: RuntimeWarning: overflow encountered in det\n",
      "  r = _umath_linalg.det(a, signature=signature)\n"
     ]
    },
    {
     "name": "stdout",
     "output_type": "stream",
     "text": [
      "Accuracy: 0.847776067776982\n",
      "F1-score: 0.4097140155991491\n",
      "Threshold: 0.8  # Duplications: 4 Degree: 4 Lambda: 0.0005\n"
     ]
    },
    {
     "name": "stderr",
     "output_type": "stream",
     "text": [
      "c:\\Users\\hany_\\anaconda3\\envs\\ml\\lib\\site-packages\\numpy\\linalg\\linalg.py:2180: RuntimeWarning: overflow encountered in det\n",
      "  r = _umath_linalg.det(a, signature=signature)\n"
     ]
    },
    {
     "name": "stdout",
     "output_type": "stream",
     "text": [
      "Accuracy: 0.8480351075014857\n",
      "F1-score: 0.41019575374061157\n",
      "Threshold: 0.8  # Duplications: 4 Degree: 4 Lambda: 0.001\n"
     ]
    },
    {
     "name": "stderr",
     "output_type": "stream",
     "text": [
      "c:\\Users\\hany_\\anaconda3\\envs\\ml\\lib\\site-packages\\numpy\\linalg\\linalg.py:2180: RuntimeWarning: overflow encountered in det\n",
      "  r = _umath_linalg.det(a, signature=signature)\n"
     ]
    },
    {
     "name": "stdout",
     "output_type": "stream",
     "text": [
      "Accuracy: 0.8535511298703278\n",
      "F1-score: 0.41641872609144454\n",
      "Threshold: 0.8  # Duplications: 4 Degree: 4 Lambda: 0.005\n"
     ]
    },
    {
     "name": "stderr",
     "output_type": "stream",
     "text": [
      "c:\\Users\\hany_\\anaconda3\\envs\\ml\\lib\\site-packages\\numpy\\linalg\\linalg.py:2180: RuntimeWarning: overflow encountered in det\n",
      "  r = _umath_linalg.det(a, signature=signature)\n"
     ]
    },
    {
     "name": "stdout",
     "output_type": "stream",
     "text": [
      "Accuracy: 0.8551053682173496\n",
      "F1-score: 0.41623181287985755\n",
      "Threshold: 0.8  # Duplications: 4 Degree: 4 Lambda: 0.01\n"
     ]
    },
    {
     "name": "stderr",
     "output_type": "stream",
     "text": [
      "c:\\Users\\hany_\\anaconda3\\envs\\ml\\lib\\site-packages\\numpy\\linalg\\linalg.py:2180: RuntimeWarning: overflow encountered in det\n",
      "  r = _umath_linalg.det(a, signature=signature)\n"
     ]
    },
    {
     "name": "stdout",
     "output_type": "stream",
     "text": [
      "Accuracy: 0.8556996358206226\n",
      "F1-score: 0.4165126309303759\n",
      "Threshold: 0.8  # Duplications: 4 Degree: 4 Lambda: 0.05\n"
     ]
    },
    {
     "name": "stderr",
     "output_type": "stream",
     "text": [
      "c:\\Users\\hany_\\anaconda3\\envs\\ml\\lib\\site-packages\\numpy\\linalg\\linalg.py:2180: RuntimeWarning: overflow encountered in det\n",
      "  r = _umath_linalg.det(a, signature=signature)\n"
     ]
    },
    {
     "name": "stdout",
     "output_type": "stream",
     "text": [
      "Accuracy: 0.8572538741676444\n",
      "F1-score: 0.41690526577866305\n",
      "Threshold: 0.8  # Duplications: 4 Degree: 4 Lambda: 0.1\n"
     ]
    },
    {
     "name": "stderr",
     "output_type": "stream",
     "text": [
      "c:\\Users\\hany_\\anaconda3\\envs\\ml\\lib\\site-packages\\numpy\\linalg\\linalg.py:2180: RuntimeWarning: overflow encountered in det\n",
      "  r = _umath_linalg.det(a, signature=signature)\n"
     ]
    },
    {
     "name": "stdout",
     "output_type": "stream",
     "text": [
      "Accuracy: 0.8571776860133786\n",
      "F1-score: 0.414809265155772\n",
      "Threshold: 0.8  # Duplications: 4 Degree: 4 Lambda: 0.5\n"
     ]
    },
    {
     "name": "stderr",
     "output_type": "stream",
     "text": [
      "c:\\Users\\hany_\\anaconda3\\envs\\ml\\lib\\site-packages\\numpy\\linalg\\linalg.py:2180: RuntimeWarning: overflow encountered in det\n",
      "  r = _umath_linalg.det(a, signature=signature)\n"
     ]
    },
    {
     "name": "stdout",
     "output_type": "stream",
     "text": [
      "Accuracy: 0.8567510323494903\n",
      "F1-score: 0.407885620709202\n",
      "Threshold: 0.8  # Duplications: 4 Degree: 4 Lambda: 1\n"
     ]
    },
    {
     "name": "stderr",
     "output_type": "stream",
     "text": [
      "c:\\Users\\hany_\\anaconda3\\envs\\ml\\lib\\site-packages\\numpy\\linalg\\linalg.py:2180: RuntimeWarning: overflow encountered in det\n",
      "  r = _umath_linalg.det(a, signature=signature)\n"
     ]
    },
    {
     "name": "stdout",
     "output_type": "stream",
     "text": [
      "Accuracy: 0.8558824873908605\n",
      "F1-score: 0.3999492450196675\n",
      "Threshold: 0.8  # Duplications: 4 Degree: 5 Lambda: 0\n"
     ]
    },
    {
     "name": "stderr",
     "output_type": "stream",
     "text": [
      "c:\\Users\\hany_\\anaconda3\\envs\\ml\\lib\\site-packages\\numpy\\linalg\\linalg.py:2180: RuntimeWarning: overflow encountered in det\n",
      "  r = _umath_linalg.det(a, signature=signature)\n"
     ]
    },
    {
     "name": "stdout",
     "output_type": "stream",
     "text": [
      "Accuracy: 0.42238712724945526\n",
      "F1-score: 0.16040222374803426\n",
      "Threshold: 0.8  # Duplications: 4 Degree: 5 Lambda: 0.0001\n"
     ]
    },
    {
     "name": "stderr",
     "output_type": "stream",
     "text": [
      "c:\\Users\\hany_\\anaconda3\\envs\\ml\\lib\\site-packages\\numpy\\linalg\\linalg.py:2180: RuntimeWarning: overflow encountered in det\n",
      "  r = _umath_linalg.det(a, signature=signature)\n"
     ]
    },
    {
     "name": "stdout",
     "output_type": "stream",
     "text": [
      "Accuracy: 0.8522864065095159\n",
      "F1-score: 0.41440135314727555\n",
      "Threshold: 0.8  # Duplications: 4 Degree: 5 Lambda: 0.0005\n"
     ]
    },
    {
     "name": "stderr",
     "output_type": "stream",
     "text": [
      "c:\\Users\\hany_\\anaconda3\\envs\\ml\\lib\\site-packages\\numpy\\linalg\\linalg.py:2180: RuntimeWarning: overflow encountered in det\n",
      "  r = _umath_linalg.det(a, signature=signature)\n"
     ]
    },
    {
     "name": "stdout",
     "output_type": "stream",
     "text": [
      "Accuracy: 0.854754902707727\n",
      "F1-score: 0.4170030581039756\n",
      "Threshold: 0.8  # Duplications: 4 Degree: 5 Lambda: 0.001\n"
     ]
    },
    {
     "name": "stderr",
     "output_type": "stream",
     "text": [
      "c:\\Users\\hany_\\anaconda3\\envs\\ml\\lib\\site-packages\\numpy\\linalg\\linalg.py:2180: RuntimeWarning: overflow encountered in det\n",
      "  r = _umath_linalg.det(a, signature=signature)\n"
     ]
    },
    {
     "name": "stdout",
     "output_type": "stream",
     "text": [
      "Accuracy: 0.8550748929556432\n",
      "F1-score: 0.41711098853955997\n",
      "Threshold: 0.8  # Duplications: 4 Degree: 5 Lambda: 0.005\n"
     ]
    },
    {
     "name": "stderr",
     "output_type": "stream",
     "text": [
      "c:\\Users\\hany_\\anaconda3\\envs\\ml\\lib\\site-packages\\numpy\\linalg\\linalg.py:2180: RuntimeWarning: overflow encountered in det\n",
      "  r = _umath_linalg.det(a, signature=signature)\n"
     ]
    },
    {
     "name": "stdout",
     "output_type": "stream",
     "text": [
      "Accuracy: 0.8562329529004831\n",
      "F1-score: 0.4182031201825245\n",
      "Threshold: 0.8  # Duplications: 4 Degree: 5 Lambda: 0.01\n"
     ]
    },
    {
     "name": "stderr",
     "output_type": "stream",
     "text": [
      "c:\\Users\\hany_\\anaconda3\\envs\\ml\\lib\\site-packages\\numpy\\linalg\\linalg.py:2180: RuntimeWarning: overflow encountered in det\n",
      "  r = _umath_linalg.det(a, signature=signature)\n"
     ]
    },
    {
     "name": "stdout",
     "output_type": "stream",
     "text": [
      "Accuracy: 0.8564767549941336\n",
      "F1-score: 0.41732137333745745\n",
      "Threshold: 0.8  # Duplications: 4 Degree: 5 Lambda: 0.05\n"
     ]
    },
    {
     "name": "stderr",
     "output_type": "stream",
     "text": [
      "c:\\Users\\hany_\\anaconda3\\envs\\ml\\lib\\site-packages\\numpy\\linalg\\linalg.py:2180: RuntimeWarning: overflow encountered in det\n",
      "  r = _umath_linalg.det(a, signature=signature)\n"
     ]
    },
    {
     "name": "stdout",
     "output_type": "stream",
     "text": [
      "Accuracy: 0.8577110030932391\n",
      "F1-score: 0.41724912631053424\n",
      "Threshold: 0.8  # Duplications: 4 Degree: 5 Lambda: 0.1\n"
     ]
    },
    {
     "name": "stderr",
     "output_type": "stream",
     "text": [
      "c:\\Users\\hany_\\anaconda3\\envs\\ml\\lib\\site-packages\\numpy\\linalg\\linalg.py:2180: RuntimeWarning: overflow encountered in det\n",
      "  r = _umath_linalg.det(a, signature=signature)\n"
     ]
    },
    {
     "name": "stdout",
     "output_type": "stream",
     "text": [
      "Accuracy: 0.8574214881070291\n",
      "F1-score: 0.4150046889653017\n",
      "Threshold: 0.8  # Duplications: 4 Degree: 5 Lambda: 0.5\n"
     ]
    },
    {
     "name": "stderr",
     "output_type": "stream",
     "text": [
      "c:\\Users\\hany_\\anaconda3\\envs\\ml\\lib\\site-packages\\numpy\\linalg\\linalg.py:2180: RuntimeWarning: overflow encountered in det\n",
      "  r = _umath_linalg.det(a, signature=signature)\n"
     ]
    },
    {
     "name": "stdout",
     "output_type": "stream",
     "text": [
      "Accuracy: 0.8579548051868895\n",
      "F1-score: 0.4094767515520081\n",
      "Threshold: 0.8  # Duplications: 4 Degree: 5 Lambda: 1\n"
     ]
    },
    {
     "name": "stderr",
     "output_type": "stream",
     "text": [
      "c:\\Users\\hany_\\anaconda3\\envs\\ml\\lib\\site-packages\\numpy\\linalg\\linalg.py:2180: RuntimeWarning: overflow encountered in det\n",
      "  r = _umath_linalg.det(a, signature=signature)\n"
     ]
    },
    {
     "name": "stdout",
     "output_type": "stream",
     "text": [
      "Accuracy: 0.856918646288875\n",
      "F1-score: 0.4030514939605849\n",
      "Threshold: 0.8  # Duplications: 5 Degree: 1 Lambda: 0\n"
     ]
    },
    {
     "name": "stderr",
     "output_type": "stream",
     "text": [
      "c:\\Users\\hany_\\anaconda3\\envs\\ml\\lib\\site-packages\\numpy\\linalg\\linalg.py:2180: RuntimeWarning: overflow encountered in det\n",
      "  r = _umath_linalg.det(a, signature=signature)\n"
     ]
    },
    {
     "name": "stdout",
     "output_type": "stream",
     "text": [
      "Accuracy: 0.9090161061758117\n",
      "F1-score: 0.013872832369942197\n",
      "Threshold: 0.8  # Duplications: 5 Degree: 1 Lambda: 0.0001\n"
     ]
    },
    {
     "name": "stderr",
     "output_type": "stream",
     "text": [
      "c:\\Users\\hany_\\anaconda3\\envs\\ml\\lib\\site-packages\\numpy\\linalg\\linalg.py:2180: RuntimeWarning: overflow encountered in det\n",
      "  r = _umath_linalg.det(a, signature=signature)\n"
     ]
    },
    {
     "name": "stdout",
     "output_type": "stream",
     "text": [
      "Accuracy: 0.8336203087144011\n",
      "F1-score: 0.405186032576129\n",
      "Threshold: 0.8  # Duplications: 5 Degree: 1 Lambda: 0.0005\n"
     ]
    },
    {
     "name": "stderr",
     "output_type": "stream",
     "text": [
      "c:\\Users\\hany_\\anaconda3\\envs\\ml\\lib\\site-packages\\numpy\\linalg\\linalg.py:2180: RuntimeWarning: overflow encountered in det\n",
      "  r = _umath_linalg.det(a, signature=signature)\n"
     ]
    },
    {
     "name": "stdout",
     "output_type": "stream",
     "text": [
      "Accuracy: 0.8336355463452543\n",
      "F1-score: 0.4054672184709214\n",
      "Threshold: 0.8  # Duplications: 5 Degree: 1 Lambda: 0.001\n"
     ]
    },
    {
     "name": "stderr",
     "output_type": "stream",
     "text": [
      "c:\\Users\\hany_\\anaconda3\\envs\\ml\\lib\\site-packages\\numpy\\linalg\\linalg.py:2180: RuntimeWarning: overflow encountered in det\n",
      "  r = _umath_linalg.det(a, signature=signature)\n"
     ]
    },
    {
     "name": "stdout",
     "output_type": "stream",
     "text": [
      "Accuracy: 0.8335441205601353\n",
      "F1-score: 0.4053347849755035\n",
      "Threshold: 0.8  # Duplications: 5 Degree: 1 Lambda: 0.005\n"
     ]
    },
    {
     "name": "stderr",
     "output_type": "stream",
     "text": [
      "c:\\Users\\hany_\\anaconda3\\envs\\ml\\lib\\site-packages\\numpy\\linalg\\linalg.py:2180: RuntimeWarning: overflow encountered in det\n",
      "  r = _umath_linalg.det(a, signature=signature)\n"
     ]
    },
    {
     "name": "stdout",
     "output_type": "stream",
     "text": [
      "Accuracy: 0.8327670013866244\n",
      "F1-score: 0.40524575949710073\n",
      "Threshold: 0.8  # Duplications: 5 Degree: 1 Lambda: 0.01\n"
     ]
    },
    {
     "name": "stderr",
     "output_type": "stream",
     "text": [
      "c:\\Users\\hany_\\anaconda3\\envs\\ml\\lib\\site-packages\\numpy\\linalg\\linalg.py:2180: RuntimeWarning: overflow encountered in det\n",
      "  r = _umath_linalg.det(a, signature=signature)\n"
     ]
    },
    {
     "name": "stdout",
     "output_type": "stream",
     "text": [
      "Accuracy: 0.8316851295960505\n",
      "F1-score: 0.40472084500970035\n",
      "Threshold: 0.8  # Duplications: 5 Degree: 1 Lambda: 0.05\n"
     ]
    },
    {
     "name": "stderr",
     "output_type": "stream",
     "text": [
      "c:\\Users\\hany_\\anaconda3\\envs\\ml\\lib\\site-packages\\numpy\\linalg\\linalg.py:2180: RuntimeWarning: overflow encountered in det\n",
      "  r = _umath_linalg.det(a, signature=signature)\n"
     ]
    },
    {
     "name": "stdout",
     "output_type": "stream",
     "text": [
      "Accuracy: 0.8232739573651089\n",
      "F1-score: 0.40024821594787463\n",
      "Threshold: 0.8  # Duplications: 5 Degree: 1 Lambda: 0.1\n"
     ]
    },
    {
     "name": "stderr",
     "output_type": "stream",
     "text": [
      "c:\\Users\\hany_\\anaconda3\\envs\\ml\\lib\\site-packages\\numpy\\linalg\\linalg.py:2180: RuntimeWarning: overflow encountered in det\n",
      "  r = _umath_linalg.det(a, signature=signature)\n"
     ]
    },
    {
     "name": "stdout",
     "output_type": "stream",
     "text": [
      "Accuracy: 0.8132018833711735\n",
      "F1-score: 0.39512508017960224\n",
      "Threshold: 0.8  # Duplications: 5 Degree: 1 Lambda: 0.5\n"
     ]
    },
    {
     "name": "stderr",
     "output_type": "stream",
     "text": [
      "c:\\Users\\hany_\\anaconda3\\envs\\ml\\lib\\site-packages\\numpy\\linalg\\linalg.py:2180: RuntimeWarning: overflow encountered in det\n",
      "  r = _umath_linalg.det(a, signature=signature)\n"
     ]
    },
    {
     "name": "stdout",
     "output_type": "stream",
     "text": [
      "Accuracy: 0.7509409237051823\n",
      "F1-score: 0.3553539735752317\n",
      "Threshold: 0.8  # Duplications: 5 Degree: 1 Lambda: 1\n"
     ]
    },
    {
     "name": "stderr",
     "output_type": "stream",
     "text": [
      "c:\\Users\\hany_\\anaconda3\\envs\\ml\\lib\\site-packages\\numpy\\linalg\\linalg.py:2180: RuntimeWarning: overflow encountered in det\n",
      "  r = _umath_linalg.det(a, signature=signature)\n"
     ]
    },
    {
     "name": "stdout",
     "output_type": "stream",
     "text": [
      "Accuracy: 0.7093726667377757\n",
      "F1-score: 0.3326218552083698\n",
      "Threshold: 0.8  # Duplications: 5 Degree: 2 Lambda: 0\n"
     ]
    },
    {
     "name": "stderr",
     "output_type": "stream",
     "text": [
      "c:\\Users\\hany_\\anaconda3\\envs\\ml\\lib\\site-packages\\numpy\\linalg\\linalg.py:2180: RuntimeWarning: overflow encountered in det\n",
      "  r = _umath_linalg.det(a, signature=signature)\n"
     ]
    },
    {
     "name": "stdout",
     "output_type": "stream",
     "text": [
      "Accuracy: 0.8269767016624255\n",
      "F1-score: 0.4009496175151675\n",
      "Threshold: 0.8  # Duplications: 5 Degree: 2 Lambda: 0.0001\n"
     ]
    },
    {
     "name": "stderr",
     "output_type": "stream",
     "text": [
      "c:\\Users\\hany_\\anaconda3\\envs\\ml\\lib\\site-packages\\numpy\\linalg\\linalg.py:2180: RuntimeWarning: overflow encountered in det\n",
      "  r = _umath_linalg.det(a, signature=signature)\n"
     ]
    },
    {
     "name": "stdout",
     "output_type": "stream",
     "text": [
      "Accuracy: 0.8281804744998248\n",
      "F1-score: 0.40250105977108946\n",
      "Threshold: 0.8  # Duplications: 5 Degree: 2 Lambda: 0.0005\n"
     ]
    },
    {
     "name": "stderr",
     "output_type": "stream",
     "text": [
      "c:\\Users\\hany_\\anaconda3\\envs\\ml\\lib\\site-packages\\numpy\\linalg\\linalg.py:2180: RuntimeWarning: overflow encountered in det\n",
      "  r = _umath_linalg.det(a, signature=signature)\n"
     ]
    },
    {
     "name": "stdout",
     "output_type": "stream",
     "text": [
      "Accuracy: 0.8296737623234339\n",
      "F1-score: 0.4047923322683706\n",
      "Threshold: 0.8  # Duplications: 5 Degree: 2 Lambda: 0.001\n"
     ]
    },
    {
     "name": "stderr",
     "output_type": "stream",
     "text": [
      "c:\\Users\\hany_\\anaconda3\\envs\\ml\\lib\\site-packages\\numpy\\linalg\\linalg.py:2180: RuntimeWarning: overflow encountered in det\n",
      "  r = _umath_linalg.det(a, signature=signature)\n"
     ]
    },
    {
     "name": "stdout",
     "output_type": "stream",
     "text": [
      "Accuracy: 0.8344583784113246\n",
      "F1-score: 0.410270328954511\n",
      "Threshold: 0.8  # Duplications: 5 Degree: 2 Lambda: 0.005\n"
     ]
    },
    {
     "name": "stderr",
     "output_type": "stream",
     "text": [
      "c:\\Users\\hany_\\anaconda3\\envs\\ml\\lib\\site-packages\\numpy\\linalg\\linalg.py:2180: RuntimeWarning: overflow encountered in det\n",
      "  r = _umath_linalg.det(a, signature=signature)\n"
     ]
    },
    {
     "name": "stdout",
     "output_type": "stream",
     "text": [
      "Accuracy: 0.8348850320752129\n",
      "F1-score: 0.4076746474253854\n",
      "Threshold: 0.8  # Duplications: 5 Degree: 2 Lambda: 0.01\n"
     ]
    },
    {
     "name": "stderr",
     "output_type": "stream",
     "text": [
      "c:\\Users\\hany_\\anaconda3\\envs\\ml\\lib\\site-packages\\numpy\\linalg\\linalg.py:2180: RuntimeWarning: overflow encountered in det\n",
      "  r = _umath_linalg.det(a, signature=signature)\n"
     ]
    },
    {
     "name": "stdout",
     "output_type": "stream",
     "text": [
      "Accuracy: 0.8351135965380103\n",
      "F1-score: 0.4074256612452768\n",
      "Threshold: 0.8  # Duplications: 5 Degree: 2 Lambda: 0.05\n"
     ]
    },
    {
     "name": "stderr",
     "output_type": "stream",
     "text": [
      "c:\\Users\\hany_\\anaconda3\\envs\\ml\\lib\\site-packages\\numpy\\linalg\\linalg.py:2180: RuntimeWarning: overflow encountered in det\n",
      "  r = _umath_linalg.det(a, signature=signature)\n"
     ]
    },
    {
     "name": "stdout",
     "output_type": "stream",
     "text": [
      "Accuracy: 0.8357383394029896\n",
      "F1-score: 0.40645303380684955\n",
      "Threshold: 0.8  # Duplications: 5 Degree: 2 Lambda: 0.1\n"
     ]
    },
    {
     "name": "stderr",
     "output_type": "stream",
     "text": [
      "c:\\Users\\hany_\\anaconda3\\envs\\ml\\lib\\site-packages\\numpy\\linalg\\linalg.py:2180: RuntimeWarning: overflow encountered in det\n",
      "  r = _umath_linalg.det(a, signature=signature)\n"
     ]
    },
    {
     "name": "stdout",
     "output_type": "stream",
     "text": [
      "Accuracy: 0.8362564188519969\n",
      "F1-score: 0.4059044670499779\n",
      "Threshold: 0.8  # Duplications: 5 Degree: 2 Lambda: 0.5\n"
     ]
    },
    {
     "name": "stderr",
     "output_type": "stream",
     "text": [
      "c:\\Users\\hany_\\anaconda3\\envs\\ml\\lib\\site-packages\\numpy\\linalg\\linalg.py:2180: RuntimeWarning: overflow encountered in det\n",
      "  r = _umath_linalg.det(a, signature=signature)\n"
     ]
    },
    {
     "name": "stdout",
     "output_type": "stream",
     "text": [
      "Accuracy: 0.8386030140033828\n",
      "F1-score: 0.3994102971195282\n",
      "Threshold: 0.8  # Duplications: 5 Degree: 2 Lambda: 1\n"
     ]
    },
    {
     "name": "stderr",
     "output_type": "stream",
     "text": [
      "c:\\Users\\hany_\\anaconda3\\envs\\ml\\lib\\site-packages\\numpy\\linalg\\linalg.py:2180: RuntimeWarning: overflow encountered in det\n",
      "  r = _umath_linalg.det(a, signature=signature)\n"
     ]
    },
    {
     "name": "stdout",
     "output_type": "stream",
     "text": [
      "Accuracy: 0.8405839060142929\n",
      "F1-score: 0.3949103528050896\n",
      "Threshold: 0.8  # Duplications: 5 Degree: 3 Lambda: 0\n"
     ]
    },
    {
     "name": "stderr",
     "output_type": "stream",
     "text": [
      "c:\\Users\\hany_\\anaconda3\\envs\\ml\\lib\\site-packages\\numpy\\linalg\\linalg.py:2180: RuntimeWarning: overflow encountered in det\n",
      "  r = _umath_linalg.det(a, signature=signature)\n"
     ]
    },
    {
     "name": "stdout",
     "output_type": "stream",
     "text": [
      "Accuracy: 0.09098389382418821\n",
      "F1-score: 0.15856582696267876\n",
      "Threshold: 0.8  # Duplications: 5 Degree: 3 Lambda: 0.0001\n"
     ]
    },
    {
     "name": "stderr",
     "output_type": "stream",
     "text": [
      "c:\\Users\\hany_\\anaconda3\\envs\\ml\\lib\\site-packages\\numpy\\linalg\\linalg.py:2180: RuntimeWarning: overflow encountered in det\n",
      "  r = _umath_linalg.det(a, signature=signature)\n"
     ]
    },
    {
     "name": "stdout",
     "output_type": "stream",
     "text": [
      "Accuracy: 0.8335593581909885\n",
      "F1-score: 0.40787119856887294\n",
      "Threshold: 0.8  # Duplications: 5 Degree: 3 Lambda: 0.0005\n"
     ]
    },
    {
     "name": "stderr",
     "output_type": "stream",
     "text": [
      "c:\\Users\\hany_\\anaconda3\\envs\\ml\\lib\\site-packages\\numpy\\linalg\\linalg.py:2180: RuntimeWarning: overflow encountered in det\n",
      "  r = _umath_linalg.det(a, signature=signature)\n"
     ]
    },
    {
     "name": "stdout",
     "output_type": "stream",
     "text": [
      "Accuracy: 0.8354640620476328\n",
      "F1-score: 0.40962274466921816\n",
      "Threshold: 0.8  # Duplications: 5 Degree: 3 Lambda: 0.001\n"
     ]
    },
    {
     "name": "stderr",
     "output_type": "stream",
     "text": [
      "c:\\Users\\hany_\\anaconda3\\envs\\ml\\lib\\site-packages\\numpy\\linalg\\linalg.py:2180: RuntimeWarning: overflow encountered in det\n",
      "  r = _umath_linalg.det(a, signature=signature)\n"
     ]
    },
    {
     "name": "stdout",
     "output_type": "stream",
     "text": [
      "Accuracy: 0.8352507352156887\n",
      "F1-score: 0.4088572990705303\n",
      "Threshold: 0.8  # Duplications: 5 Degree: 3 Lambda: 0.005\n"
     ]
    },
    {
     "name": "stderr",
     "output_type": "stream",
     "text": [
      "c:\\Users\\hany_\\anaconda3\\envs\\ml\\lib\\site-packages\\numpy\\linalg\\linalg.py:2180: RuntimeWarning: overflow encountered in det\n",
      "  r = _umath_linalg.det(a, signature=signature)\n"
     ]
    },
    {
     "name": "stdout",
     "output_type": "stream",
     "text": [
      "Accuracy: 0.8355097749401923\n",
      "F1-score: 0.40833104960263084\n",
      "Threshold: 0.8  # Duplications: 5 Degree: 3 Lambda: 0.01\n"
     ]
    },
    {
     "name": "stderr",
     "output_type": "stream",
     "text": [
      "c:\\Users\\hany_\\anaconda3\\envs\\ml\\lib\\site-packages\\numpy\\linalg\\linalg.py:2180: RuntimeWarning: overflow encountered in det\n",
      "  r = _umath_linalg.det(a, signature=signature)\n"
     ]
    },
    {
     "name": "stdout",
     "output_type": "stream",
     "text": [
      "Accuracy: 0.8351135965380103\n",
      "F1-score: 0.4080739565669274\n",
      "Threshold: 0.8  # Duplications: 5 Degree: 3 Lambda: 0.05\n"
     ]
    },
    {
     "name": "stderr",
     "output_type": "stream",
     "text": [
      "c:\\Users\\hany_\\anaconda3\\envs\\ml\\lib\\site-packages\\numpy\\linalg\\linalg.py:2180: RuntimeWarning: overflow encountered in det\n",
      "  r = _umath_linalg.det(a, signature=signature)\n"
     ]
    },
    {
     "name": "stdout",
     "output_type": "stream",
     "text": [
      "Accuracy: 0.8355250125710455\n",
      "F1-score: 0.40640123185217775\n",
      "Threshold: 0.8  # Duplications: 5 Degree: 3 Lambda: 0.1\n"
     ]
    },
    {
     "name": "stderr",
     "output_type": "stream",
     "text": [
      "c:\\Users\\hany_\\anaconda3\\envs\\ml\\lib\\site-packages\\numpy\\linalg\\linalg.py:2180: RuntimeWarning: overflow encountered in det\n",
      "  r = _umath_linalg.det(a, signature=signature)\n"
     ]
    },
    {
     "name": "stdout",
     "output_type": "stream",
     "text": [
      "Accuracy: 0.835966903865787\n",
      "F1-score: 0.40482114225686955\n",
      "Threshold: 0.8  # Duplications: 5 Degree: 3 Lambda: 0.5\n"
     ]
    },
    {
     "name": "stderr",
     "output_type": "stream",
     "text": [
      "c:\\Users\\hany_\\anaconda3\\envs\\ml\\lib\\site-packages\\numpy\\linalg\\linalg.py:2180: RuntimeWarning: overflow encountered in det\n",
      "  r = _umath_linalg.det(a, signature=signature)\n"
     ]
    },
    {
     "name": "stdout",
     "output_type": "stream",
     "text": [
      "Accuracy: 0.8372621024883051\n",
      "F1-score: 0.39885173927727113\n",
      "Threshold: 0.8  # Duplications: 5 Degree: 3 Lambda: 1\n"
     ]
    },
    {
     "name": "stderr",
     "output_type": "stream",
     "text": [
      "c:\\Users\\hany_\\anaconda3\\envs\\ml\\lib\\site-packages\\numpy\\linalg\\linalg.py:2180: RuntimeWarning: overflow encountered in det\n",
      "  r = _umath_linalg.det(a, signature=signature)\n"
     ]
    },
    {
     "name": "stdout",
     "output_type": "stream",
     "text": [
      "Accuracy: 0.8379935087692566\n",
      "F1-score: 0.39686861810755614\n",
      "Threshold: 0.8  # Duplications: 5 Degree: 4 Lambda: 0\n"
     ]
    },
    {
     "name": "stderr",
     "output_type": "stream",
     "text": [
      "c:\\Users\\hany_\\anaconda3\\envs\\ml\\lib\\site-packages\\numpy\\linalg\\linalg.py:2180: RuntimeWarning: overflow encountered in det\n",
      "  r = _umath_linalg.det(a, signature=signature)\n"
     ]
    },
    {
     "name": "stdout",
     "output_type": "stream",
     "text": [
      "Accuracy: 0.32277873436238136\n",
      "F1-score: 0.09453182299731072\n",
      "Threshold: 0.8  # Duplications: 5 Degree: 4 Lambda: 0.0001\n"
     ]
    },
    {
     "name": "stderr",
     "output_type": "stream",
     "text": [
      "c:\\Users\\hany_\\anaconda3\\envs\\ml\\lib\\site-packages\\numpy\\linalg\\linalg.py:2180: RuntimeWarning: overflow encountered in det\n",
      "  r = _umath_linalg.det(a, signature=signature)\n"
     ]
    },
    {
     "name": "stdout",
     "output_type": "stream",
     "text": [
      "Accuracy: 0.8277995337284959\n",
      "F1-score: 0.4035467356309706\n",
      "Threshold: 0.8  # Duplications: 5 Degree: 4 Lambda: 0.0005\n"
     ]
    },
    {
     "name": "stderr",
     "output_type": "stream",
     "text": [
      "c:\\Users\\hany_\\anaconda3\\envs\\ml\\lib\\site-packages\\numpy\\linalg\\linalg.py:2180: RuntimeWarning: overflow encountered in det\n",
      "  r = _umath_linalg.det(a, signature=signature)\n"
     ]
    },
    {
     "name": "stdout",
     "output_type": "stream",
     "text": [
      "Accuracy: 0.8279366724061743\n",
      "F1-score: 0.4038014783526927\n",
      "Threshold: 0.8  # Duplications: 5 Degree: 4 Lambda: 0.001\n"
     ]
    },
    {
     "name": "stderr",
     "output_type": "stream",
     "text": [
      "c:\\Users\\hany_\\anaconda3\\envs\\ml\\lib\\site-packages\\numpy\\linalg\\linalg.py:2180: RuntimeWarning: overflow encountered in det\n",
      "  r = _umath_linalg.det(a, signature=signature)\n"
     ]
    },
    {
     "name": "stdout",
     "output_type": "stream",
     "text": [
      "Accuracy: 0.8277690584667896\n",
      "F1-score: 0.40281079938711895\n",
      "Threshold: 0.8  # Duplications: 5 Degree: 4 Lambda: 0.005\n"
     ]
    },
    {
     "name": "stderr",
     "output_type": "stream",
     "text": [
      "c:\\Users\\hany_\\anaconda3\\envs\\ml\\lib\\site-packages\\numpy\\linalg\\linalg.py:2180: RuntimeWarning: overflow encountered in det\n",
      "  r = _umath_linalg.det(a, signature=signature)\n"
     ]
    },
    {
     "name": "stdout",
     "output_type": "stream",
     "text": [
      "Accuracy: 0.8352202599539823\n",
      "F1-score: 0.40990941831277966\n",
      "Threshold: 0.8  # Duplications: 5 Degree: 4 Lambda: 0.01\n"
     ]
    },
    {
     "name": "stderr",
     "output_type": "stream",
     "text": [
      "c:\\Users\\hany_\\anaconda3\\envs\\ml\\lib\\site-packages\\numpy\\linalg\\linalg.py:2180: RuntimeWarning: overflow encountered in det\n",
      "  r = _umath_linalg.det(a, signature=signature)\n"
     ]
    },
    {
     "name": "stdout",
     "output_type": "stream",
     "text": [
      "Accuracy: 0.8355554878327518\n",
      "F1-score: 0.4099507927829415\n",
      "Threshold: 0.8  # Duplications: 5 Degree: 4 Lambda: 0.05\n"
     ]
    },
    {
     "name": "stderr",
     "output_type": "stream",
     "text": [
      "c:\\Users\\hany_\\anaconda3\\envs\\ml\\lib\\site-packages\\numpy\\linalg\\linalg.py:2180: RuntimeWarning: overflow encountered in det\n",
      "  r = _umath_linalg.det(a, signature=signature)\n"
     ]
    },
    {
     "name": "stdout",
     "output_type": "stream",
     "text": [
      "Accuracy: 0.8358602404498149\n",
      "F1-score: 0.40715465052283983\n",
      "Threshold: 0.8  # Duplications: 5 Degree: 4 Lambda: 0.1\n"
     ]
    },
    {
     "name": "stderr",
     "output_type": "stream",
     "text": [
      "c:\\Users\\hany_\\anaconda3\\envs\\ml\\lib\\site-packages\\numpy\\linalg\\linalg.py:2180: RuntimeWarning: overflow encountered in det\n",
      "  r = _umath_linalg.det(a, signature=signature)\n"
     ]
    },
    {
     "name": "stdout",
     "output_type": "stream",
     "text": [
      "Accuracy: 0.8362716564828501\n",
      "F1-score: 0.4054667183090798\n",
      "Threshold: 0.8  # Duplications: 5 Degree: 4 Lambda: 0.5\n"
     ]
    },
    {
     "name": "stderr",
     "output_type": "stream",
     "text": [
      "c:\\Users\\hany_\\anaconda3\\envs\\ml\\lib\\site-packages\\numpy\\linalg\\linalg.py:2180: RuntimeWarning: overflow encountered in det\n",
      "  r = _umath_linalg.det(a, signature=signature)\n"
     ]
    },
    {
     "name": "stdout",
     "output_type": "stream",
     "text": [
      "Accuracy: 0.8357231017721365\n",
      "F1-score: 0.39948755082715975\n",
      "Threshold: 0.8  # Duplications: 5 Degree: 4 Lambda: 1\n"
     ]
    },
    {
     "name": "stderr",
     "output_type": "stream",
     "text": [
      "c:\\Users\\hany_\\anaconda3\\envs\\ml\\lib\\site-packages\\numpy\\linalg\\linalg.py:2180: RuntimeWarning: overflow encountered in det\n",
      "  r = _umath_linalg.det(a, signature=signature)\n"
     ]
    },
    {
     "name": "stdout",
     "output_type": "stream",
     "text": [
      "Accuracy: 0.835875478080668\n",
      "F1-score: 0.3955328581850833\n",
      "Threshold: 0.8  # Duplications: 5 Degree: 5 Lambda: 0\n"
     ]
    },
    {
     "name": "stderr",
     "output_type": "stream",
     "text": [
      "c:\\Users\\hany_\\anaconda3\\envs\\ml\\lib\\site-packages\\numpy\\linalg\\linalg.py:2180: RuntimeWarning: overflow encountered in det\n",
      "  r = _umath_linalg.det(a, signature=signature)\n"
     ]
    },
    {
     "name": "stdout",
     "output_type": "stream",
     "text": [
      "Accuracy: 0.32276349673152815\n",
      "F1-score: 0.0945298971172456\n",
      "Threshold: 0.8  # Duplications: 5 Degree: 5 Lambda: 0.0001\n"
     ]
    },
    {
     "name": "stderr",
     "output_type": "stream",
     "text": [
      "c:\\Users\\hany_\\anaconda3\\envs\\ml\\lib\\site-packages\\numpy\\linalg\\linalg.py:2180: RuntimeWarning: overflow encountered in det\n",
      "  r = _umath_linalg.det(a, signature=signature)\n"
     ]
    },
    {
     "name": "stdout",
     "output_type": "stream",
     "text": [
      "Accuracy: 0.8320051198439666\n",
      "F1-score: 0.4069711150556721\n",
      "Threshold: 0.8  # Duplications: 5 Degree: 5 Lambda: 0.0005\n"
     ]
    },
    {
     "name": "stderr",
     "output_type": "stream",
     "text": [
      "c:\\Users\\hany_\\anaconda3\\envs\\ml\\lib\\site-packages\\numpy\\linalg\\linalg.py:2180: RuntimeWarning: overflow encountered in det\n",
      "  r = _umath_linalg.det(a, signature=signature)\n"
     ]
    },
    {
     "name": "stdout",
     "output_type": "stream",
     "text": [
      "Accuracy: 0.8338945860697579\n",
      "F1-score: 0.408614983996094\n",
      "Threshold: 0.8  # Duplications: 5 Degree: 5 Lambda: 0.001\n"
     ]
    },
    {
     "name": "stderr",
     "output_type": "stream",
     "text": [
      "c:\\Users\\hany_\\anaconda3\\envs\\ml\\lib\\site-packages\\numpy\\linalg\\linalg.py:2180: RuntimeWarning: overflow encountered in det\n",
      "  r = _umath_linalg.det(a, signature=signature)\n"
     ]
    },
    {
     "name": "stdout",
     "output_type": "stream",
     "text": [
      "Accuracy: 0.8341231505325551\n",
      "F1-score: 0.4084981525755271\n",
      "Threshold: 0.8  # Duplications: 5 Degree: 5 Lambda: 0.005\n"
     ]
    },
    {
     "name": "stderr",
     "output_type": "stream",
     "text": [
      "c:\\Users\\hany_\\anaconda3\\envs\\ml\\lib\\site-packages\\numpy\\linalg\\linalg.py:2180: RuntimeWarning: overflow encountered in det\n",
      "  r = _umath_linalg.det(a, signature=signature)\n"
     ]
    },
    {
     "name": "stdout",
     "output_type": "stream",
     "text": [
      "Accuracy: 0.8353269233699544\n",
      "F1-score: 0.4090983651375143\n",
      "Threshold: 0.8  # Duplications: 5 Degree: 5 Lambda: 0.01\n"
     ]
    },
    {
     "name": "stderr",
     "output_type": "stream",
     "text": [
      "c:\\Users\\hany_\\anaconda3\\envs\\ml\\lib\\site-packages\\numpy\\linalg\\linalg.py:2180: RuntimeWarning: overflow encountered in det\n",
      "  r = _umath_linalg.det(a, signature=signature)\n"
     ]
    },
    {
     "name": "stdout",
     "output_type": "stream",
     "text": [
      "Accuracy: 0.8359821414966401\n",
      "F1-score: 0.409350307287094\n",
      "Threshold: 0.8  # Duplications: 5 Degree: 5 Lambda: 0.05\n"
     ]
    },
    {
     "name": "stderr",
     "output_type": "stream",
     "text": [
      "c:\\Users\\hany_\\anaconda3\\envs\\ml\\lib\\site-packages\\numpy\\linalg\\linalg.py:2180: RuntimeWarning: overflow encountered in det\n",
      "  r = _umath_linalg.det(a, signature=signature)\n"
     ]
    },
    {
     "name": "stdout",
     "output_type": "stream",
     "text": [
      "Accuracy: 0.8365916467307662\n",
      "F1-score: 0.4079063604240283\n",
      "Threshold: 0.8  # Duplications: 5 Degree: 5 Lambda: 0.1\n"
     ]
    },
    {
     "name": "stderr",
     "output_type": "stream",
     "text": [
      "c:\\Users\\hany_\\anaconda3\\envs\\ml\\lib\\site-packages\\numpy\\linalg\\linalg.py:2180: RuntimeWarning: overflow encountered in det\n",
      "  r = _umath_linalg.det(a, signature=signature)\n"
     ]
    },
    {
     "name": "stdout",
     "output_type": "stream",
     "text": [
      "Accuracy: 0.8368811617169762\n",
      "F1-score: 0.40662934427138187\n",
      "Threshold: 0.8  # Duplications: 5 Degree: 5 Lambda: 0.5\n"
     ]
    },
    {
     "name": "stderr",
     "output_type": "stream",
     "text": [
      "c:\\Users\\hany_\\anaconda3\\envs\\ml\\lib\\site-packages\\numpy\\linalg\\linalg.py:2180: RuntimeWarning: overflow encountered in det\n",
      "  r = _umath_linalg.det(a, signature=signature)\n"
     ]
    },
    {
     "name": "stdout",
     "output_type": "stream",
     "text": [
      "Accuracy: 0.8368049735627104\n",
      "F1-score: 0.40147535486755337\n",
      "Threshold: 0.8  # Duplications: 5 Degree: 5 Lambda: 1\n"
     ]
    },
    {
     "name": "stderr",
     "output_type": "stream",
     "text": [
      "c:\\Users\\hany_\\anaconda3\\envs\\ml\\lib\\site-packages\\numpy\\linalg\\linalg.py:2180: RuntimeWarning: overflow encountered in det\n",
      "  r = _umath_linalg.det(a, signature=signature)\n"
     ]
    },
    {
     "name": "stdout",
     "output_type": "stream",
     "text": [
      "Accuracy: 0.8366068843616195\n",
      "F1-score: 0.3976857832949503\n",
      "Threshold: 0.9  # Duplications: 2 Degree: 1 Lambda: 0\n"
     ]
    },
    {
     "name": "stderr",
     "output_type": "stream",
     "text": [
      "c:\\Users\\hany_\\anaconda3\\envs\\ml\\lib\\site-packages\\numpy\\linalg\\linalg.py:2180: RuntimeWarning: overflow encountered in det\n",
      "  r = _umath_linalg.det(a, signature=signature)\n"
     ]
    },
    {
     "name": "stdout",
     "output_type": "stream",
     "text": [
      "Accuracy: 0.8958203178569796\n",
      "F1-score: 0.401470716974525\n",
      "Threshold: 0.9  # Duplications: 2 Degree: 1 Lambda: 0.0001\n"
     ]
    },
    {
     "name": "stderr",
     "output_type": "stream",
     "text": [
      "c:\\Users\\hany_\\anaconda3\\envs\\ml\\lib\\site-packages\\numpy\\linalg\\linalg.py:2180: RuntimeWarning: overflow encountered in det\n",
      "  r = _umath_linalg.det(a, signature=signature)\n"
     ]
    },
    {
     "name": "stdout",
     "output_type": "stream",
     "text": [
      "Accuracy: 0.8956527039175949\n",
      "F1-score: 0.4011892270024484\n",
      "Threshold: 0.9  # Duplications: 2 Degree: 1 Lambda: 0.0005\n"
     ]
    },
    {
     "name": "stderr",
     "output_type": "stream",
     "text": [
      "c:\\Users\\hany_\\anaconda3\\envs\\ml\\lib\\site-packages\\numpy\\linalg\\linalg.py:2180: RuntimeWarning: overflow encountered in det\n",
      "  r = _umath_linalg.det(a, signature=signature)\n"
     ]
    },
    {
     "name": "stdout",
     "output_type": "stream",
     "text": [
      "Accuracy: 0.8957898425952733\n",
      "F1-score: 0.40202850397831597\n",
      "Threshold: 0.9  # Duplications: 2 Degree: 1 Lambda: 0.001\n"
     ]
    },
    {
     "name": "stderr",
     "output_type": "stream",
     "text": [
      "c:\\Users\\hany_\\anaconda3\\envs\\ml\\lib\\site-packages\\numpy\\linalg\\linalg.py:2180: RuntimeWarning: overflow encountered in det\n",
      "  r = _umath_linalg.det(a, signature=signature)\n"
     ]
    },
    {
     "name": "stdout",
     "output_type": "stream",
     "text": [
      "Accuracy: 0.8957136544410075\n",
      "F1-score: 0.4019573575672842\n",
      "Threshold: 0.9  # Duplications: 2 Degree: 1 Lambda: 0.005\n"
     ]
    },
    {
     "name": "stderr",
     "output_type": "stream",
     "text": [
      "c:\\Users\\hany_\\anaconda3\\envs\\ml\\lib\\site-packages\\numpy\\linalg\\linalg.py:2180: RuntimeWarning: overflow encountered in det\n",
      "  r = _umath_linalg.det(a, signature=signature)\n"
     ]
    },
    {
     "name": "stdout",
     "output_type": "stream",
     "text": [
      "Accuracy: 0.8958355554878328\n",
      "F1-score: 0.4025520013983569\n",
      "Threshold: 0.9  # Duplications: 2 Degree: 1 Lambda: 0.01\n"
     ]
    },
    {
     "name": "stderr",
     "output_type": "stream",
     "text": [
      "c:\\Users\\hany_\\anaconda3\\envs\\ml\\lib\\site-packages\\numpy\\linalg\\linalg.py:2180: RuntimeWarning: overflow encountered in det\n",
      "  r = _umath_linalg.det(a, signature=signature)\n"
     ]
    },
    {
     "name": "stdout",
     "output_type": "stream",
     "text": [
      "Accuracy: 0.8958507931186859\n",
      "F1-score: 0.40352561305524043\n",
      "Threshold: 0.9  # Duplications: 2 Degree: 1 Lambda: 0.05\n"
     ]
    },
    {
     "name": "stderr",
     "output_type": "stream",
     "text": [
      "c:\\Users\\hany_\\anaconda3\\envs\\ml\\lib\\site-packages\\numpy\\linalg\\linalg.py:2180: RuntimeWarning: overflow encountered in det\n",
      "  r = _umath_linalg.det(a, signature=signature)\n"
     ]
    },
    {
     "name": "stdout",
     "output_type": "stream",
     "text": [
      "Accuracy: 0.8926051777469639\n",
      "F1-score: 0.40573355817875206\n",
      "Threshold: 0.9  # Duplications: 2 Degree: 1 Lambda: 0.1\n"
     ]
    },
    {
     "name": "stderr",
     "output_type": "stream",
     "text": [
      "c:\\Users\\hany_\\anaconda3\\envs\\ml\\lib\\site-packages\\numpy\\linalg\\linalg.py:2180: RuntimeWarning: overflow encountered in det\n",
      "  r = _umath_linalg.det(a, signature=signature)\n"
     ]
    },
    {
     "name": "stdout",
     "output_type": "stream",
     "text": [
      "Accuracy: 0.8878662745516327\n",
      "F1-score: 0.40839295763325023\n",
      "Threshold: 0.9  # Duplications: 2 Degree: 1 Lambda: 0.5\n"
     ]
    },
    {
     "name": "stderr",
     "output_type": "stream",
     "text": [
      "c:\\Users\\hany_\\anaconda3\\envs\\ml\\lib\\site-packages\\numpy\\linalg\\linalg.py:2180: RuntimeWarning: overflow encountered in det\n",
      "  r = _umath_linalg.det(a, signature=signature)\n"
     ]
    },
    {
     "name": "stdout",
     "output_type": "stream",
     "text": [
      "Accuracy: 0.846877047556646\n",
      "F1-score: 0.4043625155592437\n",
      "Threshold: 0.9  # Duplications: 2 Degree: 1 Lambda: 1\n"
     ]
    },
    {
     "name": "stderr",
     "output_type": "stream",
     "text": [
      "c:\\Users\\hany_\\anaconda3\\envs\\ml\\lib\\site-packages\\numpy\\linalg\\linalg.py:2180: RuntimeWarning: overflow encountered in det\n",
      "  r = _umath_linalg.det(a, signature=signature)\n"
     ]
    },
    {
     "name": "stdout",
     "output_type": "stream",
     "text": [
      "Accuracy: 0.8054459292669176\n",
      "F1-score: 0.38175479372457877\n",
      "Threshold: 0.9  # Duplications: 2 Degree: 2 Lambda: 0\n"
     ]
    },
    {
     "name": "stderr",
     "output_type": "stream",
     "text": [
      "c:\\Users\\hany_\\anaconda3\\envs\\ml\\lib\\site-packages\\numpy\\linalg\\linalg.py:2180: RuntimeWarning: overflow encountered in det\n",
      "  r = _umath_linalg.det(a, signature=signature)\n"
     ]
    },
    {
     "name": "stdout",
     "output_type": "stream",
     "text": [
      "Accuracy: 0.6772212656376186\n",
      "F1-score: 0.2399081416627794\n",
      "Threshold: 0.9  # Duplications: 2 Degree: 2 Lambda: 0.0001\n"
     ]
    },
    {
     "name": "stderr",
     "output_type": "stream",
     "text": [
      "c:\\Users\\hany_\\anaconda3\\envs\\ml\\lib\\site-packages\\numpy\\linalg\\linalg.py:2180: RuntimeWarning: overflow encountered in det\n",
      "  r = _umath_linalg.det(a, signature=signature)\n"
     ]
    },
    {
     "name": "stdout",
     "output_type": "stream",
     "text": [
      "Accuracy: 0.8896338397305987\n",
      "F1-score: 0.4009593912827723\n",
      "Threshold: 0.9  # Duplications: 2 Degree: 2 Lambda: 0.0005\n"
     ]
    },
    {
     "name": "stderr",
     "output_type": "stream",
     "text": [
      "c:\\Users\\hany_\\anaconda3\\envs\\ml\\lib\\site-packages\\numpy\\linalg\\linalg.py:2180: RuntimeWarning: overflow encountered in det\n",
      "  r = _umath_linalg.det(a, signature=signature)\n"
     ]
    },
    {
     "name": "stdout",
     "output_type": "stream",
     "text": [
      "Accuracy: 0.8958507931186859\n",
      "F1-score: 0.4105217766278568\n",
      "Threshold: 0.9  # Duplications: 2 Degree: 2 Lambda: 0.001\n"
     ]
    },
    {
     "name": "stderr",
     "output_type": "stream",
     "text": [
      "c:\\Users\\hany_\\anaconda3\\envs\\ml\\lib\\site-packages\\numpy\\linalg\\linalg.py:2180: RuntimeWarning: overflow encountered in det\n",
      "  r = _umath_linalg.det(a, signature=signature)\n"
     ]
    },
    {
     "name": "stdout",
     "output_type": "stream",
     "text": [
      "Accuracy: 0.8963383973059869\n",
      "F1-score: 0.4082804209793859\n",
      "Threshold: 0.9  # Duplications: 2 Degree: 2 Lambda: 0.005\n"
     ]
    },
    {
     "name": "stderr",
     "output_type": "stream",
     "text": [
      "c:\\Users\\hany_\\anaconda3\\envs\\ml\\lib\\site-packages\\numpy\\linalg\\linalg.py:2180: RuntimeWarning: overflow encountered in det\n",
      "  r = _umath_linalg.det(a, signature=signature)\n"
     ]
    },
    {
     "name": "stdout",
     "output_type": "stream",
     "text": [
      "Accuracy: 0.8969783778018193\n",
      "F1-score: 0.4065654349161766\n",
      "Threshold: 0.9  # Duplications: 2 Degree: 2 Lambda: 0.01\n"
     ]
    },
    {
     "name": "stderr",
     "output_type": "stream",
     "text": [
      "c:\\Users\\hany_\\anaconda3\\envs\\ml\\lib\\site-packages\\numpy\\linalg\\linalg.py:2180: RuntimeWarning: overflow encountered in det\n",
      "  r = _umath_linalg.det(a, signature=signature)\n"
     ]
    },
    {
     "name": "stdout",
     "output_type": "stream",
     "text": [
      "Accuracy: 0.897039328325232\n",
      "F1-score: 0.40524601707596164\n",
      "Threshold: 0.9  # Duplications: 2 Degree: 2 Lambda: 0.05\n"
     ]
    },
    {
     "name": "stderr",
     "output_type": "stream",
     "text": [
      "c:\\Users\\hany_\\anaconda3\\envs\\ml\\lib\\site-packages\\numpy\\linalg\\linalg.py:2180: RuntimeWarning: overflow encountered in det\n",
      "  r = _umath_linalg.det(a, signature=signature)\n"
     ]
    },
    {
     "name": "stdout",
     "output_type": "stream",
     "text": [
      "Accuracy: 0.8978469227604492\n",
      "F1-score: 0.3996059466236791\n",
      "Threshold: 0.9  # Duplications: 2 Degree: 2 Lambda: 0.1\n"
     ]
    },
    {
     "name": "stderr",
     "output_type": "stream",
     "text": [
      "c:\\Users\\hany_\\anaconda3\\envs\\ml\\lib\\site-packages\\numpy\\linalg\\linalg.py:2180: RuntimeWarning: overflow encountered in det\n",
      "  r = _umath_linalg.det(a, signature=signature)\n"
     ]
    },
    {
     "name": "stdout",
     "output_type": "stream",
     "text": [
      "Accuracy: 0.8987459429807854\n",
      "F1-score: 0.3961835529304861\n",
      "Threshold: 0.9  # Duplications: 2 Degree: 2 Lambda: 0.5\n"
     ]
    },
    {
     "name": "stderr",
     "output_type": "stream",
     "text": [
      "c:\\Users\\hany_\\anaconda3\\envs\\ml\\lib\\site-packages\\numpy\\linalg\\linalg.py:2180: RuntimeWarning: overflow encountered in det\n",
      "  r = _umath_linalg.det(a, signature=signature)\n"
     ]
    },
    {
     "name": "stdout",
     "output_type": "stream",
     "text": [
      "Accuracy: 0.9001782802809819\n",
      "F1-score: 0.37520267048164047\n",
      "Threshold: 0.9  # Duplications: 2 Degree: 2 Lambda: 1\n"
     ]
    },
    {
     "name": "stderr",
     "output_type": "stream",
     "text": [
      "c:\\Users\\hany_\\anaconda3\\envs\\ml\\lib\\site-packages\\numpy\\linalg\\linalg.py:2180: RuntimeWarning: overflow encountered in det\n",
      "  r = _umath_linalg.det(a, signature=signature)\n"
     ]
    },
    {
     "name": "stdout",
     "output_type": "stream",
     "text": [
      "Accuracy: 0.9007268349916955\n",
      "F1-score: 0.35692429177771196\n",
      "Threshold: 0.9  # Duplications: 2 Degree: 3 Lambda: 0\n"
     ]
    },
    {
     "name": "stderr",
     "output_type": "stream",
     "text": [
      "c:\\Users\\hany_\\anaconda3\\envs\\ml\\lib\\site-packages\\numpy\\linalg\\linalg.py:2180: RuntimeWarning: overflow encountered in det\n",
      "  r = _umath_linalg.det(a, signature=signature)\n"
     ]
    },
    {
     "name": "stdout",
     "output_type": "stream",
     "text": [
      "Accuracy: 0.6396605055845918\n",
      "F1-score: 0.16744120546401914\n",
      "Threshold: 0.9  # Duplications: 2 Degree: 3 Lambda: 0.0001\n"
     ]
    },
    {
     "name": "stderr",
     "output_type": "stream",
     "text": [
      "c:\\Users\\hany_\\anaconda3\\envs\\ml\\lib\\site-packages\\numpy\\linalg\\linalg.py:2180: RuntimeWarning: overflow encountered in det\n",
      "  r = _umath_linalg.det(a, signature=signature)\n"
     ]
    },
    {
     "name": "stdout",
     "output_type": "stream",
     "text": [
      "Accuracy: 0.8942660795099578\n",
      "F1-score: 0.4076824583866837\n",
      "Threshold: 0.9  # Duplications: 2 Degree: 3 Lambda: 0.0005\n"
     ]
    },
    {
     "name": "stderr",
     "output_type": "stream",
     "text": [
      "c:\\Users\\hany_\\anaconda3\\envs\\ml\\lib\\site-packages\\numpy\\linalg\\linalg.py:2180: RuntimeWarning: overflow encountered in det\n",
      "  r = _umath_linalg.det(a, signature=signature)\n"
     ]
    },
    {
     "name": "stdout",
     "output_type": "stream",
     "text": [
      "Accuracy: 0.8964755359836653\n",
      "F1-score: 0.411265164644714\n",
      "Threshold: 0.9  # Duplications: 2 Degree: 3 Lambda: 0.001\n"
     ]
    },
    {
     "name": "stderr",
     "output_type": "stream",
     "text": [
      "c:\\Users\\hany_\\anaconda3\\envs\\ml\\lib\\site-packages\\numpy\\linalg\\linalg.py:2180: RuntimeWarning: overflow encountered in det\n",
      "  r = _umath_linalg.det(a, signature=signature)\n"
     ]
    },
    {
     "name": "stdout",
     "output_type": "stream",
     "text": [
      "Accuracy: 0.8964907736145185\n",
      "F1-score: 0.4100738167607469\n",
      "Threshold: 0.9  # Duplications: 2 Degree: 3 Lambda: 0.005\n"
     ]
    },
    {
     "name": "stderr",
     "output_type": "stream",
     "text": [
      "c:\\Users\\hany_\\anaconda3\\envs\\ml\\lib\\site-packages\\numpy\\linalg\\linalg.py:2180: RuntimeWarning: overflow encountered in det\n",
      "  r = _umath_linalg.det(a, signature=signature)\n"
     ]
    },
    {
     "name": "stdout",
     "output_type": "stream",
     "text": [
      "Accuracy: 0.8972526551571761\n",
      "F1-score: 0.4098030634573304\n",
      "Threshold: 0.9  # Duplications: 2 Degree: 3 Lambda: 0.01\n"
     ]
    },
    {
     "name": "stderr",
     "output_type": "stream",
     "text": [
      "c:\\Users\\hany_\\anaconda3\\envs\\ml\\lib\\site-packages\\numpy\\linalg\\linalg.py:2180: RuntimeWarning: overflow encountered in det\n",
      "  r = _umath_linalg.det(a, signature=signature)\n"
     ]
    },
    {
     "name": "stdout",
     "output_type": "stream",
     "text": [
      "Accuracy: 0.8974659819891203\n",
      "F1-score: 0.4088553105508214\n",
      "Threshold: 0.9  # Duplications: 2 Degree: 3 Lambda: 0.05\n"
     ]
    },
    {
     "name": "stderr",
     "output_type": "stream",
     "text": [
      "c:\\Users\\hany_\\anaconda3\\envs\\ml\\lib\\site-packages\\numpy\\linalg\\linalg.py:2180: RuntimeWarning: overflow encountered in det\n",
      "  r = _umath_linalg.det(a, signature=signature)\n"
     ]
    },
    {
     "name": "stdout",
     "output_type": "stream",
     "text": [
      "Accuracy: 0.8976793088210645\n",
      "F1-score: 0.40273948234457\n",
      "Threshold: 0.9  # Duplications: 2 Degree: 3 Lambda: 0.1\n"
     ]
    },
    {
     "name": "stderr",
     "output_type": "stream",
     "text": [
      "c:\\Users\\hany_\\anaconda3\\envs\\ml\\lib\\site-packages\\numpy\\linalg\\linalg.py:2180: RuntimeWarning: overflow encountered in det\n",
      "  r = _umath_linalg.det(a, signature=signature)\n"
     ]
    },
    {
     "name": "stdout",
     "output_type": "stream",
     "text": [
      "Accuracy: 0.8972678927880293\n",
      "F1-score: 0.396310888252149\n",
      "Threshold: 0.9  # Duplications: 2 Degree: 3 Lambda: 0.5\n"
     ]
    },
    {
     "name": "stderr",
     "output_type": "stream",
     "text": [
      "c:\\Users\\hany_\\anaconda3\\envs\\ml\\lib\\site-packages\\numpy\\linalg\\linalg.py:2180: RuntimeWarning: overflow encountered in det\n",
      "  r = _umath_linalg.det(a, signature=signature)\n"
     ]
    },
    {
     "name": "stdout",
     "output_type": "stream",
     "text": [
      "Accuracy: 0.8985783290414007\n",
      "F1-score: 0.3847291551118506\n",
      "Threshold: 0.9  # Duplications: 2 Degree: 3 Lambda: 1\n"
     ]
    },
    {
     "name": "stderr",
     "output_type": "stream",
     "text": [
      "c:\\Users\\hany_\\anaconda3\\envs\\ml\\lib\\site-packages\\numpy\\linalg\\linalg.py:2180: RuntimeWarning: overflow encountered in det\n",
      "  r = _umath_linalg.det(a, signature=signature)\n"
     ]
    },
    {
     "name": "stdout",
     "output_type": "stream",
     "text": [
      "Accuracy: 0.898806893504198\n",
      "F1-score: 0.3747293098578288\n",
      "Threshold: 0.9  # Duplications: 2 Degree: 4 Lambda: 0\n"
     ]
    },
    {
     "name": "stderr",
     "output_type": "stream",
     "text": [
      "c:\\Users\\hany_\\anaconda3\\envs\\ml\\lib\\site-packages\\numpy\\linalg\\linalg.py:2180: RuntimeWarning: overflow encountered in det\n",
      "  r = _umath_linalg.det(a, signature=signature)\n"
     ]
    },
    {
     "name": "stdout",
     "output_type": "stream",
     "text": [
      "Accuracy: 0.30138510064455176\n",
      "F1-score: 0.1794394530550882\n",
      "Threshold: 0.9  # Duplications: 2 Degree: 4 Lambda: 0.0001\n"
     ]
    },
    {
     "name": "stderr",
     "output_type": "stream",
     "text": [
      "c:\\Users\\hany_\\anaconda3\\envs\\ml\\lib\\site-packages\\numpy\\linalg\\linalg.py:2180: RuntimeWarning: overflow encountered in det\n",
      "  r = _umath_linalg.det(a, signature=signature)\n"
     ]
    },
    {
     "name": "stdout",
     "output_type": "stream",
     "text": [
      "Accuracy: 0.8895576515763329\n",
      "F1-score: 0.40365311831495804\n",
      "Threshold: 0.9  # Duplications: 2 Degree: 4 Lambda: 0.0005\n"
     ]
    },
    {
     "name": "stderr",
     "output_type": "stream",
     "text": [
      "c:\\Users\\hany_\\anaconda3\\envs\\ml\\lib\\site-packages\\numpy\\linalg\\linalg.py:2180: RuntimeWarning: overflow encountered in det\n",
      "  r = _umath_linalg.det(a, signature=signature)\n"
     ]
    },
    {
     "name": "stdout",
     "output_type": "stream",
     "text": [
      "Accuracy: 0.8896033644688923\n",
      "F1-score: 0.4024742268041237\n",
      "Threshold: 0.9  # Duplications: 2 Degree: 4 Lambda: 0.001\n"
     ]
    },
    {
     "name": "stderr",
     "output_type": "stream",
     "text": [
      "c:\\Users\\hany_\\anaconda3\\envs\\ml\\lib\\site-packages\\numpy\\linalg\\linalg.py:2180: RuntimeWarning: overflow encountered in det\n",
      "  r = _umath_linalg.det(a, signature=signature)\n"
     ]
    },
    {
     "name": "stdout",
     "output_type": "stream",
     "text": [
      "Accuracy: 0.8963536349368401\n",
      "F1-score: 0.4105719237435008\n",
      "Threshold: 0.9  # Duplications: 2 Degree: 4 Lambda: 0.005\n"
     ]
    },
    {
     "name": "stderr",
     "output_type": "stream",
     "text": [
      "c:\\Users\\hany_\\anaconda3\\envs\\ml\\lib\\site-packages\\numpy\\linalg\\linalg.py:2180: RuntimeWarning: overflow encountered in det\n",
      "  r = _umath_linalg.det(a, signature=signature)\n"
     ]
    },
    {
     "name": "stdout",
     "output_type": "stream",
     "text": [
      "Accuracy: 0.897435506727414\n",
      "F1-score: 0.4101305757602313\n",
      "Threshold: 0.9  # Duplications: 2 Degree: 4 Lambda: 0.01\n"
     ]
    },
    {
     "name": "stderr",
     "output_type": "stream",
     "text": [
      "c:\\Users\\hany_\\anaconda3\\envs\\ml\\lib\\site-packages\\numpy\\linalg\\linalg.py:2180: RuntimeWarning: overflow encountered in det\n",
      "  r = _umath_linalg.det(a, signature=signature)\n"
     ]
    },
    {
     "name": "stdout",
     "output_type": "stream",
     "text": [
      "Accuracy: 0.897633595928505\n",
      "F1-score: 0.40914687774846087\n",
      "Threshold: 0.9  # Duplications: 2 Degree: 4 Lambda: 0.05\n"
     ]
    },
    {
     "name": "stderr",
     "output_type": "stream",
     "text": [
      "c:\\Users\\hany_\\anaconda3\\envs\\ml\\lib\\site-packages\\numpy\\linalg\\linalg.py:2180: RuntimeWarning: overflow encountered in det\n",
      "  r = _umath_linalg.det(a, signature=signature)\n"
     ]
    },
    {
     "name": "stdout",
     "output_type": "stream",
     "text": [
      "Accuracy: 0.898410715102016\n",
      "F1-score: 0.4045726533893007\n",
      "Threshold: 0.9  # Duplications: 2 Degree: 4 Lambda: 0.1\n"
     ]
    },
    {
     "name": "stderr",
     "output_type": "stream",
     "text": [
      "c:\\Users\\hany_\\anaconda3\\envs\\ml\\lib\\site-packages\\numpy\\linalg\\linalg.py:2180: RuntimeWarning: overflow encountered in det\n",
      "  r = _umath_linalg.det(a, signature=signature)\n"
     ]
    },
    {
     "name": "stdout",
     "output_type": "stream",
     "text": [
      "Accuracy: 0.8980145366998339\n",
      "F1-score: 0.39903025949537574\n",
      "Threshold: 0.9  # Duplications: 2 Degree: 4 Lambda: 0.5\n"
     ]
    },
    {
     "name": "stderr",
     "output_type": "stream",
     "text": [
      "c:\\Users\\hany_\\anaconda3\\envs\\ml\\lib\\site-packages\\numpy\\linalg\\linalg.py:2180: RuntimeWarning: overflow encountered in det\n",
      "  r = _umath_linalg.det(a, signature=signature)\n"
     ]
    },
    {
     "name": "stdout",
     "output_type": "stream",
     "text": [
      "Accuracy: 0.896551724137931\n",
      "F1-score: 0.38555525386912837\n",
      "Threshold: 0.9  # Duplications: 2 Degree: 4 Lambda: 1\n"
     ]
    },
    {
     "name": "stderr",
     "output_type": "stream",
     "text": [
      "c:\\Users\\hany_\\anaconda3\\envs\\ml\\lib\\site-packages\\numpy\\linalg\\linalg.py:2180: RuntimeWarning: overflow encountered in det\n",
      "  r = _umath_linalg.det(a, signature=signature)\n"
     ]
    },
    {
     "name": "stdout",
     "output_type": "stream",
     "text": [
      "Accuracy: 0.8960793575814833\n",
      "F1-score: 0.3780776946926865\n",
      "Threshold: 0.9  # Duplications: 2 Degree: 5 Lambda: 0\n"
     ]
    },
    {
     "name": "stderr",
     "output_type": "stream",
     "text": [
      "c:\\Users\\hany_\\anaconda3\\envs\\ml\\lib\\site-packages\\numpy\\linalg\\linalg.py:2180: RuntimeWarning: overflow encountered in det\n",
      "  r = _umath_linalg.det(a, signature=signature)\n"
     ]
    },
    {
     "name": "stdout",
     "output_type": "stream",
     "text": [
      "Accuracy: 0.9003763694820729\n",
      "F1-score: 0.02388772767990445\n",
      "Threshold: 0.9  # Duplications: 2 Degree: 5 Lambda: 0.0001\n"
     ]
    },
    {
     "name": "stderr",
     "output_type": "stream",
     "text": [
      "c:\\Users\\hany_\\anaconda3\\envs\\ml\\lib\\site-packages\\numpy\\linalg\\linalg.py:2180: RuntimeWarning: overflow encountered in det\n",
      "  r = _umath_linalg.det(a, signature=signature)\n"
     ]
    },
    {
     "name": "stdout",
     "output_type": "stream",
     "text": [
      "Accuracy: 0.8945403568653146\n",
      "F1-score: 0.4105272123328507\n",
      "Threshold: 0.9  # Duplications: 2 Degree: 5 Lambda: 0.0005\n"
     ]
    },
    {
     "name": "stderr",
     "output_type": "stream",
     "text": [
      "c:\\Users\\hany_\\anaconda3\\envs\\ml\\lib\\site-packages\\numpy\\linalg\\linalg.py:2180: RuntimeWarning: overflow encountered in det\n",
      "  r = _umath_linalg.det(a, signature=signature)\n"
     ]
    },
    {
     "name": "stdout",
     "output_type": "stream",
     "text": [
      "Accuracy: 0.896551724137931\n",
      "F1-score: 0.41164745645203216\n",
      "Threshold: 0.9  # Duplications: 2 Degree: 5 Lambda: 0.001\n"
     ]
    },
    {
     "name": "stderr",
     "output_type": "stream",
     "text": [
      "c:\\Users\\hany_\\anaconda3\\envs\\ml\\lib\\site-packages\\numpy\\linalg\\linalg.py:2180: RuntimeWarning: overflow encountered in det\n",
      "  r = _umath_linalg.det(a, signature=signature)\n"
     ]
    },
    {
     "name": "stdout",
     "output_type": "stream",
     "text": [
      "Accuracy: 0.8966431499230499\n",
      "F1-score: 0.4112490235222637\n",
      "Threshold: 0.9  # Duplications: 2 Degree: 5 Lambda: 0.005\n"
     ]
    },
    {
     "name": "stderr",
     "output_type": "stream",
     "text": [
      "c:\\Users\\hany_\\anaconda3\\envs\\ml\\lib\\site-packages\\numpy\\linalg\\linalg.py:2180: RuntimeWarning: overflow encountered in det\n",
      "  r = _umath_linalg.det(a, signature=signature)\n"
     ]
    },
    {
     "name": "stdout",
     "output_type": "stream",
     "text": [
      "Accuracy: 0.8974050314657077\n",
      "F1-score: 0.4101620674551029\n",
      "Threshold: 0.9  # Duplications: 2 Degree: 5 Lambda: 0.01\n"
     ]
    },
    {
     "name": "stderr",
     "output_type": "stream",
     "text": [
      "c:\\Users\\hany_\\anaconda3\\envs\\ml\\lib\\site-packages\\numpy\\linalg\\linalg.py:2180: RuntimeWarning: overflow encountered in det\n",
      "  r = _umath_linalg.det(a, signature=signature)\n"
     ]
    },
    {
     "name": "stdout",
     "output_type": "stream",
     "text": [
      "Accuracy: 0.8977859722370366\n",
      "F1-score: 0.40909090909090906\n",
      "Threshold: 0.9  # Duplications: 2 Degree: 5 Lambda: 0.05\n"
     ]
    },
    {
     "name": "stderr",
     "output_type": "stream",
     "text": [
      "c:\\Users\\hany_\\anaconda3\\envs\\ml\\lib\\site-packages\\numpy\\linalg\\linalg.py:2180: RuntimeWarning: overflow encountered in det\n",
      "  r = _umath_linalg.det(a, signature=signature)\n"
     ]
    },
    {
     "name": "stdout",
     "output_type": "stream",
     "text": [
      "Accuracy: 0.8983650022094565\n",
      "F1-score: 0.4066892012097492\n",
      "Threshold: 0.9  # Duplications: 2 Degree: 5 Lambda: 0.1\n"
     ]
    },
    {
     "name": "stderr",
     "output_type": "stream",
     "text": [
      "c:\\Users\\hany_\\anaconda3\\envs\\ml\\lib\\site-packages\\numpy\\linalg\\linalg.py:2180: RuntimeWarning: overflow encountered in det\n",
      "  r = _umath_linalg.det(a, signature=signature)\n"
     ]
    },
    {
     "name": "stdout",
     "output_type": "stream",
     "text": [
      "Accuracy: 0.8982431011626313\n",
      "F1-score: 0.4019344438473939\n",
      "Threshold: 0.9  # Duplications: 2 Degree: 5 Lambda: 0.5\n"
     ]
    },
    {
     "name": "stderr",
     "output_type": "stream",
     "text": [
      "c:\\Users\\hany_\\anaconda3\\envs\\ml\\lib\\site-packages\\numpy\\linalg\\linalg.py:2180: RuntimeWarning: overflow encountered in det\n",
      "  r = _umath_linalg.det(a, signature=signature)\n"
     ]
    },
    {
     "name": "stdout",
     "output_type": "stream",
     "text": [
      "Accuracy: 0.8987916558733449\n",
      "F1-score: 0.3935354273192111\n",
      "Threshold: 0.9  # Duplications: 2 Degree: 5 Lambda: 1\n"
     ]
    },
    {
     "name": "stderr",
     "output_type": "stream",
     "text": [
      "c:\\Users\\hany_\\anaconda3\\envs\\ml\\lib\\site-packages\\numpy\\linalg\\linalg.py:2180: RuntimeWarning: overflow encountered in det\n",
      "  r = _umath_linalg.det(a, signature=signature)\n"
     ]
    },
    {
     "name": "stdout",
     "output_type": "stream",
     "text": [
      "Accuracy: 0.8980754872232465\n",
      "F1-score: 0.38457999815990435\n",
      "Threshold: 0.9  # Duplications: 3 Degree: 1 Lambda: 0\n"
     ]
    },
    {
     "name": "stderr",
     "output_type": "stream",
     "text": [
      "c:\\Users\\hany_\\anaconda3\\envs\\ml\\lib\\site-packages\\numpy\\linalg\\linalg.py:2180: RuntimeWarning: overflow encountered in det\n",
      "  r = _umath_linalg.det(a, signature=signature)\n"
     ]
    },
    {
     "name": "stdout",
     "output_type": "stream",
     "text": [
      "Accuracy: 0.9090161061758117\n",
      "F1-score: 0.013872832369942197\n",
      "Threshold: 0.9  # Duplications: 3 Degree: 1 Lambda: 0.0001\n"
     ]
    },
    {
     "name": "stderr",
     "output_type": "stream",
     "text": [
      "c:\\Users\\hany_\\anaconda3\\envs\\ml\\lib\\site-packages\\numpy\\linalg\\linalg.py:2180: RuntimeWarning: overflow encountered in det\n",
      "  r = _umath_linalg.det(a, signature=signature)\n"
     ]
    },
    {
     "name": "stdout",
     "output_type": "stream",
     "text": [
      "Accuracy: 0.8750361893732762\n",
      "F1-score: 0.41750124298600755\n",
      "Threshold: 0.9  # Duplications: 3 Degree: 1 Lambda: 0.0005\n"
     ]
    },
    {
     "name": "stderr",
     "output_type": "stream",
     "text": [
      "c:\\Users\\hany_\\anaconda3\\envs\\ml\\lib\\site-packages\\numpy\\linalg\\linalg.py:2180: RuntimeWarning: overflow encountered in det\n",
      "  r = _umath_linalg.det(a, signature=signature)\n"
     ]
    },
    {
     "name": "stdout",
     "output_type": "stream",
     "text": [
      "Accuracy: 0.8750514270041294\n",
      "F1-score: 0.4175308992754652\n",
      "Threshold: 0.9  # Duplications: 3 Degree: 1 Lambda: 0.001\n"
     ]
    },
    {
     "name": "stderr",
     "output_type": "stream",
     "text": [
      "c:\\Users\\hany_\\anaconda3\\envs\\ml\\lib\\site-packages\\numpy\\linalg\\linalg.py:2180: RuntimeWarning: overflow encountered in det\n",
      "  r = _umath_linalg.det(a, signature=signature)\n"
     ]
    },
    {
     "name": "stdout",
     "output_type": "stream",
     "text": [
      "Accuracy: 0.8749752388498636\n",
      "F1-score: 0.41713433259927535\n",
      "Threshold: 0.9  # Duplications: 3 Degree: 1 Lambda: 0.005\n"
     ]
    },
    {
     "name": "stderr",
     "output_type": "stream",
     "text": [
      "c:\\Users\\hany_\\anaconda3\\envs\\ml\\lib\\site-packages\\numpy\\linalg\\linalg.py:2180: RuntimeWarning: overflow encountered in det\n",
      "  r = _umath_linalg.det(a, signature=signature)\n"
     ]
    },
    {
     "name": "stdout",
     "output_type": "stream",
     "text": [
      "Accuracy: 0.8746704862328005\n",
      "F1-score: 0.41745166088249874\n",
      "Threshold: 0.9  # Duplications: 3 Degree: 1 Lambda: 0.01\n"
     ]
    },
    {
     "name": "stderr",
     "output_type": "stream",
     "text": [
      "c:\\Users\\hany_\\anaconda3\\envs\\ml\\lib\\site-packages\\numpy\\linalg\\linalg.py:2180: RuntimeWarning: overflow encountered in det\n",
      "  r = _umath_linalg.det(a, signature=signature)\n"
     ]
    },
    {
     "name": "stdout",
     "output_type": "stream",
     "text": [
      "Accuracy: 0.8739847928444086\n",
      "F1-score: 0.4166196388261851\n",
      "Threshold: 0.9  # Duplications: 3 Degree: 1 Lambda: 0.05\n"
     ]
    },
    {
     "name": "stderr",
     "output_type": "stream",
     "text": [
      "c:\\Users\\hany_\\anaconda3\\envs\\ml\\lib\\site-packages\\numpy\\linalg\\linalg.py:2180: RuntimeWarning: overflow encountered in det\n",
      "  r = _umath_linalg.det(a, signature=signature)\n"
     ]
    },
    {
     "name": "stdout",
     "output_type": "stream",
     "text": [
      "Accuracy: 0.8695506422661404\n",
      "F1-score: 0.41742089145968014\n",
      "Threshold: 0.9  # Duplications: 3 Degree: 1 Lambda: 0.1\n"
     ]
    },
    {
     "name": "stderr",
     "output_type": "stream",
     "text": [
      "c:\\Users\\hany_\\anaconda3\\envs\\ml\\lib\\site-packages\\numpy\\linalg\\linalg.py:2180: RuntimeWarning: overflow encountered in det\n",
      "  r = _umath_linalg.det(a, signature=signature)\n"
     ]
    },
    {
     "name": "stdout",
     "output_type": "stream",
     "text": [
      "Accuracy: 0.8626632331205144\n",
      "F1-score: 0.41455017862942517\n",
      "Threshold: 0.9  # Duplications: 3 Degree: 1 Lambda: 0.5\n"
     ]
    },
    {
     "name": "stderr",
     "output_type": "stream",
     "text": [
      "c:\\Users\\hany_\\anaconda3\\envs\\ml\\lib\\site-packages\\numpy\\linalg\\linalg.py:2180: RuntimeWarning: overflow encountered in det\n",
      "  r = _umath_linalg.det(a, signature=signature)\n"
     ]
    },
    {
     "name": "stdout",
     "output_type": "stream",
     "text": [
      "Accuracy: 0.8105810108644308\n",
      "F1-score: 0.38862932179216053\n",
      "Threshold: 0.9  # Duplications: 3 Degree: 1 Lambda: 1\n"
     ]
    },
    {
     "name": "stderr",
     "output_type": "stream",
     "text": [
      "c:\\Users\\hany_\\anaconda3\\envs\\ml\\lib\\site-packages\\numpy\\linalg\\linalg.py:2180: RuntimeWarning: overflow encountered in det\n",
      "  r = _umath_linalg.det(a, signature=signature)\n"
     ]
    },
    {
     "name": "stdout",
     "output_type": "stream",
     "text": [
      "Accuracy: 0.7652338214454416\n",
      "F1-score: 0.36036036036036034\n",
      "Threshold: 0.9  # Duplications: 3 Degree: 2 Lambda: 0\n"
     ]
    },
    {
     "name": "stderr",
     "output_type": "stream",
     "text": [
      "c:\\Users\\hany_\\anaconda3\\envs\\ml\\lib\\site-packages\\numpy\\linalg\\linalg.py:2180: RuntimeWarning: overflow encountered in det\n",
      "  r = _umath_linalg.det(a, signature=signature)\n"
     ]
    },
    {
     "name": "stdout",
     "output_type": "stream",
     "text": [
      "Accuracy: 0.32277873436238136\n",
      "F1-score: 0.09453182299731072\n",
      "Threshold: 0.9  # Duplications: 3 Degree: 2 Lambda: 0.0001\n"
     ]
    },
    {
     "name": "stderr",
     "output_type": "stream",
     "text": [
      "c:\\Users\\hany_\\anaconda3\\envs\\ml\\lib\\site-packages\\numpy\\linalg\\linalg.py:2180: RuntimeWarning: overflow encountered in det\n",
      "  r = _umath_linalg.det(a, signature=signature)\n"
     ]
    },
    {
     "name": "stdout",
     "output_type": "stream",
     "text": [
      "Accuracy: 0.8688039983543359\n",
      "F1-score: 0.41404654961208665\n",
      "Threshold: 0.9  # Duplications: 3 Degree: 2 Lambda: 0.0005\n"
     ]
    },
    {
     "name": "stderr",
     "output_type": "stream",
     "text": [
      "c:\\Users\\hany_\\anaconda3\\envs\\ml\\lib\\site-packages\\numpy\\linalg\\linalg.py:2180: RuntimeWarning: overflow encountered in det\n",
      "  r = _umath_linalg.det(a, signature=signature)\n"
     ]
    },
    {
     "name": "stdout",
     "output_type": "stream",
     "text": [
      "Accuracy: 0.8737714660124644\n",
      "F1-score: 0.42183137911781127\n",
      "Threshold: 0.9  # Duplications: 3 Degree: 2 Lambda: 0.001\n"
     ]
    },
    {
     "name": "stderr",
     "output_type": "stream",
     "text": [
      "c:\\Users\\hany_\\anaconda3\\envs\\ml\\lib\\site-packages\\numpy\\linalg\\linalg.py:2180: RuntimeWarning: overflow encountered in det\n",
      "  r = _umath_linalg.det(a, signature=signature)\n"
     ]
    },
    {
     "name": "stdout",
     "output_type": "stream",
     "text": [
      "Accuracy: 0.8757371203925214\n",
      "F1-score: 0.4226548672566372\n",
      "Threshold: 0.9  # Duplications: 3 Degree: 2 Lambda: 0.005\n"
     ]
    },
    {
     "name": "stderr",
     "output_type": "stream",
     "text": [
      "c:\\Users\\hany_\\anaconda3\\envs\\ml\\lib\\site-packages\\numpy\\linalg\\linalg.py:2180: RuntimeWarning: overflow encountered in det\n",
      "  r = _umath_linalg.det(a, signature=signature)\n"
     ]
    },
    {
     "name": "stdout",
     "output_type": "stream",
     "text": [
      "Accuracy: 0.8762399622106755\n",
      "F1-score: 0.4216747365422957\n",
      "Threshold: 0.9  # Duplications: 3 Degree: 2 Lambda: 0.01\n"
     ]
    },
    {
     "name": "stderr",
     "output_type": "stream",
     "text": [
      "c:\\Users\\hany_\\anaconda3\\envs\\ml\\lib\\site-packages\\numpy\\linalg\\linalg.py:2180: RuntimeWarning: overflow encountered in det\n",
      "  r = _umath_linalg.det(a, signature=signature)\n"
     ]
    },
    {
     "name": "stdout",
     "output_type": "stream",
     "text": [
      "Accuracy: 0.8765447148277385\n",
      "F1-score: 0.4207064207064207\n",
      "Threshold: 0.9  # Duplications: 3 Degree: 2 Lambda: 0.05\n"
     ]
    },
    {
     "name": "stderr",
     "output_type": "stream",
     "text": [
      "c:\\Users\\hany_\\anaconda3\\envs\\ml\\lib\\site-packages\\numpy\\linalg\\linalg.py:2180: RuntimeWarning: overflow encountered in det\n",
      "  r = _umath_linalg.det(a, signature=signature)\n"
     ]
    },
    {
     "name": "stdout",
     "output_type": "stream",
     "text": [
      "Accuracy: 0.8777484876651378\n",
      "F1-score: 0.4176526094214996\n",
      "Threshold: 0.9  # Duplications: 3 Degree: 2 Lambda: 0.1\n"
     ]
    },
    {
     "name": "stderr",
     "output_type": "stream",
     "text": [
      "c:\\Users\\hany_\\anaconda3\\envs\\ml\\lib\\site-packages\\numpy\\linalg\\linalg.py:2180: RuntimeWarning: overflow encountered in det\n",
      "  r = _umath_linalg.det(a, signature=signature)\n"
     ]
    },
    {
     "name": "stdout",
     "output_type": "stream",
     "text": [
      "Accuracy: 0.8784951315769424\n",
      "F1-score: 0.4157385697538101\n",
      "Threshold: 0.9  # Duplications: 3 Degree: 2 Lambda: 0.5\n"
     ]
    },
    {
     "name": "stderr",
     "output_type": "stream",
     "text": [
      "c:\\Users\\hany_\\anaconda3\\envs\\ml\\lib\\site-packages\\numpy\\linalg\\linalg.py:2180: RuntimeWarning: overflow encountered in det\n",
      "  r = _umath_linalg.det(a, signature=signature)\n"
     ]
    },
    {
     "name": "stdout",
     "output_type": "stream",
     "text": [
      "Accuracy: 0.8806588751580904\n",
      "F1-score: 0.40295776795243177\n",
      "Threshold: 0.9  # Duplications: 3 Degree: 2 Lambda: 1\n"
     ]
    },
    {
     "name": "stderr",
     "output_type": "stream",
     "text": [
      "c:\\Users\\hany_\\anaconda3\\envs\\ml\\lib\\site-packages\\numpy\\linalg\\linalg.py:2180: RuntimeWarning: overflow encountered in det\n",
      "  r = _umath_linalg.det(a, signature=signature)\n"
     ]
    },
    {
     "name": "stdout",
     "output_type": "stream",
     "text": [
      "Accuracy: 0.882487390860469\n",
      "F1-score: 0.3925645872715816\n",
      "Threshold: 0.9  # Duplications: 3 Degree: 3 Lambda: 0\n"
     ]
    },
    {
     "name": "stderr",
     "output_type": "stream",
     "text": [
      "c:\\Users\\hany_\\anaconda3\\envs\\ml\\lib\\site-packages\\numpy\\linalg\\linalg.py:2180: RuntimeWarning: overflow encountered in det\n",
      "  r = _umath_linalg.det(a, signature=signature)\n"
     ]
    },
    {
     "name": "stdout",
     "output_type": "stream",
     "text": [
      "Accuracy: 0.540661617931644\n",
      "F1-score: 0.19632621504172332\n",
      "Threshold: 0.9  # Duplications: 3 Degree: 3 Lambda: 0.0001\n"
     ]
    },
    {
     "name": "stderr",
     "output_type": "stream",
     "text": [
      "c:\\Users\\hany_\\anaconda3\\envs\\ml\\lib\\site-packages\\numpy\\linalg\\linalg.py:2180: RuntimeWarning: overflow encountered in det\n",
      "  r = _umath_linalg.det(a, signature=signature)\n"
     ]
    },
    {
     "name": "stdout",
     "output_type": "stream",
     "text": [
      "Accuracy: 0.8744114465082969\n",
      "F1-score: 0.4221817162086371\n",
      "Threshold: 0.9  # Duplications: 3 Degree: 3 Lambda: 0.0005\n"
     ]
    },
    {
     "name": "stderr",
     "output_type": "stream",
     "text": [
      "c:\\Users\\hany_\\anaconda3\\envs\\ml\\lib\\site-packages\\numpy\\linalg\\linalg.py:2180: RuntimeWarning: overflow encountered in det\n",
      "  r = _umath_linalg.det(a, signature=signature)\n"
     ]
    },
    {
     "name": "stdout",
     "output_type": "stream",
     "text": [
      "Accuracy: 0.8763771008883539\n",
      "F1-score: 0.4245691183771899\n",
      "Threshold: 0.9  # Duplications: 3 Degree: 3 Lambda: 0.001\n"
     ]
    },
    {
     "name": "stderr",
     "output_type": "stream",
     "text": [
      "c:\\Users\\hany_\\anaconda3\\envs\\ml\\lib\\site-packages\\numpy\\linalg\\linalg.py:2180: RuntimeWarning: overflow encountered in det\n",
      "  r = _umath_linalg.det(a, signature=signature)\n"
     ]
    },
    {
     "name": "stdout",
     "output_type": "stream",
     "text": [
      "Accuracy: 0.8764075761500602\n",
      "F1-score: 0.4240573741390329\n",
      "Threshold: 0.9  # Duplications: 3 Degree: 3 Lambda: 0.005\n"
     ]
    },
    {
     "name": "stderr",
     "output_type": "stream",
     "text": [
      "c:\\Users\\hany_\\anaconda3\\envs\\ml\\lib\\site-packages\\numpy\\linalg\\linalg.py:2180: RuntimeWarning: overflow encountered in det\n",
      "  r = _umath_linalg.det(a, signature=signature)\n"
     ]
    },
    {
     "name": "stdout",
     "output_type": "stream",
     "text": [
      "Accuracy: 0.8768189921830953\n",
      "F1-score: 0.4230659434770197\n",
      "Threshold: 0.9  # Duplications: 3 Degree: 3 Lambda: 0.01\n"
     ]
    },
    {
     "name": "stderr",
     "output_type": "stream",
     "text": [
      "c:\\Users\\hany_\\anaconda3\\envs\\ml\\lib\\site-packages\\numpy\\linalg\\linalg.py:2180: RuntimeWarning: overflow encountered in det\n",
      "  r = _umath_linalg.det(a, signature=signature)\n"
     ]
    },
    {
     "name": "stdout",
     "output_type": "stream",
     "text": [
      "Accuracy: 0.8771694576927179\n",
      "F1-score: 0.42277121374865734\n",
      "Threshold: 0.9  # Duplications: 3 Degree: 3 Lambda: 0.05\n"
     ]
    },
    {
     "name": "stderr",
     "output_type": "stream",
     "text": [
      "c:\\Users\\hany_\\anaconda3\\envs\\ml\\lib\\site-packages\\numpy\\linalg\\linalg.py:2180: RuntimeWarning: overflow encountered in det\n",
      "  r = _umath_linalg.det(a, signature=signature)\n"
     ]
    },
    {
     "name": "stdout",
     "output_type": "stream",
     "text": [
      "Accuracy: 0.8777332500342847\n",
      "F1-score: 0.41956018518518523\n",
      "Threshold: 0.9  # Duplications: 3 Degree: 3 Lambda: 0.1\n"
     ]
    },
    {
     "name": "stderr",
     "output_type": "stream",
     "text": [
      "c:\\Users\\hany_\\anaconda3\\envs\\ml\\lib\\site-packages\\numpy\\linalg\\linalg.py:2180: RuntimeWarning: overflow encountered in det\n",
      "  r = _umath_linalg.det(a, signature=signature)\n"
     ]
    },
    {
     "name": "stdout",
     "output_type": "stream",
     "text": [
      "Accuracy: 0.8780227650204946\n",
      "F1-score: 0.41811441447990116\n",
      "Threshold: 0.9  # Duplications: 3 Degree: 3 Lambda: 0.5\n"
     ]
    },
    {
     "name": "stderr",
     "output_type": "stream",
     "text": [
      "c:\\Users\\hany_\\anaconda3\\envs\\ml\\lib\\site-packages\\numpy\\linalg\\linalg.py:2180: RuntimeWarning: overflow encountered in det\n",
      "  r = _umath_linalg.det(a, signature=signature)\n"
     ]
    },
    {
     "name": "stdout",
     "output_type": "stream",
     "text": [
      "Accuracy: 0.8788608347174182\n",
      "F1-score: 0.40786533591538804\n",
      "Threshold: 0.9  # Duplications: 3 Degree: 3 Lambda: 1\n"
     ]
    },
    {
     "name": "stderr",
     "output_type": "stream",
     "text": [
      "c:\\Users\\hany_\\anaconda3\\envs\\ml\\lib\\site-packages\\numpy\\linalg\\linalg.py:2180: RuntimeWarning: overflow encountered in det\n",
      "  r = _umath_linalg.det(a, signature=signature)\n"
     ]
    },
    {
     "name": "stdout",
     "output_type": "stream",
     "text": [
      "Accuracy: 0.8794093894281317\n",
      "F1-score: 0.4017236165709102\n",
      "Threshold: 0.9  # Duplications: 3 Degree: 4 Lambda: 0\n"
     ]
    },
    {
     "name": "stderr",
     "output_type": "stream",
     "text": [
      "c:\\Users\\hany_\\anaconda3\\envs\\ml\\lib\\site-packages\\numpy\\linalg\\linalg.py:2180: RuntimeWarning: overflow encountered in det\n",
      "  r = _umath_linalg.det(a, signature=signature)\n"
     ]
    },
    {
     "name": "stdout",
     "output_type": "stream",
     "text": [
      "Accuracy: 0.6772212656376186\n",
      "F1-score: 0.2399081416627794\n",
      "Threshold: 0.9  # Duplications: 3 Degree: 4 Lambda: 0.0001\n"
     ]
    },
    {
     "name": "stderr",
     "output_type": "stream",
     "text": [
      "c:\\Users\\hany_\\anaconda3\\envs\\ml\\lib\\site-packages\\numpy\\linalg\\linalg.py:2180: RuntimeWarning: overflow encountered in det\n",
      "  r = _umath_linalg.det(a, signature=signature)\n"
     ]
    },
    {
     "name": "stdout",
     "output_type": "stream",
     "text": [
      "Accuracy: 0.8687887607234828\n",
      "F1-score: 0.4170333762101415\n",
      "Threshold: 0.9  # Duplications: 3 Degree: 4 Lambda: 0.0005\n"
     ]
    },
    {
     "name": "stderr",
     "output_type": "stream",
     "text": [
      "c:\\Users\\hany_\\anaconda3\\envs\\ml\\lib\\site-packages\\numpy\\linalg\\linalg.py:2180: RuntimeWarning: overflow encountered in det\n",
      "  r = _umath_linalg.det(a, signature=signature)\n"
     ]
    },
    {
     "name": "stdout",
     "output_type": "stream",
     "text": [
      "Accuracy: 0.8691544638639584\n",
      "F1-score: 0.41715875924794676\n",
      "Threshold: 0.9  # Duplications: 3 Degree: 4 Lambda: 0.001\n"
     ]
    },
    {
     "name": "stderr",
     "output_type": "stream",
     "text": [
      "c:\\Users\\hany_\\anaconda3\\envs\\ml\\lib\\site-packages\\numpy\\linalg\\linalg.py:2180: RuntimeWarning: overflow encountered in det\n",
      "  r = _umath_linalg.det(a, signature=signature)\n"
     ]
    },
    {
     "name": "stdout",
     "output_type": "stream",
     "text": [
      "Accuracy: 0.8760418730095845\n",
      "F1-score: 0.42439680181136347\n",
      "Threshold: 0.9  # Duplications: 3 Degree: 4 Lambda: 0.005\n"
     ]
    },
    {
     "name": "stderr",
     "output_type": "stream",
     "text": [
      "c:\\Users\\hany_\\anaconda3\\envs\\ml\\lib\\site-packages\\numpy\\linalg\\linalg.py:2180: RuntimeWarning: overflow encountered in det\n",
      "  r = _umath_linalg.det(a, signature=signature)\n"
     ]
    },
    {
     "name": "stdout",
     "output_type": "stream",
     "text": [
      "Accuracy: 0.8770627942767458\n",
      "F1-score: 0.4237142857142857\n",
      "Threshold: 0.9  # Duplications: 3 Degree: 4 Lambda: 0.01\n"
     ]
    },
    {
     "name": "stderr",
     "output_type": "stream",
     "text": [
      "c:\\Users\\hany_\\anaconda3\\envs\\ml\\lib\\site-packages\\numpy\\linalg\\linalg.py:2180: RuntimeWarning: overflow encountered in det\n",
      "  r = _umath_linalg.det(a, signature=signature)\n"
     ]
    },
    {
     "name": "stdout",
     "output_type": "stream",
     "text": [
      "Accuracy: 0.8771085071693053\n",
      "F1-score: 0.4213245318217694\n",
      "Threshold: 0.9  # Duplications: 3 Degree: 4 Lambda: 0.05\n"
     ]
    },
    {
     "name": "stderr",
     "output_type": "stream",
     "text": [
      "c:\\Users\\hany_\\anaconda3\\envs\\ml\\lib\\site-packages\\numpy\\linalg\\linalg.py:2180: RuntimeWarning: overflow encountered in det\n",
      "  r = _umath_linalg.det(a, signature=signature)\n"
     ]
    },
    {
     "name": "stdout",
     "output_type": "stream",
     "text": [
      "Accuracy: 0.8778246758194036\n",
      "F1-score: 0.4183954736689395\n",
      "Threshold: 0.9  # Duplications: 3 Degree: 4 Lambda: 0.1\n"
     ]
    },
    {
     "name": "stderr",
     "output_type": "stream",
     "text": [
      "c:\\Users\\hany_\\anaconda3\\envs\\ml\\lib\\site-packages\\numpy\\linalg\\linalg.py:2180: RuntimeWarning: overflow encountered in det\n",
      "  r = _umath_linalg.det(a, signature=signature)\n"
     ]
    },
    {
     "name": "stdout",
     "output_type": "stream",
     "text": [
      "Accuracy: 0.8783275176375577\n",
      "F1-score: 0.41770582658790933\n",
      "Threshold: 0.9  # Duplications: 3 Degree: 4 Lambda: 0.5\n"
     ]
    },
    {
     "name": "stderr",
     "output_type": "stream",
     "text": [
      "c:\\Users\\hany_\\anaconda3\\envs\\ml\\lib\\site-packages\\numpy\\linalg\\linalg.py:2180: RuntimeWarning: overflow encountered in det\n",
      "  r = _umath_linalg.det(a, signature=signature)\n"
     ]
    },
    {
     "name": "stdout",
     "output_type": "stream",
     "text": [
      "Accuracy: 0.8767123287671232\n",
      "F1-score: 0.4053795840376277\n",
      "Threshold: 0.9  # Duplications: 3 Degree: 4 Lambda: 1\n"
     ]
    },
    {
     "name": "stderr",
     "output_type": "stream",
     "text": [
      "c:\\Users\\hany_\\anaconda3\\envs\\ml\\lib\\site-packages\\numpy\\linalg\\linalg.py:2180: RuntimeWarning: overflow encountered in det\n",
      "  r = _umath_linalg.det(a, signature=signature)\n"
     ]
    },
    {
     "name": "stdout",
     "output_type": "stream",
     "text": [
      "Accuracy: 0.8767123287671232\n",
      "F1-score: 0.4006222683161716\n",
      "Threshold: 0.9  # Duplications: 3 Degree: 5 Lambda: 0\n"
     ]
    },
    {
     "name": "stderr",
     "output_type": "stream",
     "text": [
      "c:\\Users\\hany_\\anaconda3\\envs\\ml\\lib\\site-packages\\numpy\\linalg\\linalg.py:2180: RuntimeWarning: overflow encountered in det\n",
      "  r = _umath_linalg.det(a, signature=signature)\n"
     ]
    },
    {
     "name": "stdout",
     "output_type": "stream",
     "text": [
      "Accuracy: 0.8486750879973182\n",
      "F1-score: 0.09297652753676135\n",
      "Threshold: 0.9  # Duplications: 3 Degree: 5 Lambda: 0.0001\n"
     ]
    },
    {
     "name": "stderr",
     "output_type": "stream",
     "text": [
      "c:\\Users\\hany_\\anaconda3\\envs\\ml\\lib\\site-packages\\numpy\\linalg\\linalg.py:2180: RuntimeWarning: overflow encountered in det\n",
      "  r = _umath_linalg.det(a, signature=signature)\n"
     ]
    },
    {
     "name": "stdout",
     "output_type": "stream",
     "text": [
      "Accuracy: 0.8732990994560166\n",
      "F1-score: 0.4218065503094361\n",
      "Threshold: 0.9  # Duplications: 3 Degree: 5 Lambda: 0.0005\n"
     ]
    },
    {
     "name": "stderr",
     "output_type": "stream",
     "text": [
      "c:\\Users\\hany_\\anaconda3\\envs\\ml\\lib\\site-packages\\numpy\\linalg\\linalg.py:2180: RuntimeWarning: overflow encountered in det\n",
      "  r = _umath_linalg.det(a, signature=signature)\n"
     ]
    },
    {
     "name": "stdout",
     "output_type": "stream",
     "text": [
      "Accuracy: 0.8759809224861719\n",
      "F1-score: 0.4252524539227456\n",
      "Threshold: 0.9  # Duplications: 3 Degree: 5 Lambda: 0.001\n"
     ]
    },
    {
     "name": "stderr",
     "output_type": "stream",
     "text": [
      "c:\\Users\\hany_\\anaconda3\\envs\\ml\\lib\\site-packages\\numpy\\linalg\\linalg.py:2180: RuntimeWarning: overflow encountered in det\n",
      "  r = _umath_linalg.det(a, signature=signature)\n"
     ]
    },
    {
     "name": "stdout",
     "output_type": "stream",
     "text": [
      "Accuracy: 0.8764228137809134\n",
      "F1-score: 0.42563739376770543\n",
      "Threshold: 0.9  # Duplications: 3 Degree: 5 Lambda: 0.005\n"
     ]
    },
    {
     "name": "stderr",
     "output_type": "stream",
     "text": [
      "c:\\Users\\hany_\\anaconda3\\envs\\ml\\lib\\site-packages\\numpy\\linalg\\linalg.py:2180: RuntimeWarning: overflow encountered in det\n",
      "  r = _umath_linalg.det(a, signature=signature)\n"
     ]
    },
    {
     "name": "stdout",
     "output_type": "stream",
     "text": [
      "Accuracy: 0.8775808737257531\n",
      "F1-score: 0.4246634202234316\n",
      "Threshold: 0.9  # Duplications: 3 Degree: 5 Lambda: 0.01\n"
     ]
    },
    {
     "name": "stderr",
     "output_type": "stream",
     "text": [
      "c:\\Users\\hany_\\anaconda3\\envs\\ml\\lib\\site-packages\\numpy\\linalg\\linalg.py:2180: RuntimeWarning: overflow encountered in det\n",
      "  r = _umath_linalg.det(a, signature=signature)\n"
     ]
    },
    {
     "name": "stdout",
     "output_type": "stream",
     "text": [
      "Accuracy: 0.8777484876651378\n",
      "F1-score: 0.4231792364655978\n",
      "Threshold: 0.9  # Duplications: 3 Degree: 5 Lambda: 0.05\n"
     ]
    },
    {
     "name": "stderr",
     "output_type": "stream",
     "text": [
      "c:\\Users\\hany_\\anaconda3\\envs\\ml\\lib\\site-packages\\numpy\\linalg\\linalg.py:2180: RuntimeWarning: overflow encountered in det\n",
      "  r = _umath_linalg.det(a, signature=signature)\n"
     ]
    },
    {
     "name": "stdout",
     "output_type": "stream",
     "text": [
      "Accuracy: 0.8780837155439072\n",
      "F1-score: 0.41941803932951166\n",
      "Threshold: 0.9  # Duplications: 3 Degree: 5 Lambda: 0.1\n"
     ]
    },
    {
     "name": "stderr",
     "output_type": "stream",
     "text": [
      "c:\\Users\\hany_\\anaconda3\\envs\\ml\\lib\\site-packages\\numpy\\linalg\\linalg.py:2180: RuntimeWarning: overflow encountered in det\n",
      "  r = _umath_linalg.det(a, signature=signature)\n"
     ]
    },
    {
     "name": "stdout",
     "output_type": "stream",
     "text": [
      "Accuracy: 0.8784951315769424\n",
      "F1-score: 0.41888937472671617\n",
      "Threshold: 0.9  # Duplications: 3 Degree: 5 Lambda: 0.5\n"
     ]
    },
    {
     "name": "stderr",
     "output_type": "stream",
     "text": [
      "c:\\Users\\hany_\\anaconda3\\envs\\ml\\lib\\site-packages\\numpy\\linalg\\linalg.py:2180: RuntimeWarning: overflow encountered in det\n",
      "  r = _umath_linalg.det(a, signature=signature)\n"
     ]
    },
    {
     "name": "stdout",
     "output_type": "stream",
     "text": [
      "Accuracy: 0.8782970423758514\n",
      "F1-score: 0.40823886789656966\n",
      "Threshold: 0.9  # Duplications: 3 Degree: 5 Lambda: 1\n"
     ]
    },
    {
     "name": "stderr",
     "output_type": "stream",
     "text": [
      "c:\\Users\\hany_\\anaconda3\\envs\\ml\\lib\\site-packages\\numpy\\linalg\\linalg.py:2180: RuntimeWarning: overflow encountered in det\n",
      "  r = _umath_linalg.det(a, signature=signature)\n"
     ]
    },
    {
     "name": "stdout",
     "output_type": "stream",
     "text": [
      "Accuracy: 0.8784646563152361\n",
      "F1-score: 0.40468726675623223\n",
      "Threshold: 0.9  # Duplications: 4 Degree: 1 Lambda: 0\n"
     ]
    },
    {
     "name": "stderr",
     "output_type": "stream",
     "text": [
      "c:\\Users\\hany_\\anaconda3\\envs\\ml\\lib\\site-packages\\numpy\\linalg\\linalg.py:2180: RuntimeWarning: overflow encountered in det\n",
      "  r = _umath_linalg.det(a, signature=signature)\n"
     ]
    },
    {
     "name": "stdout",
     "output_type": "stream",
     "text": [
      "Accuracy: 0.09098389382418821\n",
      "F1-score: 0.15856582696267876\n",
      "Threshold: 0.9  # Duplications: 4 Degree: 1 Lambda: 0.0001\n"
     ]
    },
    {
     "name": "stderr",
     "output_type": "stream",
     "text": [
      "c:\\Users\\hany_\\anaconda3\\envs\\ml\\lib\\site-packages\\numpy\\linalg\\linalg.py:2180: RuntimeWarning: overflow encountered in det\n",
      "  r = _umath_linalg.det(a, signature=signature)\n"
     ]
    },
    {
     "name": "stdout",
     "output_type": "stream",
     "text": [
      "Accuracy: 0.8539320706416567\n",
      "F1-score: 0.4131259948573528\n",
      "Threshold: 0.9  # Duplications: 4 Degree: 1 Lambda: 0.0005\n"
     ]
    },
    {
     "name": "stderr",
     "output_type": "stream",
     "text": [
      "c:\\Users\\hany_\\anaconda3\\envs\\ml\\lib\\site-packages\\numpy\\linalg\\linalg.py:2180: RuntimeWarning: overflow encountered in det\n",
      "  r = _umath_linalg.det(a, signature=signature)\n"
     ]
    },
    {
     "name": "stdout",
     "output_type": "stream",
     "text": [
      "Accuracy: 0.8540539716884818\n",
      "F1-score: 0.41354396277247124\n",
      "Threshold: 0.9  # Duplications: 4 Degree: 1 Lambda: 0.001\n"
     ]
    },
    {
     "name": "stderr",
     "output_type": "stream",
     "text": [
      "c:\\Users\\hany_\\anaconda3\\envs\\ml\\lib\\site-packages\\numpy\\linalg\\linalg.py:2180: RuntimeWarning: overflow encountered in det\n",
      "  r = _umath_linalg.det(a, signature=signature)\n"
     ]
    },
    {
     "name": "stdout",
     "output_type": "stream",
     "text": [
      "Accuracy: 0.8541149222118944\n",
      "F1-score: 0.4139324191968658\n",
      "Threshold: 0.9  # Duplications: 4 Degree: 1 Lambda: 0.005\n"
     ]
    },
    {
     "name": "stderr",
     "output_type": "stream",
     "text": [
      "c:\\Users\\hany_\\anaconda3\\envs\\ml\\lib\\site-packages\\numpy\\linalg\\linalg.py:2180: RuntimeWarning: overflow encountered in det\n",
      "  r = _umath_linalg.det(a, signature=signature)\n"
     ]
    },
    {
     "name": "stdout",
     "output_type": "stream",
     "text": [
      "Accuracy: 0.8537796943331251\n",
      "F1-score: 0.41494939641507134\n",
      "Threshold: 0.9  # Duplications: 4 Degree: 1 Lambda: 0.01\n"
     ]
    },
    {
     "name": "stderr",
     "output_type": "stream",
     "text": [
      "c:\\Users\\hany_\\anaconda3\\envs\\ml\\lib\\site-packages\\numpy\\linalg\\linalg.py:2180: RuntimeWarning: overflow encountered in det\n",
      "  r = _umath_linalg.det(a, signature=signature)\n"
     ]
    },
    {
     "name": "stdout",
     "output_type": "stream",
     "text": [
      "Accuracy: 0.8529720998979079\n",
      "F1-score: 0.4144668972631835\n",
      "Threshold: 0.9  # Duplications: 4 Degree: 1 Lambda: 0.05\n"
     ]
    },
    {
     "name": "stderr",
     "output_type": "stream",
     "text": [
      "c:\\Users\\hany_\\anaconda3\\envs\\ml\\lib\\site-packages\\numpy\\linalg\\linalg.py:2180: RuntimeWarning: overflow encountered in det\n",
      "  r = _umath_linalg.det(a, signature=signature)\n"
     ]
    },
    {
     "name": "stdout",
     "output_type": "stream",
     "text": [
      "Accuracy: 0.845901839182044\n",
      "F1-score: 0.4100110845341578\n",
      "Threshold: 0.9  # Duplications: 4 Degree: 1 Lambda: 0.1\n"
     ]
    },
    {
     "name": "stderr",
     "output_type": "stream",
     "text": [
      "c:\\Users\\hany_\\anaconda3\\envs\\ml\\lib\\site-packages\\numpy\\linalg\\linalg.py:2180: RuntimeWarning: overflow encountered in det\n",
      "  r = _umath_linalg.det(a, signature=signature)\n"
     ]
    },
    {
     "name": "stdout",
     "output_type": "stream",
     "text": [
      "Accuracy: 0.8371097261797735\n",
      "F1-score: 0.40452317290552586\n",
      "Threshold: 0.9  # Duplications: 4 Degree: 1 Lambda: 0.5\n"
     ]
    },
    {
     "name": "stderr",
     "output_type": "stream",
     "text": [
      "c:\\Users\\hany_\\anaconda3\\envs\\ml\\lib\\site-packages\\numpy\\linalg\\linalg.py:2180: RuntimeWarning: overflow encountered in det\n",
      "  r = _umath_linalg.det(a, signature=signature)\n"
     ]
    },
    {
     "name": "stdout",
     "output_type": "stream",
     "text": [
      "Accuracy: 0.7786276989653649\n",
      "F1-score: 0.37146318248680454\n",
      "Threshold: 0.9  # Duplications: 4 Degree: 1 Lambda: 1\n"
     ]
    },
    {
     "name": "stderr",
     "output_type": "stream",
     "text": [
      "c:\\Users\\hany_\\anaconda3\\envs\\ml\\lib\\site-packages\\numpy\\linalg\\linalg.py:2180: RuntimeWarning: overflow encountered in det\n",
      "  r = _umath_linalg.det(a, signature=signature)\n"
     ]
    },
    {
     "name": "stdout",
     "output_type": "stream",
     "text": [
      "Accuracy: 0.7335700245325857\n",
      "F1-score: 0.3451556121493577\n",
      "Threshold: 0.9  # Duplications: 4 Degree: 2 Lambda: 0\n"
     ]
    },
    {
     "name": "stderr",
     "output_type": "stream",
     "text": [
      "c:\\Users\\hany_\\anaconda3\\envs\\ml\\lib\\site-packages\\numpy\\linalg\\linalg.py:2180: RuntimeWarning: overflow encountered in det\n",
      "  r = _umath_linalg.det(a, signature=signature)\n"
     ]
    },
    {
     "name": "stdout",
     "output_type": "stream",
     "text": [
      "Accuracy: 0.848065582763192\n",
      "F1-score: 0.40982539212784846\n",
      "Threshold: 0.9  # Duplications: 4 Degree: 2 Lambda: 0.0001\n"
     ]
    },
    {
     "name": "stderr",
     "output_type": "stream",
     "text": [
      "c:\\Users\\hany_\\anaconda3\\envs\\ml\\lib\\site-packages\\numpy\\linalg\\linalg.py:2180: RuntimeWarning: overflow encountered in det\n",
      "  r = _umath_linalg.det(a, signature=signature)\n"
     ]
    },
    {
     "name": "stdout",
     "output_type": "stream",
     "text": [
      "Accuracy: 0.8481112956557515\n",
      "F1-score: 0.4103170847136772\n",
      "Threshold: 0.9  # Duplications: 4 Degree: 2 Lambda: 0.0005\n"
     ]
    },
    {
     "name": "stderr",
     "output_type": "stream",
     "text": [
      "c:\\Users\\hany_\\anaconda3\\envs\\ml\\lib\\site-packages\\numpy\\linalg\\linalg.py:2180: RuntimeWarning: overflow encountered in det\n",
      "  r = _umath_linalg.det(a, signature=signature)\n"
     ]
    },
    {
     "name": "stdout",
     "output_type": "stream",
     "text": [
      "Accuracy: 0.8505797918539626\n",
      "F1-score: 0.41456716417910444\n",
      "Threshold: 0.9  # Duplications: 4 Degree: 2 Lambda: 0.001\n"
     ]
    },
    {
     "name": "stderr",
     "output_type": "stream",
     "text": [
      "c:\\Users\\hany_\\anaconda3\\envs\\ml\\lib\\site-packages\\numpy\\linalg\\linalg.py:2180: RuntimeWarning: overflow encountered in det\n",
      "  r = _umath_linalg.det(a, signature=signature)\n"
     ]
    },
    {
     "name": "stdout",
     "output_type": "stream",
     "text": [
      "Accuracy: 0.8545872887683423\n",
      "F1-score: 0.4184997867284138\n",
      "Threshold: 0.9  # Duplications: 4 Degree: 2 Lambda: 0.005\n"
     ]
    },
    {
     "name": "stderr",
     "output_type": "stream",
     "text": [
      "c:\\Users\\hany_\\anaconda3\\envs\\ml\\lib\\site-packages\\numpy\\linalg\\linalg.py:2180: RuntimeWarning: overflow encountered in det\n",
      "  r = _umath_linalg.det(a, signature=signature)\n"
     ]
    },
    {
     "name": "stdout",
     "output_type": "stream",
     "text": [
      "Accuracy: 0.8549834671705243\n",
      "F1-score: 0.4166717744406987\n",
      "Threshold: 0.9  # Duplications: 4 Degree: 2 Lambda: 0.01\n"
     ]
    },
    {
     "name": "stderr",
     "output_type": "stream",
     "text": [
      "c:\\Users\\hany_\\anaconda3\\envs\\ml\\lib\\site-packages\\numpy\\linalg\\linalg.py:2180: RuntimeWarning: overflow encountered in det\n",
      "  r = _umath_linalg.det(a, signature=signature)\n"
     ]
    },
    {
     "name": "stdout",
     "output_type": "stream",
     "text": [
      "Accuracy: 0.8553644079418532\n",
      "F1-score: 0.4166666666666667\n",
      "Threshold: 0.9  # Duplications: 4 Degree: 2 Lambda: 0.05\n"
     ]
    },
    {
     "name": "stderr",
     "output_type": "stream",
     "text": [
      "c:\\Users\\hany_\\anaconda3\\envs\\ml\\lib\\site-packages\\numpy\\linalg\\linalg.py:2180: RuntimeWarning: overflow encountered in det\n",
      "  r = _umath_linalg.det(a, signature=signature)\n"
     ]
    },
    {
     "name": "stdout",
     "output_type": "stream",
     "text": [
      "Accuracy: 0.8558672497600073\n",
      "F1-score: 0.4144846796657382\n",
      "Threshold: 0.9  # Duplications: 4 Degree: 2 Lambda: 0.1\n"
     ]
    },
    {
     "name": "stderr",
     "output_type": "stream",
     "text": [
      "c:\\Users\\hany_\\anaconda3\\envs\\ml\\lib\\site-packages\\numpy\\linalg\\linalg.py:2180: RuntimeWarning: overflow encountered in det\n",
      "  r = _umath_linalg.det(a, signature=signature)\n"
     ]
    },
    {
     "name": "stdout",
     "output_type": "stream",
     "text": [
      "Accuracy: 0.8571319731208191\n",
      "F1-score: 0.4138534633658414\n",
      "Threshold: 0.9  # Duplications: 4 Degree: 2 Lambda: 0.5\n"
     ]
    },
    {
     "name": "stderr",
     "output_type": "stream",
     "text": [
      "c:\\Users\\hany_\\anaconda3\\envs\\ml\\lib\\site-packages\\numpy\\linalg\\linalg.py:2180: RuntimeWarning: overflow encountered in det\n",
      "  r = _umath_linalg.det(a, signature=signature)\n"
     ]
    },
    {
     "name": "stdout",
     "output_type": "stream",
     "text": [
      "Accuracy: 0.8600728358754781\n",
      "F1-score: 0.4054386532858531\n",
      "Threshold: 0.9  # Duplications: 4 Degree: 2 Lambda: 1\n"
     ]
    },
    {
     "name": "stderr",
     "output_type": "stream",
     "text": [
      "c:\\Users\\hany_\\anaconda3\\envs\\ml\\lib\\site-packages\\numpy\\linalg\\linalg.py:2180: RuntimeWarning: overflow encountered in det\n",
      "  r = _umath_linalg.det(a, signature=signature)\n"
     ]
    },
    {
     "name": "stdout",
     "output_type": "stream",
     "text": [
      "Accuracy: 0.8618556386852972\n",
      "F1-score: 0.39816781731279877\n",
      "Threshold: 0.9  # Duplications: 4 Degree: 3 Lambda: 0\n"
     ]
    },
    {
     "name": "stderr",
     "output_type": "stream",
     "text": [
      "c:\\Users\\hany_\\anaconda3\\envs\\ml\\lib\\site-packages\\numpy\\linalg\\linalg.py:2180: RuntimeWarning: overflow encountered in det\n",
      "  r = _umath_linalg.det(a, signature=signature)\n"
     ]
    },
    {
     "name": "stdout",
     "output_type": "stream",
     "text": [
      "Accuracy: 0.09098389382418821\n",
      "F1-score: 0.15856582696267876\n",
      "Threshold: 0.9  # Duplications: 4 Degree: 3 Lambda: 0.0001\n"
     ]
    },
    {
     "name": "stderr",
     "output_type": "stream",
     "text": [
      "c:\\Users\\hany_\\anaconda3\\envs\\ml\\lib\\site-packages\\numpy\\linalg\\linalg.py:2180: RuntimeWarning: overflow encountered in det\n",
      "  r = _umath_linalg.det(a, signature=signature)\n"
     ]
    },
    {
     "name": "stdout",
     "output_type": "stream",
     "text": [
      "Accuracy: 0.8535054169777683\n",
      "F1-score: 0.41485088253195374\n",
      "Threshold: 0.9  # Duplications: 4 Degree: 3 Lambda: 0.0005\n"
     ]
    },
    {
     "name": "stderr",
     "output_type": "stream",
     "text": [
      "c:\\Users\\hany_\\anaconda3\\envs\\ml\\lib\\site-packages\\numpy\\linalg\\linalg.py:2180: RuntimeWarning: overflow encountered in det\n",
      "  r = _umath_linalg.det(a, signature=signature)\n"
     ]
    },
    {
     "name": "stdout",
     "output_type": "stream",
     "text": [
      "Accuracy: 0.8550748929556432\n",
      "F1-score: 0.41703953417100825\n",
      "Threshold: 0.9  # Duplications: 4 Degree: 3 Lambda: 0.001\n"
     ]
    },
    {
     "name": "stderr",
     "output_type": "stream",
     "text": [
      "c:\\Users\\hany_\\anaconda3\\envs\\ml\\lib\\site-packages\\numpy\\linalg\\linalg.py:2180: RuntimeWarning: overflow encountered in det\n",
      "  r = _umath_linalg.det(a, signature=signature)\n"
     ]
    },
    {
     "name": "stdout",
     "output_type": "stream",
     "text": [
      "Accuracy: 0.8551663187407622\n",
      "F1-score: 0.4172644227821715\n",
      "Threshold: 0.9  # Duplications: 4 Degree: 3 Lambda: 0.005\n"
     ]
    },
    {
     "name": "stderr",
     "output_type": "stream",
     "text": [
      "c:\\Users\\hany_\\anaconda3\\envs\\ml\\lib\\site-packages\\numpy\\linalg\\linalg.py:2180: RuntimeWarning: overflow encountered in det\n",
      "  r = _umath_linalg.det(a, signature=signature)\n"
     ]
    },
    {
     "name": "stdout",
     "output_type": "stream",
     "text": [
      "Accuracy: 0.8556082100355037\n",
      "F1-score: 0.41764995083579154\n",
      "Threshold: 0.9  # Duplications: 4 Degree: 3 Lambda: 0.01\n"
     ]
    },
    {
     "name": "stderr",
     "output_type": "stream",
     "text": [
      "c:\\Users\\hany_\\anaconda3\\envs\\ml\\lib\\site-packages\\numpy\\linalg\\linalg.py:2180: RuntimeWarning: overflow encountered in det\n",
      "  r = _umath_linalg.det(a, signature=signature)\n"
     ]
    },
    {
     "name": "stdout",
     "output_type": "stream",
     "text": [
      "Accuracy: 0.8559129626525668\n",
      "F1-score: 0.41759053954175906\n",
      "Threshold: 0.9  # Duplications: 4 Degree: 3 Lambda: 0.05\n"
     ]
    },
    {
     "name": "stderr",
     "output_type": "stream",
     "text": [
      "c:\\Users\\hany_\\anaconda3\\envs\\ml\\lib\\site-packages\\numpy\\linalg\\linalg.py:2180: RuntimeWarning: overflow encountered in det\n",
      "  r = _umath_linalg.det(a, signature=signature)\n"
     ]
    },
    {
     "name": "stdout",
     "output_type": "stream",
     "text": [
      "Accuracy: 0.8565072302558399\n",
      "F1-score: 0.41665118007805246\n",
      "Threshold: 0.9  # Duplications: 4 Degree: 3 Lambda: 0.1\n"
     ]
    },
    {
     "name": "stderr",
     "output_type": "stream",
     "text": [
      "c:\\Users\\hany_\\anaconda3\\envs\\ml\\lib\\site-packages\\numpy\\linalg\\linalg.py:2180: RuntimeWarning: overflow encountered in det\n",
      "  r = _umath_linalg.det(a, signature=signature)\n"
     ]
    },
    {
     "name": "stdout",
     "output_type": "stream",
     "text": [
      "Accuracy: 0.8566900818260776\n",
      "F1-score: 0.41463870044189954\n",
      "Threshold: 0.9  # Duplications: 4 Degree: 3 Lambda: 0.5\n"
     ]
    },
    {
     "name": "stderr",
     "output_type": "stream",
     "text": [
      "c:\\Users\\hany_\\anaconda3\\envs\\ml\\lib\\site-packages\\numpy\\linalg\\linalg.py:2180: RuntimeWarning: overflow encountered in det\n",
      "  r = _umath_linalg.det(a, signature=signature)\n"
     ]
    },
    {
     "name": "stdout",
     "output_type": "stream",
     "text": [
      "Accuracy: 0.8578786170326238\n",
      "F1-score: 0.40777192202679535\n",
      "Threshold: 0.9  # Duplications: 4 Degree: 3 Lambda: 1\n"
     ]
    },
    {
     "name": "stderr",
     "output_type": "stream",
     "text": [
      "c:\\Users\\hany_\\anaconda3\\envs\\ml\\lib\\site-packages\\numpy\\linalg\\linalg.py:2180: RuntimeWarning: overflow encountered in det\n",
      "  r = _umath_linalg.det(a, signature=signature)\n"
     ]
    },
    {
     "name": "stdout",
     "output_type": "stream",
     "text": [
      "Accuracy: 0.8579243299251832\n",
      "F1-score: 0.40084822002313325\n",
      "Threshold: 0.9  # Duplications: 4 Degree: 4 Lambda: 0\n"
     ]
    },
    {
     "name": "stderr",
     "output_type": "stream",
     "text": [
      "c:\\Users\\hany_\\anaconda3\\envs\\ml\\lib\\site-packages\\numpy\\linalg\\linalg.py:2180: RuntimeWarning: overflow encountered in det\n",
      "  r = _umath_linalg.det(a, signature=signature)\n"
     ]
    },
    {
     "name": "stdout",
     "output_type": "stream",
     "text": [
      "Accuracy: 0.6772212656376186\n",
      "F1-score: 0.2399081416627794\n",
      "Threshold: 0.9  # Duplications: 4 Degree: 4 Lambda: 0.0001\n"
     ]
    },
    {
     "name": "stderr",
     "output_type": "stream",
     "text": [
      "c:\\Users\\hany_\\anaconda3\\envs\\ml\\lib\\site-packages\\numpy\\linalg\\linalg.py:2180: RuntimeWarning: overflow encountered in det\n",
      "  r = _umath_linalg.det(a, signature=signature)\n"
     ]
    },
    {
     "name": "stdout",
     "output_type": "stream",
     "text": [
      "Accuracy: 0.847776067776982\n",
      "F1-score: 0.41068900424728644\n",
      "Threshold: 0.9  # Duplications: 4 Degree: 4 Lambda: 0.0005\n"
     ]
    },
    {
     "name": "stderr",
     "output_type": "stream",
     "text": [
      "c:\\Users\\hany_\\anaconda3\\envs\\ml\\lib\\site-packages\\numpy\\linalg\\linalg.py:2180: RuntimeWarning: overflow encountered in det\n",
      "  r = _umath_linalg.det(a, signature=signature)\n"
     ]
    },
    {
     "name": "stdout",
     "output_type": "stream",
     "text": [
      "Accuracy: 0.8480960580248983\n",
      "F1-score: 0.4114069788038023\n",
      "Threshold: 0.9  # Duplications: 4 Degree: 4 Lambda: 0.001\n"
     ]
    },
    {
     "name": "stderr",
     "output_type": "stream",
     "text": [
      "c:\\Users\\hany_\\anaconda3\\envs\\ml\\lib\\site-packages\\numpy\\linalg\\linalg.py:2180: RuntimeWarning: overflow encountered in det\n",
      "  r = _umath_linalg.det(a, signature=signature)\n"
     ]
    },
    {
     "name": "stdout",
     "output_type": "stream",
     "text": [
      "Accuracy: 0.8501836134517805\n",
      "F1-score: 0.4130850047755492\n",
      "Threshold: 0.9  # Duplications: 4 Degree: 4 Lambda: 0.005\n"
     ]
    },
    {
     "name": "stderr",
     "output_type": "stream",
     "text": [
      "c:\\Users\\hany_\\anaconda3\\envs\\ml\\lib\\site-packages\\numpy\\linalg\\linalg.py:2180: RuntimeWarning: overflow encountered in det\n",
      "  r = _umath_linalg.det(a, signature=signature)\n"
     ]
    },
    {
     "name": "stdout",
     "output_type": "stream",
     "text": [
      "Accuracy: 0.8555320218812379\n",
      "F1-score: 0.41830787164856736\n",
      "Threshold: 0.9  # Duplications: 4 Degree: 4 Lambda: 0.01\n"
     ]
    },
    {
     "name": "stderr",
     "output_type": "stream",
     "text": [
      "c:\\Users\\hany_\\anaconda3\\envs\\ml\\lib\\site-packages\\numpy\\linalg\\linalg.py:2180: RuntimeWarning: overflow encountered in det\n",
      "  r = _umath_linalg.det(a, signature=signature)\n"
     ]
    },
    {
     "name": "stdout",
     "output_type": "stream",
     "text": [
      "Accuracy: 0.855836774498301\n",
      "F1-score: 0.41810689464296696\n",
      "Threshold: 0.9  # Duplications: 4 Degree: 4 Lambda: 0.05\n"
     ]
    },
    {
     "name": "stderr",
     "output_type": "stream",
     "text": [
      "c:\\Users\\hany_\\anaconda3\\envs\\ml\\lib\\site-packages\\numpy\\linalg\\linalg.py:2180: RuntimeWarning: overflow encountered in det\n",
      "  r = _umath_linalg.det(a, signature=signature)\n"
     ]
    },
    {
     "name": "stdout",
     "output_type": "stream",
     "text": [
      "Accuracy: 0.8570710225974065\n",
      "F1-score: 0.41731892160516837\n",
      "Threshold: 0.9  # Duplications: 4 Degree: 4 Lambda: 0.1\n"
     ]
    },
    {
     "name": "stderr",
     "output_type": "stream",
     "text": [
      "c:\\Users\\hany_\\anaconda3\\envs\\ml\\lib\\site-packages\\numpy\\linalg\\linalg.py:2180: RuntimeWarning: overflow encountered in det\n",
      "  r = _umath_linalg.det(a, signature=signature)\n"
     ]
    },
    {
     "name": "stdout",
     "output_type": "stream",
     "text": [
      "Accuracy: 0.8574519633687354\n",
      "F1-score: 0.4149102507974232\n",
      "Threshold: 0.9  # Duplications: 4 Degree: 4 Lambda: 0.5\n"
     ]
    },
    {
     "name": "stderr",
     "output_type": "stream",
     "text": [
      "c:\\Users\\hany_\\anaconda3\\envs\\ml\\lib\\site-packages\\numpy\\linalg\\linalg.py:2180: RuntimeWarning: overflow encountered in det\n",
      "  r = _umath_linalg.det(a, signature=signature)\n"
     ]
    },
    {
     "name": "stdout",
     "output_type": "stream",
     "text": [
      "Accuracy: 0.8566443689335183\n",
      "F1-score: 0.40740740740740744\n",
      "Threshold: 0.9  # Duplications: 4 Degree: 4 Lambda: 1\n"
     ]
    },
    {
     "name": "stderr",
     "output_type": "stream",
     "text": [
      "c:\\Users\\hany_\\anaconda3\\envs\\ml\\lib\\site-packages\\numpy\\linalg\\linalg.py:2180: RuntimeWarning: overflow encountered in det\n",
      "  r = _umath_linalg.det(a, signature=signature)\n"
     ]
    },
    {
     "name": "stdout",
     "output_type": "stream",
     "text": [
      "Accuracy: 0.8559891508068326\n",
      "F1-score: 0.40012694382735636\n",
      "Threshold: 0.9  # Duplications: 4 Degree: 5 Lambda: 0\n"
     ]
    },
    {
     "name": "stderr",
     "output_type": "stream",
     "text": [
      "c:\\Users\\hany_\\anaconda3\\envs\\ml\\lib\\site-packages\\numpy\\linalg\\linalg.py:2180: RuntimeWarning: overflow encountered in det\n",
      "  r = _umath_linalg.det(a, signature=signature)\n"
     ]
    },
    {
     "name": "stdout",
     "output_type": "stream",
     "text": [
      "Accuracy: 0.45388331022292655\n",
      "F1-score: 0.13821294604212755\n",
      "Threshold: 0.9  # Duplications: 4 Degree: 5 Lambda: 0.0001\n"
     ]
    },
    {
     "name": "stderr",
     "output_type": "stream",
     "text": [
      "c:\\Users\\hany_\\anaconda3\\envs\\ml\\lib\\site-packages\\numpy\\linalg\\linalg.py:2180: RuntimeWarning: overflow encountered in det\n",
      "  r = _umath_linalg.det(a, signature=signature)\n"
     ]
    },
    {
     "name": "stdout",
     "output_type": "stream",
     "text": [
      "Accuracy: 0.8519511786307465\n",
      "F1-score: 0.4146987951807229\n",
      "Threshold: 0.9  # Duplications: 4 Degree: 5 Lambda: 0.0005\n"
     ]
    },
    {
     "name": "stderr",
     "output_type": "stream",
     "text": [
      "c:\\Users\\hany_\\anaconda3\\envs\\ml\\lib\\site-packages\\numpy\\linalg\\linalg.py:2180: RuntimeWarning: overflow encountered in det\n",
      "  r = _umath_linalg.det(a, signature=signature)\n"
     ]
    },
    {
     "name": "stdout",
     "output_type": "stream",
     "text": [
      "Accuracy: 0.8546025263991954\n",
      "F1-score: 0.4179577894351592\n",
      "Threshold: 0.9  # Duplications: 4 Degree: 5 Lambda: 0.001\n"
     ]
    },
    {
     "name": "stderr",
     "output_type": "stream",
     "text": [
      "c:\\Users\\hany_\\anaconda3\\envs\\ml\\lib\\site-packages\\numpy\\linalg\\linalg.py:2180: RuntimeWarning: overflow encountered in det\n",
      "  r = _umath_linalg.det(a, signature=signature)\n"
     ]
    },
    {
     "name": "stdout",
     "output_type": "stream",
     "text": [
      "Accuracy: 0.8550901305864964\n",
      "F1-score: 0.4182062890003671\n",
      "Threshold: 0.9  # Duplications: 4 Degree: 5 Lambda: 0.005\n"
     ]
    },
    {
     "name": "stderr",
     "output_type": "stream",
     "text": [
      "c:\\Users\\hany_\\anaconda3\\envs\\ml\\lib\\site-packages\\numpy\\linalg\\linalg.py:2180: RuntimeWarning: overflow encountered in det\n",
      "  r = _umath_linalg.det(a, signature=signature)\n"
     ]
    },
    {
     "name": "stdout",
     "output_type": "stream",
     "text": [
      "Accuracy: 0.8561872400079236\n",
      "F1-score: 0.4190569986458205\n",
      "Threshold: 0.9  # Duplications: 4 Degree: 5 Lambda: 0.01\n"
     ]
    },
    {
     "name": "stderr",
     "output_type": "stream",
     "text": [
      "c:\\Users\\hany_\\anaconda3\\envs\\ml\\lib\\site-packages\\numpy\\linalg\\linalg.py:2180: RuntimeWarning: overflow encountered in det\n",
      "  r = _umath_linalg.det(a, signature=signature)\n"
     ]
    },
    {
     "name": "stdout",
     "output_type": "stream",
     "text": [
      "Accuracy: 0.8566748441952245\n",
      "F1-score: 0.4183774424931982\n",
      "Threshold: 0.9  # Duplications: 4 Degree: 5 Lambda: 0.05\n"
     ]
    },
    {
     "name": "stderr",
     "output_type": "stream",
     "text": [
      "c:\\Users\\hany_\\anaconda3\\envs\\ml\\lib\\site-packages\\numpy\\linalg\\linalg.py:2180: RuntimeWarning: overflow encountered in det\n",
      "  r = _umath_linalg.det(a, signature=signature)\n"
     ]
    },
    {
     "name": "stdout",
     "output_type": "stream",
     "text": [
      "Accuracy: 0.8574976762612949\n",
      "F1-score: 0.4175386148480319\n",
      "Threshold: 0.9  # Duplications: 4 Degree: 5 Lambda: 0.1\n"
     ]
    },
    {
     "name": "stderr",
     "output_type": "stream",
     "text": [
      "c:\\Users\\hany_\\anaconda3\\envs\\ml\\lib\\site-packages\\numpy\\linalg\\linalg.py:2180: RuntimeWarning: overflow encountered in det\n",
      "  r = _umath_linalg.det(a, signature=signature)\n"
     ]
    },
    {
     "name": "stdout",
     "output_type": "stream",
     "text": [
      "Accuracy: 0.8573605375836165\n",
      "F1-score: 0.4143884892086331\n",
      "Threshold: 0.9  # Duplications: 4 Degree: 5 Lambda: 0.5\n"
     ]
    },
    {
     "name": "stderr",
     "output_type": "stream",
     "text": [
      "c:\\Users\\hany_\\anaconda3\\envs\\ml\\lib\\site-packages\\numpy\\linalg\\linalg.py:2180: RuntimeWarning: overflow encountered in det\n",
      "  r = _umath_linalg.det(a, signature=signature)\n"
     ]
    },
    {
     "name": "stdout",
     "output_type": "stream",
     "text": [
      "Accuracy: 0.8580157557103022\n",
      "F1-score: 0.40943085308657623\n",
      "Threshold: 0.9  # Duplications: 4 Degree: 5 Lambda: 1\n"
     ]
    },
    {
     "name": "stderr",
     "output_type": "stream",
     "text": [
      "c:\\Users\\hany_\\anaconda3\\envs\\ml\\lib\\site-packages\\numpy\\linalg\\linalg.py:2180: RuntimeWarning: overflow encountered in det\n",
      "  r = _umath_linalg.det(a, signature=signature)\n"
     ]
    },
    {
     "name": "stdout",
     "output_type": "stream",
     "text": [
      "Accuracy: 0.8571776860133786\n",
      "F1-score: 0.40394276629570747\n",
      "Threshold: 0.9  # Duplications: 5 Degree: 1 Lambda: 0\n"
     ]
    },
    {
     "name": "stderr",
     "output_type": "stream",
     "text": [
      "c:\\Users\\hany_\\anaconda3\\envs\\ml\\lib\\site-packages\\numpy\\linalg\\linalg.py:2180: RuntimeWarning: overflow encountered in det\n",
      "  r = _umath_linalg.det(a, signature=signature)\n"
     ]
    },
    {
     "name": "stdout",
     "output_type": "stream",
     "text": [
      "Accuracy: 0.8333003184664848\n",
      "F1-score: 0.405046769632369\n",
      "Threshold: 0.9  # Duplications: 5 Degree: 1 Lambda: 0.0001\n"
     ]
    },
    {
     "name": "stderr",
     "output_type": "stream",
     "text": [
      "c:\\Users\\hany_\\anaconda3\\envs\\ml\\lib\\site-packages\\numpy\\linalg\\linalg.py:2180: RuntimeWarning: overflow encountered in det\n",
      "  r = _umath_linalg.det(a, signature=signature)\n"
     ]
    },
    {
     "name": "stdout",
     "output_type": "stream",
     "text": [
      "Accuracy: 0.8334526947750164\n",
      "F1-score: 0.40571987820791644\n",
      "Threshold: 0.9  # Duplications: 5 Degree: 1 Lambda: 0.0005\n"
     ]
    },
    {
     "name": "stderr",
     "output_type": "stream",
     "text": [
      "c:\\Users\\hany_\\anaconda3\\envs\\ml\\lib\\site-packages\\numpy\\linalg\\linalg.py:2180: RuntimeWarning: overflow encountered in det\n",
      "  r = _umath_linalg.det(a, signature=signature)\n"
     ]
    },
    {
     "name": "stdout",
     "output_type": "stream",
     "text": [
      "Accuracy: 0.8332850808356317\n",
      "F1-score: 0.40541274930710286\n",
      "Threshold: 0.9  # Duplications: 5 Degree: 1 Lambda: 0.001\n"
     ]
    },
    {
     "name": "stderr",
     "output_type": "stream",
     "text": [
      "c:\\Users\\hany_\\anaconda3\\envs\\ml\\lib\\site-packages\\numpy\\linalg\\linalg.py:2180: RuntimeWarning: overflow encountered in det\n",
      "  r = _umath_linalg.det(a, signature=signature)\n"
     ]
    },
    {
     "name": "stdout",
     "output_type": "stream",
     "text": [
      "Accuracy: 0.8332088926813659\n",
      "F1-score: 0.4054964153812731\n",
      "Threshold: 0.9  # Duplications: 5 Degree: 1 Lambda: 0.005\n"
     ]
    },
    {
     "name": "stderr",
     "output_type": "stream",
     "text": [
      "c:\\Users\\hany_\\anaconda3\\envs\\ml\\lib\\site-packages\\numpy\\linalg\\linalg.py:2180: RuntimeWarning: overflow encountered in det\n",
      "  r = _umath_linalg.det(a, signature=signature)\n"
     ]
    },
    {
     "name": "stdout",
     "output_type": "stream",
     "text": [
      "Accuracy: 0.8329041400643028\n",
      "F1-score: 0.406216157678146\n",
      "Threshold: 0.9  # Duplications: 5 Degree: 1 Lambda: 0.01\n"
     ]
    },
    {
     "name": "stderr",
     "output_type": "stream",
     "text": [
      "c:\\Users\\hany_\\anaconda3\\envs\\ml\\lib\\site-packages\\numpy\\linalg\\linalg.py:2180: RuntimeWarning: overflow encountered in det\n",
      "  r = _umath_linalg.det(a, signature=signature)\n"
     ]
    },
    {
     "name": "stdout",
     "output_type": "stream",
     "text": [
      "Accuracy: 0.8317917930120224\n",
      "F1-score: 0.4051942453796002\n",
      "Threshold: 0.9  # Duplications: 5 Degree: 1 Lambda: 0.05\n"
     ]
    },
    {
     "name": "stderr",
     "output_type": "stream",
     "text": [
      "c:\\Users\\hany_\\anaconda3\\envs\\ml\\lib\\site-packages\\numpy\\linalg\\linalg.py:2180: RuntimeWarning: overflow encountered in det\n",
      "  r = _umath_linalg.det(a, signature=signature)\n"
     ]
    },
    {
     "name": "stdout",
     "output_type": "stream",
     "text": [
      "Accuracy: 0.8233958584119341\n",
      "F1-score: 0.400351821192053\n",
      "Threshold: 0.9  # Duplications: 5 Degree: 1 Lambda: 0.1\n"
     ]
    },
    {
     "name": "stderr",
     "output_type": "stream",
     "text": [
      "c:\\Users\\hany_\\anaconda3\\envs\\ml\\lib\\site-packages\\numpy\\linalg\\linalg.py:2180: RuntimeWarning: overflow encountered in det\n",
      "  r = _umath_linalg.det(a, signature=signature)\n"
     ]
    },
    {
     "name": "stdout",
     "output_type": "stream",
     "text": [
      "Accuracy: 0.812958081277523\n",
      "F1-score: 0.39445513294854717\n",
      "Threshold: 0.9  # Duplications: 5 Degree: 1 Lambda: 0.5\n"
     ]
    },
    {
     "name": "stderr",
     "output_type": "stream",
     "text": [
      "c:\\Users\\hany_\\anaconda3\\envs\\ml\\lib\\site-packages\\numpy\\linalg\\linalg.py:2180: RuntimeWarning: overflow encountered in det\n",
      "  r = _umath_linalg.det(a, signature=signature)\n"
     ]
    },
    {
     "name": "stdout",
     "output_type": "stream",
     "text": [
      "Accuracy: 0.7509713989668886\n",
      "F1-score: 0.3555853475809314\n",
      "Threshold: 0.9  # Duplications: 5 Degree: 1 Lambda: 1\n"
     ]
    },
    {
     "name": "stderr",
     "output_type": "stream",
     "text": [
      "c:\\Users\\hany_\\anaconda3\\envs\\ml\\lib\\site-packages\\numpy\\linalg\\linalg.py:2180: RuntimeWarning: overflow encountered in det\n",
      "  r = _umath_linalg.det(a, signature=signature)\n"
     ]
    },
    {
     "name": "stdout",
     "output_type": "stream",
     "text": [
      "Accuracy: 0.709311716214363\n",
      "F1-score: 0.3326220045478398\n",
      "Threshold: 0.9  # Duplications: 5 Degree: 2 Lambda: 0\n"
     ]
    },
    {
     "name": "stderr",
     "output_type": "stream",
     "text": [
      "c:\\Users\\hany_\\anaconda3\\envs\\ml\\lib\\site-packages\\numpy\\linalg\\linalg.py:2180: RuntimeWarning: overflow encountered in det\n",
      "  r = _umath_linalg.det(a, signature=signature)\n"
     ]
    },
    {
     "name": "stdout",
     "output_type": "stream",
     "text": [
      "Accuracy: 0.8270528898166913\n",
      "F1-score: 0.40193908736431655\n",
      "Threshold: 0.9  # Duplications: 5 Degree: 2 Lambda: 0.0001\n"
     ]
    },
    {
     "name": "stderr",
     "output_type": "stream",
     "text": [
      "c:\\Users\\hany_\\anaconda3\\envs\\ml\\lib\\site-packages\\numpy\\linalg\\linalg.py:2180: RuntimeWarning: overflow encountered in det\n",
      "  r = _umath_linalg.det(a, signature=signature)\n"
     ]
    },
    {
     "name": "stdout",
     "output_type": "stream",
     "text": [
      "Accuracy: 0.8280128605604401\n",
      "F1-score: 0.4030884763869057\n",
      "Threshold: 0.9  # Duplications: 5 Degree: 2 Lambda: 0.0005\n"
     ]
    },
    {
     "name": "stderr",
     "output_type": "stream",
     "text": [
      "c:\\Users\\hany_\\anaconda3\\envs\\ml\\lib\\site-packages\\numpy\\linalg\\linalg.py:2180: RuntimeWarning: overflow encountered in det\n",
      "  r = _umath_linalg.det(a, signature=signature)\n"
     ]
    },
    {
     "name": "stdout",
     "output_type": "stream",
     "text": [
      "Accuracy: 0.8285614152711537\n",
      "F1-score: 0.40347807645405864\n",
      "Threshold: 0.9  # Duplications: 5 Degree: 2 Lambda: 0.001\n"
     ]
    },
    {
     "name": "stderr",
     "output_type": "stream",
     "text": [
      "c:\\Users\\hany_\\anaconda3\\envs\\ml\\lib\\site-packages\\numpy\\linalg\\linalg.py:2180: RuntimeWarning: overflow encountered in det\n",
      "  r = _umath_linalg.det(a, signature=signature)\n"
     ]
    },
    {
     "name": "stdout",
     "output_type": "stream",
     "text": [
      "Accuracy: 0.83371173449952\n",
      "F1-score: 0.40930987821380244\n",
      "Threshold: 0.9  # Duplications: 5 Degree: 2 Lambda: 0.005\n"
     ]
    },
    {
     "name": "stderr",
     "output_type": "stream",
     "text": [
      "c:\\Users\\hany_\\anaconda3\\envs\\ml\\lib\\site-packages\\numpy\\linalg\\linalg.py:2180: RuntimeWarning: overflow encountered in det\n",
      "  r = _umath_linalg.det(a, signature=signature)\n"
     ]
    },
    {
     "name": "stdout",
     "output_type": "stream",
     "text": [
      "Accuracy: 0.8346717052432687\n",
      "F1-score: 0.4078803754638725\n",
      "Threshold: 0.9  # Duplications: 5 Degree: 2 Lambda: 0.01\n"
     ]
    },
    {
     "name": "stderr",
     "output_type": "stream",
     "text": [
      "c:\\Users\\hany_\\anaconda3\\envs\\ml\\lib\\site-packages\\numpy\\linalg\\linalg.py:2180: RuntimeWarning: overflow encountered in det\n",
      "  r = _umath_linalg.det(a, signature=signature)\n"
     ]
    },
    {
     "name": "stdout",
     "output_type": "stream",
     "text": [
      "Accuracy: 0.8350678836454508\n",
      "F1-score: 0.4080717488789237\n",
      "Threshold: 0.9  # Duplications: 5 Degree: 2 Lambda: 0.05\n"
     ]
    },
    {
     "name": "stderr",
     "output_type": "stream",
     "text": [
      "c:\\Users\\hany_\\anaconda3\\envs\\ml\\lib\\site-packages\\numpy\\linalg\\linalg.py:2180: RuntimeWarning: overflow encountered in det\n",
      "  r = _umath_linalg.det(a, signature=signature)\n"
     ]
    },
    {
     "name": "stdout",
     "output_type": "stream",
     "text": [
      "Accuracy: 0.8356164383561644\n",
      "F1-score: 0.40686166703320864\n",
      "Threshold: 0.9  # Duplications: 5 Degree: 2 Lambda: 0.1\n"
     ]
    },
    {
     "name": "stderr",
     "output_type": "stream",
     "text": [
      "c:\\Users\\hany_\\anaconda3\\envs\\ml\\lib\\site-packages\\numpy\\linalg\\linalg.py:2180: RuntimeWarning: overflow encountered in det\n",
      "  r = _umath_linalg.det(a, signature=signature)\n"
     ]
    },
    {
     "name": "stdout",
     "output_type": "stream",
     "text": [
      "Accuracy: 0.8361040425434654\n",
      "F1-score: 0.4056801856558736\n",
      "Threshold: 0.9  # Duplications: 5 Degree: 2 Lambda: 0.5\n"
     ]
    },
    {
     "name": "stderr",
     "output_type": "stream",
     "text": [
      "c:\\Users\\hany_\\anaconda3\\envs\\ml\\lib\\site-packages\\numpy\\linalg\\linalg.py:2180: RuntimeWarning: overflow encountered in det\n",
      "  r = _umath_linalg.det(a, signature=signature)\n"
     ]
    },
    {
     "name": "stdout",
     "output_type": "stream",
     "text": [
      "Accuracy: 0.8386639645267954\n",
      "F1-score: 0.39970518199342325\n",
      "Threshold: 0.9  # Duplications: 5 Degree: 2 Lambda: 1\n"
     ]
    },
    {
     "name": "stderr",
     "output_type": "stream",
     "text": [
      "c:\\Users\\hany_\\anaconda3\\envs\\ml\\lib\\site-packages\\numpy\\linalg\\linalg.py:2180: RuntimeWarning: overflow encountered in det\n",
      "  r = _umath_linalg.det(a, signature=signature)\n"
     ]
    },
    {
     "name": "stdout",
     "output_type": "stream",
     "text": [
      "Accuracy: 0.8403705791823487\n",
      "F1-score: 0.3945908460471567\n",
      "Threshold: 0.9  # Duplications: 5 Degree: 3 Lambda: 0\n"
     ]
    },
    {
     "name": "stderr",
     "output_type": "stream",
     "text": [
      "c:\\Users\\hany_\\anaconda3\\envs\\ml\\lib\\site-packages\\numpy\\linalg\\linalg.py:2180: RuntimeWarning: overflow encountered in det\n",
      "  r = _umath_linalg.det(a, signature=signature)\n"
     ]
    },
    {
     "name": "stdout",
     "output_type": "stream",
     "text": [
      "Accuracy: 0.09357429106922456\n",
      "F1-score: 0.1584948366105531\n",
      "Threshold: 0.9  # Duplications: 5 Degree: 3 Lambda: 0.0001\n"
     ]
    },
    {
     "name": "stderr",
     "output_type": "stream",
     "text": [
      "c:\\Users\\hany_\\anaconda3\\envs\\ml\\lib\\site-packages\\numpy\\linalg\\linalg.py:2180: RuntimeWarning: overflow encountered in det\n",
      "  r = _umath_linalg.det(a, signature=signature)\n"
     ]
    },
    {
     "name": "stdout",
     "output_type": "stream",
     "text": [
      "Accuracy: 0.8335898334526948\n",
      "F1-score: 0.4080437964117296\n",
      "Threshold: 0.9  # Duplications: 5 Degree: 3 Lambda: 0.0005\n"
     ]
    },
    {
     "name": "stderr",
     "output_type": "stream",
     "text": [
      "c:\\Users\\hany_\\anaconda3\\envs\\ml\\lib\\site-packages\\numpy\\linalg\\linalg.py:2180: RuntimeWarning: overflow encountered in det\n",
      "  r = _umath_linalg.det(a, signature=signature)\n"
     ]
    },
    {
     "name": "stdout",
     "output_type": "stream",
     "text": [
      "Accuracy: 0.8351288341688634\n",
      "F1-score: 0.40932416202642213\n",
      "Threshold: 0.9  # Duplications: 5 Degree: 3 Lambda: 0.001\n"
     ]
    },
    {
     "name": "stderr",
     "output_type": "stream",
     "text": [
      "c:\\Users\\hany_\\anaconda3\\envs\\ml\\lib\\site-packages\\numpy\\linalg\\linalg.py:2180: RuntimeWarning: overflow encountered in det\n",
      "  r = _umath_linalg.det(a, signature=signature)\n"
     ]
    },
    {
     "name": "stdout",
     "output_type": "stream",
     "text": [
      "Accuracy: 0.8352202599539823\n",
      "F1-score: 0.4093292549705047\n",
      "Threshold: 0.9  # Duplications: 5 Degree: 3 Lambda: 0.005\n"
     ]
    },
    {
     "name": "stderr",
     "output_type": "stream",
     "text": [
      "c:\\Users\\hany_\\anaconda3\\envs\\ml\\lib\\site-packages\\numpy\\linalg\\linalg.py:2180: RuntimeWarning: overflow encountered in det\n",
      "  r = _umath_linalg.det(a, signature=signature)\n"
     ]
    },
    {
     "name": "stdout",
     "output_type": "stream",
     "text": [
      "Accuracy: 0.8354640620476328\n",
      "F1-score: 0.4093644021441855\n",
      "Threshold: 0.9  # Duplications: 5 Degree: 3 Lambda: 0.01\n"
     ]
    },
    {
     "name": "stderr",
     "output_type": "stream",
     "text": [
      "c:\\Users\\hany_\\anaconda3\\envs\\ml\\lib\\site-packages\\numpy\\linalg\\linalg.py:2180: RuntimeWarning: overflow encountered in det\n",
      "  r = _umath_linalg.det(a, signature=signature)\n"
     ]
    },
    {
     "name": "stdout",
     "output_type": "stream",
     "text": [
      "Accuracy: 0.8353573986316607\n",
      "F1-score: 0.4089491822110388\n",
      "Threshold: 0.9  # Duplications: 5 Degree: 3 Lambda: 0.05\n"
     ]
    },
    {
     "name": "stderr",
     "output_type": "stream",
     "text": [
      "c:\\Users\\hany_\\anaconda3\\envs\\ml\\lib\\site-packages\\numpy\\linalg\\linalg.py:2180: RuntimeWarning: overflow encountered in det\n",
      "  r = _umath_linalg.det(a, signature=signature)\n"
     ]
    },
    {
     "name": "stdout",
     "output_type": "stream",
     "text": [
      "Accuracy: 0.8357840522955491\n",
      "F1-score: 0.4072383257246577\n",
      "Threshold: 0.9  # Duplications: 5 Degree: 3 Lambda: 0.1\n"
     ]
    },
    {
     "name": "stderr",
     "output_type": "stream",
     "text": [
      "c:\\Users\\hany_\\anaconda3\\envs\\ml\\lib\\site-packages\\numpy\\linalg\\linalg.py:2180: RuntimeWarning: overflow encountered in det\n",
      "  r = _umath_linalg.det(a, signature=signature)\n"
     ]
    },
    {
     "name": "stdout",
     "output_type": "stream",
     "text": [
      "Accuracy: 0.8357535770338428\n",
      "F1-score: 0.40450803822993203\n",
      "Threshold: 0.9  # Duplications: 5 Degree: 3 Lambda: 0.5\n"
     ]
    },
    {
     "name": "stderr",
     "output_type": "stream",
     "text": [
      "c:\\Users\\hany_\\anaconda3\\envs\\ml\\lib\\site-packages\\numpy\\linalg\\linalg.py:2180: RuntimeWarning: overflow encountered in det\n",
      "  r = _umath_linalg.det(a, signature=signature)\n"
     ]
    },
    {
     "name": "stdout",
     "output_type": "stream",
     "text": [
      "Accuracy: 0.8372468648574519\n",
      "F1-score: 0.39937018500815386\n",
      "Threshold: 0.9  # Duplications: 5 Degree: 3 Lambda: 1\n"
     ]
    },
    {
     "name": "stderr",
     "output_type": "stream",
     "text": [
      "c:\\Users\\hany_\\anaconda3\\envs\\ml\\lib\\site-packages\\numpy\\linalg\\linalg.py:2180: RuntimeWarning: overflow encountered in det\n",
      "  r = _umath_linalg.det(a, signature=signature)\n"
     ]
    },
    {
     "name": "stdout",
     "output_type": "stream",
     "text": [
      "Accuracy: 0.8376125679979277\n",
      "F1-score: 0.39582742785872216\n",
      "Threshold: 0.9  # Duplications: 5 Degree: 4 Lambda: 0\n"
     ]
    },
    {
     "name": "stderr",
     "output_type": "stream",
     "text": [
      "c:\\Users\\hany_\\anaconda3\\envs\\ml\\lib\\site-packages\\numpy\\linalg\\linalg.py:2180: RuntimeWarning: overflow encountered in det\n",
      "  r = _umath_linalg.det(a, signature=signature)\n"
     ]
    },
    {
     "name": "stdout",
     "output_type": "stream",
     "text": [
      "Accuracy: 0.6772212656376186\n",
      "F1-score: 0.2399081416627794\n",
      "Threshold: 0.9  # Duplications: 5 Degree: 4 Lambda: 0.0001\n"
     ]
    },
    {
     "name": "stderr",
     "output_type": "stream",
     "text": [
      "c:\\Users\\hany_\\anaconda3\\envs\\ml\\lib\\site-packages\\numpy\\linalg\\linalg.py:2180: RuntimeWarning: overflow encountered in det\n",
      "  r = _umath_linalg.det(a, signature=signature)\n"
     ]
    },
    {
     "name": "stdout",
     "output_type": "stream",
     "text": [
      "Accuracy: 0.8272814542794886\n",
      "F1-score: 0.40194164512214425\n",
      "Threshold: 0.9  # Duplications: 5 Degree: 4 Lambda: 0.0005\n"
     ]
    },
    {
     "name": "stderr",
     "output_type": "stream",
     "text": [
      "c:\\Users\\hany_\\anaconda3\\envs\\ml\\lib\\site-packages\\numpy\\linalg\\linalg.py:2180: RuntimeWarning: overflow encountered in det\n",
      "  r = _umath_linalg.det(a, signature=signature)\n"
     ]
    },
    {
     "name": "stdout",
     "output_type": "stream",
     "text": [
      "Accuracy: 0.8269614640315723\n",
      "F1-score: 0.40168598524762905\n",
      "Threshold: 0.9  # Duplications: 5 Degree: 4 Lambda: 0.001\n"
     ]
    },
    {
     "name": "stderr",
     "output_type": "stream",
     "text": [
      "c:\\Users\\hany_\\anaconda3\\envs\\ml\\lib\\site-packages\\numpy\\linalg\\linalg.py:2180: RuntimeWarning: overflow encountered in det\n",
      "  r = _umath_linalg.det(a, signature=signature)\n"
     ]
    },
    {
     "name": "stdout",
     "output_type": "stream",
     "text": [
      "Accuracy: 0.8273119295411949\n",
      "F1-score: 0.40204716931356516\n",
      "Threshold: 0.9  # Duplications: 5 Degree: 4 Lambda: 0.005\n"
     ]
    },
    {
     "name": "stderr",
     "output_type": "stream",
     "text": [
      "c:\\Users\\hany_\\anaconda3\\envs\\ml\\lib\\site-packages\\numpy\\linalg\\linalg.py:2180: RuntimeWarning: overflow encountered in det\n",
      "  r = _umath_linalg.det(a, signature=signature)\n"
     ]
    },
    {
     "name": "stdout",
     "output_type": "stream",
     "text": [
      "Accuracy: 0.8348393191826535\n",
      "F1-score: 0.40909338712315324\n",
      "Threshold: 0.9  # Duplications: 5 Degree: 4 Lambda: 0.01\n"
     ]
    },
    {
     "name": "stderr",
     "output_type": "stream",
     "text": [
      "c:\\Users\\hany_\\anaconda3\\envs\\ml\\lib\\site-packages\\numpy\\linalg\\linalg.py:2180: RuntimeWarning: overflow encountered in det\n",
      "  r = _umath_linalg.det(a, signature=signature)\n"
     ]
    },
    {
     "name": "stdout",
     "output_type": "stream",
     "text": [
      "Accuracy: 0.8351135965380103\n",
      "F1-score: 0.4087208349270532\n",
      "Threshold: 0.9  # Duplications: 5 Degree: 4 Lambda: 0.05\n"
     ]
    },
    {
     "name": "stderr",
     "output_type": "stream",
     "text": [
      "c:\\Users\\hany_\\anaconda3\\envs\\ml\\lib\\site-packages\\numpy\\linalg\\linalg.py:2180: RuntimeWarning: overflow encountered in det\n",
      "  r = _umath_linalg.det(a, signature=signature)\n"
     ]
    },
    {
     "name": "stdout",
     "output_type": "stream",
     "text": [
      "Accuracy: 0.8357535770338428\n",
      "F1-score: 0.4069325997248968\n",
      "Threshold: 0.9  # Duplications: 5 Degree: 4 Lambda: 0.1\n"
     ]
    },
    {
     "name": "stderr",
     "output_type": "stream",
     "text": [
      "c:\\Users\\hany_\\anaconda3\\envs\\ml\\lib\\site-packages\\numpy\\linalg\\linalg.py:2180: RuntimeWarning: overflow encountered in det\n",
      "  r = _umath_linalg.det(a, signature=signature)\n"
     ]
    },
    {
     "name": "stdout",
     "output_type": "stream",
     "text": [
      "Accuracy: 0.8364087951605285\n",
      "F1-score: 0.40606328833812794\n",
      "Threshold: 0.9  # Duplications: 5 Degree: 4 Lambda: 0.5\n"
     ]
    },
    {
     "name": "stderr",
     "output_type": "stream",
     "text": [
      "c:\\Users\\hany_\\anaconda3\\envs\\ml\\lib\\site-packages\\numpy\\linalg\\linalg.py:2180: RuntimeWarning: overflow encountered in det\n",
      "  r = _umath_linalg.det(a, signature=signature)\n"
     ]
    },
    {
     "name": "stdout",
     "output_type": "stream",
     "text": [
      "Accuracy: 0.8355707254636049\n",
      "F1-score: 0.39946574656352607\n",
      "Threshold: 0.9  # Duplications: 5 Degree: 4 Lambda: 1\n"
     ]
    },
    {
     "name": "stderr",
     "output_type": "stream",
     "text": [
      "c:\\Users\\hany_\\anaconda3\\envs\\ml\\lib\\site-packages\\numpy\\linalg\\linalg.py:2180: RuntimeWarning: overflow encountered in det\n",
      "  r = _umath_linalg.det(a, signature=signature)\n"
     ]
    },
    {
     "name": "stdout",
     "output_type": "stream",
     "text": [
      "Accuracy: 0.8356164383561644\n",
      "F1-score: 0.39549478874817884\n",
      "Threshold: 0.9  # Duplications: 5 Degree: 5 Lambda: 0\n"
     ]
    },
    {
     "name": "stderr",
     "output_type": "stream",
     "text": [
      "c:\\Users\\hany_\\anaconda3\\envs\\ml\\lib\\site-packages\\numpy\\linalg\\linalg.py:2180: RuntimeWarning: overflow encountered in det\n",
      "  r = _umath_linalg.det(a, signature=signature)\n"
     ]
    },
    {
     "name": "stdout",
     "output_type": "stream",
     "text": [
      "Accuracy: 0.39564508510216834\n",
      "F1-score: 0.10144993203443588\n",
      "Threshold: 0.9  # Duplications: 5 Degree: 5 Lambda: 0.0001\n"
     ]
    },
    {
     "name": "stderr",
     "output_type": "stream",
     "text": [
      "c:\\Users\\hany_\\anaconda3\\envs\\ml\\lib\\site-packages\\numpy\\linalg\\linalg.py:2180: RuntimeWarning: overflow encountered in det\n",
      "  r = _umath_linalg.det(a, signature=signature)\n"
     ]
    },
    {
     "name": "stdout",
     "output_type": "stream",
     "text": [
      "Accuracy: 0.8312889511938684\n",
      "F1-score: 0.4051788976039541\n",
      "Threshold: 0.9  # Duplications: 5 Degree: 5 Lambda: 0.0005\n"
     ]
    },
    {
     "name": "stderr",
     "output_type": "stream",
     "text": [
      "c:\\Users\\hany_\\anaconda3\\envs\\ml\\lib\\site-packages\\numpy\\linalg\\linalg.py:2180: RuntimeWarning: overflow encountered in det\n",
      "  r = _umath_linalg.det(a, signature=signature)\n"
     ]
    },
    {
     "name": "stdout",
     "output_type": "stream",
     "text": [
      "Accuracy: 0.8335593581909885\n",
      "F1-score: 0.4077427750365993\n",
      "Threshold: 0.9  # Duplications: 5 Degree: 5 Lambda: 0.001\n"
     ]
    },
    {
     "name": "stderr",
     "output_type": "stream",
     "text": [
      "c:\\Users\\hany_\\anaconda3\\envs\\ml\\lib\\site-packages\\numpy\\linalg\\linalg.py:2180: RuntimeWarning: overflow encountered in det\n",
      "  r = _umath_linalg.det(a, signature=signature)\n"
     ]
    },
    {
     "name": "stdout",
     "output_type": "stream",
     "text": [
      "Accuracy: 0.8337879226537858\n",
      "F1-score: 0.40794615718627875\n",
      "Threshold: 0.9  # Duplications: 5 Degree: 5 Lambda: 0.005\n"
     ]
    },
    {
     "name": "stderr",
     "output_type": "stream",
     "text": [
      "c:\\Users\\hany_\\anaconda3\\envs\\ml\\lib\\site-packages\\numpy\\linalg\\linalg.py:2180: RuntimeWarning: overflow encountered in det\n",
      "  r = _umath_linalg.det(a, signature=signature)\n"
     ]
    },
    {
     "name": "stdout",
     "output_type": "stream",
     "text": [
      "Accuracy: 0.8351135965380103\n",
      "F1-score: 0.40859157238891625\n",
      "Threshold: 0.9  # Duplications: 5 Degree: 5 Lambda: 0.01\n"
     ]
    },
    {
     "name": "stderr",
     "output_type": "stream",
     "text": [
      "c:\\Users\\hany_\\anaconda3\\envs\\ml\\lib\\site-packages\\numpy\\linalg\\linalg.py:2180: RuntimeWarning: overflow encountered in det\n",
      "  r = _umath_linalg.det(a, signature=signature)\n"
     ]
    },
    {
     "name": "stdout",
     "output_type": "stream",
     "text": [
      "Accuracy: 0.8354640620476328\n",
      "F1-score: 0.40819905732763345\n",
      "Threshold: 0.9  # Duplications: 5 Degree: 5 Lambda: 0.05\n"
     ]
    },
    {
     "name": "stderr",
     "output_type": "stream",
     "text": [
      "c:\\Users\\hany_\\anaconda3\\envs\\ml\\lib\\site-packages\\numpy\\linalg\\linalg.py:2180: RuntimeWarning: overflow encountered in det\n",
      "  r = _umath_linalg.det(a, signature=signature)\n"
     ]
    },
    {
     "name": "stdout",
     "output_type": "stream",
     "text": [
      "Accuracy: 0.836363082267969\n",
      "F1-score: 0.40783016266887234\n",
      "Threshold: 0.9  # Duplications: 5 Degree: 5 Lambda: 0.1\n"
     ]
    },
    {
     "name": "stderr",
     "output_type": "stream",
     "text": [
      "c:\\Users\\hany_\\anaconda3\\envs\\ml\\lib\\site-packages\\numpy\\linalg\\linalg.py:2180: RuntimeWarning: overflow encountered in det\n",
      "  r = _umath_linalg.det(a, signature=signature)\n"
     ]
    },
    {
     "name": "stdout",
     "output_type": "stream",
     "text": [
      "Accuracy: 0.8365459338382069\n",
      "F1-score: 0.40679090858817674\n",
      "Threshold: 0.9  # Duplications: 5 Degree: 5 Lambda: 0.5\n"
     ]
    },
    {
     "name": "stderr",
     "output_type": "stream",
     "text": [
      "c:\\Users\\hany_\\anaconda3\\envs\\ml\\lib\\site-packages\\numpy\\linalg\\linalg.py:2180: RuntimeWarning: overflow encountered in det\n",
      "  r = _umath_linalg.det(a, signature=signature)\n"
     ]
    },
    {
     "name": "stdout",
     "output_type": "stream",
     "text": [
      "Accuracy: 0.8368811617169762\n",
      "F1-score: 0.4021223122032952\n",
      "Threshold: 0.9  # Duplications: 5 Degree: 5 Lambda: 1\n"
     ]
    },
    {
     "name": "stderr",
     "output_type": "stream",
     "text": [
      "c:\\Users\\hany_\\anaconda3\\envs\\ml\\lib\\site-packages\\numpy\\linalg\\linalg.py:2180: RuntimeWarning: overflow encountered in det\n",
      "  r = _umath_linalg.det(a, signature=signature)\n"
     ]
    },
    {
     "name": "stdout",
     "output_type": "stream",
     "text": [
      "Accuracy: 0.8368811617169762\n",
      "F1-score: 0.3984941282238579\n",
      "Threshold: 1  # Duplications: 2 Degree: 1 Lambda: 0\n"
     ]
    },
    {
     "name": "stderr",
     "output_type": "stream",
     "text": [
      "c:\\Users\\hany_\\anaconda3\\envs\\ml\\lib\\site-packages\\numpy\\linalg\\linalg.py:2180: RuntimeWarning: overflow encountered in det\n",
      "  r = _umath_linalg.det(a, signature=signature)\n"
     ]
    },
    {
     "name": "stdout",
     "output_type": "stream",
     "text": [
      "Accuracy: 0.8962622091517211\n",
      "F1-score: 0.40416593733590056\n",
      "Threshold: 1  # Duplications: 2 Degree: 1 Lambda: 0.0001\n"
     ]
    },
    {
     "name": "stderr",
     "output_type": "stream",
     "text": [
      "c:\\Users\\hany_\\anaconda3\\envs\\ml\\lib\\site-packages\\numpy\\linalg\\linalg.py:2180: RuntimeWarning: overflow encountered in det\n",
      "  r = _umath_linalg.det(a, signature=signature)\n"
     ]
    },
    {
     "name": "stdout",
     "output_type": "stream",
     "text": [
      "Accuracy: 0.8963993478293995\n",
      "F1-score: 0.4047973387026176\n",
      "Threshold: 1  # Duplications: 2 Degree: 1 Lambda: 0.0005\n"
     ]
    },
    {
     "name": "stderr",
     "output_type": "stream",
     "text": [
      "c:\\Users\\hany_\\anaconda3\\envs\\ml\\lib\\site-packages\\numpy\\linalg\\linalg.py:2180: RuntimeWarning: overflow encountered in det\n",
      "  r = _umath_linalg.det(a, signature=signature)\n"
     ]
    },
    {
     "name": "stdout",
     "output_type": "stream",
     "text": [
      "Accuracy: 0.896551724137931\n",
      "F1-score: 0.4048391338651705\n",
      "Threshold: 1  # Duplications: 2 Degree: 1 Lambda: 0.001\n"
     ]
    },
    {
     "name": "stderr",
     "output_type": "stream",
     "text": [
      "c:\\Users\\hany_\\anaconda3\\envs\\ml\\lib\\site-packages\\numpy\\linalg\\linalg.py:2180: RuntimeWarning: overflow encountered in det\n",
      "  r = _umath_linalg.det(a, signature=signature)\n"
     ]
    },
    {
     "name": "stdout",
     "output_type": "stream",
     "text": [
      "Accuracy: 0.8964145854602527\n",
      "F1-score: 0.40420683610867664\n",
      "Threshold: 1  # Duplications: 2 Degree: 1 Lambda: 0.005\n"
     ]
    },
    {
     "name": "stderr",
     "output_type": "stream",
     "text": [
      "c:\\Users\\hany_\\anaconda3\\envs\\ml\\lib\\site-packages\\numpy\\linalg\\linalg.py:2180: RuntimeWarning: overflow encountered in det\n",
      "  r = _umath_linalg.det(a, signature=signature)\n"
     ]
    },
    {
     "name": "stdout",
     "output_type": "stream",
     "text": [
      "Accuracy: 0.8961860209974554\n",
      "F1-score: 0.40336281635870036\n",
      "Threshold: 1  # Duplications: 2 Degree: 1 Lambda: 0.01\n"
     ]
    },
    {
     "name": "stderr",
     "output_type": "stream",
     "text": [
      "c:\\Users\\hany_\\anaconda3\\envs\\ml\\lib\\site-packages\\numpy\\linalg\\linalg.py:2180: RuntimeWarning: overflow encountered in det\n",
      "  r = _umath_linalg.det(a, signature=signature)\n"
     ]
    },
    {
     "name": "stdout",
     "output_type": "stream",
     "text": [
      "Accuracy: 0.8960184070580706\n",
      "F1-score: 0.40432960893854747\n",
      "Threshold: 1  # Duplications: 2 Degree: 1 Lambda: 0.05\n"
     ]
    },
    {
     "name": "stderr",
     "output_type": "stream",
     "text": [
      "c:\\Users\\hany_\\anaconda3\\envs\\ml\\lib\\site-packages\\numpy\\linalg\\linalg.py:2180: RuntimeWarning: overflow encountered in det\n",
      "  r = _umath_linalg.det(a, signature=signature)\n"
     ]
    },
    {
     "name": "stdout",
     "output_type": "stream",
     "text": [
      "Accuracy: 0.8927880293172018\n",
      "F1-score: 0.40634492068849143\n",
      "Threshold: 1  # Duplications: 2 Degree: 1 Lambda: 0.1\n"
     ]
    },
    {
     "name": "stderr",
     "output_type": "stream",
     "text": [
      "c:\\Users\\hany_\\anaconda3\\envs\\ml\\lib\\site-packages\\numpy\\linalg\\linalg.py:2180: RuntimeWarning: overflow encountered in det\n",
      "  r = _umath_linalg.det(a, signature=signature)\n"
     ]
    },
    {
     "name": "stdout",
     "output_type": "stream",
     "text": [
      "Accuracy: 0.8880034132293111\n",
      "F1-score: 0.4091639871382637\n",
      "Threshold: 1  # Duplications: 2 Degree: 1 Lambda: 0.5\n"
     ]
    },
    {
     "name": "stderr",
     "output_type": "stream",
     "text": [
      "c:\\Users\\hany_\\anaconda3\\envs\\ml\\lib\\site-packages\\numpy\\linalg\\linalg.py:2180: RuntimeWarning: overflow encountered in det\n",
      "  r = _umath_linalg.det(a, signature=signature)\n"
     ]
    },
    {
     "name": "stdout",
     "output_type": "stream",
     "text": [
      "Accuracy: 0.8471056120194432\n",
      "F1-score: 0.4047223540579022\n",
      "Threshold: 1  # Duplications: 2 Degree: 1 Lambda: 1\n"
     ]
    },
    {
     "name": "stderr",
     "output_type": "stream",
     "text": [
      "c:\\Users\\hany_\\anaconda3\\envs\\ml\\lib\\site-packages\\numpy\\linalg\\linalg.py:2180: RuntimeWarning: overflow encountered in det\n",
      "  r = _umath_linalg.det(a, signature=signature)\n"
     ]
    },
    {
     "name": "stdout",
     "output_type": "stream",
     "text": [
      "Accuracy: 0.8055373550520365\n",
      "F1-score: 0.38204532248692624\n",
      "Threshold: 1  # Duplications: 2 Degree: 2 Lambda: 0\n"
     ]
    },
    {
     "name": "stderr",
     "output_type": "stream",
     "text": [
      "c:\\Users\\hany_\\anaconda3\\envs\\ml\\lib\\site-packages\\numpy\\linalg\\linalg.py:2180: RuntimeWarning: overflow encountered in det\n",
      "  r = _umath_linalg.det(a, signature=signature)\n"
     ]
    },
    {
     "name": "stdout",
     "output_type": "stream",
     "text": [
      "Accuracy: 0.09099913145504138\n",
      "F1-score: 0.1585680635287812\n",
      "Threshold: 1  # Duplications: 2 Degree: 2 Lambda: 0.0001\n"
     ]
    },
    {
     "name": "stderr",
     "output_type": "stream",
     "text": [
      "c:\\Users\\hany_\\anaconda3\\envs\\ml\\lib\\site-packages\\numpy\\linalg\\linalg.py:2180: RuntimeWarning: overflow encountered in det\n",
      "  r = _umath_linalg.det(a, signature=signature)\n"
     ]
    },
    {
     "name": "stdout",
     "output_type": "stream",
     "text": [
      "Accuracy: 0.8899538299785149\n",
      "F1-score: 0.4038302790160145\n",
      "Threshold: 1  # Duplications: 2 Degree: 2 Lambda: 0.0005\n"
     ]
    },
    {
     "name": "stderr",
     "output_type": "stream",
     "text": [
      "c:\\Users\\hany_\\anaconda3\\envs\\ml\\lib\\site-packages\\numpy\\linalg\\linalg.py:2180: RuntimeWarning: overflow encountered in det\n",
      "  r = _umath_linalg.det(a, signature=signature)\n"
     ]
    },
    {
     "name": "stdout",
     "output_type": "stream",
     "text": [
      "Accuracy: 0.8961860209974554\n",
      "F1-score: 0.4136328427575523\n",
      "Threshold: 1  # Duplications: 2 Degree: 2 Lambda: 0.001\n"
     ]
    },
    {
     "name": "stderr",
     "output_type": "stream",
     "text": [
      "c:\\Users\\hany_\\anaconda3\\envs\\ml\\lib\\site-packages\\numpy\\linalg\\linalg.py:2180: RuntimeWarning: overflow encountered in det\n",
      "  r = _umath_linalg.det(a, signature=signature)\n"
     ]
    },
    {
     "name": "stdout",
     "output_type": "stream",
     "text": [
      "Accuracy: 0.8970088530635257\n",
      "F1-score: 0.41087771289113567\n",
      "Threshold: 1  # Duplications: 2 Degree: 2 Lambda: 0.005\n"
     ]
    },
    {
     "name": "stderr",
     "output_type": "stream",
     "text": [
      "c:\\Users\\hany_\\anaconda3\\envs\\ml\\lib\\site-packages\\numpy\\linalg\\linalg.py:2180: RuntimeWarning: overflow encountered in det\n",
      "  r = _umath_linalg.det(a, signature=signature)\n"
     ]
    },
    {
     "name": "stdout",
     "output_type": "stream",
     "text": [
      "Accuracy: 0.8978316851295961\n",
      "F1-score: 0.4102383674905445\n",
      "Threshold: 1  # Duplications: 2 Degree: 2 Lambda: 0.01\n"
     ]
    },
    {
     "name": "stderr",
     "output_type": "stream",
     "text": [
      "c:\\Users\\hany_\\anaconda3\\envs\\ml\\lib\\site-packages\\numpy\\linalg\\linalg.py:2180: RuntimeWarning: overflow encountered in det\n",
      "  r = _umath_linalg.det(a, signature=signature)\n"
     ]
    },
    {
     "name": "stdout",
     "output_type": "stream",
     "text": [
      "Accuracy: 0.897725021713624\n",
      "F1-score: 0.4077995412034587\n",
      "Threshold: 1  # Duplications: 2 Degree: 2 Lambda: 0.05\n"
     ]
    },
    {
     "name": "stderr",
     "output_type": "stream",
     "text": [
      "c:\\Users\\hany_\\anaconda3\\envs\\ml\\lib\\site-packages\\numpy\\linalg\\linalg.py:2180: RuntimeWarning: overflow encountered in det\n",
      "  r = _umath_linalg.det(a, signature=signature)\n"
     ]
    },
    {
     "name": "stdout",
     "output_type": "stream",
     "text": [
      "Accuracy: 0.8981364377466592\n",
      "F1-score: 0.40114664516706977\n",
      "Threshold: 1  # Duplications: 2 Degree: 2 Lambda: 0.1\n"
     ]
    },
    {
     "name": "stderr",
     "output_type": "stream",
     "text": [
      "c:\\Users\\hany_\\anaconda3\\envs\\ml\\lib\\site-packages\\numpy\\linalg\\linalg.py:2180: RuntimeWarning: overflow encountered in det\n",
      "  r = _umath_linalg.det(a, signature=signature)\n"
     ]
    },
    {
     "name": "stdout",
     "output_type": "stream",
     "text": [
      "Accuracy: 0.8988221311350512\n",
      "F1-score: 0.3959243085880641\n",
      "Threshold: 1  # Duplications: 2 Degree: 2 Lambda: 0.5\n"
     ]
    },
    {
     "name": "stderr",
     "output_type": "stream",
     "text": [
      "c:\\Users\\hany_\\anaconda3\\envs\\ml\\lib\\site-packages\\numpy\\linalg\\linalg.py:2180: RuntimeWarning: overflow encountered in det\n",
      "  r = _umath_linalg.det(a, signature=signature)\n"
     ]
    },
    {
     "name": "stdout",
     "output_type": "stream",
     "text": [
      "Accuracy: 0.9001782802809819\n",
      "F1-score: 0.3754409381256554\n",
      "Threshold: 1  # Duplications: 2 Degree: 2 Lambda: 1\n"
     ]
    },
    {
     "name": "stderr",
     "output_type": "stream",
     "text": [
      "c:\\Users\\hany_\\anaconda3\\envs\\ml\\lib\\site-packages\\numpy\\linalg\\linalg.py:2180: RuntimeWarning: overflow encountered in det\n",
      "  r = _umath_linalg.det(a, signature=signature)\n"
     ]
    },
    {
     "name": "stdout",
     "output_type": "stream",
     "text": [
      "Accuracy: 0.9009096865619334\n",
      "F1-score: 0.3564571994062345\n",
      "Threshold: 1  # Duplications: 2 Degree: 3 Lambda: 0\n"
     ]
    },
    {
     "name": "stderr",
     "output_type": "stream",
     "text": [
      "c:\\Users\\hany_\\anaconda3\\envs\\ml\\lib\\site-packages\\numpy\\linalg\\linalg.py:2180: RuntimeWarning: overflow encountered in det\n",
      "  r = _umath_linalg.det(a, signature=signature)\n"
     ]
    },
    {
     "name": "stdout",
     "output_type": "stream",
     "text": [
      "Accuracy: 0.9090161061758117\n",
      "F1-score: 0.013872832369942197\n",
      "Threshold: 1  # Duplications: 2 Degree: 3 Lambda: 0.0001\n"
     ]
    },
    {
     "name": "stderr",
     "output_type": "stream",
     "text": [
      "c:\\Users\\hany_\\anaconda3\\envs\\ml\\lib\\site-packages\\numpy\\linalg\\linalg.py:2180: RuntimeWarning: overflow encountered in det\n",
      "  r = _umath_linalg.det(a, signature=signature)\n"
     ]
    },
    {
     "name": "stdout",
     "output_type": "stream",
     "text": [
      "Accuracy: 0.8947232084355524\n",
      "F1-score: 0.4095376463550124\n",
      "Threshold: 1  # Duplications: 2 Degree: 3 Lambda: 0.0005\n"
     ]
    },
    {
     "name": "stderr",
     "output_type": "stream",
     "text": [
      "c:\\Users\\hany_\\anaconda3\\envs\\ml\\lib\\site-packages\\numpy\\linalg\\linalg.py:2180: RuntimeWarning: overflow encountered in det\n",
      "  r = _umath_linalg.det(a, signature=signature)\n"
     ]
    },
    {
     "name": "stdout",
     "output_type": "stream",
     "text": [
      "Accuracy: 0.8967650509698752\n",
      "F1-score: 0.41163699522362135\n",
      "Threshold: 1  # Duplications: 2 Degree: 3 Lambda: 0.001\n"
     ]
    },
    {
     "name": "stderr",
     "output_type": "stream",
     "text": [
      "c:\\Users\\hany_\\anaconda3\\envs\\ml\\lib\\site-packages\\numpy\\linalg\\linalg.py:2180: RuntimeWarning: overflow encountered in det\n",
      "  r = _umath_linalg.det(a, signature=signature)\n"
     ]
    },
    {
     "name": "stdout",
     "output_type": "stream",
     "text": [
      "Accuracy: 0.8970088530635257\n",
      "F1-score: 0.4121075063059929\n",
      "Threshold: 1  # Duplications: 2 Degree: 3 Lambda: 0.005\n"
     ]
    },
    {
     "name": "stderr",
     "output_type": "stream",
     "text": [
      "c:\\Users\\hany_\\anaconda3\\envs\\ml\\lib\\site-packages\\numpy\\linalg\\linalg.py:2180: RuntimeWarning: overflow encountered in det\n",
      "  r = _umath_linalg.det(a, signature=signature)\n"
     ]
    },
    {
     "name": "stdout",
     "output_type": "stream",
     "text": [
      "Accuracy: 0.8974964572508266\n",
      "F1-score: 0.4103777719344377\n",
      "Threshold: 1  # Duplications: 2 Degree: 3 Lambda: 0.01\n"
     ]
    },
    {
     "name": "stderr",
     "output_type": "stream",
     "text": [
      "c:\\Users\\hany_\\anaconda3\\envs\\ml\\lib\\site-packages\\numpy\\linalg\\linalg.py:2180: RuntimeWarning: overflow encountered in det\n",
      "  r = _umath_linalg.det(a, signature=signature)\n"
     ]
    },
    {
     "name": "stdout",
     "output_type": "stream",
     "text": [
      "Accuracy: 0.8976183582976519\n",
      "F1-score: 0.40879894412670487\n",
      "Threshold: 1  # Duplications: 2 Degree: 3 Lambda: 0.05\n"
     ]
    },
    {
     "name": "stderr",
     "output_type": "stream",
     "text": [
      "c:\\Users\\hany_\\anaconda3\\envs\\ml\\lib\\site-packages\\numpy\\linalg\\linalg.py:2180: RuntimeWarning: overflow encountered in det\n",
      "  r = _umath_linalg.det(a, signature=signature)\n"
     ]
    },
    {
     "name": "stdout",
     "output_type": "stream",
     "text": [
      "Accuracy: 0.8979688238072745\n",
      "F1-score: 0.4037399821905609\n",
      "Threshold: 1  # Duplications: 2 Degree: 3 Lambda: 0.1\n"
     ]
    },
    {
     "name": "stderr",
     "output_type": "stream",
     "text": [
      "c:\\Users\\hany_\\anaconda3\\envs\\ml\\lib\\site-packages\\numpy\\linalg\\linalg.py:2180: RuntimeWarning: overflow encountered in det\n",
      "  r = _umath_linalg.det(a, signature=signature)\n"
     ]
    },
    {
     "name": "stdout",
     "output_type": "stream",
     "text": [
      "Accuracy: 0.897725021713624\n",
      "F1-score: 0.3984585051084424\n",
      "Threshold: 1  # Duplications: 2 Degree: 3 Lambda: 0.5\n"
     ]
    },
    {
     "name": "stderr",
     "output_type": "stream",
     "text": [
      "c:\\Users\\hany_\\anaconda3\\envs\\ml\\lib\\site-packages\\numpy\\linalg\\linalg.py:2180: RuntimeWarning: overflow encountered in det\n",
      "  r = _umath_linalg.det(a, signature=signature)\n"
     ]
    },
    {
     "name": "stdout",
     "output_type": "stream",
     "text": [
      "Accuracy: 0.8985021408871349\n",
      "F1-score: 0.38432387466494133\n",
      "Threshold: 1  # Duplications: 2 Degree: 3 Lambda: 1\n"
     ]
    },
    {
     "name": "stderr",
     "output_type": "stream",
     "text": [
      "c:\\Users\\hany_\\anaconda3\\envs\\ml\\lib\\site-packages\\numpy\\linalg\\linalg.py:2180: RuntimeWarning: overflow encountered in det\n",
      "  r = _umath_linalg.det(a, signature=signature)\n"
     ]
    },
    {
     "name": "stdout",
     "output_type": "stream",
     "text": [
      "Accuracy: 0.8986392795648133\n",
      "F1-score: 0.3726895511127876\n",
      "Threshold: 1  # Duplications: 2 Degree: 4 Lambda: 0\n"
     ]
    },
    {
     "name": "stderr",
     "output_type": "stream",
     "text": [
      "c:\\Users\\hany_\\anaconda3\\envs\\ml\\lib\\site-packages\\numpy\\linalg\\linalg.py:2180: RuntimeWarning: overflow encountered in det\n",
      "  r = _umath_linalg.det(a, signature=signature)\n"
     ]
    },
    {
     "name": "stdout",
     "output_type": "stream",
     "text": [
      "Accuracy: 0.9079037591235315\n",
      "F1-score: 0.016916070266753416\n",
      "Threshold: 1  # Duplications: 2 Degree: 4 Lambda: 0.0001\n"
     ]
    },
    {
     "name": "stderr",
     "output_type": "stream",
     "text": [
      "c:\\Users\\hany_\\anaconda3\\envs\\ml\\lib\\site-packages\\numpy\\linalg\\linalg.py:2180: RuntimeWarning: overflow encountered in det\n",
      "  r = _umath_linalg.det(a, signature=signature)\n"
     ]
    },
    {
     "name": "stdout",
     "output_type": "stream",
     "text": [
      "Accuracy: 0.8910661770307953\n",
      "F1-score: 0.4113627006998765\n",
      "Threshold: 1  # Duplications: 2 Degree: 4 Lambda: 0.0005\n"
     ]
    },
    {
     "name": "stderr",
     "output_type": "stream",
     "text": [
      "c:\\Users\\hany_\\anaconda3\\envs\\ml\\lib\\site-packages\\numpy\\linalg\\linalg.py:2180: RuntimeWarning: overflow encountered in det\n",
      "  r = _umath_linalg.det(a, signature=signature)\n"
     ]
    },
    {
     "name": "stdout",
     "output_type": "stream",
     "text": [
      "Accuracy: 0.8903957212732564\n",
      "F1-score: 0.40627321502269914\n",
      "Threshold: 1  # Duplications: 2 Degree: 4 Lambda: 0.001\n"
     ]
    },
    {
     "name": "stderr",
     "output_type": "stream",
     "text": [
      "c:\\Users\\hany_\\anaconda3\\envs\\ml\\lib\\site-packages\\numpy\\linalg\\linalg.py:2180: RuntimeWarning: overflow encountered in det\n",
      "  r = _umath_linalg.det(a, signature=signature)\n"
     ]
    },
    {
     "name": "stdout",
     "output_type": "stream",
     "text": [
      "Accuracy: 0.8968260014932878\n",
      "F1-score: 0.41229059977432514\n",
      "Threshold: 1  # Duplications: 2 Degree: 4 Lambda: 0.005\n"
     ]
    },
    {
     "name": "stderr",
     "output_type": "stream",
     "text": [
      "c:\\Users\\hany_\\anaconda3\\envs\\ml\\lib\\site-packages\\numpy\\linalg\\linalg.py:2180: RuntimeWarning: overflow encountered in det\n",
      "  r = _umath_linalg.det(a, signature=signature)\n"
     ]
    },
    {
     "name": "stdout",
     "output_type": "stream",
     "text": [
      "Accuracy: 0.8975878830359456\n",
      "F1-score: 0.41038687604175805\n",
      "Threshold: 1  # Duplications: 2 Degree: 4 Lambda: 0.01\n"
     ]
    },
    {
     "name": "stderr",
     "output_type": "stream",
     "text": [
      "c:\\Users\\hany_\\anaconda3\\envs\\ml\\lib\\site-packages\\numpy\\linalg\\linalg.py:2180: RuntimeWarning: overflow encountered in det\n",
      "  r = _umath_linalg.det(a, signature=signature)\n"
     ]
    },
    {
     "name": "stdout",
     "output_type": "stream",
     "text": [
      "Accuracy: 0.8979992990689808\n",
      "F1-score: 0.40980426732498676\n",
      "Threshold: 1  # Duplications: 2 Degree: 4 Lambda: 0.05\n"
     ]
    },
    {
     "name": "stderr",
     "output_type": "stream",
     "text": [
      "c:\\Users\\hany_\\anaconda3\\envs\\ml\\lib\\site-packages\\numpy\\linalg\\linalg.py:2180: RuntimeWarning: overflow encountered in det\n",
      "  r = _umath_linalg.det(a, signature=signature)\n"
     ]
    },
    {
     "name": "stdout",
     "output_type": "stream",
     "text": [
      "Accuracy: 0.8986240419339601\n",
      "F1-score: 0.4064590953697921\n",
      "Threshold: 1  # Duplications: 2 Degree: 4 Lambda: 0.1\n"
     ]
    },
    {
     "name": "stderr",
     "output_type": "stream",
     "text": [
      "c:\\Users\\hany_\\anaconda3\\envs\\ml\\lib\\site-packages\\numpy\\linalg\\linalg.py:2180: RuntimeWarning: overflow encountered in det\n",
      "  r = _umath_linalg.det(a, signature=signature)\n"
     ]
    },
    {
     "name": "stdout",
     "output_type": "stream",
     "text": [
      "Accuracy: 0.8983040516860439\n",
      "F1-score: 0.4005748158792886\n",
      "Threshold: 1  # Duplications: 2 Degree: 4 Lambda: 0.5\n"
     ]
    },
    {
     "name": "stderr",
     "output_type": "stream",
     "text": [
      "c:\\Users\\hany_\\anaconda3\\envs\\ml\\lib\\site-packages\\numpy\\linalg\\linalg.py:2180: RuntimeWarning: overflow encountered in det\n",
      "  r = _umath_linalg.det(a, signature=signature)\n"
     ]
    },
    {
     "name": "stdout",
     "output_type": "stream",
     "text": [
      "Accuracy: 0.896551724137931\n",
      "F1-score: 0.38511004438003804\n",
      "Threshold: 1  # Duplications: 2 Degree: 4 Lambda: 1\n"
     ]
    },
    {
     "name": "stderr",
     "output_type": "stream",
     "text": [
      "c:\\Users\\hany_\\anaconda3\\envs\\ml\\lib\\site-packages\\numpy\\linalg\\linalg.py:2180: RuntimeWarning: overflow encountered in det\n",
      "  r = _umath_linalg.det(a, signature=signature)\n"
     ]
    },
    {
     "name": "stdout",
     "output_type": "stream",
     "text": [
      "Accuracy: 0.8963536349368401\n",
      "F1-score: 0.377676120768527\n",
      "Threshold: 1  # Duplications: 2 Degree: 5 Lambda: 0\n"
     ]
    },
    {
     "name": "stderr",
     "output_type": "stream",
     "text": [
      "c:\\Users\\hany_\\anaconda3\\envs\\ml\\lib\\site-packages\\numpy\\linalg\\linalg.py:2180: RuntimeWarning: overflow encountered in det\n",
      "  r = _umath_linalg.det(a, signature=signature)\n"
     ]
    },
    {
     "name": "stdout",
     "output_type": "stream",
     "text": [
      "Accuracy: 0.9090008685449587\n",
      "F1-score: 0.013870541611624836\n",
      "Threshold: 1  # Duplications: 2 Degree: 5 Lambda: 0.0001\n"
     ]
    },
    {
     "name": "stderr",
     "output_type": "stream",
     "text": [
      "c:\\Users\\hany_\\anaconda3\\envs\\ml\\lib\\site-packages\\numpy\\linalg\\linalg.py:2180: RuntimeWarning: overflow encountered in det\n",
      "  r = _umath_linalg.det(a, signature=signature)\n"
     ]
    },
    {
     "name": "stdout",
     "output_type": "stream",
     "text": [
      "Accuracy: 0.8961250704740427\n",
      "F1-score: 0.41829507637170404\n",
      "Threshold: 1  # Duplications: 2 Degree: 5 Lambda: 0.0005\n"
     ]
    },
    {
     "name": "stderr",
     "output_type": "stream",
     "text": [
      "c:\\Users\\hany_\\anaconda3\\envs\\ml\\lib\\site-packages\\numpy\\linalg\\linalg.py:2180: RuntimeWarning: overflow encountered in det\n",
      "  r = _umath_linalg.det(a, signature=signature)\n"
     ]
    },
    {
     "name": "stdout",
     "output_type": "stream",
     "text": [
      "Accuracy: 0.8968412391241409\n",
      "F1-score: 0.41354816354816354\n",
      "Threshold: 1  # Duplications: 2 Degree: 5 Lambda: 0.001\n"
     ]
    },
    {
     "name": "stderr",
     "output_type": "stream",
     "text": [
      "c:\\Users\\hany_\\anaconda3\\envs\\ml\\lib\\site-packages\\numpy\\linalg\\linalg.py:2180: RuntimeWarning: overflow encountered in det\n",
      "  r = _umath_linalg.det(a, signature=signature)\n"
     ]
    },
    {
     "name": "stdout",
     "output_type": "stream",
     "text": [
      "Accuracy: 0.8970698035869383\n",
      "F1-score: 0.4133738601823708\n",
      "Threshold: 1  # Duplications: 2 Degree: 5 Lambda: 0.005\n"
     ]
    },
    {
     "name": "stderr",
     "output_type": "stream",
     "text": [
      "c:\\Users\\hany_\\anaconda3\\envs\\ml\\lib\\site-packages\\numpy\\linalg\\linalg.py:2180: RuntimeWarning: overflow encountered in det\n",
      "  r = _umath_linalg.det(a, signature=signature)\n"
     ]
    },
    {
     "name": "stdout",
     "output_type": "stream",
     "text": [
      "Accuracy: 0.8980907248540997\n",
      "F1-score: 0.4135391090845317\n",
      "Threshold: 1  # Duplications: 2 Degree: 5 Lambda: 0.01\n"
     ]
    },
    {
     "name": "stderr",
     "output_type": "stream",
     "text": [
      "c:\\Users\\hany_\\anaconda3\\envs\\ml\\lib\\site-packages\\numpy\\linalg\\linalg.py:2180: RuntimeWarning: overflow encountered in det\n",
      "  r = _umath_linalg.det(a, signature=signature)\n"
     ]
    },
    {
     "name": "stdout",
     "output_type": "stream",
     "text": [
      "Accuracy: 0.898121200115806\n",
      "F1-score: 0.4111326404791263\n",
      "Threshold: 1  # Duplications: 2 Degree: 5 Lambda: 0.05\n"
     ]
    },
    {
     "name": "stderr",
     "output_type": "stream",
     "text": [
      "c:\\Users\\hany_\\anaconda3\\envs\\ml\\lib\\site-packages\\numpy\\linalg\\linalg.py:2180: RuntimeWarning: overflow encountered in det\n",
      "  r = _umath_linalg.det(a, signature=signature)\n"
     ]
    },
    {
     "name": "stdout",
     "output_type": "stream",
     "text": [
      "Accuracy: 0.8985326161488412\n",
      "F1-score: 0.4083518436250555\n",
      "Threshold: 1  # Duplications: 2 Degree: 5 Lambda: 0.1\n"
     ]
    },
    {
     "name": "stderr",
     "output_type": "stream",
     "text": [
      "c:\\Users\\hany_\\anaconda3\\envs\\ml\\lib\\site-packages\\numpy\\linalg\\linalg.py:2180: RuntimeWarning: overflow encountered in det\n",
      "  r = _umath_linalg.det(a, signature=signature)\n"
     ]
    },
    {
     "name": "stdout",
     "output_type": "stream",
     "text": [
      "Accuracy: 0.8983497645786033\n",
      "F1-score: 0.4030425055928412\n",
      "Threshold: 1  # Duplications: 2 Degree: 5 Lambda: 0.5\n"
     ]
    },
    {
     "name": "stderr",
     "output_type": "stream",
     "text": [
      "c:\\Users\\hany_\\anaconda3\\envs\\ml\\lib\\site-packages\\numpy\\linalg\\linalg.py:2180: RuntimeWarning: overflow encountered in det\n",
      "  r = _umath_linalg.det(a, signature=signature)\n"
     ]
    },
    {
     "name": "stdout",
     "output_type": "stream",
     "text": [
      "Accuracy: 0.8985326161488412\n",
      "F1-score: 0.39203871085547337\n",
      "Threshold: 1  # Duplications: 2 Degree: 5 Lambda: 1\n"
     ]
    },
    {
     "name": "stderr",
     "output_type": "stream",
     "text": [
      "c:\\Users\\hany_\\anaconda3\\envs\\ml\\lib\\site-packages\\numpy\\linalg\\linalg.py:2180: RuntimeWarning: overflow encountered in det\n",
      "  r = _umath_linalg.det(a, signature=signature)\n"
     ]
    },
    {
     "name": "stdout",
     "output_type": "stream",
     "text": [
      "Accuracy: 0.898121200115806\n",
      "F1-score: 0.38400589644370736\n",
      "Threshold: 1  # Duplications: 3 Degree: 1 Lambda: 0\n"
     ]
    },
    {
     "name": "stderr",
     "output_type": "stream",
     "text": [
      "c:\\Users\\hany_\\anaconda3\\envs\\ml\\lib\\site-packages\\numpy\\linalg\\linalg.py:2180: RuntimeWarning: overflow encountered in det\n",
      "  r = _umath_linalg.det(a, signature=signature)\n"
     ]
    },
    {
     "name": "stdout",
     "output_type": "stream",
     "text": [
      "Accuracy: 0.8758590214393466\n",
      "F1-score: 0.42100774642882527\n",
      "Threshold: 1  # Duplications: 3 Degree: 1 Lambda: 0.0001\n"
     ]
    },
    {
     "name": "stderr",
     "output_type": "stream",
     "text": [
      "c:\\Users\\hany_\\anaconda3\\envs\\ml\\lib\\site-packages\\numpy\\linalg\\linalg.py:2180: RuntimeWarning: overflow encountered in det\n",
      "  r = _umath_linalg.det(a, signature=signature)\n"
     ]
    },
    {
     "name": "stdout",
     "output_type": "stream",
     "text": [
      "Accuracy: 0.8758285461776403\n",
      "F1-score: 0.4209479144461024\n",
      "Threshold: 1  # Duplications: 3 Degree: 1 Lambda: 0.0005\n"
     ]
    },
    {
     "name": "stderr",
     "output_type": "stream",
     "text": [
      "c:\\Users\\hany_\\anaconda3\\envs\\ml\\lib\\site-packages\\numpy\\linalg\\linalg.py:2180: RuntimeWarning: overflow encountered in det\n",
      "  r = _umath_linalg.det(a, signature=signature)\n"
     ]
    },
    {
     "name": "stdout",
     "output_type": "stream",
     "text": [
      "Accuracy: 0.8759809224861719\n",
      "F1-score: 0.4213295414148596\n",
      "Threshold: 1  # Duplications: 3 Degree: 1 Lambda: 0.001\n"
     ]
    },
    {
     "name": "stderr",
     "output_type": "stream",
     "text": [
      "c:\\Users\\hany_\\anaconda3\\envs\\ml\\lib\\site-packages\\numpy\\linalg\\linalg.py:2180: RuntimeWarning: overflow encountered in det\n",
      "  r = _umath_linalg.det(a, signature=signature)\n"
     ]
    },
    {
     "name": "stdout",
     "output_type": "stream",
     "text": [
      "Accuracy: 0.8760113977478782\n",
      "F1-score: 0.42163622147984925\n",
      "Threshold: 1  # Duplications: 3 Degree: 1 Lambda: 0.005\n"
     ]
    },
    {
     "name": "stderr",
     "output_type": "stream",
     "text": [
      "c:\\Users\\hany_\\anaconda3\\envs\\ml\\lib\\site-packages\\numpy\\linalg\\linalg.py:2180: RuntimeWarning: overflow encountered in det\n",
      "  r = _umath_linalg.det(a, signature=signature)\n"
     ]
    },
    {
     "name": "stdout",
     "output_type": "stream",
     "text": [
      "Accuracy: 0.8757523580233745\n",
      "F1-score: 0.421455938697318\n",
      "Threshold: 1  # Duplications: 3 Degree: 1 Lambda: 0.01\n"
     ]
    },
    {
     "name": "stderr",
     "output_type": "stream",
     "text": [
      "c:\\Users\\hany_\\anaconda3\\envs\\ml\\lib\\site-packages\\numpy\\linalg\\linalg.py:2180: RuntimeWarning: overflow encountered in det\n",
      "  r = _umath_linalg.det(a, signature=signature)\n"
     ]
    },
    {
     "name": "stdout",
     "output_type": "stream",
     "text": [
      "Accuracy: 0.8752495162052204\n",
      "F1-score: 0.4202251965158275\n",
      "Threshold: 1  # Duplications: 3 Degree: 1 Lambda: 0.05\n"
     ]
    },
    {
     "name": "stderr",
     "output_type": "stream",
     "text": [
      "c:\\Users\\hany_\\anaconda3\\envs\\ml\\lib\\site-packages\\numpy\\linalg\\linalg.py:2180: RuntimeWarning: overflow encountered in det\n",
      "  r = _umath_linalg.det(a, signature=signature)\n"
     ]
    },
    {
     "name": "stdout",
     "output_type": "stream",
     "text": [
      "Accuracy: 0.8704649001173298\n",
      "F1-score: 0.4200832253223276\n",
      "Threshold: 1  # Duplications: 3 Degree: 1 Lambda: 0.1\n"
     ]
    },
    {
     "name": "stderr",
     "output_type": "stream",
     "text": [
      "c:\\Users\\hany_\\anaconda3\\envs\\ml\\lib\\site-packages\\numpy\\linalg\\linalg.py:2180: RuntimeWarning: overflow encountered in det\n",
      "  r = _umath_linalg.det(a, signature=signature)\n"
     ]
    },
    {
     "name": "stdout",
     "output_type": "stream",
     "text": [
      "Accuracy: 0.863211787831228\n",
      "F1-score: 0.416130081300813\n",
      "Threshold: 1  # Duplications: 3 Degree: 1 Lambda: 0.5\n"
     ]
    },
    {
     "name": "stderr",
     "output_type": "stream",
     "text": [
      "c:\\Users\\hany_\\anaconda3\\envs\\ml\\lib\\site-packages\\numpy\\linalg\\linalg.py:2180: RuntimeWarning: overflow encountered in det\n",
      "  r = _umath_linalg.det(a, signature=signature)\n"
     ]
    },
    {
     "name": "stdout",
     "output_type": "stream",
     "text": [
      "Accuracy: 0.8110076645283192\n",
      "F1-score: 0.3891652302388574\n",
      "Threshold: 1  # Duplications: 3 Degree: 1 Lambda: 1\n"
     ]
    },
    {
     "name": "stderr",
     "output_type": "stream",
     "text": [
      "c:\\Users\\hany_\\anaconda3\\envs\\ml\\lib\\site-packages\\numpy\\linalg\\linalg.py:2180: RuntimeWarning: overflow encountered in det\n",
      "  r = _umath_linalg.det(a, signature=signature)\n"
     ]
    },
    {
     "name": "stdout",
     "output_type": "stream",
     "text": [
      "Accuracy: 0.7654166730156795\n",
      "F1-score: 0.3607523979570652\n",
      "Threshold: 1  # Duplications: 3 Degree: 2 Lambda: 0\n"
     ]
    },
    {
     "name": "stderr",
     "output_type": "stream",
     "text": [
      "c:\\Users\\hany_\\anaconda3\\envs\\ml\\lib\\site-packages\\numpy\\linalg\\linalg.py:2180: RuntimeWarning: overflow encountered in det\n",
      "  r = _umath_linalg.det(a, signature=signature)\n"
     ]
    },
    {
     "name": "stdout",
     "output_type": "stream",
     "text": [
      "Accuracy: 0.870586801164155\n",
      "F1-score: 0.4148005236684352\n",
      "Threshold: 1  # Duplications: 3 Degree: 2 Lambda: 0.0001\n"
     ]
    },
    {
     "name": "stderr",
     "output_type": "stream",
     "text": [
      "c:\\Users\\hany_\\anaconda3\\envs\\ml\\lib\\site-packages\\numpy\\linalg\\linalg.py:2180: RuntimeWarning: overflow encountered in det\n",
      "  r = _umath_linalg.det(a, signature=signature)\n"
     ]
    },
    {
     "name": "stdout",
     "output_type": "stream",
     "text": [
      "Accuracy: 0.8698401572523504\n",
      "F1-score: 0.41621104428649536\n",
      "Threshold: 1  # Duplications: 3 Degree: 2 Lambda: 0.0005\n"
     ]
    },
    {
     "name": "stderr",
     "output_type": "stream",
     "text": [
      "c:\\Users\\hany_\\anaconda3\\envs\\ml\\lib\\site-packages\\numpy\\linalg\\linalg.py:2180: RuntimeWarning: overflow encountered in det\n",
      "  r = _umath_linalg.det(a, signature=signature)\n"
     ]
    },
    {
     "name": "stdout",
     "output_type": "stream",
     "text": [
      "Accuracy: 0.8744723970317095\n",
      "F1-score: 0.4239966438260383\n",
      "Threshold: 1  # Duplications: 3 Degree: 2 Lambda: 0.001\n"
     ]
    },
    {
     "name": "stderr",
     "output_type": "stream",
     "text": [
      "c:\\Users\\hany_\\anaconda3\\envs\\ml\\lib\\site-packages\\numpy\\linalg\\linalg.py:2180: RuntimeWarning: overflow encountered in det\n",
      "  r = _umath_linalg.det(a, signature=signature)\n"
     ]
    },
    {
     "name": "stdout",
     "output_type": "stream",
     "text": [
      "Accuracy: 0.8771999329544242\n",
      "F1-score: 0.42636486582674926\n",
      "Threshold: 1  # Duplications: 3 Degree: 2 Lambda: 0.005\n"
     ]
    },
    {
     "name": "stderr",
     "output_type": "stream",
     "text": [
      "c:\\Users\\hany_\\anaconda3\\envs\\ml\\lib\\site-packages\\numpy\\linalg\\linalg.py:2180: RuntimeWarning: overflow encountered in det\n",
      "  r = _umath_linalg.det(a, signature=signature)\n"
     ]
    },
    {
     "name": "stdout",
     "output_type": "stream",
     "text": [
      "Accuracy: 0.8773980221555152\n",
      "F1-score: 0.42372152986678124\n",
      "Threshold: 1  # Duplications: 3 Degree: 2 Lambda: 0.01\n"
     ]
    },
    {
     "name": "stderr",
     "output_type": "stream",
     "text": [
      "c:\\Users\\hany_\\anaconda3\\envs\\ml\\lib\\site-packages\\numpy\\linalg\\linalg.py:2180: RuntimeWarning: overflow encountered in det\n",
      "  r = _umath_linalg.det(a, signature=signature)\n"
     ]
    },
    {
     "name": "stdout",
     "output_type": "stream",
     "text": [
      "Accuracy: 0.8778246758194036\n",
      "F1-score: 0.42391148153470326\n",
      "Threshold: 1  # Duplications: 3 Degree: 2 Lambda: 0.05\n"
     ]
    },
    {
     "name": "stderr",
     "output_type": "stream",
     "text": [
      "c:\\Users\\hany_\\anaconda3\\envs\\ml\\lib\\site-packages\\numpy\\linalg\\linalg.py:2180: RuntimeWarning: overflow encountered in det\n",
      "  r = _umath_linalg.det(a, signature=signature)\n"
     ]
    },
    {
     "name": "stdout",
     "output_type": "stream",
     "text": [
      "Accuracy: 0.8790893991802154\n",
      "F1-score: 0.4216050732560682\n",
      "Threshold: 1  # Duplications: 3 Degree: 2 Lambda: 0.1\n"
     ]
    },
    {
     "name": "stderr",
     "output_type": "stream",
     "text": [
      "c:\\Users\\hany_\\anaconda3\\envs\\ml\\lib\\site-packages\\numpy\\linalg\\linalg.py:2180: RuntimeWarning: overflow encountered in det\n",
      "  r = _umath_linalg.det(a, signature=signature)\n"
     ]
    },
    {
     "name": "stdout",
     "output_type": "stream",
     "text": [
      "Accuracy: 0.8793789141664254\n",
      "F1-score: 0.4180267607704749\n",
      "Threshold: 1  # Duplications: 3 Degree: 2 Lambda: 0.5\n"
     ]
    },
    {
     "name": "stderr",
     "output_type": "stream",
     "text": [
      "c:\\Users\\hany_\\anaconda3\\envs\\ml\\lib\\site-packages\\numpy\\linalg\\linalg.py:2180: RuntimeWarning: overflow encountered in det\n",
      "  r = _umath_linalg.det(a, signature=signature)\n"
     ]
    },
    {
     "name": "stdout",
     "output_type": "stream",
     "text": [
      "Accuracy: 0.8811312417145383\n",
      "F1-score: 0.40464015874227277\n",
      "Threshold: 1  # Duplications: 3 Degree: 2 Lambda: 1\n"
     ]
    },
    {
     "name": "stderr",
     "output_type": "stream",
     "text": [
      "c:\\Users\\hany_\\anaconda3\\envs\\ml\\lib\\site-packages\\numpy\\linalg\\linalg.py:2180: RuntimeWarning: overflow encountered in det\n",
      "  r = _umath_linalg.det(a, signature=signature)\n"
     ]
    },
    {
     "name": "stdout",
     "output_type": "stream",
     "text": [
      "Accuracy: 0.8824416779679095\n",
      "F1-score: 0.391993064859327\n",
      "Threshold: 1  # Duplications: 3 Degree: 3 Lambda: 0\n",
      "Accuracy: 0.6505401740137443\n",
      "F1-score: 0.19109762979683972\n",
      "Threshold: 1  # Duplications: 3 Degree: 3 Lambda: 0.0001\n"
     ]
    },
    {
     "name": "stderr",
     "output_type": "stream",
     "text": [
      "c:\\Users\\hany_\\anaconda3\\envs\\ml\\lib\\site-packages\\numpy\\linalg\\linalg.py:2180: RuntimeWarning: overflow encountered in det\n",
      "  r = _umath_linalg.det(a, signature=signature)\n"
     ]
    },
    {
     "name": "stdout",
     "output_type": "stream",
     "text": [
      "Accuracy: 0.8752038033126609\n",
      "F1-score: 0.42267023826307626\n",
      "Threshold: 1  # Duplications: 3 Degree: 3 Lambda: 0.0005\n"
     ]
    },
    {
     "name": "stderr",
     "output_type": "stream",
     "text": [
      "c:\\Users\\hany_\\anaconda3\\envs\\ml\\lib\\site-packages\\numpy\\linalg\\linalg.py:2180: RuntimeWarning: overflow encountered in det\n",
      "  r = _umath_linalg.det(a, signature=signature)\n"
     ]
    },
    {
     "name": "stdout",
     "output_type": "stream",
     "text": [
      "Accuracy: 0.8774437350480747\n",
      "F1-score: 0.42652406417112293\n",
      "Threshold: 1  # Duplications: 3 Degree: 3 Lambda: 0.001\n"
     ]
    },
    {
     "name": "stderr",
     "output_type": "stream",
     "text": [
      "c:\\Users\\hany_\\anaconda3\\envs\\ml\\lib\\site-packages\\numpy\\linalg\\linalg.py:2180: RuntimeWarning: overflow encountered in det\n",
      "  r = _umath_linalg.det(a, signature=signature)\n"
     ]
    },
    {
     "name": "stdout",
     "output_type": "stream",
     "text": [
      "Accuracy: 0.8773675468938089\n",
      "F1-score: 0.42604478676365715\n",
      "Threshold: 1  # Duplications: 3 Degree: 3 Lambda: 0.005\n"
     ]
    },
    {
     "name": "stderr",
     "output_type": "stream",
     "text": [
      "c:\\Users\\hany_\\anaconda3\\envs\\ml\\lib\\site-packages\\numpy\\linalg\\linalg.py:2180: RuntimeWarning: overflow encountered in det\n",
      "  r = _umath_linalg.det(a, signature=signature)\n"
     ]
    },
    {
     "name": "stdout",
     "output_type": "stream",
     "text": [
      "Accuracy: 0.8778399134502568\n",
      "F1-score: 0.4258397192580391\n",
      "Threshold: 1  # Duplications: 3 Degree: 3 Lambda: 0.01\n"
     ]
    },
    {
     "name": "stderr",
     "output_type": "stream",
     "text": [
      "c:\\Users\\hany_\\anaconda3\\envs\\ml\\lib\\site-packages\\numpy\\linalg\\linalg.py:2180: RuntimeWarning: overflow encountered in det\n",
      "  r = _umath_linalg.det(a, signature=signature)\n"
     ]
    },
    {
     "name": "stdout",
     "output_type": "stream",
     "text": [
      "Accuracy: 0.8778246758194036\n",
      "F1-score: 0.42424242424242425\n",
      "Threshold: 1  # Duplications: 3 Degree: 3 Lambda: 0.05\n"
     ]
    },
    {
     "name": "stderr",
     "output_type": "stream",
     "text": [
      "c:\\Users\\hany_\\anaconda3\\envs\\ml\\lib\\site-packages\\numpy\\linalg\\linalg.py:2180: RuntimeWarning: overflow encountered in det\n",
      "  r = _umath_linalg.det(a, signature=signature)\n"
     ]
    },
    {
     "name": "stdout",
     "output_type": "stream",
     "text": [
      "Accuracy: 0.8784798939460893\n",
      "F1-score: 0.4219757918388055\n",
      "Threshold: 1  # Duplications: 3 Degree: 3 Lambda: 0.1\n"
     ]
    },
    {
     "name": "stderr",
     "output_type": "stream",
     "text": [
      "c:\\Users\\hany_\\anaconda3\\envs\\ml\\lib\\site-packages\\numpy\\linalg\\linalg.py:2180: RuntimeWarning: overflow encountered in det\n",
      "  r = _umath_linalg.det(a, signature=signature)\n"
     ]
    },
    {
     "name": "stdout",
     "output_type": "stream",
     "text": [
      "Accuracy: 0.878449418684383\n",
      "F1-score: 0.419305525223848\n",
      "Threshold: 1  # Duplications: 3 Degree: 3 Lambda: 0.5\n"
     ]
    },
    {
     "name": "stderr",
     "output_type": "stream",
     "text": [
      "c:\\Users\\hany_\\anaconda3\\envs\\ml\\lib\\site-packages\\numpy\\linalg\\linalg.py:2180: RuntimeWarning: overflow encountered in det\n",
      "  r = _umath_linalg.det(a, signature=signature)\n"
     ]
    },
    {
     "name": "stdout",
     "output_type": "stream",
     "text": [
      "Accuracy: 0.8796684291526353\n",
      "F1-score: 0.4100112065745237\n",
      "Threshold: 1  # Duplications: 3 Degree: 3 Lambda: 1\n"
     ]
    },
    {
     "name": "stderr",
     "output_type": "stream",
     "text": [
      "c:\\Users\\hany_\\anaconda3\\envs\\ml\\lib\\site-packages\\numpy\\linalg\\linalg.py:2180: RuntimeWarning: overflow encountered in det\n",
      "  r = _umath_linalg.det(a, signature=signature)\n"
     ]
    },
    {
     "name": "stdout",
     "output_type": "stream",
     "text": [
      "Accuracy: 0.8795312904749569\n",
      "F1-score: 0.40169517178749814\n",
      "Threshold: 1  # Duplications: 3 Degree: 4 Lambda: 0\n"
     ]
    },
    {
     "name": "stderr",
     "output_type": "stream",
     "text": [
      "c:\\Users\\hany_\\anaconda3\\envs\\ml\\lib\\site-packages\\numpy\\linalg\\linalg.py:2180: RuntimeWarning: overflow encountered in det\n",
      "  r = _umath_linalg.det(a, signature=signature)\n"
     ]
    },
    {
     "name": "stdout",
     "output_type": "stream",
     "text": [
      "Accuracy: 0.7641367120240145\n",
      "F1-score: 0.21605469739174477\n",
      "Threshold: 1  # Duplications: 3 Degree: 4 Lambda: 0.0001\n"
     ]
    },
    {
     "name": "stderr",
     "output_type": "stream",
     "text": [
      "c:\\Users\\hany_\\anaconda3\\envs\\ml\\lib\\site-packages\\numpy\\linalg\\linalg.py:2180: RuntimeWarning: overflow encountered in det\n",
      "  r = _umath_linalg.det(a, signature=signature)\n"
     ]
    },
    {
     "name": "stdout",
     "output_type": "stream",
     "text": [
      "Accuracy: 0.8716381976930226\n",
      "F1-score: 0.4230927270236954\n",
      "Threshold: 1  # Duplications: 3 Degree: 4 Lambda: 0.0005\n"
     ]
    },
    {
     "name": "stderr",
     "output_type": "stream",
     "text": [
      "c:\\Users\\hany_\\anaconda3\\envs\\ml\\lib\\site-packages\\numpy\\linalg\\linalg.py:2180: RuntimeWarning: overflow encountered in det\n",
      "  r = _umath_linalg.det(a, signature=signature)\n"
     ]
    },
    {
     "name": "stdout",
     "output_type": "stream",
     "text": [
      "Accuracy: 0.8709067914120713\n",
      "F1-score: 0.42075755503897166\n",
      "Threshold: 1  # Duplications: 3 Degree: 4 Lambda: 0.001\n"
     ]
    },
    {
     "name": "stderr",
     "output_type": "stream",
     "text": [
      "c:\\Users\\hany_\\anaconda3\\envs\\ml\\lib\\site-packages\\numpy\\linalg\\linalg.py:2180: RuntimeWarning: overflow encountered in det\n",
      "  r = _umath_linalg.det(a, signature=signature)\n"
     ]
    },
    {
     "name": "stdout",
     "output_type": "stream",
     "text": [
      "Accuracy: 0.8726895942218904\n",
      "F1-score: 0.4213588198628714\n",
      "Threshold: 1  # Duplications: 3 Degree: 4 Lambda: 0.005\n"
     ]
    },
    {
     "name": "stderr",
     "output_type": "stream",
     "text": [
      "c:\\Users\\hany_\\anaconda3\\envs\\ml\\lib\\site-packages\\numpy\\linalg\\linalg.py:2180: RuntimeWarning: overflow encountered in det\n",
      "  r = _umath_linalg.det(a, signature=signature)\n"
     ]
    },
    {
     "name": "stdout",
     "output_type": "stream",
     "text": [
      "Accuracy: 0.8780684779130541\n",
      "F1-score: 0.42654436004013185\n",
      "Threshold: 1  # Duplications: 3 Degree: 4 Lambda: 0.01\n"
     ]
    },
    {
     "name": "stderr",
     "output_type": "stream",
     "text": [
      "c:\\Users\\hany_\\anaconda3\\envs\\ml\\lib\\site-packages\\numpy\\linalg\\linalg.py:2180: RuntimeWarning: overflow encountered in det\n",
      "  r = _umath_linalg.det(a, signature=signature)\n"
     ]
    },
    {
     "name": "stdout",
     "output_type": "stream",
     "text": [
      "Accuracy: 0.8783732305301172\n",
      "F1-score: 0.425507413271916\n",
      "Threshold: 1  # Duplications: 3 Degree: 4 Lambda: 0.05\n"
     ]
    },
    {
     "name": "stderr",
     "output_type": "stream",
     "text": [
      "c:\\Users\\hany_\\anaconda3\\envs\\ml\\lib\\site-packages\\numpy\\linalg\\linalg.py:2180: RuntimeWarning: overflow encountered in det\n",
      "  r = _umath_linalg.det(a, signature=signature)\n"
     ]
    },
    {
     "name": "stdout",
     "output_type": "stream",
     "text": [
      "Accuracy: 0.8788151218248587\n",
      "F1-score: 0.42189430835211167\n",
      "Threshold: 1  # Duplications: 3 Degree: 4 Lambda: 0.1\n"
     ]
    },
    {
     "name": "stderr",
     "output_type": "stream",
     "text": [
      "c:\\Users\\hany_\\anaconda3\\envs\\ml\\lib\\site-packages\\numpy\\linalg\\linalg.py:2180: RuntimeWarning: overflow encountered in det\n",
      "  r = _umath_linalg.det(a, signature=signature)\n"
     ]
    },
    {
     "name": "stdout",
     "output_type": "stream",
     "text": [
      "Accuracy: 0.8794246270589848\n",
      "F1-score: 0.42008061561011356\n",
      "Threshold: 1  # Duplications: 3 Degree: 4 Lambda: 0.5\n"
     ]
    },
    {
     "name": "stderr",
     "output_type": "stream",
     "text": [
      "c:\\Users\\hany_\\anaconda3\\envs\\ml\\lib\\site-packages\\numpy\\linalg\\linalg.py:2180: RuntimeWarning: overflow encountered in det\n",
      "  r = _umath_linalg.det(a, signature=signature)\n"
     ]
    },
    {
     "name": "stdout",
     "output_type": "stream",
     "text": [
      "Accuracy: 0.8767275663979764\n",
      "F1-score: 0.4048845078711196\n",
      "Threshold: 1  # Duplications: 3 Degree: 4 Lambda: 1\n"
     ]
    },
    {
     "name": "stderr",
     "output_type": "stream",
     "text": [
      "c:\\Users\\hany_\\anaconda3\\envs\\ml\\lib\\site-packages\\numpy\\linalg\\linalg.py:2180: RuntimeWarning: overflow encountered in det\n",
      "  r = _umath_linalg.det(a, signature=signature)\n"
     ]
    },
    {
     "name": "stdout",
     "output_type": "stream",
     "text": [
      "Accuracy: 0.8771237448001584\n",
      "F1-score: 0.4008915304606241\n",
      "Threshold: 1  # Duplications: 3 Degree: 5 Lambda: 0\n"
     ]
    },
    {
     "name": "stderr",
     "output_type": "stream",
     "text": [
      "c:\\Users\\hany_\\anaconda3\\envs\\ml\\lib\\site-packages\\numpy\\linalg\\linalg.py:2180: RuntimeWarning: overflow encountered in det\n",
      "  r = _umath_linalg.det(a, signature=signature)\n"
     ]
    },
    {
     "name": "stdout",
     "output_type": "stream",
     "text": [
      "Accuracy: 0.9000411416033035\n",
      "F1-score: 0.02901124925991711\n",
      "Threshold: 1  # Duplications: 3 Degree: 5 Lambda: 0.0001\n"
     ]
    },
    {
     "name": "stderr",
     "output_type": "stream",
     "text": [
      "c:\\Users\\hany_\\anaconda3\\envs\\ml\\lib\\site-packages\\numpy\\linalg\\linalg.py:2180: RuntimeWarning: overflow encountered in det\n",
      "  r = _umath_linalg.det(a, signature=signature)\n"
     ]
    },
    {
     "name": "stdout",
     "output_type": "stream",
     "text": [
      "Accuracy: 0.8761942493181161\n",
      "F1-score: 0.42850109024407396\n",
      "Threshold: 1  # Duplications: 3 Degree: 5 Lambda: 0.0005\n"
     ]
    },
    {
     "name": "stderr",
     "output_type": "stream",
     "text": [
      "c:\\Users\\hany_\\anaconda3\\envs\\ml\\lib\\site-packages\\numpy\\linalg\\linalg.py:2180: RuntimeWarning: overflow encountered in det\n",
      "  r = _umath_linalg.det(a, signature=signature)\n"
     ]
    },
    {
     "name": "stdout",
     "output_type": "stream",
     "text": [
      "Accuracy: 0.8774284974172216\n",
      "F1-score: 0.42788051209103845\n",
      "Threshold: 1  # Duplications: 3 Degree: 5 Lambda: 0.001\n"
     ]
    },
    {
     "name": "stderr",
     "output_type": "stream",
     "text": [
      "c:\\Users\\hany_\\anaconda3\\envs\\ml\\lib\\site-packages\\numpy\\linalg\\linalg.py:2180: RuntimeWarning: overflow encountered in det\n",
      "  r = _umath_linalg.det(a, signature=signature)\n"
     ]
    },
    {
     "name": "stdout",
     "output_type": "stream",
     "text": [
      "Accuracy: 0.8774132597863684\n",
      "F1-score: 0.42801279772484896\n",
      "Threshold: 1  # Duplications: 3 Degree: 5 Lambda: 0.005\n"
     ]
    },
    {
     "name": "stderr",
     "output_type": "stream",
     "text": [
      "c:\\Users\\hany_\\anaconda3\\envs\\ml\\lib\\site-packages\\numpy\\linalg\\linalg.py:2180: RuntimeWarning: overflow encountered in det\n",
      "  r = _umath_linalg.det(a, signature=signature)\n"
     ]
    },
    {
     "name": "stdout",
     "output_type": "stream",
     "text": [
      "Accuracy: 0.8779313392353757\n",
      "F1-score: 0.42602278426595974\n",
      "Threshold: 1  # Duplications: 3 Degree: 5 Lambda: 0.01\n"
     ]
    },
    {
     "name": "stderr",
     "output_type": "stream",
     "text": [
      "c:\\Users\\hany_\\anaconda3\\envs\\ml\\lib\\site-packages\\numpy\\linalg\\linalg.py:2180: RuntimeWarning: overflow encountered in det\n",
      "  r = _umath_linalg.det(a, signature=signature)\n"
     ]
    },
    {
     "name": "stdout",
     "output_type": "stream",
     "text": [
      "Accuracy: 0.8783427552684109\n",
      "F1-score: 0.4248667339000144\n",
      "Threshold: 1  # Duplications: 3 Degree: 5 Lambda: 0.05\n"
     ]
    },
    {
     "name": "stderr",
     "output_type": "stream",
     "text": [
      "c:\\Users\\hany_\\anaconda3\\envs\\ml\\lib\\site-packages\\numpy\\linalg\\linalg.py:2180: RuntimeWarning: overflow encountered in det\n",
      "  r = _umath_linalg.det(a, signature=signature)\n"
     ]
    },
    {
     "name": "stdout",
     "output_type": "stream",
     "text": [
      "Accuracy: 0.8789674981333903\n",
      "F1-score: 0.42270513845482954\n",
      "Threshold: 1  # Duplications: 3 Degree: 5 Lambda: 0.1\n"
     ]
    },
    {
     "name": "stderr",
     "output_type": "stream",
     "text": [
      "c:\\Users\\hany_\\anaconda3\\envs\\ml\\lib\\site-packages\\numpy\\linalg\\linalg.py:2180: RuntimeWarning: overflow encountered in det\n",
      "  r = _umath_linalg.det(a, signature=signature)\n"
     ]
    },
    {
     "name": "stdout",
     "output_type": "stream",
     "text": [
      "Accuracy: 0.8791655873344812\n",
      "F1-score: 0.4207450693937181\n",
      "Threshold: 1  # Duplications: 3 Degree: 5 Lambda: 0.5\n"
     ]
    },
    {
     "name": "stderr",
     "output_type": "stream",
     "text": [
      "c:\\Users\\hany_\\anaconda3\\envs\\ml\\lib\\site-packages\\numpy\\linalg\\linalg.py:2180: RuntimeWarning: overflow encountered in det\n",
      "  r = _umath_linalg.det(a, signature=signature)\n"
     ]
    },
    {
     "name": "stdout",
     "output_type": "stream",
     "text": [
      "Accuracy: 0.8783884681609704\n",
      "F1-score: 0.4091211964166728\n",
      "Threshold: 1  # Duplications: 3 Degree: 5 Lambda: 1\n"
     ]
    },
    {
     "name": "stderr",
     "output_type": "stream",
     "text": [
      "c:\\Users\\hany_\\anaconda3\\envs\\ml\\lib\\site-packages\\numpy\\linalg\\linalg.py:2180: RuntimeWarning: overflow encountered in det\n",
      "  r = _umath_linalg.det(a, signature=signature)\n"
     ]
    },
    {
     "name": "stdout",
     "output_type": "stream",
     "text": [
      "Accuracy: 0.8786017949929145\n",
      "F1-score: 0.4046035423361483\n",
      "Threshold: 1  # Duplications: 4 Degree: 1 Lambda: 0\n"
     ]
    },
    {
     "name": "stderr",
     "output_type": "stream",
     "text": [
      "c:\\Users\\hany_\\anaconda3\\envs\\ml\\lib\\site-packages\\numpy\\linalg\\linalg.py:2180: RuntimeWarning: overflow encountered in det\n",
      "  r = _umath_linalg.det(a, signature=signature)\n"
     ]
    },
    {
     "name": "stdout",
     "output_type": "stream",
     "text": [
      "Accuracy: 0.09099913145504138\n",
      "F1-score: 0.1585680635287812\n",
      "Threshold: 1  # Duplications: 4 Degree: 1 Lambda: 0.0001\n"
     ]
    },
    {
     "name": "stderr",
     "output_type": "stream",
     "text": [
      "c:\\Users\\hany_\\anaconda3\\envs\\ml\\lib\\site-packages\\numpy\\linalg\\linalg.py:2180: RuntimeWarning: overflow encountered in det\n",
      "  r = _umath_linalg.det(a, signature=signature)\n"
     ]
    },
    {
     "name": "stdout",
     "output_type": "stream",
     "text": [
      "Accuracy: 0.8544958629832233\n",
      "F1-score: 0.41384813700816403\n",
      "Threshold: 1  # Duplications: 4 Degree: 1 Lambda: 0.0005\n"
     ]
    },
    {
     "name": "stderr",
     "output_type": "stream",
     "text": [
      "c:\\Users\\hany_\\anaconda3\\envs\\ml\\lib\\site-packages\\numpy\\linalg\\linalg.py:2180: RuntimeWarning: overflow encountered in det\n",
      "  r = _umath_linalg.det(a, signature=signature)\n"
     ]
    },
    {
     "name": "stdout",
     "output_type": "stream",
     "text": [
      "Accuracy: 0.8544349124598107\n",
      "F1-score: 0.41389042272532056\n",
      "Threshold: 1  # Duplications: 4 Degree: 1 Lambda: 0.001\n"
     ]
    },
    {
     "name": "stderr",
     "output_type": "stream",
     "text": [
      "c:\\Users\\hany_\\anaconda3\\envs\\ml\\lib\\site-packages\\numpy\\linalg\\linalg.py:2180: RuntimeWarning: overflow encountered in det\n",
      "  r = _umath_linalg.det(a, signature=signature)\n"
     ]
    },
    {
     "name": "stdout",
     "output_type": "stream",
     "text": [
      "Accuracy: 0.8544196748289576\n",
      "F1-score: 0.41408070648840917\n",
      "Threshold: 1  # Duplications: 4 Degree: 1 Lambda: 0.005\n"
     ]
    },
    {
     "name": "stderr",
     "output_type": "stream",
     "text": [
      "c:\\Users\\hany_\\anaconda3\\envs\\ml\\lib\\site-packages\\numpy\\linalg\\linalg.py:2180: RuntimeWarning: overflow encountered in det\n",
      "  r = _umath_linalg.det(a, signature=signature)\n"
     ]
    },
    {
     "name": "stdout",
     "output_type": "stream",
     "text": [
      "Accuracy: 0.8540234964267756\n",
      "F1-score: 0.4142105906811789\n",
      "Threshold: 1  # Duplications: 4 Degree: 1 Lambda: 0.01\n"
     ]
    },
    {
     "name": "stderr",
     "output_type": "stream",
     "text": [
      "c:\\Users\\hany_\\anaconda3\\envs\\ml\\lib\\site-packages\\numpy\\linalg\\linalg.py:2180: RuntimeWarning: overflow encountered in det\n",
      "  r = _umath_linalg.det(a, signature=signature)\n"
     ]
    },
    {
     "name": "stdout",
     "output_type": "stream",
     "text": [
      "Accuracy: 0.8534901793469152\n",
      "F1-score: 0.41489685389155967\n",
      "Threshold: 1  # Duplications: 4 Degree: 1 Lambda: 0.05\n"
     ]
    },
    {
     "name": "stderr",
     "output_type": "stream",
     "text": [
      "c:\\Users\\hany_\\anaconda3\\envs\\ml\\lib\\site-packages\\numpy\\linalg\\linalg.py:2180: RuntimeWarning: overflow encountered in det\n",
      "  r = _umath_linalg.det(a, signature=signature)\n"
     ]
    },
    {
     "name": "stdout",
     "output_type": "stream",
     "text": [
      "Accuracy: 0.846877047556646\n",
      "F1-score: 0.41216730038022814\n",
      "Threshold: 1  # Duplications: 4 Degree: 1 Lambda: 0.1\n"
     ]
    },
    {
     "name": "stderr",
     "output_type": "stream",
     "text": [
      "c:\\Users\\hany_\\anaconda3\\envs\\ml\\lib\\site-packages\\numpy\\linalg\\linalg.py:2180: RuntimeWarning: overflow encountered in det\n",
      "  r = _umath_linalg.det(a, signature=signature)\n"
     ]
    },
    {
     "name": "stdout",
     "output_type": "stream",
     "text": [
      "Accuracy: 0.8376278056287808\n",
      "F1-score: 0.40595384100791615\n",
      "Threshold: 1  # Duplications: 4 Degree: 1 Lambda: 0.5\n"
     ]
    },
    {
     "name": "stderr",
     "output_type": "stream",
     "text": [
      "c:\\Users\\hany_\\anaconda3\\envs\\ml\\lib\\site-packages\\numpy\\linalg\\linalg.py:2180: RuntimeWarning: overflow encountered in det\n",
      "  r = _umath_linalg.det(a, signature=signature)\n"
     ]
    },
    {
     "name": "stdout",
     "output_type": "stream",
     "text": [
      "Accuracy: 0.7789019763207217\n",
      "F1-score: 0.37169827660864296\n",
      "Threshold: 1  # Duplications: 4 Degree: 1 Lambda: 1\n"
     ]
    },
    {
     "name": "stderr",
     "output_type": "stream",
     "text": [
      "c:\\Users\\hany_\\anaconda3\\envs\\ml\\lib\\site-packages\\numpy\\linalg\\linalg.py:2180: RuntimeWarning: overflow encountered in det\n",
      "  r = _umath_linalg.det(a, signature=signature)\n"
     ]
    },
    {
     "name": "stdout",
     "output_type": "stream",
     "text": [
      "Accuracy: 0.7336766879485578\n",
      "F1-score: 0.3450989208633094\n",
      "Threshold: 1  # Duplications: 4 Degree: 2 Lambda: 0\n"
     ]
    },
    {
     "name": "stderr",
     "output_type": "stream",
     "text": [
      "c:\\Users\\hany_\\anaconda3\\envs\\ml\\lib\\site-packages\\numpy\\linalg\\linalg.py:2180: RuntimeWarning: overflow encountered in det\n",
      "  r = _umath_linalg.det(a, signature=signature)\n"
     ]
    },
    {
     "name": "stdout",
     "output_type": "stream",
     "text": [
      "Accuracy: 0.8493760190165633\n",
      "F1-score: 0.41171219425102656\n",
      "Threshold: 1  # Duplications: 4 Degree: 2 Lambda: 0.0001\n"
     ]
    },
    {
     "name": "stderr",
     "output_type": "stream",
     "text": [
      "c:\\Users\\hany_\\anaconda3\\envs\\ml\\lib\\site-packages\\numpy\\linalg\\linalg.py:2180: RuntimeWarning: overflow encountered in det\n",
      "  r = _umath_linalg.det(a, signature=signature)\n"
     ]
    },
    {
     "name": "stdout",
     "output_type": "stream",
     "text": [
      "Accuracy: 0.8498179103113048\n",
      "F1-score: 0.4125640719990464\n",
      "Threshold: 1  # Duplications: 4 Degree: 2 Lambda: 0.0005\n"
     ]
    },
    {
     "name": "stderr",
     "output_type": "stream",
     "text": [
      "c:\\Users\\hany_\\anaconda3\\envs\\ml\\lib\\site-packages\\numpy\\linalg\\linalg.py:2180: RuntimeWarning: overflow encountered in det\n",
      "  r = _umath_linalg.det(a, signature=signature)\n"
     ]
    },
    {
     "name": "stdout",
     "output_type": "stream",
     "text": [
      "Accuracy: 0.8514483368125924\n",
      "F1-score: 0.41570272700029964\n",
      "Threshold: 1  # Duplications: 4 Degree: 2 Lambda: 0.001\n"
     ]
    },
    {
     "name": "stderr",
     "output_type": "stream",
     "text": [
      "c:\\Users\\hany_\\anaconda3\\envs\\ml\\lib\\site-packages\\numpy\\linalg\\linalg.py:2180: RuntimeWarning: overflow encountered in det\n",
      "  r = _umath_linalg.det(a, signature=signature)\n"
     ]
    },
    {
     "name": "stdout",
     "output_type": "stream",
     "text": [
      "Accuracy: 0.8562786657930425\n",
      "F1-score: 0.4212786845011658\n",
      "Threshold: 1  # Duplications: 4 Degree: 2 Lambda: 0.005\n"
     ]
    },
    {
     "name": "stderr",
     "output_type": "stream",
     "text": [
      "c:\\Users\\hany_\\anaconda3\\envs\\ml\\lib\\site-packages\\numpy\\linalg\\linalg.py:2180: RuntimeWarning: overflow encountered in det\n",
      "  r = _umath_linalg.det(a, signature=signature)\n"
     ]
    },
    {
     "name": "stdout",
     "output_type": "stream",
     "text": [
      "Accuracy: 0.8569491215505813\n",
      "F1-score: 0.4205653623009505\n",
      "Threshold: 1  # Duplications: 4 Degree: 2 Lambda: 0.01\n"
     ]
    },
    {
     "name": "stderr",
     "output_type": "stream",
     "text": [
      "c:\\Users\\hany_\\anaconda3\\envs\\ml\\lib\\site-packages\\numpy\\linalg\\linalg.py:2180: RuntimeWarning: overflow encountered in det\n",
      "  r = _umath_linalg.det(a, signature=signature)\n"
     ]
    },
    {
     "name": "stdout",
     "output_type": "stream",
     "text": [
      "Accuracy: 0.8566596065643713\n",
      "F1-score: 0.4191417104044458\n",
      "Threshold: 1  # Duplications: 4 Degree: 2 Lambda: 0.05\n"
     ]
    },
    {
     "name": "stderr",
     "output_type": "stream",
     "text": [
      "c:\\Users\\hany_\\anaconda3\\envs\\ml\\lib\\site-packages\\numpy\\linalg\\linalg.py:2180: RuntimeWarning: overflow encountered in det\n",
      "  r = _umath_linalg.det(a, signature=signature)\n"
     ]
    },
    {
     "name": "stdout",
     "output_type": "stream",
     "text": [
      "Accuracy: 0.8573910128453228\n",
      "F1-score: 0.41800883029662333\n",
      "Threshold: 1  # Duplications: 4 Degree: 2 Lambda: 0.1\n"
     ]
    },
    {
     "name": "stderr",
     "output_type": "stream",
     "text": [
      "c:\\Users\\hany_\\anaconda3\\envs\\ml\\lib\\site-packages\\numpy\\linalg\\linalg.py:2180: RuntimeWarning: overflow encountered in det\n",
      "  r = _umath_linalg.det(a, signature=signature)\n"
     ]
    },
    {
     "name": "stdout",
     "output_type": "stream",
     "text": [
      "Accuracy: 0.8583205083273653\n",
      "F1-score: 0.41741854636591474\n",
      "Threshold: 1  # Duplications: 4 Degree: 2 Lambda: 0.5\n"
     ]
    },
    {
     "name": "stderr",
     "output_type": "stream",
     "text": [
      "c:\\Users\\hany_\\anaconda3\\envs\\ml\\lib\\site-packages\\numpy\\linalg\\linalg.py:2180: RuntimeWarning: overflow encountered in det\n",
      "  r = _umath_linalg.det(a, signature=signature)\n"
     ]
    },
    {
     "name": "stdout",
     "output_type": "stream",
     "text": [
      "Accuracy: 0.8601947369223033\n",
      "F1-score: 0.4062641558273475\n",
      "Threshold: 1  # Duplications: 4 Degree: 2 Lambda: 1\n"
     ]
    },
    {
     "name": "stderr",
     "output_type": "stream",
     "text": [
      "c:\\Users\\hany_\\anaconda3\\envs\\ml\\lib\\site-packages\\numpy\\linalg\\linalg.py:2180: RuntimeWarning: overflow encountered in det\n",
      "  r = _umath_linalg.det(a, signature=signature)\n"
     ]
    },
    {
     "name": "stdout",
     "output_type": "stream",
     "text": [
      "Accuracy: 0.8618861139470035\n",
      "F1-score: 0.39885926515452985\n",
      "Threshold: 1  # Duplications: 4 Degree: 3 Lambda: 0\n"
     ]
    },
    {
     "name": "stderr",
     "output_type": "stream",
     "text": [
      "c:\\Users\\hany_\\anaconda3\\envs\\ml\\lib\\site-packages\\numpy\\linalg\\linalg.py:2180: RuntimeWarning: overflow encountered in det\n",
      "  r = _umath_linalg.det(a, signature=signature)\n"
     ]
    },
    {
     "name": "stdout",
     "output_type": "stream",
     "text": [
      "Accuracy: 0.8740609809986744\n",
      "F1-score: 0.14767453851706713\n",
      "Threshold: 1  # Duplications: 4 Degree: 3 Lambda: 0.0001\n"
     ]
    },
    {
     "name": "stderr",
     "output_type": "stream",
     "text": [
      "c:\\Users\\hany_\\anaconda3\\envs\\ml\\lib\\site-packages\\numpy\\linalg\\linalg.py:2180: RuntimeWarning: overflow encountered in det\n",
      "  r = _umath_linalg.det(a, signature=signature)\n"
     ]
    },
    {
     "name": "stdout",
     "output_type": "stream",
     "text": [
      "Accuracy: 0.8551053682173496\n",
      "F1-score: 0.41773314555140534\n",
      "Threshold: 1  # Duplications: 4 Degree: 3 Lambda: 0.0005\n"
     ]
    },
    {
     "name": "stderr",
     "output_type": "stream",
     "text": [
      "c:\\Users\\hany_\\anaconda3\\envs\\ml\\lib\\site-packages\\numpy\\linalg\\linalg.py:2180: RuntimeWarning: overflow encountered in det\n",
      "  r = _umath_linalg.det(a, signature=signature)\n"
     ]
    },
    {
     "name": "stdout",
     "output_type": "stream",
     "text": [
      "Accuracy: 0.8570100720739939\n",
      "F1-score: 0.4198813056379822\n",
      "Threshold: 1  # Duplications: 4 Degree: 3 Lambda: 0.001\n"
     ]
    },
    {
     "name": "stderr",
     "output_type": "stream",
     "text": [
      "c:\\Users\\hany_\\anaconda3\\envs\\ml\\lib\\site-packages\\numpy\\linalg\\linalg.py:2180: RuntimeWarning: overflow encountered in det\n",
      "  r = _umath_linalg.det(a, signature=signature)\n"
     ]
    },
    {
     "name": "stdout",
     "output_type": "stream",
     "text": [
      "Accuracy: 0.8569643591814344\n",
      "F1-score: 0.4201618382852554\n",
      "Threshold: 1  # Duplications: 4 Degree: 3 Lambda: 0.005\n"
     ]
    },
    {
     "name": "stderr",
     "output_type": "stream",
     "text": [
      "c:\\Users\\hany_\\anaconda3\\envs\\ml\\lib\\site-packages\\numpy\\linalg\\linalg.py:2180: RuntimeWarning: overflow encountered in det\n",
      "  r = _umath_linalg.det(a, signature=signature)\n"
     ]
    },
    {
     "name": "stdout",
     "output_type": "stream",
     "text": [
      "Accuracy: 0.8572081612750849\n",
      "F1-score: 0.42100710534445474\n",
      "Threshold: 1  # Duplications: 4 Degree: 3 Lambda: 0.01\n"
     ]
    },
    {
     "name": "stderr",
     "output_type": "stream",
     "text": [
      "c:\\Users\\hany_\\anaconda3\\envs\\ml\\lib\\site-packages\\numpy\\linalg\\linalg.py:2180: RuntimeWarning: overflow encountered in det\n",
      "  r = _umath_linalg.det(a, signature=signature)\n"
     ]
    },
    {
     "name": "stdout",
     "output_type": "stream",
     "text": [
      "Accuracy: 0.8572995870602039\n",
      "F1-score: 0.4206619239096814\n",
      "Threshold: 1  # Duplications: 4 Degree: 3 Lambda: 0.05\n"
     ]
    },
    {
     "name": "stderr",
     "output_type": "stream",
     "text": [
      "c:\\Users\\hany_\\anaconda3\\envs\\ml\\lib\\site-packages\\numpy\\linalg\\linalg.py:2180: RuntimeWarning: overflow encountered in det\n",
      "  r = _umath_linalg.det(a, signature=signature)\n"
     ]
    },
    {
     "name": "stdout",
     "output_type": "stream",
     "text": [
      "Accuracy: 0.8576957654623859\n",
      "F1-score: 0.4194691365699012\n",
      "Threshold: 1  # Duplications: 4 Degree: 3 Lambda: 0.1\n"
     ]
    },
    {
     "name": "stderr",
     "output_type": "stream",
     "text": [
      "c:\\Users\\hany_\\anaconda3\\envs\\ml\\lib\\site-packages\\numpy\\linalg\\linalg.py:2180: RuntimeWarning: overflow encountered in det\n",
      "  r = _umath_linalg.det(a, signature=signature)\n"
     ]
    },
    {
     "name": "stdout",
     "output_type": "stream",
     "text": [
      "Accuracy: 0.8574062504761759\n",
      "F1-score: 0.41614674319940104\n",
      "Threshold: 1  # Duplications: 4 Degree: 3 Lambda: 0.5\n"
     ]
    },
    {
     "name": "stderr",
     "output_type": "stream",
     "text": [
      "c:\\Users\\hany_\\anaconda3\\envs\\ml\\lib\\site-packages\\numpy\\linalg\\linalg.py:2180: RuntimeWarning: overflow encountered in det\n",
      "  r = _umath_linalg.det(a, signature=signature)\n"
     ]
    },
    {
     "name": "stdout",
     "output_type": "stream",
     "text": [
      "Accuracy: 0.8580919438645679\n",
      "F1-score: 0.408209951070725\n",
      "Threshold: 1  # Duplications: 4 Degree: 3 Lambda: 1\n"
     ]
    },
    {
     "name": "stderr",
     "output_type": "stream",
     "text": [
      "c:\\Users\\hany_\\anaconda3\\envs\\ml\\lib\\site-packages\\numpy\\linalg\\linalg.py:2180: RuntimeWarning: overflow encountered in det\n",
      "  r = _umath_linalg.det(a, signature=signature)\n"
     ]
    },
    {
     "name": "stdout",
     "output_type": "stream",
     "text": [
      "Accuracy: 0.8580309933411553\n",
      "F1-score: 0.4010286081645773\n",
      "Threshold: 1  # Duplications: 4 Degree: 4 Lambda: 0\n"
     ]
    },
    {
     "name": "stderr",
     "output_type": "stream",
     "text": [
      "c:\\Users\\hany_\\anaconda3\\envs\\ml\\lib\\site-packages\\numpy\\linalg\\linalg.py:2180: RuntimeWarning: overflow encountered in det\n",
      "  r = _umath_linalg.det(a, signature=signature)\n"
     ]
    },
    {
     "name": "stdout",
     "output_type": "stream",
     "text": [
      "Accuracy: 0.7327624300973684\n",
      "F1-score: 0.1391125073630473\n",
      "Threshold: 1  # Duplications: 4 Degree: 4 Lambda: 0.0001\n"
     ]
    },
    {
     "name": "stderr",
     "output_type": "stream",
     "text": [
      "c:\\Users\\hany_\\anaconda3\\envs\\ml\\lib\\site-packages\\numpy\\linalg\\linalg.py:2180: RuntimeWarning: overflow encountered in det\n",
      "  r = _umath_linalg.det(a, signature=signature)\n"
     ]
    },
    {
     "name": "stdout",
     "output_type": "stream",
     "text": [
      "Accuracy: 0.8515245249668582\n",
      "F1-score: 0.4180602006688963\n",
      "Threshold: 1  # Duplications: 4 Degree: 4 Lambda: 0.0005\n"
     ]
    },
    {
     "name": "stderr",
     "output_type": "stream",
     "text": [
      "c:\\Users\\hany_\\anaconda3\\envs\\ml\\lib\\site-packages\\numpy\\linalg\\linalg.py:2180: RuntimeWarning: overflow encountered in det\n",
      "  r = _umath_linalg.det(a, signature=signature)\n"
     ]
    },
    {
     "name": "stdout",
     "output_type": "stream",
     "text": [
      "Accuracy: 0.8502750392368994\n",
      "F1-score: 0.41595339990489777\n",
      "Threshold: 1  # Duplications: 4 Degree: 4 Lambda: 0.001\n"
     ]
    },
    {
     "name": "stderr",
     "output_type": "stream",
     "text": [
      "c:\\Users\\hany_\\anaconda3\\envs\\ml\\lib\\site-packages\\numpy\\linalg\\linalg.py:2180: RuntimeWarning: overflow encountered in det\n",
      "  r = _umath_linalg.det(a, signature=signature)\n"
     ]
    },
    {
     "name": "stdout",
     "output_type": "stream",
     "text": [
      "Accuracy: 0.8515702378594177\n",
      "F1-score: 0.41736945989592683\n",
      "Threshold: 1  # Duplications: 4 Degree: 4 Lambda: 0.005\n"
     ]
    },
    {
     "name": "stderr",
     "output_type": "stream",
     "text": [
      "c:\\Users\\hany_\\anaconda3\\envs\\ml\\lib\\site-packages\\numpy\\linalg\\linalg.py:2180: RuntimeWarning: overflow encountered in det\n",
      "  r = _umath_linalg.det(a, signature=signature)\n"
     ]
    },
    {
     "name": "stdout",
     "output_type": "stream",
     "text": [
      "Accuracy: 0.8569948344431407\n",
      "F1-score: 0.4207147706931671\n",
      "Threshold: 1  # Duplications: 4 Degree: 4 Lambda: 0.01\n"
     ]
    },
    {
     "name": "stderr",
     "output_type": "stream",
     "text": [
      "c:\\Users\\hany_\\anaconda3\\envs\\ml\\lib\\site-packages\\numpy\\linalg\\linalg.py:2180: RuntimeWarning: overflow encountered in det\n",
      "  r = _umath_linalg.det(a, signature=signature)\n"
     ]
    },
    {
     "name": "stdout",
     "output_type": "stream",
     "text": [
      "Accuracy: 0.8575281515230012\n",
      "F1-score: 0.4209092035178991\n",
      "Threshold: 1  # Duplications: 4 Degree: 4 Lambda: 0.05\n"
     ]
    },
    {
     "name": "stderr",
     "output_type": "stream",
     "text": [
      "c:\\Users\\hany_\\anaconda3\\envs\\ml\\lib\\site-packages\\numpy\\linalg\\linalg.py:2180: RuntimeWarning: overflow encountered in det\n",
      "  r = _umath_linalg.det(a, signature=signature)\n"
     ]
    },
    {
     "name": "stdout",
     "output_type": "stream",
     "text": [
      "Accuracy: 0.8581681320188337\n",
      "F1-score: 0.41933873986275727\n",
      "Threshold: 1  # Duplications: 4 Degree: 4 Lambda: 0.1\n"
     ]
    },
    {
     "name": "stderr",
     "output_type": "stream",
     "text": [
      "c:\\Users\\hany_\\anaconda3\\envs\\ml\\lib\\site-packages\\numpy\\linalg\\linalg.py:2180: RuntimeWarning: overflow encountered in det\n",
      "  r = _umath_linalg.det(a, signature=signature)\n"
     ]
    },
    {
     "name": "stdout",
     "output_type": "stream",
     "text": [
      "Accuracy: 0.8581528943879806\n",
      "F1-score: 0.4174228675136116\n",
      "Threshold: 1  # Duplications: 4 Degree: 4 Lambda: 0.5\n"
     ]
    },
    {
     "name": "stderr",
     "output_type": "stream",
     "text": [
      "c:\\Users\\hany_\\anaconda3\\envs\\ml\\lib\\site-packages\\numpy\\linalg\\linalg.py:2180: RuntimeWarning: overflow encountered in det\n",
      "  r = _umath_linalg.det(a, signature=signature)\n"
     ]
    },
    {
     "name": "stdout",
     "output_type": "stream",
     "text": [
      "Accuracy: 0.856827220503756\n",
      "F1-score: 0.40823781332661546\n",
      "Threshold: 1  # Duplications: 4 Degree: 4 Lambda: 1\n"
     ]
    },
    {
     "name": "stderr",
     "output_type": "stream",
     "text": [
      "c:\\Users\\hany_\\anaconda3\\envs\\ml\\lib\\site-packages\\numpy\\linalg\\linalg.py:2180: RuntimeWarning: overflow encountered in det\n",
      "  r = _umath_linalg.det(a, signature=signature)\n"
     ]
    },
    {
     "name": "stdout",
     "output_type": "stream",
     "text": [
      "Accuracy: 0.856034863699392\n",
      "F1-score: 0.400507614213198\n",
      "Threshold: 1  # Duplications: 4 Degree: 5 Lambda: 0\n"
     ]
    },
    {
     "name": "stderr",
     "output_type": "stream",
     "text": [
      "c:\\Users\\hany_\\anaconda3\\envs\\ml\\lib\\site-packages\\numpy\\linalg\\linalg.py:2180: RuntimeWarning: overflow encountered in det\n",
      "  r = _umath_linalg.det(a, signature=signature)\n"
     ]
    },
    {
     "name": "stdout",
     "output_type": "stream",
     "text": [
      "Accuracy: 0.9087265911896019\n",
      "F1-score: 0.014154048716260697\n",
      "Threshold: 1  # Duplications: 4 Degree: 5 Lambda: 0.0001\n"
     ]
    },
    {
     "name": "stderr",
     "output_type": "stream",
     "text": [
      "c:\\Users\\hany_\\anaconda3\\envs\\ml\\lib\\site-packages\\numpy\\linalg\\linalg.py:2180: RuntimeWarning: overflow encountered in det\n",
      "  r = _umath_linalg.det(a, signature=signature)\n"
     ]
    },
    {
     "name": "stdout",
     "output_type": "stream",
     "text": [
      "Accuracy: 0.8559586755451263\n",
      "F1-score: 0.42321069009701623\n",
      "Threshold: 1  # Duplications: 4 Degree: 5 Lambda: 0.0005\n"
     ]
    },
    {
     "name": "stderr",
     "output_type": "stream",
     "text": [
      "c:\\Users\\hany_\\anaconda3\\envs\\ml\\lib\\site-packages\\numpy\\linalg\\linalg.py:2180: RuntimeWarning: overflow encountered in det\n",
      "  r = _umath_linalg.det(a, signature=signature)\n"
     ]
    },
    {
     "name": "stdout",
     "output_type": "stream",
     "text": [
      "Accuracy: 0.857116735489966\n",
      "F1-score: 0.4231313442017841\n",
      "Threshold: 1  # Duplications: 4 Degree: 5 Lambda: 0.001\n"
     ]
    },
    {
     "name": "stderr",
     "output_type": "stream",
     "text": [
      "c:\\Users\\hany_\\anaconda3\\envs\\ml\\lib\\site-packages\\numpy\\linalg\\linalg.py:2180: RuntimeWarning: overflow encountered in det\n",
      "  r = _umath_linalg.det(a, signature=signature)\n"
     ]
    },
    {
     "name": "stdout",
     "output_type": "stream",
     "text": [
      "Accuracy: 0.8573452999527633\n",
      "F1-score: 0.423238048299655\n",
      "Threshold: 1  # Duplications: 4 Degree: 5 Lambda: 0.005\n"
     ]
    },
    {
     "name": "stderr",
     "output_type": "stream",
     "text": [
      "c:\\Users\\hany_\\anaconda3\\envs\\ml\\lib\\site-packages\\numpy\\linalg\\linalg.py:2180: RuntimeWarning: overflow encountered in det\n",
      "  r = _umath_linalg.det(a, signature=signature)\n"
     ]
    },
    {
     "name": "stdout",
     "output_type": "stream",
     "text": [
      "Accuracy: 0.8577719536166517\n",
      "F1-score: 0.42197176120881846\n",
      "Threshold: 1  # Duplications: 4 Degree: 5 Lambda: 0.01\n"
     ]
    },
    {
     "name": "stderr",
     "output_type": "stream",
     "text": [
      "c:\\Users\\hany_\\anaconda3\\envs\\ml\\lib\\site-packages\\numpy\\linalg\\linalg.py:2180: RuntimeWarning: overflow encountered in det\n",
      "  r = _umath_linalg.det(a, signature=signature)\n"
     ]
    },
    {
     "name": "stdout",
     "output_type": "stream",
     "text": [
      "Accuracy: 0.8582290825422463\n",
      "F1-score: 0.42153693111166374\n",
      "Threshold: 1  # Duplications: 4 Degree: 5 Lambda: 0.05\n"
     ]
    },
    {
     "name": "stderr",
     "output_type": "stream",
     "text": [
      "c:\\Users\\hany_\\anaconda3\\envs\\ml\\lib\\site-packages\\numpy\\linalg\\linalg.py:2180: RuntimeWarning: overflow encountered in det\n",
      "  r = _umath_linalg.det(a, signature=signature)\n"
     ]
    },
    {
     "name": "stdout",
     "output_type": "stream",
     "text": [
      "Accuracy: 0.8587623996221068\n",
      "F1-score: 0.41992615307591213\n",
      "Threshold: 1  # Duplications: 4 Degree: 5 Lambda: 0.1\n"
     ]
    },
    {
     "name": "stderr",
     "output_type": "stream",
     "text": [
      "c:\\Users\\hany_\\anaconda3\\envs\\ml\\lib\\site-packages\\numpy\\linalg\\linalg.py:2180: RuntimeWarning: overflow encountered in det\n",
      "  r = _umath_linalg.det(a, signature=signature)\n"
     ]
    },
    {
     "name": "stdout",
     "output_type": "stream",
     "text": [
      "Accuracy: 0.8588081125146663\n",
      "F1-score: 0.41854919678714864\n",
      "Threshold: 1  # Duplications: 4 Degree: 5 Lambda: 0.5\n"
     ]
    },
    {
     "name": "stderr",
     "output_type": "stream",
     "text": [
      "c:\\Users\\hany_\\anaconda3\\envs\\ml\\lib\\site-packages\\numpy\\linalg\\linalg.py:2180: RuntimeWarning: overflow encountered in det\n",
      "  r = _umath_linalg.det(a, signature=signature)\n"
     ]
    },
    {
     "name": "stdout",
     "output_type": "stream",
     "text": [
      "Accuracy: 0.8584728846358968\n",
      "F1-score: 0.41021082042164086\n",
      "Threshold: 1  # Duplications: 4 Degree: 5 Lambda: 1\n"
     ]
    },
    {
     "name": "stderr",
     "output_type": "stream",
     "text": [
      "c:\\Users\\hany_\\anaconda3\\envs\\ml\\lib\\site-packages\\numpy\\linalg\\linalg.py:2180: RuntimeWarning: overflow encountered in det\n",
      "  r = _umath_linalg.det(a, signature=signature)\n"
     ]
    },
    {
     "name": "stdout",
     "output_type": "stream",
     "text": [
      "Accuracy: 0.8572843494293507\n",
      "F1-score: 0.4041984732824427\n",
      "Threshold: 1  # Duplications: 5 Degree: 1 Lambda: 0\n"
     ]
    },
    {
     "name": "stderr",
     "output_type": "stream",
     "text": [
      "c:\\Users\\hany_\\anaconda3\\envs\\ml\\lib\\site-packages\\numpy\\linalg\\linalg.py:2180: RuntimeWarning: overflow encountered in det\n",
      "  r = _umath_linalg.det(a, signature=signature)\n"
     ]
    },
    {
     "name": "stdout",
     "output_type": "stream",
     "text": [
      "Accuracy: 0.8348545568135066\n",
      "F1-score: 0.4075005466870763\n",
      "Threshold: 1  # Duplications: 5 Degree: 1 Lambda: 0.0001\n"
     ]
    },
    {
     "name": "stderr",
     "output_type": "stream",
     "text": [
      "c:\\Users\\hany_\\anaconda3\\envs\\ml\\lib\\site-packages\\numpy\\linalg\\linalg.py:2180: RuntimeWarning: overflow encountered in det\n",
      "  r = _umath_linalg.det(a, signature=signature)\n"
     ]
    },
    {
     "name": "stdout",
     "output_type": "stream",
     "text": [
      "Accuracy: 0.8348088439209471\n",
      "F1-score: 0.4071744955432821\n",
      "Threshold: 1  # Duplications: 5 Degree: 1 Lambda: 0.0005\n"
     ]
    },
    {
     "name": "stderr",
     "output_type": "stream",
     "text": [
      "c:\\Users\\hany_\\anaconda3\\envs\\ml\\lib\\site-packages\\numpy\\linalg\\linalg.py:2180: RuntimeWarning: overflow encountered in det\n",
      "  r = _umath_linalg.det(a, signature=signature)\n"
     ]
    },
    {
     "name": "stdout",
     "output_type": "stream",
     "text": [
      "Accuracy: 0.8348697944443598\n",
      "F1-score: 0.4075876018149018\n",
      "Threshold: 1  # Duplications: 5 Degree: 1 Lambda: 0.001\n"
     ]
    },
    {
     "name": "stderr",
     "output_type": "stream",
     "text": [
      "c:\\Users\\hany_\\anaconda3\\envs\\ml\\lib\\site-packages\\numpy\\linalg\\linalg.py:2180: RuntimeWarning: overflow encountered in det\n",
      "  r = _umath_linalg.det(a, signature=signature)\n"
     ]
    },
    {
     "name": "stdout",
     "output_type": "stream",
     "text": [
      "Accuracy: 0.8348393191826535\n",
      "F1-score: 0.4078019996721849\n",
      "Threshold: 1  # Duplications: 5 Degree: 1 Lambda: 0.005\n"
     ]
    },
    {
     "name": "stderr",
     "output_type": "stream",
     "text": [
      "c:\\Users\\hany_\\anaconda3\\envs\\ml\\lib\\site-packages\\numpy\\linalg\\linalg.py:2180: RuntimeWarning: overflow encountered in det\n",
      "  r = _umath_linalg.det(a, signature=signature)\n"
     ]
    },
    {
     "name": "stdout",
     "output_type": "stream",
     "text": [
      "Accuracy: 0.8338183979154921\n",
      "F1-score: 0.40708926823964336\n",
      "Threshold: 1  # Duplications: 5 Degree: 1 Lambda: 0.01\n"
     ]
    },
    {
     "name": "stderr",
     "output_type": "stream",
     "text": [
      "c:\\Users\\hany_\\anaconda3\\envs\\ml\\lib\\site-packages\\numpy\\linalg\\linalg.py:2180: RuntimeWarning: overflow encountered in det\n",
      "  r = _umath_linalg.det(a, signature=signature)\n"
     ]
    },
    {
     "name": "stdout",
     "output_type": "stream",
     "text": [
      "Accuracy: 0.8325841498163865\n",
      "F1-score: 0.4063968880004323\n",
      "Threshold: 1  # Duplications: 5 Degree: 1 Lambda: 0.05\n"
     ]
    },
    {
     "name": "stderr",
     "output_type": "stream",
     "text": [
      "c:\\Users\\hany_\\anaconda3\\envs\\ml\\lib\\site-packages\\numpy\\linalg\\linalg.py:2180: RuntimeWarning: overflow encountered in det\n",
      "  r = _umath_linalg.det(a, signature=signature)\n"
     ]
    },
    {
     "name": "stdout",
     "output_type": "stream",
     "text": [
      "Accuracy: 0.823974888384354\n",
      "F1-score: 0.40163679685072\n",
      "Threshold: 1  # Duplications: 5 Degree: 1 Lambda: 0.1\n"
     ]
    },
    {
     "name": "stderr",
     "output_type": "stream",
     "text": [
      "c:\\Users\\hany_\\anaconda3\\envs\\ml\\lib\\site-packages\\numpy\\linalg\\linalg.py:2180: RuntimeWarning: overflow encountered in det\n",
      "  r = _umath_linalg.det(a, signature=signature)\n"
     ]
    },
    {
     "name": "stdout",
     "output_type": "stream",
     "text": [
      "Accuracy: 0.8134304478339708\n",
      "F1-score: 0.39511905938148406\n",
      "Threshold: 1  # Duplications: 5 Degree: 1 Lambda: 0.5\n"
     ]
    },
    {
     "name": "stderr",
     "output_type": "stream",
     "text": [
      "c:\\Users\\hany_\\anaconda3\\envs\\ml\\lib\\site-packages\\numpy\\linalg\\linalg.py:2180: RuntimeWarning: overflow encountered in det\n",
      "  r = _umath_linalg.det(a, signature=signature)\n"
     ]
    },
    {
     "name": "stdout",
     "output_type": "stream",
     "text": [
      "Accuracy: 0.7509713989668886\n",
      "F1-score: 0.3556361629144817\n",
      "Threshold: 1  # Duplications: 5 Degree: 1 Lambda: 1\n"
     ]
    },
    {
     "name": "stderr",
     "output_type": "stream",
     "text": [
      "c:\\Users\\hany_\\anaconda3\\envs\\ml\\lib\\site-packages\\numpy\\linalg\\linalg.py:2180: RuntimeWarning: overflow encountered in det\n",
      "  r = _umath_linalg.det(a, signature=signature)\n"
     ]
    },
    {
     "name": "stdout",
     "output_type": "stream",
     "text": [
      "Accuracy: 0.7093726667377757\n",
      "F1-score: 0.33271525032361887\n",
      "Threshold: 1  # Duplications: 5 Degree: 2 Lambda: 0\n"
     ]
    },
    {
     "name": "stderr",
     "output_type": "stream",
     "text": [
      "c:\\Users\\hany_\\anaconda3\\envs\\ml\\lib\\site-packages\\numpy\\linalg\\linalg.py:2180: RuntimeWarning: overflow encountered in det\n",
      "  r = _umath_linalg.det(a, signature=signature)\n"
     ]
    },
    {
     "name": "stdout",
     "output_type": "stream",
     "text": [
      "Accuracy: 0.8281804744998248\n",
      "F1-score: 0.40256437427148456\n",
      "Threshold: 1  # Duplications: 5 Degree: 2 Lambda: 0.0001\n"
     ]
    },
    {
     "name": "stderr",
     "output_type": "stream",
     "text": [
      "c:\\Users\\hany_\\anaconda3\\envs\\ml\\lib\\site-packages\\numpy\\linalg\\linalg.py:2180: RuntimeWarning: overflow encountered in det\n",
      "  r = _umath_linalg.det(a, signature=signature)\n"
     ]
    },
    {
     "name": "stdout",
     "output_type": "stream",
     "text": [
      "Accuracy: 0.8293232968138113\n",
      "F1-score: 0.40417043459758495\n",
      "Threshold: 1  # Duplications: 5 Degree: 2 Lambda: 0.0005\n"
     ]
    },
    {
     "name": "stderr",
     "output_type": "stream",
     "text": [
      "c:\\Users\\hany_\\anaconda3\\envs\\ml\\lib\\site-packages\\numpy\\linalg\\linalg.py:2180: RuntimeWarning: overflow encountered in det\n",
      "  r = _umath_linalg.det(a, signature=signature)\n"
     ]
    },
    {
     "name": "stdout",
     "output_type": "stream",
     "text": [
      "Accuracy: 0.8295061483840492\n",
      "F1-score: 0.40430176223180536\n",
      "Threshold: 1  # Duplications: 5 Degree: 2 Lambda: 0.001\n"
     ]
    },
    {
     "name": "stderr",
     "output_type": "stream",
     "text": [
      "c:\\Users\\hany_\\anaconda3\\envs\\ml\\lib\\site-packages\\numpy\\linalg\\linalg.py:2180: RuntimeWarning: overflow encountered in det\n",
      "  r = _umath_linalg.det(a, signature=signature)\n"
     ]
    },
    {
     "name": "stdout",
     "output_type": "stream",
     "text": [
      "Accuracy: 0.8345193289347372\n",
      "F1-score: 0.4104874606448811\n",
      "Threshold: 1  # Duplications: 5 Degree: 2 Lambda: 0.005\n"
     ]
    },
    {
     "name": "stderr",
     "output_type": "stream",
     "text": [
      "c:\\Users\\hany_\\anaconda3\\envs\\ml\\lib\\site-packages\\numpy\\linalg\\linalg.py:2180: RuntimeWarning: overflow encountered in det\n",
      "  r = _umath_linalg.det(a, signature=signature)\n"
     ]
    },
    {
     "name": "stdout",
     "output_type": "stream",
     "text": [
      "Accuracy: 0.835966903865787\n",
      "F1-score: 0.41004000657642353\n",
      "Threshold: 1  # Duplications: 5 Degree: 2 Lambda: 0.01\n"
     ]
    },
    {
     "name": "stderr",
     "output_type": "stream",
     "text": [
      "c:\\Users\\hany_\\anaconda3\\envs\\ml\\lib\\site-packages\\numpy\\linalg\\linalg.py:2180: RuntimeWarning: overflow encountered in det\n",
      "  r = _umath_linalg.det(a, signature=signature)\n"
     ]
    },
    {
     "name": "stdout",
     "output_type": "stream",
     "text": [
      "Accuracy: 0.8360278543891996\n",
      "F1-score: 0.40993584471130123\n",
      "Threshold: 1  # Duplications: 5 Degree: 2 Lambda: 0.05\n"
     ]
    },
    {
     "name": "stderr",
     "output_type": "stream",
     "text": [
      "c:\\Users\\hany_\\anaconda3\\envs\\ml\\lib\\site-packages\\numpy\\linalg\\linalg.py:2180: RuntimeWarning: overflow encountered in det\n",
      "  r = _umath_linalg.det(a, signature=signature)\n"
     ]
    },
    {
     "name": "stdout",
     "output_type": "stream",
     "text": [
      "Accuracy: 0.8365002209456474\n",
      "F1-score: 0.40907588941513384\n",
      "Threshold: 1  # Duplications: 5 Degree: 2 Lambda: 0.1\n"
     ]
    },
    {
     "name": "stderr",
     "output_type": "stream",
     "text": [
      "c:\\Users\\hany_\\anaconda3\\envs\\ml\\lib\\site-packages\\numpy\\linalg\\linalg.py:2180: RuntimeWarning: overflow encountered in det\n",
      "  r = _umath_linalg.det(a, signature=signature)\n"
     ]
    },
    {
     "name": "stdout",
     "output_type": "stream",
     "text": [
      "Accuracy: 0.8367744983010041\n",
      "F1-score: 0.4065373961218836\n",
      "Threshold: 1  # Duplications: 5 Degree: 2 Lambda: 0.5\n"
     ]
    },
    {
     "name": "stderr",
     "output_type": "stream",
     "text": [
      "c:\\Users\\hany_\\anaconda3\\envs\\ml\\lib\\site-packages\\numpy\\linalg\\linalg.py:2180: RuntimeWarning: overflow encountered in det\n",
      "  r = _umath_linalg.det(a, signature=signature)\n"
     ]
    },
    {
     "name": "stdout",
     "output_type": "stream",
     "text": [
      "Accuracy: 0.8387553903119143\n",
      "F1-score: 0.39943246311010216\n",
      "Threshold: 1  # Duplications: 5 Degree: 2 Lambda: 1\n"
     ]
    },
    {
     "name": "stderr",
     "output_type": "stream",
     "text": [
      "c:\\Users\\hany_\\anaconda3\\envs\\ml\\lib\\site-packages\\numpy\\linalg\\linalg.py:2180: RuntimeWarning: overflow encountered in det\n",
      "  r = _umath_linalg.det(a, signature=signature)\n"
     ]
    },
    {
     "name": "stdout",
     "output_type": "stream",
     "text": [
      "Accuracy: 0.8405991436451461\n",
      "F1-score: 0.3950031808455266\n",
      "Threshold: 1  # Duplications: 5 Degree: 3 Lambda: 0\n"
     ]
    },
    {
     "name": "stderr",
     "output_type": "stream",
     "text": [
      "c:\\Users\\hany_\\anaconda3\\envs\\ml\\lib\\site-packages\\numpy\\linalg\\linalg.py:2180: RuntimeWarning: overflow encountered in det\n",
      "  r = _umath_linalg.det(a, signature=signature)\n"
     ]
    },
    {
     "name": "stdout",
     "output_type": "stream",
     "text": [
      "Accuracy: 0.13179026924893716\n",
      "F1-score: 0.16346605590791635\n",
      "Threshold: 1  # Duplications: 5 Degree: 3 Lambda: 0.0001\n"
     ]
    },
    {
     "name": "stderr",
     "output_type": "stream",
     "text": [
      "c:\\Users\\hany_\\anaconda3\\envs\\ml\\lib\\site-packages\\numpy\\linalg\\linalg.py:2180: RuntimeWarning: overflow encountered in det\n",
      "  r = _umath_linalg.det(a, signature=signature)\n"
     ]
    },
    {
     "name": "stdout",
     "output_type": "stream",
     "text": [
      "Accuracy: 0.8350831212763039\n",
      "F1-score: 0.41022287613754016\n",
      "Threshold: 1  # Duplications: 5 Degree: 3 Lambda: 0.0005\n"
     ]
    },
    {
     "name": "stderr",
     "output_type": "stream",
     "text": [
      "c:\\Users\\hany_\\anaconda3\\envs\\ml\\lib\\site-packages\\numpy\\linalg\\linalg.py:2180: RuntimeWarning: overflow encountered in det\n",
      "  r = _umath_linalg.det(a, signature=signature)\n"
     ]
    },
    {
     "name": "stdout",
     "output_type": "stream",
     "text": [
      "Accuracy: 0.8368963993478294\n",
      "F1-score: 0.4114800967670992\n",
      "Threshold: 1  # Duplications: 5 Degree: 3 Lambda: 0.001\n"
     ]
    },
    {
     "name": "stderr",
     "output_type": "stream",
     "text": [
      "c:\\Users\\hany_\\anaconda3\\envs\\ml\\lib\\site-packages\\numpy\\linalg\\linalg.py:2180: RuntimeWarning: overflow encountered in det\n",
      "  r = _umath_linalg.det(a, signature=signature)\n"
     ]
    },
    {
     "name": "stdout",
     "output_type": "stream",
     "text": [
      "Accuracy: 0.8369421122403888\n",
      "F1-score: 0.41141851383312256\n",
      "Threshold: 1  # Duplications: 5 Degree: 3 Lambda: 0.005\n"
     ]
    },
    {
     "name": "stderr",
     "output_type": "stream",
     "text": [
      "c:\\Users\\hany_\\anaconda3\\envs\\ml\\lib\\site-packages\\numpy\\linalg\\linalg.py:2180: RuntimeWarning: overflow encountered in det\n",
      "  r = _umath_linalg.det(a, signature=signature)\n"
     ]
    },
    {
     "name": "stdout",
     "output_type": "stream",
     "text": [
      "Accuracy: 0.8368049735627104\n",
      "F1-score: 0.4111502089289642\n",
      "Threshold: 1  # Duplications: 5 Degree: 3 Lambda: 0.01\n"
     ]
    },
    {
     "name": "stderr",
     "output_type": "stream",
     "text": [
      "c:\\Users\\hany_\\anaconda3\\envs\\ml\\lib\\site-packages\\numpy\\linalg\\linalg.py:2180: RuntimeWarning: overflow encountered in det\n",
      "  r = _umath_linalg.det(a, signature=signature)\n"
     ]
    },
    {
     "name": "stdout",
     "output_type": "stream",
     "text": [
      "Accuracy: 0.8365916467307662\n",
      "F1-score: 0.4107692307692307\n",
      "Threshold: 1  # Duplications: 5 Degree: 3 Lambda: 0.05\n"
     ]
    },
    {
     "name": "stderr",
     "output_type": "stream",
     "text": [
      "c:\\Users\\hany_\\anaconda3\\envs\\ml\\lib\\site-packages\\numpy\\linalg\\linalg.py:2180: RuntimeWarning: overflow encountered in det\n",
      "  r = _umath_linalg.det(a, signature=signature)\n"
     ]
    },
    {
     "name": "stdout",
     "output_type": "stream",
     "text": [
      "Accuracy: 0.836164993066878\n",
      "F1-score: 0.4077338327641291\n",
      "Threshold: 1  # Duplications: 5 Degree: 3 Lambda: 0.1\n"
     ]
    },
    {
     "name": "stderr",
     "output_type": "stream",
     "text": [
      "c:\\Users\\hany_\\anaconda3\\envs\\ml\\lib\\site-packages\\numpy\\linalg\\linalg.py:2180: RuntimeWarning: overflow encountered in det\n",
      "  r = _umath_linalg.det(a, signature=signature)\n"
     ]
    },
    {
     "name": "stdout",
     "output_type": "stream",
     "text": [
      "Accuracy: 0.8359364286040807\n",
      "F1-score: 0.4043153526970954\n",
      "Threshold: 1  # Duplications: 5 Degree: 3 Lambda: 0.5\n"
     ]
    },
    {
     "name": "stderr",
     "output_type": "stream",
     "text": [
      "c:\\Users\\hany_\\anaconda3\\envs\\ml\\lib\\site-packages\\numpy\\linalg\\linalg.py:2180: RuntimeWarning: overflow encountered in det\n",
      "  r = _umath_linalg.det(a, signature=signature)\n"
     ]
    },
    {
     "name": "stdout",
     "output_type": "stream",
     "text": [
      "Accuracy: 0.8378868453532845\n",
      "F1-score: 0.4011932233916812\n",
      "Threshold: 1  # Duplications: 5 Degree: 3 Lambda: 1\n"
     ]
    },
    {
     "name": "stderr",
     "output_type": "stream",
     "text": [
      "c:\\Users\\hany_\\anaconda3\\envs\\ml\\lib\\site-packages\\numpy\\linalg\\linalg.py:2180: RuntimeWarning: overflow encountered in det\n",
      "  r = _umath_linalg.det(a, signature=signature)\n"
     ]
    },
    {
     "name": "stdout",
     "output_type": "stream",
     "text": [
      "Accuracy: 0.8380087464001097\n",
      "F1-score: 0.3964117413274286\n",
      "Threshold: 1  # Duplications: 5 Degree: 4 Lambda: 0\n"
     ]
    },
    {
     "name": "stderr",
     "output_type": "stream",
     "text": [
      "c:\\Users\\hany_\\anaconda3\\envs\\ml\\lib\\site-packages\\numpy\\linalg\\linalg.py:2180: RuntimeWarning: overflow encountered in det\n",
      "  r = _umath_linalg.det(a, signature=signature)\n"
     ]
    },
    {
     "name": "stdout",
     "output_type": "stream",
     "text": [
      "Accuracy: 0.6762003443704573\n",
      "F1-score: 0.23987694949205896\n",
      "Threshold: 1  # Duplications: 5 Degree: 4 Lambda: 0.0001\n"
     ]
    },
    {
     "name": "stderr",
     "output_type": "stream",
     "text": [
      "c:\\Users\\hany_\\anaconda3\\envs\\ml\\lib\\site-packages\\numpy\\linalg\\linalg.py:2180: RuntimeWarning: overflow encountered in det\n",
      "  r = _umath_linalg.det(a, signature=signature)\n"
     ]
    },
    {
     "name": "stdout",
     "output_type": "stream",
     "text": [
      "Accuracy: 0.8315479909183721\n",
      "F1-score: 0.40872867304915234\n",
      "Threshold: 1  # Duplications: 5 Degree: 4 Lambda: 0.0005\n"
     ]
    },
    {
     "name": "stderr",
     "output_type": "stream",
     "text": [
      "c:\\Users\\hany_\\anaconda3\\envs\\ml\\lib\\site-packages\\numpy\\linalg\\linalg.py:2180: RuntimeWarning: overflow encountered in det\n",
      "  r = _umath_linalg.det(a, signature=signature)\n"
     ]
    },
    {
     "name": "stdout",
     "output_type": "stream",
     "text": [
      "Accuracy: 0.8300851783564691\n",
      "F1-score: 0.40651444994411623\n",
      "Threshold: 1  # Duplications: 5 Degree: 4 Lambda: 0.001\n"
     ]
    },
    {
     "name": "stderr",
     "output_type": "stream",
     "text": [
      "c:\\Users\\hany_\\anaconda3\\envs\\ml\\lib\\site-packages\\numpy\\linalg\\linalg.py:2180: RuntimeWarning: overflow encountered in det\n",
      "  r = _umath_linalg.det(a, signature=signature)\n"
     ]
    },
    {
     "name": "stdout",
     "output_type": "stream",
     "text": [
      "Accuracy: 0.8298413762628186\n",
      "F1-score: 0.4061054087113758\n",
      "Threshold: 1  # Duplications: 5 Degree: 4 Lambda: 0.005\n"
     ]
    },
    {
     "name": "stderr",
     "output_type": "stream",
     "text": [
      "c:\\Users\\hany_\\anaconda3\\envs\\ml\\lib\\site-packages\\numpy\\linalg\\linalg.py:2180: RuntimeWarning: overflow encountered in det\n",
      "  r = _umath_linalg.det(a, signature=signature)\n"
     ]
    },
    {
     "name": "stdout",
     "output_type": "stream",
     "text": [
      "Accuracy: 0.8360735672817591\n",
      "F1-score: 0.41039131864518247\n",
      "Threshold: 1  # Duplications: 5 Degree: 4 Lambda: 0.01\n"
     ]
    },
    {
     "name": "stderr",
     "output_type": "stream",
     "text": [
      "c:\\Users\\hany_\\anaconda3\\envs\\ml\\lib\\site-packages\\numpy\\linalg\\linalg.py:2180: RuntimeWarning: overflow encountered in det\n",
      "  r = _umath_linalg.det(a, signature=signature)\n"
     ]
    },
    {
     "name": "stdout",
     "output_type": "stream",
     "text": [
      "Accuracy: 0.8365916467307662\n",
      "F1-score: 0.41051011433597184\n",
      "Threshold: 1  # Duplications: 5 Degree: 4 Lambda: 0.05\n"
     ]
    },
    {
     "name": "stderr",
     "output_type": "stream",
     "text": [
      "c:\\Users\\hany_\\anaconda3\\envs\\ml\\lib\\site-packages\\numpy\\linalg\\linalg.py:2180: RuntimeWarning: overflow encountered in det\n",
      "  r = _umath_linalg.det(a, signature=signature)\n"
     ]
    },
    {
     "name": "stdout",
     "output_type": "stream",
     "text": [
      "Accuracy: 0.8360430920200527\n",
      "F1-score: 0.4071625344352617\n",
      "Threshold: 1  # Duplications: 5 Degree: 4 Lambda: 0.1\n"
     ]
    },
    {
     "name": "stderr",
     "output_type": "stream",
     "text": [
      "c:\\Users\\hany_\\anaconda3\\envs\\ml\\lib\\site-packages\\numpy\\linalg\\linalg.py:2180: RuntimeWarning: overflow encountered in det\n",
      "  r = _umath_linalg.det(a, signature=signature)\n"
     ]
    },
    {
     "name": "stdout",
     "output_type": "stream",
     "text": [
      "Accuracy: 0.8362564188519969\n",
      "F1-score: 0.40504927472040747\n",
      "Threshold: 1  # Duplications: 5 Degree: 4 Lambda: 0.5\n"
     ]
    },
    {
     "name": "stderr",
     "output_type": "stream",
     "text": [
      "c:\\Users\\hany_\\anaconda3\\envs\\ml\\lib\\site-packages\\numpy\\linalg\\linalg.py:2180: RuntimeWarning: overflow encountered in det\n",
      "  r = _umath_linalg.det(a, signature=signature)\n"
     ]
    },
    {
     "name": "stdout",
     "output_type": "stream",
     "text": [
      "Accuracy: 0.8361040425434654\n",
      "F1-score: 0.40044593088071345\n",
      "Threshold: 1  # Duplications: 5 Degree: 4 Lambda: 1\n"
     ]
    },
    {
     "name": "stderr",
     "output_type": "stream",
     "text": [
      "c:\\Users\\hany_\\anaconda3\\envs\\ml\\lib\\site-packages\\numpy\\linalg\\linalg.py:2180: RuntimeWarning: overflow encountered in det\n",
      "  r = _umath_linalg.det(a, signature=signature)\n"
     ]
    },
    {
     "name": "stdout",
     "output_type": "stream",
     "text": [
      "Accuracy: 0.8361345178051717\n",
      "F1-score: 0.39658848614072495\n",
      "Threshold: 1  # Duplications: 5 Degree: 5 Lambda: 0\n",
      "Accuracy: 0.634174958477456\n",
      "F1-score: 0.21823510257245196\n",
      "Threshold: 1  # Duplications: 5 Degree: 5 Lambda: 0.0001\n"
     ]
    },
    {
     "name": "stderr",
     "output_type": "stream",
     "text": [
      "c:\\Users\\hany_\\anaconda3\\envs\\ml\\lib\\site-packages\\numpy\\linalg\\linalg.py:2180: RuntimeWarning: overflow encountered in det\n",
      "  r = _umath_linalg.det(a, signature=signature)\n"
     ]
    },
    {
     "name": "stdout",
     "output_type": "stream",
     "text": [
      "Accuracy: 0.8356926265104302\n",
      "F1-score: 0.41163310961968685\n",
      "Threshold: 1  # Duplications: 5 Degree: 5 Lambda: 0.0005\n"
     ]
    },
    {
     "name": "stderr",
     "output_type": "stream",
     "text": [
      "c:\\Users\\hany_\\anaconda3\\envs\\ml\\lib\\site-packages\\numpy\\linalg\\linalg.py:2180: RuntimeWarning: overflow encountered in det\n",
      "  r = _umath_linalg.det(a, signature=signature)\n"
     ]
    },
    {
     "name": "stdout",
     "output_type": "stream",
     "text": [
      "Accuracy: 0.8362564188519969\n",
      "F1-score: 0.4109844332383249\n",
      "Threshold: 1  # Duplications: 5 Degree: 5 Lambda: 0.001\n"
     ]
    },
    {
     "name": "stderr",
     "output_type": "stream",
     "text": [
      "c:\\Users\\hany_\\anaconda3\\envs\\ml\\lib\\site-packages\\numpy\\linalg\\linalg.py:2180: RuntimeWarning: overflow encountered in det\n",
      "  r = _umath_linalg.det(a, signature=signature)\n"
     ]
    },
    {
     "name": "stdout",
     "output_type": "stream",
     "text": [
      "Accuracy: 0.8362411812211438\n",
      "F1-score: 0.411413549482447\n",
      "Threshold: 1  # Duplications: 5 Degree: 5 Lambda: 0.005\n"
     ]
    },
    {
     "name": "stderr",
     "output_type": "stream",
     "text": [
      "c:\\Users\\hany_\\anaconda3\\envs\\ml\\lib\\site-packages\\numpy\\linalg\\linalg.py:2180: RuntimeWarning: overflow encountered in det\n",
      "  r = _umath_linalg.det(a, signature=signature)\n"
     ]
    },
    {
     "name": "stdout",
     "output_type": "stream",
     "text": [
      "Accuracy: 0.8369268746095357\n",
      "F1-score: 0.4113311331133113\n",
      "Threshold: 1  # Duplications: 5 Degree: 5 Lambda: 0.01\n"
     ]
    },
    {
     "name": "stderr",
     "output_type": "stream",
     "text": [
      "c:\\Users\\hany_\\anaconda3\\envs\\ml\\lib\\site-packages\\numpy\\linalg\\linalg.py:2180: RuntimeWarning: overflow encountered in det\n",
      "  r = _umath_linalg.det(a, signature=signature)\n"
     ]
    },
    {
     "name": "stdout",
     "output_type": "stream",
     "text": [
      "Accuracy: 0.8369878251329483\n",
      "F1-score: 0.4101235112483458\n",
      "Threshold: 1  # Duplications: 5 Degree: 5 Lambda: 0.05\n"
     ]
    },
    {
     "name": "stderr",
     "output_type": "stream",
     "text": [
      "c:\\Users\\hany_\\anaconda3\\envs\\ml\\lib\\site-packages\\numpy\\linalg\\linalg.py:2180: RuntimeWarning: overflow encountered in det\n",
      "  r = _umath_linalg.det(a, signature=signature)\n"
     ]
    },
    {
     "name": "stdout",
     "output_type": "stream",
     "text": [
      "Accuracy: 0.8369116369786825\n",
      "F1-score: 0.4083798573876513\n",
      "Threshold: 1  # Duplications: 5 Degree: 5 Lambda: 0.1\n"
     ]
    },
    {
     "name": "stderr",
     "output_type": "stream",
     "text": [
      "c:\\Users\\hany_\\anaconda3\\envs\\ml\\lib\\site-packages\\numpy\\linalg\\linalg.py:2180: RuntimeWarning: overflow encountered in det\n",
      "  r = _umath_linalg.det(a, signature=signature)\n"
     ]
    },
    {
     "name": "stdout",
     "output_type": "stream",
     "text": [
      "Accuracy: 0.837155439072333\n",
      "F1-score: 0.4071012482662968\n",
      "Threshold: 1  # Duplications: 5 Degree: 5 Lambda: 0.5\n"
     ]
    },
    {
     "name": "stderr",
     "output_type": "stream",
     "text": [
      "c:\\Users\\hany_\\anaconda3\\envs\\ml\\lib\\site-packages\\numpy\\linalg\\linalg.py:2180: RuntimeWarning: overflow encountered in det\n",
      "  r = _umath_linalg.det(a, signature=signature)\n"
     ]
    },
    {
     "name": "stdout",
     "output_type": "stream",
     "text": [
      "Accuracy: 0.8375668551053682\n",
      "F1-score: 0.4031354983202688\n",
      "Threshold: 1  # Duplications: 5 Degree: 5 Lambda: 1\n"
     ]
    },
    {
     "name": "stderr",
     "output_type": "stream",
     "text": [
      "c:\\Users\\hany_\\anaconda3\\envs\\ml\\lib\\site-packages\\numpy\\linalg\\linalg.py:2180: RuntimeWarning: overflow encountered in det\n",
      "  r = _umath_linalg.det(a, signature=signature)\n"
     ]
    },
    {
     "name": "stdout",
     "output_type": "stream",
     "text": [
      "Accuracy: 0.8372163895957456\n",
      "F1-score: 0.3993928149772306\n",
      "BEST RESULT:  Threshold:  1 # duplications:  3 lambda:  0.0001 degree:  5 f1:  0.42850109024407396\n",
      "Top 10 Results with the Highest F1 Scores:\n",
      "Rank 1:\n",
      "Threshold: 1\n",
      "Duplications: 3\n",
      "Degree: 5\n",
      "Lambda: 0.0001\n",
      "F1 Score: 0.42850109024407396\n",
      "---------------------------------------------\n",
      "Rank 2:\n",
      "Threshold: 1\n",
      "Duplications: 3\n",
      "Degree: 5\n",
      "Lambda: 0.001\n",
      "F1 Score: 0.42801279772484896\n",
      "---------------------------------------------\n",
      "Rank 3:\n",
      "Threshold: 1\n",
      "Duplications: 3\n",
      "Degree: 5\n",
      "Lambda: 0.0005\n",
      "F1 Score: 0.42788051209103845\n",
      "---------------------------------------------\n",
      "Rank 4:\n",
      "Threshold: 1\n",
      "Duplications: 3\n",
      "Degree: 4\n",
      "Lambda: 0.005\n",
      "F1 Score: 0.42654436004013185\n",
      "---------------------------------------------\n",
      "Rank 5:\n",
      "Threshold: 1\n",
      "Duplications: 3\n",
      "Degree: 3\n",
      "Lambda: 0.0005\n",
      "F1 Score: 0.42652406417112293\n",
      "---------------------------------------------\n",
      "Rank 6:\n",
      "Threshold: 1\n",
      "Duplications: 3\n",
      "Degree: 2\n",
      "Lambda: 0.001\n",
      "F1 Score: 0.42636486582674926\n",
      "---------------------------------------------\n",
      "Rank 7:\n",
      "Threshold: 1\n",
      "Duplications: 3\n",
      "Degree: 3\n",
      "Lambda: 0.001\n",
      "F1 Score: 0.42604478676365715\n",
      "---------------------------------------------\n",
      "Rank 8:\n",
      "Threshold: 1\n",
      "Duplications: 3\n",
      "Degree: 5\n",
      "Lambda: 0.005\n",
      "F1 Score: 0.42602278426595974\n",
      "---------------------------------------------\n",
      "Rank 9:\n",
      "Threshold: 1\n",
      "Duplications: 3\n",
      "Degree: 3\n",
      "Lambda: 0.005\n",
      "F1 Score: 0.4258397192580391\n",
      "---------------------------------------------\n",
      "Rank 10:\n",
      "Threshold: 0.9\n",
      "Duplications: 3\n",
      "Degree: 5\n",
      "Lambda: 0.001\n",
      "F1 Score: 0.42563739376770543\n",
      "---------------------------------------------\n"
     ]
    }
   ],
   "source": [
    "## Hyperparameter search\n",
    "threshs = [0.5, 0.8, 0.9, 1]\n",
    "dups = [2, 3, 4, 5]\n",
    "lambdas = [0, 0.0001, 0.0005, 0.001, 0.005, 0.01, 0.05, 0.1, 0.5, 1]\n",
    "degrees = [1, 2, 3, 4, 5]\n",
    "\n",
    "x_tr_dk = replace_dk_values_with_nan(x_tr_sp)\n",
    "x_val_dk = replace_dk_values_with_nan(x_val_sp)\n",
    "\n",
    "f1_best = 0\n",
    "dup_best = 100\n",
    "thresh_best = 100\n",
    "deg_best = 100\n",
    "lambda_best = 100\n",
    "\n",
    "top_10_results = []\n",
    "\n",
    "for thresh in threshs:\n",
    "    x_tr_less_nan, x_val_less_nan = filter_nan_threshold(x_tr_dk, x_val_dk, threshold=thresh)\n",
    "    x_tr_std, x_val_std = standardize(x_tr_less_nan, x_val_less_nan)\n",
    "    x_tr_no_nan, x_val_no_nan = nan_to_zero(x_tr_std, x_val_std)\n",
    "\n",
    "    for dup in dups:\n",
    "        x_tr_duplicated, y_tr_duplicated = duplicate_1rows(x_tr_no_nan, y_tr_sp, dup)\n",
    "\n",
    "        x_tr = x_tr_duplicated\n",
    "        x_val = x_val_no_nan\n",
    "        y_tr = y_tr_duplicated\n",
    "        y_val = y_val_sp\n",
    "\n",
    "        for deg in degrees:\n",
    "            x_poly_tr = build_poly(x_tr, deg)\n",
    "            x_poly_val = build_poly(x_val, deg)\n",
    "            tx = np.c_[np.ones((x_poly_tr.shape[0], 1)), x_poly_tr]\n",
    "            \n",
    "            for lambda_ in lambdas:\n",
    "                print(\"Threshold:\", thresh, \" # Duplications:\", dup, \"Degree:\", deg, \"Lambda:\", lambda_)\n",
    "                \n",
    "                w_rr = ridge_regression(y_tr, tx, lambda_)\n",
    "                f1 = predict_and_evaluate(x_poly_val, w_rr, y_val, regression_type = \"gd\")\n",
    "\n",
    "                result = {\n",
    "                \"Threshold\": thresh,\n",
    "                \"Duplications\": dup,\n",
    "                \"Degree\": deg,\n",
    "                \"Lambda\": lambda_,\n",
    "                \"F1 Score\": f1\n",
    "                }\n",
    "\n",
    "                if f1 > f1_best:\n",
    "                    f1_best = f1\n",
    "                    dup_best = dup\n",
    "                    thresh_best = thresh\n",
    "                    deg_best = deg\n",
    "                    lambda_best = lambda_\n",
    "\n",
    "                top_10_results.append(result)\n",
    "\n",
    "print(\"BEST RESULT: \", \"Threshold: \", thresh_best, \"# duplications: \", dup_best, \"lambda: \", lambda_best, \"degree: \", deg_best, \"f1: \", f1_best)\n",
    "\n",
    "top_10_results.sort(key=lambda x: x[\"F1 Score\"], reverse=True)\n",
    "\n",
    "print(\"Top 10 Results with the Highest F1 Scores:\")\n",
    "for i, result in enumerate(top_10_results[:10]):\n",
    "    print(f\"Rank {i + 1}:\")\n",
    "    print(f\"Threshold: {result['Threshold']}\")\n",
    "    print(f\"Duplications: {result['Duplications']}\")\n",
    "    print(f\"Degree: {result['Degree']}\")\n",
    "    print(f\"Lambda: {result['Lambda']}\")\n",
    "    print(f\"F1 Score: {result['F1 Score']}\")\n",
    "    print(\"---------------------------------------------\")"
   ]
  },
  {
   "cell_type": "code",
   "execution_count": 22,
   "metadata": {},
   "outputs": [
    {
     "name": "stdout",
     "output_type": "stream",
     "text": [
      "Top 10 Results with the Highest F1 Scores:\n",
      "Rank 1:\n",
      "Threshold: 1\n",
      "Duplications: 3\n",
      "Degree: 5\n",
      "Lambda: 0.0001\n",
      "F1 Score: 0.42850109024407396\n",
      "---------------------------------------------\n",
      "Rank 2:\n",
      "Threshold: 1\n",
      "Duplications: 3\n",
      "Degree: 5\n",
      "Lambda: 0.001\n",
      "F1 Score: 0.42801279772484896\n",
      "---------------------------------------------\n",
      "Rank 3:\n",
      "Threshold: 1\n",
      "Duplications: 3\n",
      "Degree: 5\n",
      "Lambda: 0.0005\n",
      "F1 Score: 0.42788051209103845\n",
      "---------------------------------------------\n",
      "Rank 4:\n",
      "Threshold: 1\n",
      "Duplications: 3\n",
      "Degree: 4\n",
      "Lambda: 0.005\n",
      "F1 Score: 0.42654436004013185\n",
      "---------------------------------------------\n",
      "Rank 5:\n",
      "Threshold: 1\n",
      "Duplications: 3\n",
      "Degree: 3\n",
      "Lambda: 0.0005\n",
      "F1 Score: 0.42652406417112293\n",
      "---------------------------------------------\n",
      "Rank 6:\n",
      "Threshold: 1\n",
      "Duplications: 3\n",
      "Degree: 2\n",
      "Lambda: 0.001\n",
      "F1 Score: 0.42636486582674926\n",
      "---------------------------------------------\n",
      "Rank 7:\n",
      "Threshold: 1\n",
      "Duplications: 3\n",
      "Degree: 3\n",
      "Lambda: 0.001\n",
      "F1 Score: 0.42604478676365715\n",
      "---------------------------------------------\n",
      "Rank 8:\n",
      "Threshold: 1\n",
      "Duplications: 3\n",
      "Degree: 5\n",
      "Lambda: 0.005\n",
      "F1 Score: 0.42602278426595974\n",
      "---------------------------------------------\n",
      "Rank 9:\n",
      "Threshold: 1\n",
      "Duplications: 3\n",
      "Degree: 3\n",
      "Lambda: 0.005\n",
      "F1 Score: 0.4258397192580391\n",
      "---------------------------------------------\n",
      "Rank 10:\n",
      "Threshold: 0.9\n",
      "Duplications: 3\n",
      "Degree: 5\n",
      "Lambda: 0.001\n",
      "F1 Score: 0.42563739376770543\n",
      "---------------------------------------------\n"
     ]
    }
   ],
   "source": [
    "print(\"Top 10 Results with the Highest F1 Scores:\")\n",
    "for i, result in enumerate(top_10_results[:10]):\n",
    "    print(f\"Rank {i + 1}:\")\n",
    "    print(f\"Threshold: {result['Threshold']}\")\n",
    "    print(f\"Duplications: {result['Duplications']}\")\n",
    "    print(f\"Degree: {result['Degree']}\")\n",
    "    print(f\"Lambda: {result['Lambda']}\")\n",
    "    print(f\"F1 Score: {result['F1 Score']}\")\n",
    "    print(\"---------------------------------------------\")"
   ]
  },
  {
   "cell_type": "code",
   "execution_count": 23,
   "metadata": {},
   "outputs": [
    {
     "name": "stdout",
     "output_type": "stream",
     "text": [
      "Threshold: 1  # Duplications: 3 Degree: 2 Lambda: 0.0001\n"
     ]
    },
    {
     "name": "stderr",
     "output_type": "stream",
     "text": [
      "c:\\Users\\hany_\\anaconda3\\envs\\ml\\lib\\site-packages\\numpy\\linalg\\linalg.py:2180: RuntimeWarning: overflow encountered in det\n",
      "  r = _umath_linalg.det(a, signature=signature)\n"
     ]
    },
    {
     "name": "stdout",
     "output_type": "stream",
     "text": [
      "Accuracy: 0.8698401572523504\n",
      "F1-score: 0.41621104428649536\n",
      "Threshold: 1  # Duplications: 3 Degree: 2 Lambda: 0.0003\n"
     ]
    },
    {
     "name": "stderr",
     "output_type": "stream",
     "text": [
      "c:\\Users\\hany_\\anaconda3\\envs\\ml\\lib\\site-packages\\numpy\\linalg\\linalg.py:2180: RuntimeWarning: overflow encountered in det\n",
      "  r = _umath_linalg.det(a, signature=signature)\n"
     ]
    },
    {
     "name": "stdout",
     "output_type": "stream",
     "text": [
      "Accuracy: 0.8705106130098892\n",
      "F1-score: 0.4171467764060357\n",
      "Threshold: 1  # Duplications: 3 Degree: 2 Lambda: 0.0005\n"
     ]
    },
    {
     "name": "stderr",
     "output_type": "stream",
     "text": [
      "c:\\Users\\hany_\\anaconda3\\envs\\ml\\lib\\site-packages\\numpy\\linalg\\linalg.py:2180: RuntimeWarning: overflow encountered in det\n",
      "  r = _umath_linalg.det(a, signature=signature)\n"
     ]
    },
    {
     "name": "stdout",
     "output_type": "stream",
     "text": [
      "Accuracy: 0.8744723970317095\n",
      "F1-score: 0.4239966438260383\n",
      "Threshold: 1  # Duplications: 3 Degree: 2 Lambda: 0.0008\n"
     ]
    },
    {
     "name": "stderr",
     "output_type": "stream",
     "text": [
      "c:\\Users\\hany_\\anaconda3\\envs\\ml\\lib\\site-packages\\numpy\\linalg\\linalg.py:2180: RuntimeWarning: overflow encountered in det\n",
      "  r = _umath_linalg.det(a, signature=signature)\n"
     ]
    },
    {
     "name": "stdout",
     "output_type": "stream",
     "text": [
      "Accuracy: 0.8770475566458927\n",
      "F1-score: 0.4270396932471775\n",
      "Threshold: 1  # Duplications: 3 Degree: 2 Lambda: 0.001\n"
     ]
    },
    {
     "name": "stderr",
     "output_type": "stream",
     "text": [
      "c:\\Users\\hany_\\anaconda3\\envs\\ml\\lib\\site-packages\\numpy\\linalg\\linalg.py:2180: RuntimeWarning: overflow encountered in det\n",
      "  r = _umath_linalg.det(a, signature=signature)\n"
     ]
    },
    {
     "name": "stdout",
     "output_type": "stream",
     "text": [
      "Accuracy: 0.8771999329544242\n",
      "F1-score: 0.42636486582674926\n",
      "Threshold: 1  # Duplications: 3 Degree: 2 Lambda: 0.003\n"
     ]
    },
    {
     "name": "stderr",
     "output_type": "stream",
     "text": [
      "c:\\Users\\hany_\\anaconda3\\envs\\ml\\lib\\site-packages\\numpy\\linalg\\linalg.py:2180: RuntimeWarning: overflow encountered in det\n",
      "  r = _umath_linalg.det(a, signature=signature)\n"
     ]
    },
    {
     "name": "stdout",
     "output_type": "stream",
     "text": [
      "Accuracy: 0.8774284974172216\n",
      "F1-score: 0.42460658082975683\n",
      "Threshold: 1  # Duplications: 3 Degree: 2 Lambda: 0.005\n"
     ]
    },
    {
     "name": "stderr",
     "output_type": "stream",
     "text": [
      "c:\\Users\\hany_\\anaconda3\\envs\\ml\\lib\\site-packages\\numpy\\linalg\\linalg.py:2180: RuntimeWarning: overflow encountered in det\n",
      "  r = _umath_linalg.det(a, signature=signature)\n"
     ]
    },
    {
     "name": "stdout",
     "output_type": "stream",
     "text": [
      "Accuracy: 0.8773980221555152\n",
      "F1-score: 0.42372152986678124\n",
      "Threshold: 1  # Duplications: 3 Degree: 2 Lambda: 0.008\n"
     ]
    },
    {
     "name": "stderr",
     "output_type": "stream",
     "text": [
      "c:\\Users\\hany_\\anaconda3\\envs\\ml\\lib\\site-packages\\numpy\\linalg\\linalg.py:2180: RuntimeWarning: overflow encountered in det\n",
      "  r = _umath_linalg.det(a, signature=signature)\n"
     ]
    },
    {
     "name": "stdout",
     "output_type": "stream",
     "text": [
      "Accuracy: 0.877763725295991\n",
      "F1-score: 0.4242032730404824\n",
      "Threshold: 1  # Duplications: 3 Degree: 2 Lambda: 0.01\n"
     ]
    },
    {
     "name": "stderr",
     "output_type": "stream",
     "text": [
      "c:\\Users\\hany_\\anaconda3\\envs\\ml\\lib\\site-packages\\numpy\\linalg\\linalg.py:2180: RuntimeWarning: overflow encountered in det\n",
      "  r = _umath_linalg.det(a, signature=signature)\n"
     ]
    },
    {
     "name": "stdout",
     "output_type": "stream",
     "text": [
      "Accuracy: 0.8778246758194036\n",
      "F1-score: 0.42391148153470326\n",
      "Threshold: 1  # Duplications: 3 Degree: 3 Lambda: 0.0001\n"
     ]
    },
    {
     "name": "stderr",
     "output_type": "stream",
     "text": [
      "c:\\Users\\hany_\\anaconda3\\envs\\ml\\lib\\site-packages\\numpy\\linalg\\linalg.py:2180: RuntimeWarning: overflow encountered in det\n",
      "  r = _umath_linalg.det(a, signature=signature)\n"
     ]
    },
    {
     "name": "stdout",
     "output_type": "stream",
     "text": [
      "Accuracy: 0.8752038033126609\n",
      "F1-score: 0.42267023826307626\n",
      "Threshold: 1  # Duplications: 3 Degree: 3 Lambda: 0.0003\n"
     ]
    },
    {
     "name": "stderr",
     "output_type": "stream",
     "text": [
      "c:\\Users\\hany_\\anaconda3\\envs\\ml\\lib\\site-packages\\numpy\\linalg\\linalg.py:2180: RuntimeWarning: overflow encountered in det\n",
      "  r = _umath_linalg.det(a, signature=signature)\n"
     ]
    },
    {
     "name": "stdout",
     "output_type": "stream",
     "text": [
      "Accuracy: 0.8773370716321026\n",
      "F1-score: 0.42655648952842284\n",
      "Threshold: 1  # Duplications: 3 Degree: 3 Lambda: 0.0005\n"
     ]
    },
    {
     "name": "stderr",
     "output_type": "stream",
     "text": [
      "c:\\Users\\hany_\\anaconda3\\envs\\ml\\lib\\site-packages\\numpy\\linalg\\linalg.py:2180: RuntimeWarning: overflow encountered in det\n",
      "  r = _umath_linalg.det(a, signature=signature)\n"
     ]
    },
    {
     "name": "stdout",
     "output_type": "stream",
     "text": [
      "Accuracy: 0.8774437350480747\n",
      "F1-score: 0.42652406417112293\n",
      "Threshold: 1  # Duplications: 3 Degree: 3 Lambda: 0.0008\n"
     ]
    },
    {
     "name": "stderr",
     "output_type": "stream",
     "text": [
      "c:\\Users\\hany_\\anaconda3\\envs\\ml\\lib\\site-packages\\numpy\\linalg\\linalg.py:2180: RuntimeWarning: overflow encountered in det\n",
      "  r = _umath_linalg.det(a, signature=signature)\n"
     ]
    },
    {
     "name": "stdout",
     "output_type": "stream",
     "text": [
      "Accuracy: 0.8773827845246621\n",
      "F1-score: 0.42599329481418075\n",
      "Threshold: 1  # Duplications: 3 Degree: 3 Lambda: 0.001\n"
     ]
    },
    {
     "name": "stderr",
     "output_type": "stream",
     "text": [
      "c:\\Users\\hany_\\anaconda3\\envs\\ml\\lib\\site-packages\\numpy\\linalg\\linalg.py:2180: RuntimeWarning: overflow encountered in det\n",
      "  r = _umath_linalg.det(a, signature=signature)\n"
     ]
    },
    {
     "name": "stdout",
     "output_type": "stream",
     "text": [
      "Accuracy: 0.8773675468938089\n",
      "F1-score: 0.42604478676365715\n",
      "Threshold: 1  # Duplications: 3 Degree: 3 Lambda: 0.003\n"
     ]
    },
    {
     "name": "stderr",
     "output_type": "stream",
     "text": [
      "c:\\Users\\hany_\\anaconda3\\envs\\ml\\lib\\site-packages\\numpy\\linalg\\linalg.py:2180: RuntimeWarning: overflow encountered in det\n",
      "  r = _umath_linalg.det(a, signature=signature)\n"
     ]
    },
    {
     "name": "stdout",
     "output_type": "stream",
     "text": [
      "Accuracy: 0.8777942005576973\n",
      "F1-score: 0.4265694265694266\n",
      "Threshold: 1  # Duplications: 3 Degree: 3 Lambda: 0.005\n"
     ]
    },
    {
     "name": "stderr",
     "output_type": "stream",
     "text": [
      "c:\\Users\\hany_\\anaconda3\\envs\\ml\\lib\\site-packages\\numpy\\linalg\\linalg.py:2180: RuntimeWarning: overflow encountered in det\n",
      "  r = _umath_linalg.det(a, signature=signature)\n"
     ]
    },
    {
     "name": "stdout",
     "output_type": "stream",
     "text": [
      "Accuracy: 0.8778399134502568\n",
      "F1-score: 0.4258397192580391\n",
      "Threshold: 1  # Duplications: 3 Degree: 3 Lambda: 0.008\n"
     ]
    },
    {
     "name": "stderr",
     "output_type": "stream",
     "text": [
      "c:\\Users\\hany_\\anaconda3\\envs\\ml\\lib\\site-packages\\numpy\\linalg\\linalg.py:2180: RuntimeWarning: overflow encountered in det\n",
      "  r = _umath_linalg.det(a, signature=signature)\n"
     ]
    },
    {
     "name": "stdout",
     "output_type": "stream",
     "text": [
      "Accuracy: 0.8777180124034315\n",
      "F1-score: 0.42386388111135037\n",
      "Threshold: 1  # Duplications: 3 Degree: 3 Lambda: 0.01\n"
     ]
    },
    {
     "name": "stderr",
     "output_type": "stream",
     "text": [
      "c:\\Users\\hany_\\anaconda3\\envs\\ml\\lib\\site-packages\\numpy\\linalg\\linalg.py:2180: RuntimeWarning: overflow encountered in det\n",
      "  r = _umath_linalg.det(a, signature=signature)\n"
     ]
    },
    {
     "name": "stdout",
     "output_type": "stream",
     "text": [
      "Accuracy: 0.8778246758194036\n",
      "F1-score: 0.42424242424242425\n",
      "Threshold: 1  # Duplications: 3 Degree: 4 Lambda: 0.0001\n"
     ]
    },
    {
     "name": "stderr",
     "output_type": "stream",
     "text": [
      "c:\\Users\\hany_\\anaconda3\\envs\\ml\\lib\\site-packages\\numpy\\linalg\\linalg.py:2180: RuntimeWarning: overflow encountered in det\n",
      "  r = _umath_linalg.det(a, signature=signature)\n"
     ]
    },
    {
     "name": "stdout",
     "output_type": "stream",
     "text": [
      "Accuracy: 0.8716381976930226\n",
      "F1-score: 0.4230927270236954\n",
      "Threshold: 1  # Duplications: 3 Degree: 4 Lambda: 0.0003\n"
     ]
    },
    {
     "name": "stderr",
     "output_type": "stream",
     "text": [
      "c:\\Users\\hany_\\anaconda3\\envs\\ml\\lib\\site-packages\\numpy\\linalg\\linalg.py:2180: RuntimeWarning: overflow encountered in det\n",
      "  r = _umath_linalg.det(a, signature=signature)\n"
     ]
    },
    {
     "name": "stdout",
     "output_type": "stream",
     "text": [
      "Accuracy: 0.8710896429823091\n",
      "F1-score: 0.4217361585782638\n",
      "Threshold: 1  # Duplications: 3 Degree: 4 Lambda: 0.0005\n"
     ]
    },
    {
     "name": "stderr",
     "output_type": "stream",
     "text": [
      "c:\\Users\\hany_\\anaconda3\\envs\\ml\\lib\\site-packages\\numpy\\linalg\\linalg.py:2180: RuntimeWarning: overflow encountered in det\n",
      "  r = _umath_linalg.det(a, signature=signature)\n"
     ]
    },
    {
     "name": "stdout",
     "output_type": "stream",
     "text": [
      "Accuracy: 0.8709067914120713\n",
      "F1-score: 0.42075755503897166\n",
      "Threshold: 1  # Duplications: 3 Degree: 4 Lambda: 0.0008\n"
     ]
    },
    {
     "name": "stderr",
     "output_type": "stream",
     "text": [
      "c:\\Users\\hany_\\anaconda3\\envs\\ml\\lib\\site-packages\\numpy\\linalg\\linalg.py:2180: RuntimeWarning: overflow encountered in det\n",
      "  r = _umath_linalg.det(a, signature=signature)\n"
     ]
    },
    {
     "name": "stdout",
     "output_type": "stream",
     "text": [
      "Accuracy: 0.8721562771420299\n",
      "F1-score: 0.4210598951145459\n",
      "Threshold: 1  # Duplications: 3 Degree: 4 Lambda: 0.001\n"
     ]
    },
    {
     "name": "stderr",
     "output_type": "stream",
     "text": [
      "c:\\Users\\hany_\\anaconda3\\envs\\ml\\lib\\site-packages\\numpy\\linalg\\linalg.py:2180: RuntimeWarning: overflow encountered in det\n",
      "  r = _umath_linalg.det(a, signature=signature)\n"
     ]
    },
    {
     "name": "stdout",
     "output_type": "stream",
     "text": [
      "Accuracy: 0.8726895942218904\n",
      "F1-score: 0.4213588198628714\n",
      "Threshold: 1  # Duplications: 3 Degree: 4 Lambda: 0.003\n"
     ]
    },
    {
     "name": "stderr",
     "output_type": "stream",
     "text": [
      "c:\\Users\\hany_\\anaconda3\\envs\\ml\\lib\\site-packages\\numpy\\linalg\\linalg.py:2180: RuntimeWarning: overflow encountered in det\n",
      "  r = _umath_linalg.det(a, signature=signature)\n"
     ]
    },
    {
     "name": "stdout",
     "output_type": "stream",
     "text": [
      "Accuracy: 0.8776875371417252\n",
      "F1-score: 0.42692939244663386\n",
      "Threshold: 1  # Duplications: 3 Degree: 4 Lambda: 0.005\n"
     ]
    },
    {
     "name": "stderr",
     "output_type": "stream",
     "text": [
      "c:\\Users\\hany_\\anaconda3\\envs\\ml\\lib\\site-packages\\numpy\\linalg\\linalg.py:2180: RuntimeWarning: overflow encountered in det\n",
      "  r = _umath_linalg.det(a, signature=signature)\n"
     ]
    },
    {
     "name": "stdout",
     "output_type": "stream",
     "text": [
      "Accuracy: 0.8780684779130541\n",
      "F1-score: 0.42654436004013185\n",
      "Threshold: 1  # Duplications: 3 Degree: 4 Lambda: 0.008\n"
     ]
    },
    {
     "name": "stderr",
     "output_type": "stream",
     "text": [
      "c:\\Users\\hany_\\anaconda3\\envs\\ml\\lib\\site-packages\\numpy\\linalg\\linalg.py:2180: RuntimeWarning: overflow encountered in det\n",
      "  r = _umath_linalg.det(a, signature=signature)\n"
     ]
    },
    {
     "name": "stdout",
     "output_type": "stream",
     "text": [
      "Accuracy: 0.8783275176375577\n",
      "F1-score: 0.4259112804658854\n",
      "Threshold: 1  # Duplications: 3 Degree: 4 Lambda: 0.01\n"
     ]
    },
    {
     "name": "stderr",
     "output_type": "stream",
     "text": [
      "c:\\Users\\hany_\\anaconda3\\envs\\ml\\lib\\site-packages\\numpy\\linalg\\linalg.py:2180: RuntimeWarning: overflow encountered in det\n",
      "  r = _umath_linalg.det(a, signature=signature)\n"
     ]
    },
    {
     "name": "stdout",
     "output_type": "stream",
     "text": [
      "Accuracy: 0.8783732305301172\n",
      "F1-score: 0.425507413271916\n",
      "Threshold: 1  # Duplications: 3 Degree: 5 Lambda: 0.0001\n"
     ]
    },
    {
     "name": "stderr",
     "output_type": "stream",
     "text": [
      "c:\\Users\\hany_\\anaconda3\\envs\\ml\\lib\\site-packages\\numpy\\linalg\\linalg.py:2180: RuntimeWarning: overflow encountered in det\n",
      "  r = _umath_linalg.det(a, signature=signature)\n"
     ]
    },
    {
     "name": "stdout",
     "output_type": "stream",
     "text": [
      "Accuracy: 0.8761942493181161\n",
      "F1-score: 0.42850109024407396\n",
      "Threshold: 1  # Duplications: 3 Degree: 5 Lambda: 0.0003\n"
     ]
    },
    {
     "name": "stderr",
     "output_type": "stream",
     "text": [
      "c:\\Users\\hany_\\anaconda3\\envs\\ml\\lib\\site-packages\\numpy\\linalg\\linalg.py:2180: RuntimeWarning: overflow encountered in det\n",
      "  r = _umath_linalg.det(a, signature=signature)\n"
     ]
    },
    {
     "name": "stdout",
     "output_type": "stream",
     "text": [
      "Accuracy: 0.8777180124034315\n",
      "F1-score: 0.4295158882490936\n",
      "Threshold: 1  # Duplications: 3 Degree: 5 Lambda: 0.0005\n"
     ]
    },
    {
     "name": "stderr",
     "output_type": "stream",
     "text": [
      "c:\\Users\\hany_\\anaconda3\\envs\\ml\\lib\\site-packages\\numpy\\linalg\\linalg.py:2180: RuntimeWarning: overflow encountered in det\n",
      "  r = _umath_linalg.det(a, signature=signature)\n"
     ]
    },
    {
     "name": "stdout",
     "output_type": "stream",
     "text": [
      "Accuracy: 0.8774284974172216\n",
      "F1-score: 0.42788051209103845\n",
      "Threshold: 1  # Duplications: 3 Degree: 5 Lambda: 0.0008\n"
     ]
    },
    {
     "name": "stderr",
     "output_type": "stream",
     "text": [
      "c:\\Users\\hany_\\anaconda3\\envs\\ml\\lib\\site-packages\\numpy\\linalg\\linalg.py:2180: RuntimeWarning: overflow encountered in det\n",
      "  r = _umath_linalg.det(a, signature=signature)\n"
     ]
    },
    {
     "name": "stdout",
     "output_type": "stream",
     "text": [
      "Accuracy: 0.8774437350480747\n",
      "F1-score: 0.4283175776529959\n",
      "Threshold: 1  # Duplications: 3 Degree: 5 Lambda: 0.001\n"
     ]
    },
    {
     "name": "stderr",
     "output_type": "stream",
     "text": [
      "c:\\Users\\hany_\\anaconda3\\envs\\ml\\lib\\site-packages\\numpy\\linalg\\linalg.py:2180: RuntimeWarning: overflow encountered in det\n",
      "  r = _umath_linalg.det(a, signature=signature)\n"
     ]
    },
    {
     "name": "stdout",
     "output_type": "stream",
     "text": [
      "Accuracy: 0.8774132597863684\n",
      "F1-score: 0.42801279772484896\n",
      "Threshold: 1  # Duplications: 3 Degree: 5 Lambda: 0.003\n"
     ]
    },
    {
     "name": "stderr",
     "output_type": "stream",
     "text": [
      "c:\\Users\\hany_\\anaconda3\\envs\\ml\\lib\\site-packages\\numpy\\linalg\\linalg.py:2180: RuntimeWarning: overflow encountered in det\n",
      "  r = _umath_linalg.det(a, signature=signature)\n"
     ]
    },
    {
     "name": "stdout",
     "output_type": "stream",
     "text": [
      "Accuracy: 0.8778094381885504\n",
      "F1-score: 0.42659992849481587\n",
      "Threshold: 1  # Duplications: 3 Degree: 5 Lambda: 0.005\n"
     ]
    },
    {
     "name": "stderr",
     "output_type": "stream",
     "text": [
      "c:\\Users\\hany_\\anaconda3\\envs\\ml\\lib\\site-packages\\numpy\\linalg\\linalg.py:2180: RuntimeWarning: overflow encountered in det\n",
      "  r = _umath_linalg.det(a, signature=signature)\n"
     ]
    },
    {
     "name": "stdout",
     "output_type": "stream",
     "text": [
      "Accuracy: 0.8779313392353757\n",
      "F1-score: 0.42602278426595974\n",
      "Threshold: 1  # Duplications: 3 Degree: 5 Lambda: 0.008\n"
     ]
    },
    {
     "name": "stderr",
     "output_type": "stream",
     "text": [
      "c:\\Users\\hany_\\anaconda3\\envs\\ml\\lib\\site-packages\\numpy\\linalg\\linalg.py:2180: RuntimeWarning: overflow encountered in det\n",
      "  r = _umath_linalg.det(a, signature=signature)\n"
     ]
    },
    {
     "name": "stdout",
     "output_type": "stream",
     "text": [
      "Accuracy: 0.8782208542215856\n",
      "F1-score: 0.42569703937913195\n",
      "Threshold: 1  # Duplications: 3 Degree: 5 Lambda: 0.01\n"
     ]
    },
    {
     "name": "stderr",
     "output_type": "stream",
     "text": [
      "c:\\Users\\hany_\\anaconda3\\envs\\ml\\lib\\site-packages\\numpy\\linalg\\linalg.py:2180: RuntimeWarning: overflow encountered in det\n",
      "  r = _umath_linalg.det(a, signature=signature)\n"
     ]
    },
    {
     "name": "stdout",
     "output_type": "stream",
     "text": [
      "Accuracy: 0.8783427552684109\n",
      "F1-score: 0.4248667339000144\n",
      "Threshold: 1  # Duplications: 3 Degree: 6 Lambda: 0.0001\n"
     ]
    },
    {
     "name": "stderr",
     "output_type": "stream",
     "text": [
      "c:\\Users\\hany_\\anaconda3\\envs\\ml\\lib\\site-packages\\numpy\\linalg\\linalg.py:2180: RuntimeWarning: overflow encountered in det\n",
      "  r = _umath_linalg.det(a, signature=signature)\n"
     ]
    },
    {
     "name": "stdout",
     "output_type": "stream",
     "text": [
      "Accuracy: 0.8712572569216939\n",
      "F1-score: 0.41991074493649155\n",
      "Threshold: 1  # Duplications: 3 Degree: 6 Lambda: 0.0003\n"
     ]
    },
    {
     "name": "stderr",
     "output_type": "stream",
     "text": [
      "c:\\Users\\hany_\\anaconda3\\envs\\ml\\lib\\site-packages\\numpy\\linalg\\linalg.py:2180: RuntimeWarning: overflow encountered in det\n",
      "  r = _umath_linalg.det(a, signature=signature)\n"
     ]
    },
    {
     "name": "stdout",
     "output_type": "stream",
     "text": [
      "Accuracy: 0.8708001279960992\n",
      "F1-score: 0.4200807058340743\n",
      "Threshold: 1  # Duplications: 3 Degree: 6 Lambda: 0.0005\n"
     ]
    },
    {
     "name": "stderr",
     "output_type": "stream",
     "text": [
      "c:\\Users\\hany_\\anaconda3\\envs\\ml\\lib\\site-packages\\numpy\\linalg\\linalg.py:2180: RuntimeWarning: overflow encountered in det\n",
      "  r = _umath_linalg.det(a, signature=signature)\n"
     ]
    },
    {
     "name": "stdout",
     "output_type": "stream",
     "text": [
      "Accuracy: 0.8705410882715955\n",
      "F1-score: 0.4191166415971557\n",
      "Threshold: 1  # Duplications: 3 Degree: 6 Lambda: 0.0008\n"
     ]
    },
    {
     "name": "stderr",
     "output_type": "stream",
     "text": [
      "c:\\Users\\hany_\\anaconda3\\envs\\ml\\lib\\site-packages\\numpy\\linalg\\linalg.py:2180: RuntimeWarning: overflow encountered in det\n",
      "  r = _umath_linalg.det(a, signature=signature)\n"
     ]
    },
    {
     "name": "stdout",
     "output_type": "stream",
     "text": [
      "Accuracy: 0.8704344248556235\n",
      "F1-score: 0.41835966892400295\n",
      "Threshold: 1  # Duplications: 3 Degree: 6 Lambda: 0.001\n"
     ]
    },
    {
     "name": "stderr",
     "output_type": "stream",
     "text": [
      "c:\\Users\\hany_\\anaconda3\\envs\\ml\\lib\\site-packages\\numpy\\linalg\\linalg.py:2180: RuntimeWarning: overflow encountered in det\n",
      "  r = _umath_linalg.det(a, signature=signature)\n"
     ]
    },
    {
     "name": "stdout",
     "output_type": "stream",
     "text": [
      "Accuracy: 0.8722934158197083\n",
      "F1-score: 0.4207616283087981\n",
      "Threshold: 1  # Duplications: 3 Degree: 6 Lambda: 0.003\n"
     ]
    },
    {
     "name": "stderr",
     "output_type": "stream",
     "text": [
      "c:\\Users\\hany_\\anaconda3\\envs\\ml\\lib\\site-packages\\numpy\\linalg\\linalg.py:2180: RuntimeWarning: overflow encountered in det\n",
      "  r = _umath_linalg.det(a, signature=signature)\n"
     ]
    },
    {
     "name": "stdout",
     "output_type": "stream",
     "text": [
      "Accuracy: 0.8773675468938089\n",
      "F1-score: 0.42530705512710654\n",
      "Threshold: 1  # Duplications: 3 Degree: 6 Lambda: 0.005\n"
     ]
    },
    {
     "name": "stderr",
     "output_type": "stream",
     "text": [
      "c:\\Users\\hany_\\anaconda3\\envs\\ml\\lib\\site-packages\\numpy\\linalg\\linalg.py:2180: RuntimeWarning: overflow encountered in det\n",
      "  r = _umath_linalg.det(a, signature=signature)\n"
     ]
    },
    {
     "name": "stdout",
     "output_type": "stream",
     "text": [
      "Accuracy: 0.8781446660673199\n",
      "F1-score: 0.4257916277733898\n",
      "Threshold: 1  # Duplications: 3 Degree: 6 Lambda: 0.008\n"
     ]
    },
    {
     "name": "stderr",
     "output_type": "stream",
     "text": [
      "c:\\Users\\hany_\\anaconda3\\envs\\ml\\lib\\site-packages\\numpy\\linalg\\linalg.py:2180: RuntimeWarning: overflow encountered in det\n",
      "  r = _umath_linalg.det(a, signature=signature)\n"
     ]
    },
    {
     "name": "stdout",
     "output_type": "stream",
     "text": [
      "Accuracy: 0.8782970423758514\n",
      "F1-score: 0.425271641361445\n",
      "Threshold: 1  # Duplications: 3 Degree: 6 Lambda: 0.01\n"
     ]
    },
    {
     "name": "stderr",
     "output_type": "stream",
     "text": [
      "c:\\Users\\hany_\\anaconda3\\envs\\ml\\lib\\site-packages\\numpy\\linalg\\linalg.py:2180: RuntimeWarning: overflow encountered in det\n",
      "  r = _umath_linalg.det(a, signature=signature)\n"
     ]
    },
    {
     "name": "stdout",
     "output_type": "stream",
     "text": [
      "Accuracy: 0.8783427552684109\n",
      "F1-score: 0.4249495822529531\n",
      "Threshold: 1  # Duplications: 3 Degree: 7 Lambda: 0.0001\n"
     ]
    },
    {
     "name": "stderr",
     "output_type": "stream",
     "text": [
      "c:\\Users\\hany_\\anaconda3\\envs\\ml\\lib\\site-packages\\numpy\\linalg\\linalg.py:2180: RuntimeWarning: overflow encountered in det\n",
      "  r = _umath_linalg.det(a, signature=signature)\n"
     ]
    },
    {
     "name": "stdout",
     "output_type": "stream",
     "text": [
      "Accuracy: 0.8718058116324074\n",
      "F1-score: 0.40235845705761175\n",
      "Threshold: 1  # Duplications: 3 Degree: 7 Lambda: 0.0003\n"
     ]
    },
    {
     "name": "stderr",
     "output_type": "stream",
     "text": [
      "c:\\Users\\hany_\\anaconda3\\envs\\ml\\lib\\site-packages\\numpy\\linalg\\linalg.py:2180: RuntimeWarning: overflow encountered in det\n",
      "  r = _umath_linalg.det(a, signature=signature)\n"
     ]
    },
    {
     "name": "stdout",
     "output_type": "stream",
     "text": [
      "Accuracy: 0.863699392018529\n",
      "F1-score: 0.41139698624728566\n",
      "Threshold: 1  # Duplications: 3 Degree: 7 Lambda: 0.0005\n"
     ]
    },
    {
     "name": "stderr",
     "output_type": "stream",
     "text": [
      "c:\\Users\\hany_\\anaconda3\\envs\\ml\\lib\\site-packages\\numpy\\linalg\\linalg.py:2180: RuntimeWarning: overflow encountered in det\n",
      "  r = _umath_linalg.det(a, signature=signature)\n"
     ]
    },
    {
     "name": "stdout",
     "output_type": "stream",
     "text": [
      "Accuracy: 0.8712877321834002\n",
      "F1-score: 0.4165227602403813\n",
      "Threshold: 1  # Duplications: 3 Degree: 7 Lambda: 0.0008\n"
     ]
    },
    {
     "name": "stderr",
     "output_type": "stream",
     "text": [
      "c:\\Users\\hany_\\anaconda3\\envs\\ml\\lib\\site-packages\\numpy\\linalg\\linalg.py:2180: RuntimeWarning: overflow encountered in det\n",
      "  r = _umath_linalg.det(a, signature=signature)\n"
     ]
    },
    {
     "name": "stdout",
     "output_type": "stream",
     "text": [
      "Accuracy: 0.8690935133405459\n",
      "F1-score: 0.41113167454931804\n",
      "Threshold: 1  # Duplications: 3 Degree: 7 Lambda: 0.001\n"
     ]
    },
    {
     "name": "stderr",
     "output_type": "stream",
     "text": [
      "c:\\Users\\hany_\\anaconda3\\envs\\ml\\lib\\site-packages\\numpy\\linalg\\linalg.py:2180: RuntimeWarning: overflow encountered in det\n",
      "  r = _umath_linalg.det(a, signature=signature)\n"
     ]
    },
    {
     "name": "stdout",
     "output_type": "stream",
     "text": [
      "Accuracy: 0.8674630868392582\n",
      "F1-score: 0.4098249423259601\n",
      "Threshold: 1  # Duplications: 3 Degree: 7 Lambda: 0.003\n"
     ]
    },
    {
     "name": "stderr",
     "output_type": "stream",
     "text": [
      "c:\\Users\\hany_\\anaconda3\\envs\\ml\\lib\\site-packages\\numpy\\linalg\\linalg.py:2180: RuntimeWarning: overflow encountered in det\n",
      "  r = _umath_linalg.det(a, signature=signature)\n"
     ]
    },
    {
     "name": "stdout",
     "output_type": "stream",
     "text": [
      "Accuracy: 0.8773218340012495\n",
      "F1-score: 0.4209996404171161\n",
      "Threshold: 1  # Duplications: 3 Degree: 7 Lambda: 0.005\n"
     ]
    },
    {
     "name": "stderr",
     "output_type": "stream",
     "text": [
      "c:\\Users\\hany_\\anaconda3\\envs\\ml\\lib\\site-packages\\numpy\\linalg\\linalg.py:2180: RuntimeWarning: overflow encountered in det\n",
      "  r = _umath_linalg.det(a, signature=signature)\n"
     ]
    },
    {
     "name": "stdout",
     "output_type": "stream",
     "text": [
      "Accuracy: 0.8773523092629558\n",
      "F1-score: 0.420726880172724\n",
      "Threshold: 1  # Duplications: 3 Degree: 7 Lambda: 0.008\n"
     ]
    },
    {
     "name": "stderr",
     "output_type": "stream",
     "text": [
      "c:\\Users\\hany_\\anaconda3\\envs\\ml\\lib\\site-packages\\numpy\\linalg\\linalg.py:2180: RuntimeWarning: overflow encountered in det\n",
      "  r = _umath_linalg.det(a, signature=signature)\n"
     ]
    },
    {
     "name": "stdout",
     "output_type": "stream",
     "text": [
      "Accuracy: 0.8768494674448016\n",
      "F1-score: 0.4203127241428776\n",
      "Threshold: 1  # Duplications: 3 Degree: 7 Lambda: 0.01\n"
     ]
    },
    {
     "name": "stderr",
     "output_type": "stream",
     "text": [
      "c:\\Users\\hany_\\anaconda3\\envs\\ml\\lib\\site-packages\\numpy\\linalg\\linalg.py:2180: RuntimeWarning: overflow encountered in det\n",
      "  r = _umath_linalg.det(a, signature=signature)\n"
     ]
    },
    {
     "name": "stdout",
     "output_type": "stream",
     "text": [
      "Accuracy: 0.8770475566458927\n",
      "F1-score: 0.42037209970548095\n",
      "BEST RESULT:  Threshold:  1 # duplications:  3 lambda:  0.0003 degree:  5 f1:  0.4295158882490936\n",
      "Top 10 Results with the Highest F1 Scores:\n",
      "Rank 1:\n",
      "Threshold: 1\n",
      "Duplications: 3\n",
      "Degree: 5\n",
      "Lambda: 0.0003\n",
      "F1 Score: 0.4295158882490936\n",
      "---------------------------------------------\n",
      "Rank 2:\n",
      "Threshold: 1\n",
      "Duplications: 3\n",
      "Degree: 5\n",
      "Lambda: 0.0001\n",
      "F1 Score: 0.42850109024407396\n",
      "---------------------------------------------\n",
      "Rank 3:\n",
      "Threshold: 1\n",
      "Duplications: 3\n",
      "Degree: 5\n",
      "Lambda: 0.0008\n",
      "F1 Score: 0.4283175776529959\n",
      "---------------------------------------------\n",
      "Rank 4:\n",
      "Threshold: 1\n",
      "Duplications: 3\n",
      "Degree: 5\n",
      "Lambda: 0.001\n",
      "F1 Score: 0.42801279772484896\n",
      "---------------------------------------------\n",
      "Rank 5:\n",
      "Threshold: 1\n",
      "Duplications: 3\n",
      "Degree: 5\n",
      "Lambda: 0.0005\n",
      "F1 Score: 0.42788051209103845\n",
      "---------------------------------------------\n",
      "Rank 6:\n",
      "Threshold: 1\n",
      "Duplications: 3\n",
      "Degree: 2\n",
      "Lambda: 0.0008\n",
      "F1 Score: 0.4270396932471775\n",
      "---------------------------------------------\n",
      "Rank 7:\n",
      "Threshold: 1\n",
      "Duplications: 3\n",
      "Degree: 4\n",
      "Lambda: 0.003\n",
      "F1 Score: 0.42692939244663386\n",
      "---------------------------------------------\n",
      "Rank 8:\n",
      "Threshold: 1\n",
      "Duplications: 3\n",
      "Degree: 5\n",
      "Lambda: 0.003\n",
      "F1 Score: 0.42659992849481587\n",
      "---------------------------------------------\n",
      "Rank 9:\n",
      "Threshold: 1\n",
      "Duplications: 3\n",
      "Degree: 3\n",
      "Lambda: 0.003\n",
      "F1 Score: 0.4265694265694266\n",
      "---------------------------------------------\n",
      "Rank 10:\n",
      "Threshold: 1\n",
      "Duplications: 3\n",
      "Degree: 3\n",
      "Lambda: 0.0003\n",
      "F1 Score: 0.42655648952842284\n",
      "---------------------------------------------\n"
     ]
    }
   ],
   "source": [
    "## Hyperparameter search\n",
    "threshs = [1]\n",
    "dups = [3]\n",
    "lambdas = [0.0001, 0.0003, 0.0005, 0.0008, 0.001, 0.003, 0.005, 0.008, 0.01]\n",
    "degrees = range(2,8)\n",
    "\n",
    "x_tr_dk = replace_dk_values_with_nan(x_tr_sp)\n",
    "x_val_dk = replace_dk_values_with_nan(x_val_sp)\n",
    "\n",
    "f1_best = 0\n",
    "dup_best = 100\n",
    "thresh_best = 100\n",
    "deg_best = 100\n",
    "lambda_best = 100\n",
    "\n",
    "top_10_results = []\n",
    "\n",
    "for thresh in threshs:\n",
    "    x_tr_less_nan, x_val_less_nan = filter_nan_threshold(x_tr_dk, x_val_dk, threshold=thresh)\n",
    "    x_tr_std, x_val_std = standardize(x_tr_less_nan, x_val_less_nan)\n",
    "    x_tr_no_nan, x_val_no_nan = nan_to_zero(x_tr_std, x_val_std)\n",
    "\n",
    "    for dup in dups:\n",
    "        x_tr_duplicated, y_tr_duplicated = duplicate_1rows(x_tr_no_nan, y_tr_sp, dup)\n",
    "\n",
    "        x_tr = x_tr_duplicated\n",
    "        x_val = x_val_no_nan\n",
    "        y_tr = y_tr_duplicated\n",
    "        y_val = y_val_sp\n",
    "\n",
    "        for deg in degrees:\n",
    "            x_poly_tr = build_poly(x_tr, deg)\n",
    "            x_poly_val = build_poly(x_val, deg)\n",
    "            tx = np.c_[np.ones((x_poly_tr.shape[0], 1)), x_poly_tr]\n",
    "            \n",
    "            for lambda_ in lambdas:\n",
    "                print(\"Threshold:\", thresh, \" # Duplications:\", dup, \"Degree:\", deg, \"Lambda:\", lambda_)\n",
    "                \n",
    "                w_rr = ridge_regression(y_tr, tx, lambda_)\n",
    "                f1 = predict_and_evaluate(x_poly_val, w_rr, y_val, regression_type = \"gd\")\n",
    "\n",
    "                result = {\n",
    "                \"Threshold\": thresh,\n",
    "                \"Duplications\": dup,\n",
    "                \"Degree\": deg,\n",
    "                \"Lambda\": lambda_,\n",
    "                \"F1 Score\": f1\n",
    "                }\n",
    "\n",
    "                if f1 > f1_best:\n",
    "                    f1_best = f1\n",
    "                    dup_best = dup\n",
    "                    thresh_best = thresh\n",
    "                    deg_best = deg\n",
    "                    lambda_best = lambda_\n",
    "\n",
    "                top_10_results.append(result)\n",
    "\n",
    "print(\"BEST RESULT: \", \"Threshold: \", thresh_best, \"# duplications: \", dup_best, \"lambda: \", lambda_best, \"degree: \", deg_best, \"f1: \", f1_best)\n",
    "\n",
    "top_10_results.sort(key=lambda x: x[\"F1 Score\"], reverse=True)\n",
    "\n",
    "print(\"Top 10 Results with the Highest F1 Scores:\")\n",
    "for i, result in enumerate(top_10_results[:10]):\n",
    "    print(f\"Rank {i + 1}:\")\n",
    "    print(f\"Threshold: {result['Threshold']}\")\n",
    "    print(f\"Duplications: {result['Duplications']}\")\n",
    "    print(f\"Degree: {result['Degree']}\")\n",
    "    print(f\"Lambda: {result['Lambda']}\")\n",
    "    print(f\"F1 Score: {result['F1 Score']}\")\n",
    "    print(\"---------------------------------------------\")"
   ]
  },
  {
   "cell_type": "code",
   "execution_count": 26,
   "metadata": {},
   "outputs": [
    {
     "data": {
      "image/png": "[encoded data removed]",
      "text/plain": [
       "<Figure size 1000x600 with 1 Axes>"
      ]
     },
     "metadata": {},
     "output_type": "display_data"
    }
   ],
   "source": [
    "import matplotlib.pyplot as plt\n",
    "import numpy as np\n",
    "\n",
    "# Assuming 'top_10_results' contains the results\n",
    "lambdas = [result['Lambda'] for result in top_10_results]\n",
    "f1_scores = [result['F1 Score'] for result in top_10_results]\n",
    "degrees = [result['Degree'] for result in top_10_results]\n",
    "\n",
    "# Sort the results by lambda for connected lines\n",
    "sorted_indices = np.argsort(lambdas)\n",
    "lambdas = np.array(lambdas)[sorted_indices]\n",
    "f1_scores = np.array(f1_scores)[sorted_indices]\n",
    "degrees = np.array(degrees)[sorted_indices]\n",
    "\n",
    "# Create a semilog plot with lambda on the x-axis and F1 score on the y-axis\n",
    "plt.figure(figsize=(10, 6))\n",
    "for degree in set(degrees):\n",
    "    degree_indices = np.where(degrees == degree)\n",
    "    plt.semilogx(lambdas[degree_indices], f1_scores[degree_indices], marker='o', label=f'Degree {degree}')\n",
    "\n",
    "plt.xlabel('Lambda (log scale)')\n",
    "plt.ylabel('F1 Score')\n",
    "plt.title('F1 Score vs. Lambda (Semilog) with Degree Coloring and Connected Lines')\n",
    "plt.grid(True)\n",
    "plt.legend()\n",
    "plt.show()\n"
   ]
  },
  {
   "cell_type": "code",
   "execution_count": 30,
   "metadata": {},
   "outputs": [
    {
     "name": "stdout",
     "output_type": "stream",
     "text": [
      "Threshold: 1  # Duplications: 3 Degree: 5 Lambda: 0.00027\n"
     ]
    },
    {
     "name": "stderr",
     "output_type": "stream",
     "text": [
      "c:\\Users\\hany_\\anaconda3\\envs\\ml\\lib\\site-packages\\numpy\\linalg\\linalg.py:2180: RuntimeWarning: overflow encountered in det\n",
      "  r = _umath_linalg.det(a, signature=signature)\n"
     ]
    },
    {
     "name": "stdout",
     "output_type": "stream",
     "text": [
      "Accuracy: 0.8759352095936124\n",
      "F1-score: 0.4275871766029246\n",
      "Threshold: 1  # Duplications: 3 Degree: 5 Lambda: 0.00027210526315789475\n"
     ]
    },
    {
     "name": "stderr",
     "output_type": "stream",
     "text": [
      "c:\\Users\\hany_\\anaconda3\\envs\\ml\\lib\\site-packages\\numpy\\linalg\\linalg.py:2180: RuntimeWarning: overflow encountered in det\n",
      "  r = _umath_linalg.det(a, signature=signature)\n"
     ]
    },
    {
     "name": "stdout",
     "output_type": "stream",
     "text": [
      "Accuracy: 0.8759352095936124\n",
      "F1-score: 0.4275871766029246\n",
      "Threshold: 1  # Duplications: 3 Degree: 5 Lambda: 0.0002742105263157895\n"
     ]
    },
    {
     "name": "stderr",
     "output_type": "stream",
     "text": [
      "c:\\Users\\hany_\\anaconda3\\envs\\ml\\lib\\site-packages\\numpy\\linalg\\linalg.py:2180: RuntimeWarning: overflow encountered in det\n",
      "  r = _umath_linalg.det(a, signature=signature)\n"
     ]
    },
    {
     "name": "stdout",
     "output_type": "stream",
     "text": [
      "Accuracy: 0.8759199719627593\n",
      "F1-score: 0.42747662237221395\n",
      "Threshold: 1  # Duplications: 3 Degree: 5 Lambda: 0.0002763157894736842\n"
     ]
    },
    {
     "name": "stderr",
     "output_type": "stream",
     "text": [
      "c:\\Users\\hany_\\anaconda3\\envs\\ml\\lib\\site-packages\\numpy\\linalg\\linalg.py:2180: RuntimeWarning: overflow encountered in det\n",
      "  r = _umath_linalg.det(a, signature=signature)\n"
     ]
    },
    {
     "name": "stdout",
     "output_type": "stream",
     "text": [
      "Accuracy: 0.8759352095936124\n",
      "F1-score: 0.4275066797918717\n",
      "Threshold: 1  # Duplications: 3 Degree: 5 Lambda: 0.00027842105263157894\n"
     ]
    },
    {
     "name": "stderr",
     "output_type": "stream",
     "text": [
      "c:\\Users\\hany_\\anaconda3\\envs\\ml\\lib\\site-packages\\numpy\\linalg\\linalg.py:2180: RuntimeWarning: overflow encountered in det\n",
      "  r = _umath_linalg.det(a, signature=signature)\n"
     ]
    },
    {
     "name": "stdout",
     "output_type": "stream",
     "text": [
      "Accuracy: 0.8777484876651378\n",
      "F1-score: 0.42965806497476366\n",
      "Threshold: 1  # Duplications: 3 Degree: 5 Lambda: 0.0002805263157894737\n"
     ]
    },
    {
     "name": "stderr",
     "output_type": "stream",
     "text": [
      "c:\\Users\\hany_\\anaconda3\\envs\\ml\\lib\\site-packages\\numpy\\linalg\\linalg.py:2180: RuntimeWarning: overflow encountered in det\n",
      "  r = _umath_linalg.det(a, signature=signature)\n"
     ]
    },
    {
     "name": "stdout",
     "output_type": "stream",
     "text": [
      "Accuracy: 0.8777484876651378\n",
      "F1-score: 0.4297391427962186\n",
      "Threshold: 1  # Duplications: 3 Degree: 5 Lambda: 0.00028263157894736844\n"
     ]
    },
    {
     "name": "stderr",
     "output_type": "stream",
     "text": [
      "c:\\Users\\hany_\\anaconda3\\envs\\ml\\lib\\site-packages\\numpy\\linalg\\linalg.py:2180: RuntimeWarning: overflow encountered in det\n",
      "  r = _umath_linalg.det(a, signature=signature)\n"
     ]
    },
    {
     "name": "stdout",
     "output_type": "stream",
     "text": [
      "Accuracy: 0.8777180124034315\n",
      "F1-score: 0.4295969862818963\n",
      "Threshold: 1  # Duplications: 3 Degree: 5 Lambda: 0.0002847368421052632\n"
     ]
    },
    {
     "name": "stderr",
     "output_type": "stream",
     "text": [
      "c:\\Users\\hany_\\anaconda3\\envs\\ml\\lib\\site-packages\\numpy\\linalg\\linalg.py:2180: RuntimeWarning: overflow encountered in det\n",
      "  r = _umath_linalg.det(a, signature=signature)\n"
     ]
    },
    {
     "name": "stdout",
     "output_type": "stream",
     "text": [
      "Accuracy: 0.8777180124034315\n",
      "F1-score: 0.4295969862818963\n",
      "Threshold: 1  # Duplications: 3 Degree: 5 Lambda: 0.0002868421052631579\n"
     ]
    },
    {
     "name": "stderr",
     "output_type": "stream",
     "text": [
      "c:\\Users\\hany_\\anaconda3\\envs\\ml\\lib\\site-packages\\numpy\\linalg\\linalg.py:2180: RuntimeWarning: overflow encountered in det\n",
      "  r = _umath_linalg.det(a, signature=signature)\n"
     ]
    },
    {
     "name": "stdout",
     "output_type": "stream",
     "text": [
      "Accuracy: 0.8777180124034315\n",
      "F1-score: 0.4295969862818963\n",
      "Threshold: 1  # Duplications: 3 Degree: 5 Lambda: 0.00028894736842105263\n"
     ]
    },
    {
     "name": "stderr",
     "output_type": "stream",
     "text": [
      "c:\\Users\\hany_\\anaconda3\\envs\\ml\\lib\\site-packages\\numpy\\linalg\\linalg.py:2180: RuntimeWarning: overflow encountered in det\n",
      "  r = _umath_linalg.det(a, signature=signature)\n"
     ]
    },
    {
     "name": "stdout",
     "output_type": "stream",
     "text": [
      "Accuracy: 0.8776875371417252\n",
      "F1-score: 0.4294548297675741\n",
      "Threshold: 1  # Duplications: 3 Degree: 5 Lambda: 0.0002910526315789474\n"
     ]
    },
    {
     "name": "stderr",
     "output_type": "stream",
     "text": [
      "c:\\Users\\hany_\\anaconda3\\envs\\ml\\lib\\site-packages\\numpy\\linalg\\linalg.py:2180: RuntimeWarning: overflow encountered in det\n",
      "  r = _umath_linalg.det(a, signature=signature)\n"
     ]
    },
    {
     "name": "stdout",
     "output_type": "stream",
     "text": [
      "Accuracy: 0.8776875371417252\n",
      "F1-score: 0.4294548297675741\n",
      "Threshold: 1  # Duplications: 3 Degree: 5 Lambda: 0.0002931578947368421\n"
     ]
    },
    {
     "name": "stderr",
     "output_type": "stream",
     "text": [
      "c:\\Users\\hany_\\anaconda3\\envs\\ml\\lib\\site-packages\\numpy\\linalg\\linalg.py:2180: RuntimeWarning: overflow encountered in det\n",
      "  r = _umath_linalg.det(a, signature=signature)\n"
     ]
    },
    {
     "name": "stdout",
     "output_type": "stream",
     "text": [
      "Accuracy: 0.8776875371417252\n",
      "F1-score: 0.4294548297675741\n",
      "Threshold: 1  # Duplications: 3 Degree: 5 Lambda: 0.0002952631578947368\n"
     ]
    },
    {
     "name": "stderr",
     "output_type": "stream",
     "text": [
      "c:\\Users\\hany_\\anaconda3\\envs\\ml\\lib\\site-packages\\numpy\\linalg\\linalg.py:2180: RuntimeWarning: overflow encountered in det\n",
      "  r = _umath_linalg.det(a, signature=signature)\n"
     ]
    },
    {
     "name": "stdout",
     "output_type": "stream",
     "text": [
      "Accuracy: 0.8776875371417252\n",
      "F1-score: 0.4294548297675741\n",
      "Threshold: 1  # Duplications: 3 Degree: 5 Lambda: 0.00029736842105263157\n"
     ]
    },
    {
     "name": "stderr",
     "output_type": "stream",
     "text": [
      "c:\\Users\\hany_\\anaconda3\\envs\\ml\\lib\\site-packages\\numpy\\linalg\\linalg.py:2180: RuntimeWarning: overflow encountered in det\n",
      "  r = _umath_linalg.det(a, signature=signature)\n"
     ]
    },
    {
     "name": "stdout",
     "output_type": "stream",
     "text": [
      "Accuracy: 0.8777180124034315\n",
      "F1-score: 0.4295158882490936\n",
      "Threshold: 1  # Duplications: 3 Degree: 5 Lambda: 0.0002994736842105263\n"
     ]
    },
    {
     "name": "stderr",
     "output_type": "stream",
     "text": [
      "c:\\Users\\hany_\\anaconda3\\envs\\ml\\lib\\site-packages\\numpy\\linalg\\linalg.py:2180: RuntimeWarning: overflow encountered in det\n",
      "  r = _umath_linalg.det(a, signature=signature)\n"
     ]
    },
    {
     "name": "stdout",
     "output_type": "stream",
     "text": [
      "Accuracy: 0.8777180124034315\n",
      "F1-score: 0.4295158882490936\n",
      "Threshold: 1  # Duplications: 3 Degree: 5 Lambda: 0.00030157894736842106\n"
     ]
    },
    {
     "name": "stderr",
     "output_type": "stream",
     "text": [
      "c:\\Users\\hany_\\anaconda3\\envs\\ml\\lib\\site-packages\\numpy\\linalg\\linalg.py:2180: RuntimeWarning: overflow encountered in det\n",
      "  r = _umath_linalg.det(a, signature=signature)\n"
     ]
    },
    {
     "name": "stdout",
     "output_type": "stream",
     "text": [
      "Accuracy: 0.8757371203925214\n",
      "F1-score: 0.42687469252934146\n",
      "Threshold: 1  # Duplications: 3 Degree: 5 Lambda: 0.0003036842105263158\n"
     ]
    },
    {
     "name": "stderr",
     "output_type": "stream",
     "text": [
      "c:\\Users\\hany_\\anaconda3\\envs\\ml\\lib\\site-packages\\numpy\\linalg\\linalg.py:2180: RuntimeWarning: overflow encountered in det\n",
      "  r = _umath_linalg.det(a, signature=signature)\n"
     ]
    },
    {
     "name": "stdout",
     "output_type": "stream",
     "text": [
      "Accuracy: 0.8757371203925214\n",
      "F1-score: 0.42687469252934146\n",
      "Threshold: 1  # Duplications: 3 Degree: 5 Lambda: 0.0003057894736842105\n"
     ]
    },
    {
     "name": "stderr",
     "output_type": "stream",
     "text": [
      "c:\\Users\\hany_\\anaconda3\\envs\\ml\\lib\\site-packages\\numpy\\linalg\\linalg.py:2180: RuntimeWarning: overflow encountered in det\n",
      "  r = _umath_linalg.det(a, signature=signature)\n"
     ]
    },
    {
     "name": "stdout",
     "output_type": "stream",
     "text": [
      "Accuracy: 0.8757523580233745\n",
      "F1-score: 0.42690469496766936\n",
      "Threshold: 1  # Duplications: 3 Degree: 5 Lambda: 0.00030789473684210525\n"
     ]
    },
    {
     "name": "stderr",
     "output_type": "stream",
     "text": [
      "c:\\Users\\hany_\\anaconda3\\envs\\ml\\lib\\site-packages\\numpy\\linalg\\linalg.py:2180: RuntimeWarning: overflow encountered in det\n",
      "  r = _umath_linalg.det(a, signature=signature)\n"
     ]
    },
    {
     "name": "stdout",
     "output_type": "stream",
     "text": [
      "Accuracy: 0.875798070915934\n",
      "F1-score: 0.4269947275922671\n",
      "Threshold: 1  # Duplications: 3 Degree: 5 Lambda: 0.00031\n"
     ]
    },
    {
     "name": "stderr",
     "output_type": "stream",
     "text": [
      "c:\\Users\\hany_\\anaconda3\\envs\\ml\\lib\\site-packages\\numpy\\linalg\\linalg.py:2180: RuntimeWarning: overflow encountered in det\n",
      "  r = _umath_linalg.det(a, signature=signature)\n"
     ]
    },
    {
     "name": "stdout",
     "output_type": "stream",
     "text": [
      "Accuracy: 0.8757828332850809\n",
      "F1-score: 0.42696471249824264\n",
      "BEST RESULT:  Threshold:  1 # duplications:  3 lambda:  0.0002805263157894737 degree:  5 f1:  0.4297391427962186\n",
      "Top 10 Results with the Highest F1 Scores:\n",
      "Rank 1:\n",
      "Threshold: 1\n",
      "Duplications: 3\n",
      "Degree: 5\n",
      "Lambda: 0.0002805263157894737\n",
      "F1 Score: 0.4297391427962186\n",
      "---------------------------------------------\n",
      "Rank 2:\n",
      "Threshold: 1\n",
      "Duplications: 3\n",
      "Degree: 5\n",
      "Lambda: 0.00027842105263157894\n",
      "F1 Score: 0.42965806497476366\n",
      "---------------------------------------------\n",
      "Rank 3:\n",
      "Threshold: 1\n",
      "Duplications: 3\n",
      "Degree: 5\n",
      "Lambda: 0.00028263157894736844\n",
      "F1 Score: 0.4295969862818963\n",
      "---------------------------------------------\n",
      "Rank 4:\n",
      "Threshold: 1\n",
      "Duplications: 3\n",
      "Degree: 5\n",
      "Lambda: 0.0002847368421052632\n",
      "F1 Score: 0.4295969862818963\n",
      "---------------------------------------------\n",
      "Rank 5:\n",
      "Threshold: 1\n",
      "Duplications: 3\n",
      "Degree: 5\n",
      "Lambda: 0.0002868421052631579\n",
      "F1 Score: 0.4295969862818963\n",
      "---------------------------------------------\n",
      "Rank 6:\n",
      "Threshold: 1\n",
      "Duplications: 3\n",
      "Degree: 5\n",
      "Lambda: 0.00029736842105263157\n",
      "F1 Score: 0.4295158882490936\n",
      "---------------------------------------------\n",
      "Rank 7:\n",
      "Threshold: 1\n",
      "Duplications: 3\n",
      "Degree: 5\n",
      "Lambda: 0.0002994736842105263\n",
      "F1 Score: 0.4295158882490936\n",
      "---------------------------------------------\n",
      "Rank 8:\n",
      "Threshold: 1\n",
      "Duplications: 3\n",
      "Degree: 5\n",
      "Lambda: 0.00028894736842105263\n",
      "F1 Score: 0.4294548297675741\n",
      "---------------------------------------------\n",
      "Rank 9:\n",
      "Threshold: 1\n",
      "Duplications: 3\n",
      "Degree: 5\n",
      "Lambda: 0.0002910526315789474\n",
      "F1 Score: 0.4294548297675741\n",
      "---------------------------------------------\n",
      "Rank 10:\n",
      "Threshold: 1\n",
      "Duplications: 3\n",
      "Degree: 5\n",
      "Lambda: 0.0002931578947368421\n",
      "F1 Score: 0.4294548297675741\n",
      "---------------------------------------------\n"
     ]
    }
   ],
   "source": [
    "## Hyperparameter search\n",
    "threshs = [1]\n",
    "dups = [3]\n",
    "lambdas = np.linspace(0.00027, 0.00031, num=20)\n",
    "degrees = [5]\n",
    "\n",
    "x_tr_dk = replace_dk_values_with_nan(x_tr_sp)\n",
    "x_val_dk = replace_dk_values_with_nan(x_val_sp)\n",
    "\n",
    "f1_best = 0\n",
    "dup_best = 100\n",
    "thresh_best = 100\n",
    "deg_best = 100\n",
    "lambda_best = 100\n",
    "\n",
    "top_10_results = []\n",
    "\n",
    "for thresh in threshs:\n",
    "    x_tr_less_nan, x_val_less_nan = filter_nan_threshold(x_tr_dk, x_val_dk, threshold=thresh)\n",
    "    x_tr_std, x_val_std = standardize(x_tr_less_nan, x_val_less_nan)\n",
    "    x_tr_no_nan, x_val_no_nan = nan_to_zero(x_tr_std, x_val_std)\n",
    "\n",
    "    for dup in dups:\n",
    "        x_tr_duplicated, y_tr_duplicated = duplicate_1rows(x_tr_no_nan, y_tr_sp, dup)\n",
    "\n",
    "        x_tr = x_tr_duplicated\n",
    "        x_val = x_val_no_nan\n",
    "        y_tr = y_tr_duplicated\n",
    "        y_val = y_val_sp\n",
    "\n",
    "        for deg in degrees:\n",
    "            x_poly_tr = build_poly(x_tr, deg)\n",
    "            x_poly_val = build_poly(x_val, deg)\n",
    "            tx = np.c_[np.ones((x_poly_tr.shape[0], 1)), x_poly_tr]\n",
    "            \n",
    "            for lambda_ in lambdas:\n",
    "                print(\"Threshold:\", thresh, \" # Duplications:\", dup, \"Degree:\", deg, \"Lambda:\", lambda_)\n",
    "                \n",
    "                w_rr = ridge_regression(y_tr, tx, lambda_)\n",
    "                f1 = predict_and_evaluate(x_poly_val, w_rr, y_val, regression_type = \"gd\")\n",
    "\n",
    "                result = {\n",
    "                \"Threshold\": thresh,\n",
    "                \"Duplications\": dup,\n",
    "                \"Degree\": deg,\n",
    "                \"Lambda\": lambda_,\n",
    "                \"F1 Score\": f1\n",
    "                }\n",
    "\n",
    "                if f1 > f1_best:\n",
    "                    f1_best = f1\n",
    "                    dup_best = dup\n",
    "                    thresh_best = thresh\n",
    "                    deg_best = deg\n",
    "                    lambda_best = lambda_\n",
    "\n",
    "                top_10_results.append(result)\n",
    "\n",
    "print(\"BEST RESULT: \", \"Threshold: \", thresh_best, \"# duplications: \", dup_best, \"lambda: \", lambda_best, \"degree: \", deg_best, \"f1: \", f1_best)\n",
    "\n",
    "top_10_results.sort(key=lambda x: x[\"F1 Score\"], reverse=True)\n",
    "\n",
    "print(\"Top 10 Results with the Highest F1 Scores:\")\n",
    "for i, result in enumerate(top_10_results[:10]):\n",
    "    print(f\"Rank {i + 1}:\")\n",
    "    print(f\"Threshold: {result['Threshold']}\")\n",
    "    print(f\"Duplications: {result['Duplications']}\")\n",
    "    print(f\"Degree: {result['Degree']}\")\n",
    "    print(f\"Lambda: {result['Lambda']}\")\n",
    "    print(f\"F1 Score: {result['F1 Score']}\")\n",
    "    print(\"---------------------------------------------\")"
   ]
  },
  {
   "cell_type": "code",
   "execution_count": 31,
   "metadata": {},
   "outputs": [
    {
     "data": {
      "image/png": "[encoded data removed]",
      "text/plain": [
       "<Figure size 1000x600 with 1 Axes>"
      ]
     },
     "metadata": {},
     "output_type": "display_data"
    }
   ],
   "source": [
    "import matplotlib.pyplot as plt\n",
    "import numpy as np\n",
    "\n",
    "# Assuming 'top_10_results' contains the results\n",
    "lambdas = [result['Lambda'] for result in top_10_results]\n",
    "f1_scores = [result['F1 Score'] for result in top_10_results]\n",
    "degrees = [result['Degree'] for result in top_10_results]\n",
    "\n",
    "# Sort the results by lambda for connected lines\n",
    "sorted_indices = np.argsort(lambdas)\n",
    "lambdas = np.array(lambdas)[sorted_indices]\n",
    "f1_scores = np.array(f1_scores)[sorted_indices]\n",
    "degrees = np.array(degrees)[sorted_indices]\n",
    "\n",
    "# Create a semilog plot with lambda on the x-axis and F1 score on the y-axis\n",
    "plt.figure(figsize=(10, 6))\n",
    "for degree in set(degrees):\n",
    "    degree_indices = np.where(degrees == degree)\n",
    "    plt.semilogx(lambdas[degree_indices], f1_scores[degree_indices], marker='o', label=f'Degree {degree}')\n",
    "\n",
    "plt.xlabel('Lambda (log scale)')\n",
    "plt.ylabel('F1 Score')\n",
    "plt.title('F1 Score vs. Lambda (Semilog) with Degree Coloring and Connected Lines')\n",
    "plt.grid(True)\n",
    "plt.legend()\n",
    "plt.show()\n"
   ]
  },
  {
   "cell_type": "code",
   "execution_count": 18,
   "metadata": {},
   "outputs": [
    {
     "name": "stdout",
     "output_type": "stream",
     "text": [
      "Threshold: 0.5  # Duplications: 3 Degree: 4 Lambda: 0\n"
     ]
    },
    {
     "ename": "ValueError",
     "evalue": "setting an array element with a sequence. The requested array has an inhomogeneous shape after 1 dimensions. The detected shape was (2,) + inhomogeneous part.",
     "output_type": "error",
     "traceback": [
      "\u001b[1;31m---------------------------------------------------------------------------\u001b[0m",
      "\u001b[1;31mValueError\u001b[0m                                Traceback (most recent call last)",
      "\u001b[1;32mc:\\Users\\hany_\\Documents\\MA3\\ML\\ML_Project1\\rr_notebook.ipynb Cell 8\u001b[0m line \u001b[0;36m4\n\u001b[0;32m     <a href='vscode-notebook-cell:/c%3A/Users/hany_/Documents/MA3/ML/ML_Project1/rr_notebook.ipynb#X14sZmlsZQ%3D%3D?line=36'>37</a>\u001b[0m \u001b[39mprint\u001b[39m(\u001b[39m\"\u001b[39m\u001b[39mThreshold:\u001b[39m\u001b[39m\"\u001b[39m, thresh, \u001b[39m\"\u001b[39m\u001b[39m # Duplications:\u001b[39m\u001b[39m\"\u001b[39m, dup, \u001b[39m\"\u001b[39m\u001b[39mDegree:\u001b[39m\u001b[39m\"\u001b[39m, deg, \u001b[39m\"\u001b[39m\u001b[39mLambda:\u001b[39m\u001b[39m\"\u001b[39m, lambda_)\n\u001b[0;32m     <a href='vscode-notebook-cell:/c%3A/Users/hany_/Documents/MA3/ML/ML_Project1/rr_notebook.ipynb#X14sZmlsZQ%3D%3D?line=38'>39</a>\u001b[0m w_rr \u001b[39m=\u001b[39m least_squares(y_tr, tx)\n\u001b[1;32m---> <a href='vscode-notebook-cell:/c%3A/Users/hany_/Documents/MA3/ML/ML_Project1/rr_notebook.ipynb#X14sZmlsZQ%3D%3D?line=39'>40</a>\u001b[0m f1 \u001b[39m=\u001b[39m predict_and_evaluate(x_poly_val, w_rr, y_val, regression_type \u001b[39m=\u001b[39;49m \u001b[39m\"\u001b[39;49m\u001b[39mgd\u001b[39;49m\u001b[39m\"\u001b[39;49m)\n\u001b[0;32m     <a href='vscode-notebook-cell:/c%3A/Users/hany_/Documents/MA3/ML/ML_Project1/rr_notebook.ipynb#X14sZmlsZQ%3D%3D?line=41'>42</a>\u001b[0m result \u001b[39m=\u001b[39m {\n\u001b[0;32m     <a href='vscode-notebook-cell:/c%3A/Users/hany_/Documents/MA3/ML/ML_Project1/rr_notebook.ipynb#X14sZmlsZQ%3D%3D?line=42'>43</a>\u001b[0m \u001b[39m\"\u001b[39m\u001b[39mThreshold\u001b[39m\u001b[39m\"\u001b[39m: thresh,\n\u001b[0;32m     <a href='vscode-notebook-cell:/c%3A/Users/hany_/Documents/MA3/ML/ML_Project1/rr_notebook.ipynb#X14sZmlsZQ%3D%3D?line=43'>44</a>\u001b[0m \u001b[39m\"\u001b[39m\u001b[39mDuplications\u001b[39m\u001b[39m\"\u001b[39m: dup,\n\u001b[1;32m   (...)\u001b[0m\n\u001b[0;32m     <a href='vscode-notebook-cell:/c%3A/Users/hany_/Documents/MA3/ML/ML_Project1/rr_notebook.ipynb#X14sZmlsZQ%3D%3D?line=46'>47</a>\u001b[0m \u001b[39m\"\u001b[39m\u001b[39mF1 Score\u001b[39m\u001b[39m\"\u001b[39m: f1\n\u001b[0;32m     <a href='vscode-notebook-cell:/c%3A/Users/hany_/Documents/MA3/ML/ML_Project1/rr_notebook.ipynb#X14sZmlsZQ%3D%3D?line=47'>48</a>\u001b[0m }\n\u001b[0;32m     <a href='vscode-notebook-cell:/c%3A/Users/hany_/Documents/MA3/ML/ML_Project1/rr_notebook.ipynb#X14sZmlsZQ%3D%3D?line=49'>50</a>\u001b[0m \u001b[39mif\u001b[39;00m f1 \u001b[39m>\u001b[39m f1_best:\n",
      "File \u001b[1;32mc:\\Users\\hany_\\Documents\\MA3\\ML\\ML_Project1\\utils.py:146\u001b[0m, in \u001b[0;36mpredict_and_evaluate\u001b[1;34m(x, w, y, regression_type)\u001b[0m\n\u001b[0;32m    144\u001b[0m \u001b[39mdef\u001b[39;00m \u001b[39mpredict_and_evaluate\u001b[39m(x, w, y, regression_type\u001b[39m=\u001b[39m\u001b[39m\"\u001b[39m\u001b[39mgd\u001b[39m\u001b[39m\"\u001b[39m):\n\u001b[0;32m    145\u001b[0m     tx_te \u001b[39m=\u001b[39m np\u001b[39m.\u001b[39mc_[np\u001b[39m.\u001b[39mones((x\u001b[39m.\u001b[39mshape[\u001b[39m0\u001b[39m], \u001b[39m1\u001b[39m)), x]\n\u001b[1;32m--> 146\u001b[0m     y_pred \u001b[39m=\u001b[39m tx_te \u001b[39m@\u001b[39;49m w\n\u001b[0;32m    147\u001b[0m     \u001b[39mif\u001b[39;00m regression_type\u001b[39m==\u001b[39m\u001b[39m\"\u001b[39m\u001b[39mgd\u001b[39m\u001b[39m\"\u001b[39m:\n\u001b[0;32m    148\u001b[0m         y_pred \u001b[39m=\u001b[39m [\u001b[39m1\u001b[39m \u001b[39mif\u001b[39;00m y \u001b[39m>\u001b[39m \u001b[39m0\u001b[39m \u001b[39melse\u001b[39;00m \u001b[39m-\u001b[39m\u001b[39m1\u001b[39m \u001b[39mfor\u001b[39;00m y \u001b[39min\u001b[39;00m y_pred]\n",
      "\u001b[1;31mValueError\u001b[0m: setting an array element with a sequence. The requested array has an inhomogeneous shape after 1 dimensions. The detected shape was (2,) + inhomogeneous part."
     ]
    }
   ],
   "source": [
    "## Hyperparameter search\n",
    "threshs = [0.5]\n",
    "dups = [3]\n",
    "lambdas = [0]\n",
    "degrees = [4]\n",
    "\n",
    "x_tr_dk = replace_dk_values_with_nan(x_tr_sp)\n",
    "x_val_dk = replace_dk_values_with_nan(x_val_sp)\n",
    "\n",
    "f1_best = 0\n",
    "dup_best = 100\n",
    "thresh_best = 100\n",
    "deg_best = 100\n",
    "lambda_best = 100\n",
    "\n",
    "top_10_results = []\n",
    "\n",
    "for thresh in threshs:\n",
    "    x_tr_less_nan, x_val_less_nan = filter_nan_threshold(x_tr_dk, x_val_dk, threshold=thresh)\n",
    "    x_tr_std, x_val_std = standardize(x_tr_less_nan, x_val_less_nan)\n",
    "    x_tr_no_nan, x_val_no_nan = nan_to_zero(x_tr_std, x_val_std)\n",
    "\n",
    "    for dup in dups:\n",
    "        x_tr_duplicated, y_tr_duplicated = duplicate_1rows(x_tr_no_nan, y_tr_sp, dup)\n",
    "\n",
    "        x_tr = x_tr_duplicated\n",
    "        x_val = x_val_no_nan\n",
    "        y_tr = y_tr_duplicated\n",
    "        y_val = y_val_sp\n",
    "\n",
    "        for deg in degrees:\n",
    "            x_poly_tr = build_poly(x_tr, deg)\n",
    "            x_poly_val = build_poly(x_val, deg)\n",
    "            tx = np.c_[np.ones((x_poly_tr.shape[0], 1)), x_poly_tr]\n",
    "            \n",
    "            for lambda_ in lambdas:\n",
    "                print(\"Threshold:\", thresh, \" # Duplications:\", dup, \"Degree:\", deg, \"Lambda:\", lambda_)\n",
    "                \n",
    "                w_rr = ridge_regression(y_tr, tx, lambda_)\n",
    "                f1 = predict_and_evaluate(x_poly_val, w_rr, y_val, regression_type = \"gd\")\n",
    "\n",
    "                result = {\n",
    "                \"Threshold\": thresh,\n",
    "                \"Duplications\": dup,\n",
    "                \"Degree\": deg,\n",
    "                \"Lambda\": lambda_,\n",
    "                \"F1 Score\": f1\n",
    "                }\n",
    "\n",
    "                if f1 > f1_best:\n",
    "                    f1_best = f1\n",
    "                    dup_best = dup\n",
    "                    thresh_best = thresh\n",
    "                    deg_best = deg\n",
    "                    lambda_best = lambda_\n",
    "\n",
    "                top_10_results.append(result)\n",
    "\n",
    "print(\"BEST RESULT: \", \"Threshold: \", thresh_best, \"# duplications: \", dup_best, \"lambda: \", lambda_best, \"degree: \", deg_best, \"f1: \", f1_best)\n",
    "\n",
    "top_10_results.sort(key=lambda x: x[\"F1 Score\"], reverse=True)\n",
    "\n",
    "print(\"Top 10 Results with the Highest F1 Scores:\")\n",
    "for i, result in enumerate(top_10_results[:10]):\n",
    "    print(f\"Rank {i + 1}:\")\n",
    "    print(f\"Threshold: {result['Threshold']}\")\n",
    "    print(f\"Duplications: {result['Duplications']}\")\n",
    "    print(f\"Degree: {result['Degree']}\")\n",
    "    print(f\"Lambda: {result['Lambda']}\")\n",
    "    print(f\"F1 Score: {result['F1 Score']}\")\n",
    "    print(\"---------------------------------------------\")"
   ]
  },
  {
   "cell_type": "code",
   "execution_count": 6,
   "metadata": {},
   "outputs": [],
   "source": [
    "thresh = 1\n",
    "dup = 3\n",
    "deg = 5\n",
    "lambda_ = 0.0002805263157894737\n",
    "\n",
    "# Treat dk, refuse and nan the same\n",
    "x_tr_dk = replace_dk_values_with_nan(x_tr_remove_col)\n",
    "x_val_dk = replace_dk_values_with_nan(x_te_remove_col)\n",
    "\n",
    "# Keeping columns with less than threshold% of nan\n",
    "x_tr_less_nan, x_val_less_nan = filter_nan_threshold(x_tr_dk, x_val_dk, threshold=thresh)\n",
    "\n",
    "# Nan to mean\n",
    "x_tr_no_nan, x_val_no_nan = nan_to_mean(x_tr_less_nan, x_val_less_nan)\n",
    "\n",
    "# Standardize\n",
    "x_tr_std, x_val_std = standardize(x_tr_no_nan, x_val_no_nan)\n",
    "\n",
    "# Duplicate 1 rows to balance dataset\n",
    "x_tr_duplicated, y_tr_duplicated = duplicate_1rows(x_tr_std, y_tr_raw, dup)\n",
    "\n",
    "x_tr_full = x_tr_duplicated\n",
    "x_val_full = x_val_std\n",
    "y_tr_full = y_tr_duplicated"
   ]
  },
  {
   "cell_type": "code",
   "execution_count": 7,
   "metadata": {},
   "outputs": [],
   "source": [
    "x_poly_tr = build_poly(x_tr_full, deg)\n",
    "x_poly_val = build_poly(x_val_full, deg)\n",
    "\n",
    "tx = np.c_[np.ones((x_poly_tr.shape[0], 1)), x_poly_tr]\n"
   ]
  },
  {
   "cell_type": "code",
   "execution_count": 8,
   "metadata": {},
   "outputs": [
    {
     "name": "stderr",
     "output_type": "stream",
     "text": [
      "c:\\Users\\andre\\Anaconda\\lib\\site-packages\\numpy\\linalg\\linalg.py:2158: RuntimeWarning: overflow encountered in det\n",
      "  r = _umath_linalg.det(a, signature=signature)\n"
     ]
    }
   ],
   "source": [
    "w_tmp, loss = ridge_regression(y_tr_full, tx, lambda_)"
   ]
  },
  {
   "cell_type": "code",
   "execution_count": 9,
   "metadata": {},
   "outputs": [],
   "source": [
    "y_pred = predict(x_poly_val, w_tmp, \"gd\")\n",
    "name = \"rr poly nantomean 7777799999\"\n",
    "create_csv_submission(test_ids, y_pred, name)"
   ]
  },
  {
   "cell_type": "code",
   "execution_count": null,
   "metadata": {},
   "outputs": [],
   "source": []
  },
  {
   "cell_type": "code",
   "execution_count": null,
   "metadata": {},
   "outputs": [],
   "source": []
  }
 ],
 "metadata": {
  "kernelspec": {
   "display_name": "ml",
   "language": "python",
   "name": "python3"
  },
  "language_info": {
   "codemirror_mode": {
    "name": "ipython",
    "version": 3
   },
   "file_extension": ".py",
   "mimetype": "text/x-python",
   "name": "python",
   "nbconvert_exporter": "python",
   "pygments_lexer": "ipython3",
   "version": "3.9.13"
  }
 },
 "nbformat": 4,
 "nbformat_minor": 2
}
